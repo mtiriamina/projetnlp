{
 "cells": [
  {
   "cell_type": "code",
   "execution_count": 35,
   "metadata": {
    "ExecuteTime": {
     "end_time": "2021-11-14T11:37:13.952708Z",
     "start_time": "2021-11-14T11:37:13.944728Z"
    }
   },
   "outputs": [],
   "source": [
    "from owlready2 import *\n",
    "from sklearn.metrics.pairwise import cosine_similarity\n",
    "from sklearn.feature_extraction.text import TfidfVectorizer\n",
    "import warnings\n",
    "warnings.filterwarnings('ignore')\n",
    "import numpy as np"
   ]
  },
  {
   "cell_type": "code",
   "execution_count": 37,
   "metadata": {
    "ExecuteTime": {
     "end_time": "2021-11-14T11:37:14.853199Z",
     "start_time": "2021-11-14T11:37:14.834251Z"
    }
   },
   "outputs": [],
   "source": [
    "onto = get_ontology(\"PMBOK1.owl\").load()"
   ]
  },
  {
   "cell_type": "code",
   "execution_count": 38,
   "metadata": {
    "ExecuteTime": {
     "end_time": "2021-11-14T11:37:16.377093Z",
     "start_time": "2021-11-14T11:37:16.359108Z"
    }
   },
   "outputs": [],
   "source": [
    "list_classe=list(onto.classes())"
   ]
  },
  {
   "cell_type": "code",
   "execution_count": 39,
   "metadata": {
    "ExecuteTime": {
     "end_time": "2021-11-14T11:37:16.890012Z",
     "start_time": "2021-11-14T11:37:16.875017Z"
    }
   },
   "outputs": [],
   "source": [
    "def rempalcement(m):\n",
    "    m=str(m).replace('PMBOK1.','').replace('_',' ')\n",
    "    return m"
   ]
  },
  {
   "cell_type": "code",
   "execution_count": 40,
   "metadata": {
    "ExecuteTime": {
     "end_time": "2021-11-14T11:37:17.276452Z",
     "start_time": "2021-11-14T11:37:17.265450Z"
    }
   },
   "outputs": [],
   "source": [
    "newlist=[rempalcement(classe) for classe in list_classe]"
   ]
  },
  {
   "cell_type": "code",
   "execution_count": 41,
   "metadata": {
    "ExecuteTime": {
     "end_time": "2021-11-14T11:37:17.725470Z",
     "start_time": "2021-11-14T11:37:17.721480Z"
    }
   },
   "outputs": [],
   "source": [
    "docs=[(classe) for classe in newlist]"
   ]
  },
  {
   "cell_type": "code",
   "execution_count": 42,
   "metadata": {
    "ExecuteTime": {
     "end_time": "2021-11-14T11:37:18.205866Z",
     "start_time": "2021-11-14T11:37:18.196890Z"
    }
   },
   "outputs": [],
   "source": [
    "tfidf_vectorizer= TfidfVectorizer(stop_words=\"english\")\n",
    "tfidf_matris= tfidf_vectorizer.fit_transform(docs)"
   ]
  },
  {
   "cell_type": "code",
   "execution_count": 43,
   "metadata": {
    "ExecuteTime": {
     "end_time": "2021-11-14T11:37:18.565461Z",
     "start_time": "2021-11-14T11:37:18.547510Z"
    }
   },
   "outputs": [
    {
     "data": {
      "text/plain": [
       "['tfidf_vectorizer']"
      ]
     },
     "execution_count": 43,
     "metadata": {},
     "output_type": "execute_result"
    }
   ],
   "source": [
    "joblib.dump(tfidf_vectorizer,'tfidf_vectorizer')"
   ]
  },
  {
   "cell_type": "code",
   "execution_count": 44,
   "metadata": {
    "ExecuteTime": {
     "end_time": "2021-11-14T11:37:19.604982Z",
     "start_time": "2021-11-14T11:37:19.598000Z"
    }
   },
   "outputs": [
    {
     "data": {
      "text/plain": [
       "(16, 14)"
      ]
     },
     "execution_count": 44,
     "metadata": {},
     "output_type": "execute_result"
    }
   ],
   "source": [
    "tfidf_matris.shape"
   ]
  },
  {
   "cell_type": "code",
   "execution_count": 45,
   "metadata": {
    "ExecuteTime": {
     "end_time": "2021-11-14T11:37:20.306456Z",
     "start_time": "2021-11-14T11:37:20.300436Z"
    }
   },
   "outputs": [],
   "source": [
    "query=\"project management plan\""
   ]
  },
  {
   "cell_type": "code",
   "execution_count": 46,
   "metadata": {
    "ExecuteTime": {
     "end_time": "2021-11-14T11:37:20.960543Z",
     "start_time": "2021-11-14T11:37:20.949573Z"
    }
   },
   "outputs": [],
   "source": [
    "query_vector=tfidf_vectorizer.transform([query])\n",
    "list_similarity=cosine_similarity(query_vector,tfidf_matris)[0].tolist()"
   ]
  },
  {
   "cell_type": "code",
   "execution_count": 47,
   "metadata": {
    "ExecuteTime": {
     "end_time": "2021-11-14T11:37:21.519650Z",
     "start_time": "2021-11-14T11:37:21.503660Z"
    }
   },
   "outputs": [],
   "source": [
    "list_similarity_tri=sorted(list_similarity,reverse=True)"
   ]
  },
  {
   "cell_type": "code",
   "execution_count": 48,
   "metadata": {
    "ExecuteTime": {
     "end_time": "2021-11-14T11:37:22.135790Z",
     "start_time": "2021-11-14T11:37:22.126815Z"
    }
   },
   "outputs": [],
   "source": [
    "list_similarity_tri = [i for i in list_similarity_tri if i != 0]"
   ]
  },
  {
   "cell_type": "code",
   "execution_count": 49,
   "metadata": {
    "ExecuteTime": {
     "end_time": "2021-11-14T11:37:22.760123Z",
     "start_time": "2021-11-14T11:37:22.749154Z"
    }
   },
   "outputs": [],
   "source": [
    "top = []\n",
    "for i,element in enumerate(list_similarity_tri):\n",
    "    if element >= 0.7:\n",
    "        top.append(list_similarity.index(list_similarity_tri[i]))"
   ]
  },
  {
   "cell_type": "code",
   "execution_count": 50,
   "metadata": {
    "ExecuteTime": {
     "end_time": "2021-11-14T11:37:23.502070Z",
     "start_time": "2021-11-14T11:37:23.490071Z"
    }
   },
   "outputs": [],
   "source": [
    "top = list(dict.fromkeys(top))"
   ]
  },
  {
   "cell_type": "code",
   "execution_count": 51,
   "metadata": {
    "ExecuteTime": {
     "end_time": "2021-11-14T11:37:23.798368Z",
     "start_time": "2021-11-14T11:37:23.785371Z"
    }
   },
   "outputs": [],
   "source": [
    "classe = np.array(newlist)[top]"
   ]
  },
  {
   "cell_type": "code",
   "execution_count": 52,
   "metadata": {
    "ExecuteTime": {
     "end_time": "2021-11-14T11:37:24.124402Z",
     "start_time": "2021-11-14T11:37:24.108413Z"
    }
   },
   "outputs": [],
   "source": [
    "classeO = np.array(list_classe)[top]"
   ]
  },
  {
   "cell_type": "markdown",
   "metadata": {},
   "source": [
    "# sous list"
   ]
  },
  {
   "cell_type": "code",
   "execution_count": 53,
   "metadata": {
    "ExecuteTime": {
     "end_time": "2021-11-14T11:37:25.631527Z",
     "start_time": "2021-11-14T11:37:25.625541Z"
    }
   },
   "outputs": [],
   "source": [
    "sousClasse = []\n",
    "for i,element in enumerate(classeO):\n",
    "    sousClasse.append(list(onto.get_instances_of(element)))"
   ]
  },
  {
   "cell_type": "code",
   "execution_count": 54,
   "metadata": {
    "ExecuteTime": {
     "end_time": "2021-11-14T11:37:25.910887Z",
     "start_time": "2021-11-14T11:37:25.901906Z"
    }
   },
   "outputs": [],
   "source": [
    "souslist = [rempalcement(classe) for classe in sousClasse]"
   ]
  },
  {
   "cell_type": "code",
   "execution_count": 55,
   "metadata": {
    "ExecuteTime": {
     "end_time": "2021-11-14T11:37:26.328975Z",
     "start_time": "2021-11-14T11:37:26.314002Z"
    }
   },
   "outputs": [],
   "source": [
    "doc2 = [(classe) for classe in souslist]"
   ]
  },
  {
   "cell_type": "code",
   "execution_count": 56,
   "metadata": {
    "ExecuteTime": {
     "end_time": "2021-11-14T11:37:26.578865Z",
     "start_time": "2021-11-14T11:37:26.564903Z"
    }
   },
   "outputs": [],
   "source": [
    "tfidf_matris2= tfidf_vectorizer.fit_transform(doc2)"
   ]
  },
  {
   "cell_type": "code",
   "execution_count": 57,
   "metadata": {
    "ExecuteTime": {
     "end_time": "2021-11-14T11:37:26.782273Z",
     "start_time": "2021-11-14T11:37:26.766315Z"
    }
   },
   "outputs": [],
   "source": [
    "query_vector2=tfidf_vectorizer.transform([query])\n",
    "list_similarity2=cosine_similarity(query_vector2,tfidf_matris2)[0].tolist()"
   ]
  },
  {
   "cell_type": "code",
   "execution_count": 58,
   "metadata": {
    "ExecuteTime": {
     "end_time": "2021-11-14T11:37:26.950331Z",
     "start_time": "2021-11-14T11:37:26.936369Z"
    }
   },
   "outputs": [],
   "source": [
    "list_similarity_tri2=sorted(list_similarity2,reverse=True)\n",
    "sous = sousClasse[list_similarity2.index(list_similarity_tri2[0])]"
   ]
  },
  {
   "cell_type": "code",
   "execution_count": 59,
   "metadata": {
    "ExecuteTime": {
     "end_time": "2021-11-14T11:37:27.304566Z",
     "start_time": "2021-11-14T11:37:27.289575Z"
    }
   },
   "outputs": [],
   "source": [
    "sousClient = []\n",
    "for i in sous:\n",
    "    i = str(i).replace('_',' ').replace('PMBOK1.','')\n",
    "    sousClient.append(i)"
   ]
  },
  {
   "cell_type": "code",
   "execution_count": null,
   "metadata": {
    "ExecuteTime": {
     "end_time": "2021-11-14T11:37:28.220765Z",
     "start_time": "2021-11-14T11:37:28.192806Z"
    }
   },
   "outputs": [],
   "source": [
    "sousClient = []\n",
    "for i in sous:\n",
    "    i = str(i).replace('_',' ').replace('PMBOK1.','')\n",
    "    sousClient.append(i)"
   ]
  },
  {
   "cell_type": "code",
   "execution_count": 63,
   "metadata": {
    "ExecuteTime": {
     "end_time": "2021-11-14T11:44:47.901584Z",
     "start_time": "2021-11-14T11:44:47.880512Z"
    }
   },
   "outputs": [],
   "source": [
    "respTitle = []\n",
    "respAnn = []\n",
    "for i in sousClient:\n",
    "    respTitle.append(i)\n",
    "    respAnn.append(''.join(list(df_concept[( (df_concept['individuals']==i) & (df_concept['concept']==classe[0]) )]['annotation'])))\n"
   ]
  },
  {
   "cell_type": "code",
   "execution_count": 67,
   "metadata": {
    "ExecuteTime": {
     "end_time": "2021-11-14T11:45:53.718781Z",
     "start_time": "2021-11-14T11:45:53.707814Z"
    }
   },
   "outputs": [
    {
     "data": {
      "text/plain": [
       "['Stakeholder register',\n",
       " 'Project Management Plan',\n",
       " 'Enterprise Environmental Factors',\n",
       " 'Project charter',\n",
       " 'organizational Process Assets']"
      ]
     },
     "execution_count": 67,
     "metadata": {},
     "output_type": "execute_result"
    }
   ],
   "source": [
    "respTitle"
   ]
  },
  {
   "cell_type": "code",
   "execution_count": 77,
   "metadata": {
    "ExecuteTime": {
     "end_time": "2021-11-14T11:51:04.517049Z",
     "start_time": "2021-11-14T11:51:04.505053Z"
    }
   },
   "outputs": [
    {
     "name": "stdout",
     "output_type": "stream",
     "text": [
      "Title: Stakeholder register \n",
      "  The stakeholder register, which contains all details related to the project’s stakeholders, provides an overview of their roles.. \n",
      "\n",
      "Title: Project Management Plan \n",
      "  Project Management Plan. In planning risk management, all approved subsidiary management plans and baselines should be taken into . consideration in order to make the risk management plan consistent with them. The risk management plan is also . a component of the project management plan. The project management plan provides baseline or current state of . risk-affected areas including scope, schedule, and cost.. \n",
      "\n",
      "Title: Enterprise Environmental Factors \n",
      "  The enterprise environmental factors that can influence the Plan Risk Management process include, but are not limited to, risk attitudes, thresholds, and tolerances that describe the degree of risk that an organization will withstand.. \n",
      "\n",
      "Title: Project charter \n",
      "  The project charter can provide various inputs such as high-level risks, high-level project descriptions, and high-level requirements.. \n",
      "\n",
      "Title: organizational Process Assets \n",
      "  The organizational process assets that can influence the Plan Risk Management process include, but are not limited to:.  © Project Management Institute. A Guide to the Project Management Body of Knowledge (PMBOK® Guide) – Fifth Edition Licensed To: Jorge Diego Fuentes Sanchez PMI MemberID: This copy is a PMI Member benefit, not for distribution, sale, or reproduction..  - PROJECT RISK MANAGEMENT. •\t Risk categories,. •\t Common definitions of concepts and terms,. •\t Risk statement formats,. •\t Standard templates,. •\t Roles and responsibilities,. •\t Authority levels for decision making, and. •\t Lessons learned..\n",
      "\n"
     ]
    }
   ],
   "source": [
    "for i in range(len(respTitle)):\n",
    "    print(f'Title: {respTitle[i]} \\n {respAnn[i]}\\n')"
   ]
  }
 ],
 "metadata": {
  "kernelspec": {
   "display_name": "Python 3 (ipykernel)",
   "language": "python",
   "name": "python3"
  },
  "language_info": {
   "codemirror_mode": {
    "name": "ipython",
    "version": 3
   },
   "file_extension": ".py",
   "mimetype": "text/x-python",
   "name": "python",
   "nbconvert_exporter": "python",
   "pygments_lexer": "ipython3",
   "version": "3.8.8"
  },
  "toc": {
   "base_numbering": 1,
   "nav_menu": {},
   "number_sections": true,
   "sideBar": true,
   "skip_h1_title": false,
   "title_cell": "Table of Contents",
   "title_sidebar": "Contents",
   "toc_cell": false,
   "toc_position": {},
   "toc_section_display": true,
   "toc_window_display": false
  }
 },
 "nbformat": 4,
 "nbformat_minor": 4
}
