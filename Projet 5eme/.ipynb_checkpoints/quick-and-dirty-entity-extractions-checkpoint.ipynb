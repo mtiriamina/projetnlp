{
 "cells": [
  {
   "cell_type": "markdown",
   "metadata": {
    "_uuid": "8218f477850b39a81342ef97e79f17c4a505c539"
   },
   "source": [
    "<img src='https://spacy.io/assets/img/pipeline.svg'><center><span style=\"font-size:10px;\">Source: <a href=\"https://spacy.io/usage/processing-pipelines\">spaCy Language Processing Pipelines</a></span></center>"
   ]
  },
  {
   "cell_type": "markdown",
   "metadata": {
    "_uuid": "1f473a61ca5106a41ec174f3f6b655f1de6f3134"
   },
   "source": [
    "# Quick and Dirty - Entity Extraction"
   ]
  },
  {
   "cell_type": "markdown",
   "metadata": {
    "_uuid": "2d0c6d644672b7d5503f9dceb4de8d2e7b9c7ebb"
   },
   "source": [
    "<span style=\"color:gray;font-size:20px;\">From idea to prototype in AI.</span>"
   ]
  },
  {
   "cell_type": "markdown",
   "metadata": {
    "_uuid": "b1c6aec4edab56a8d4f8379c37d1dde7e3d9ec58"
   },
   "source": [
    "<em>If you've ever been around a startup or in the tech world for any significant amount of time, you've <strong>definitely</strong> encountered some, if not all of the following phrases: \"agile software development\", \"prototyping\", \"feedback loop\", \"rapid iteration\", etc.</em>\n",
    "\n",
    "<em>This Silicon Valley techno-babble can be distilled down to one simple concept, which just so happens to be the mantra of many a successful entrepreneur: test out your idea as quickly as possible, and then make it better over time. Stated more verbosely, before you invest mind and money into creating a cutting-edge solution to a problem, it might benefit you to get a baseline performance for your task using off-the-shelf techniques. Once you establish the efficacy of a low-cost, easy approach, you can then put on your Elon Musk hat and drive towards #innovation and #disruption.</em> \n",
    "\n",
    "<em>A concrete example might help illustrate this point:</em>"
   ]
  },
  {
   "cell_type": "markdown",
   "metadata": {
    "_uuid": "87a93f58d70fdc37b6cb0d32f474c511c443d704"
   },
   "source": [
    "## Introduction"
   ]
  },
  {
   "cell_type": "markdown",
   "metadata": {
    "_uuid": "8100e53a19c2720c800416f0ea865e111a6d8bc2"
   },
   "source": [
    "### Entity Extraction"
   ]
  },
  {
   "cell_type": "markdown",
   "metadata": {
    "_uuid": "ea63b0d88487d3141e5a0b31143a801ae02cbefd"
   },
   "source": [
    "Let's say our goal was to create a natural language system that effectively allowed someone to converse with an academic paper. This task could be step one of many towards the development of an automated scientific discovery tool. Society can thank us later. \n",
    "\n",
    "But where do we begin? Well, a part of the solution has to deal with [knowledge extraction](https://en.wikipedia.org/wiki/Knowledge_extraction). In order to create a conversational engine that understands scientific papers, we'll first need to develop an entity recognition module, and this, lucky for us, is the topic of our notebook! \n",
    "\n",
    "\"What's an entity?\" you ask? Excellent question. Take a look at the following sentence:"
   ]
  },
  {
   "cell_type": "markdown",
   "metadata": {
    "_uuid": "eaf6ec29040862106ea42ad59e0ffd61bbfd6a5a"
   },
   "source": [
    "> Dr. Abraham is the primary author of this paper, and a physician in the specialty of internal medicine."
   ]
  },
  {
   "cell_type": "markdown",
   "metadata": {
    "_uuid": "a244b432b4d1fa6aba94fe1b1d580d7c8f65b5d6"
   },
   "source": [
    "Now, it should be relatively straighforward for an English-speaking human to pick out the important concepts in this sentence:\n",
    "\n",
    "> **[Dr. Abraham]** is the **[primary author]** of this **[paper]**, and a **[physician]** in the **[specialty]** of **[internal medicine]**."
   ]
  },
  {
   "cell_type": "markdown",
   "metadata": {
    "_uuid": "1d35311478ba8c958158b4258d478b349bd448c4"
   },
   "source": [
    "These words and/or phrases are categorized as \"entities\" because they represent salient ideas, nouns, and noun phrases in the real world. A subset of entities can be \"named\", in that they correspond to <strong><em>specific</em></strong> places, people, organizations, and so on. A [named entity](https://en.wikipedia.org/wiki/Named_entity) is to a regular entity, what \"Dr. Abraham\" is to a \"physician\". The good doctor is a real person and an instance of the \"physician\" class, and is therefore considered \"named\". Examples of named entities include \"Google\", \"Neil DeGrasse Tyson\", and \"Tokyo\", while regular, garden-variety entities can include the list just mentioned, as well as things like \"dog\", \"newspaper\", \"task\", etc.\n",
    "\n",
    "Let's see if we can get a computer to run this kind of analysis to pull important concepts from sentences. "
   ]
  },
  {
   "cell_type": "markdown",
   "metadata": {
    "_uuid": "8dc00bf2693c7480322295f57ed48f2eac523745"
   },
   "source": [
    "### The Task"
   ]
  },
  {
   "cell_type": "markdown",
   "metadata": {
    "_uuid": "684a06bfc6d23a2bf6f88cd1b24abcd45dc40355"
   },
   "source": [
    "For our conversational academic paper program, we won't be satisfied with simply capturing named entities, because we need to understand the relationships between general concepts as well as actual things, places, etc. Unfortunately, while most out-of-the-box text processing libraries have a moderately useful <strong>named entity recognizer</strong>, they have little to no support for a generalized <strong>entity recognizer</strong>. \n",
    "\n",
    "This is because of a subtle, yet important constraint. \n",
    "\n",
    "Entities, as we've discussed, correspond to a superset of named entities, which <strong><em>should</em></strong> make them easier to extract. Indeed, blindly pulling all entities from a text source is in fact simple, but it's sadly not all that useful. In order to justify this exercise, we'd need to develop an entity extraction approach that is restricted to, or is cognizant of, some particular domain, for example, neuroscience, psychology, computer science, economics, etc. This paradoxical complexity makes it nontrivial to create a generic, but useful, entity recognizer. Hence the lack of support in most open-source libraries that deal with natural language processing. \n",
    "\n",
    "To largely simplify our task then, we must generate a set of entities from a scientific paper, that is <strong><em>larger</em></strong> than a simple list of named entities, but <strong><em>smaller</em></strong> than the giant list of all entities, restricted to the domain of a particular paper in question. \n",
    "\n",
    "Yikes. Are you sweating a little? Because I am. \n",
    "\n",
    "Instead of reaching for some Ibuprofen and deep learning pills, let's make a prototype using a little ingenuity, simple open-source code, and a lot of heuristics. Hopefully, through this process, we'll also learn a bit about the text processing pipeline that brings understanding natural language into the realm of the possible. "
   ]
  },
  {
   "cell_type": "markdown",
   "metadata": {
    "_uuid": "4ecc2fba7d3061e6b917737d1602af5dc4e841b6"
   },
   "source": [
    "Enought chit-chat. Let's get to it!"
   ]
  },
  {
   "cell_type": "markdown",
   "metadata": {
    "_uuid": "b262dc65a0ecc762a5f067c5b0134ed399edc2a0"
   },
   "source": [
    "## Imports"
   ]
  },
  {
   "cell_type": "code",
   "execution_count": 1,
   "metadata": {
    "ExecuteTime": {
     "end_time": "2021-10-27T12:32:50.009870Z",
     "start_time": "2021-10-27T12:32:49.952027Z"
    },
    "_uuid": "7ca1f8ebd250b9fb6ad0a22ba18a0114b5bd161f"
   },
   "outputs": [],
   "source": [
    "%load_ext autoreload\n",
    "%autoreload 2"
   ]
  },
  {
   "cell_type": "markdown",
   "metadata": {
    "_uuid": "7400f18ac4271c95580fb78ccdc0b635352a660e"
   },
   "source": [
    "<em><strong>Fun fact</strong>: Curious about what 'autoreload' does? <a href=\"https://ipython.org/ipython-doc/3/config/extensions/autoreload.html\">Check this out</a>.</em>"
   ]
  },
  {
   "cell_type": "code",
   "execution_count": 2,
   "metadata": {
    "ExecuteTime": {
     "end_time": "2021-10-27T12:32:52.299229Z",
     "start_time": "2021-10-27T12:32:50.652454Z"
    },
    "_uuid": "b3e6970adf6ef4c0c96c5180b947fc5ccddec953",
    "scrolled": true
   },
   "outputs": [],
   "source": [
    "import pandas as pd\n",
    "import spacy\n",
    "from spacy.displacy.render import EntityRenderer\n",
    "from IPython.core.display import display, HTML"
   ]
  },
  {
   "cell_type": "markdown",
   "metadata": {
    "_uuid": "0ead53b5d75220b9ecbab55a400734a184a1f792"
   },
   "source": [
    "## Utils and Prep"
   ]
  },
  {
   "cell_type": "markdown",
   "metadata": {
    "_uuid": "9f2197a2fc32c392c27aa807376cf58aaecb40f8"
   },
   "source": [
    "Let's do some basic housekeeping before we start diving headfirst into entity extraction. We'll need to deal with visualization, load up a language model, and of course, examine/set-up our data source.\n",
    "\n",
    "### Show and Tell\n",
    "Our prototype will lean heavily on a popular natural langauge processing (NLP) library known as spaCy, which also has a wonderful set of classes and methods defined to help visualize parts of the NLP pipeline. Up top, where we've imported modules, you'll have noticed that we're pulling 'EntityRenderer' from spaCy's displacy module, as we'll be repurposing some of this code for our... um... purposes. In general, this is a good exercise if you ever want to get your hands dirty and really learn how certain classes work in your friendly neighborhood open-source projects. Nothing should ever be off-limits or a black box; always dissect and play with your code before you eat it.  \n",
    "\n",
    "Wander on over to spaCy's [website](https://spacy.io/), and you'll quickly discover that they've put in some serious thought into making the user interface absolutely gorgeous. (While Matthew undeniably had some input on this, I'm going to make an intelligent assumption that the design ideas are probably Ines' [contribution](https://explosion.ai/about)). \n",
    "\n",
    "<em><strong>&lt;rant&gt;</strong> Why spend so much time discussing visualization? Well, one of my biggest pet peeves is this: even if you can create a product, if you don't put in the time to make it look beautiful, or delightful to use, then you don't care about packaging your ideas for export to an audience. And that makes me sad. Once you get something working, make it pretty. <strong>&lt;/rant&gt;</strong></em>"
   ]
  },
  {
   "cell_type": "code",
   "execution_count": 27,
   "metadata": {
    "ExecuteTime": {
     "end_time": "2021-10-27T12:41:19.158393Z",
     "start_time": "2021-10-27T12:41:19.042701Z"
    },
    "_uuid": "81578431062c6f07f89e6292ea7ee88fd9ca1ba9"
   },
   "outputs": [],
   "source": [
    "def custom_render(doc, df, column, options={}, page=False, minify=False, idx=0):\n",
    "\n",
    "    renderer, converter = EntityRenderer, parse_custom_ents\n",
    "    renderer = renderer(options=options)\n",
    "    parsed = [converter(doc, df=df, idx=idx, column=column)]\n",
    "    html = renderer.render(parsed, page=page, minify=minify).strip()  \n",
    "    return display(HTML(html))\n",
    "\n",
    "def parse_custom_ents(doc, df, idx, column):\n",
    "    \n",
    "    if column in df.columns:\n",
    "        entities = df[column][idx]\n",
    "        ents = [{'start': ent[1], 'end': ent[2], 'label': ent[3]} \n",
    "                for ent in entities]\n",
    "    else:\n",
    "        ents = [{'start': ent.start_char, 'end': ent.end_char, 'label': ent.label_}\n",
    "            for ent in doc.ents]\n",
    "    return {'text': doc.text, 'ents': ents, 'title': None}\n",
    "\n",
    "def render_entities(idx, df, options={}, column='named_ents'):\n",
    "\n",
    "    text = df['text'][idx]\n",
    "    custom_render(nlp(text), df=df, column=column, options=options, idx=idx)"
   ]
  },
  {
   "cell_type": "code",
   "execution_count": 4,
   "metadata": {
    "ExecuteTime": {
     "end_time": "2021-10-27T12:32:55.255925Z",
     "start_time": "2021-10-27T12:32:55.185117Z"
    },
    "_uuid": "a3cb4375091881e3021a751547598f640848e012"
   },
   "outputs": [],
   "source": [
    "# colors for additional part of speech tags we want to visualize\n",
    "options = {\n",
    "    'colors': {'COMPOUND': '#FE6BFE', 'PROPN': '#FFB6C1', 'NOUN': '#18CFE6', 'NP': '#1EECA6', 'ENTITY': '#FF8800'}\n",
    "}"
   ]
  },
  {
   "cell_type": "code",
   "execution_count": 5,
   "metadata": {
    "ExecuteTime": {
     "end_time": "2021-10-27T12:32:55.923348Z",
     "start_time": "2021-10-27T12:32:55.845557Z"
    },
    "_uuid": "335e95e66864466833a07970e5b2b56a2a3384d4"
   },
   "outputs": [],
   "source": [
    "pd.set_option('display.max_rows', 10) # edit how jupyter will render our pandas dataframes\n",
    "pd.options.mode.chained_assignment = None # prevent warning about working on a copy of a dataframe"
   ]
  },
  {
   "cell_type": "markdown",
   "metadata": {
    "_uuid": "d19ae65d5f1ed4918e3b9ce21486bd59af1b5111"
   },
   "source": [
    "### Load Model"
   ]
  },
  {
   "cell_type": "markdown",
   "metadata": {
    "_uuid": "17dbadc9c3cde02902206810157155020f55945a"
   },
   "source": [
    "spaCy's pre-built models are trained on different corpora of text, to capture parts-of-speech, extract named entities, and in general understand how to tokenize words into chunks that have meaning in a given language. \n",
    "\n",
    "We'll grab the 'en_core_web_lg' model by running the following command in the shell (Kaggle only has access to the 'en_core_web_sm' model, but running this outside of a Kernel, you'd want to use 'en_core_web_lg'). "
   ]
  },
  {
   "cell_type": "code",
   "execution_count": 6,
   "metadata": {
    "ExecuteTime": {
     "end_time": "2021-10-27T12:32:58.544089Z",
     "start_time": "2021-10-27T12:32:57.607104Z"
    },
    "_uuid": "36cd2fcf452955a245447c90b8c47ae9eaa5d355"
   },
   "outputs": [],
   "source": [
    "nlp = spacy.load('en_core_web_sm')"
   ]
  },
  {
   "cell_type": "markdown",
   "metadata": {
    "_uuid": "5118926b706c49c023110fdaaa857e59bdb97529"
   },
   "source": [
    "<em><strong>Fun fact</strong>: We can run shell commands in a Jupyter notebook by using the bang operator. This is an example of a <a href=\"https://ipython.readthedocs.io/en/stable/interactive/magics.html\">magic</a> command, of which we saw an example at the begnning with '%autoreload'.</em>"
   ]
  },
  {
   "cell_type": "markdown",
   "metadata": {
    "_uuid": "b7ba410620b92e165ec56746f49da7bf6d0f08fe"
   },
   "source": [
    "### Gather Data"
   ]
  },
  {
   "cell_type": "markdown",
   "metadata": {
    "_uuid": "1eb95fc83a172e69b6a5975f9294e1975f5d26d0"
   },
   "source": [
    "As our data source, we'll be using papers presented at the [Neural Information Processing Systems (NIPS)](https://nips.cc/) conference held in a different location around the world each year. NIPS is the premier conference for all things machine learning, and considering our goal with this notebook, is an apropos choice to source our data. We'll pull a conveniently packaged dataset from [Kaggle](https://www.kaggle.com/benhamner/nips-2015-papers/version/2/home), and then work with a subset of the papers to keep our prototyping as lean and fast as possible."
   ]
  },
  {
   "cell_type": "code",
   "execution_count": 7,
   "metadata": {
    "ExecuteTime": {
     "end_time": "2021-10-27T12:32:59.524616Z",
     "start_time": "2021-10-27T12:32:59.443832Z"
    },
    "_uuid": "eb92701887bc58fcb9847747eb1a85d641c415d2"
   },
   "outputs": [],
   "source": [
    "PATH = '../input/'"
   ]
  },
  {
   "cell_type": "code",
   "execution_count": 8,
   "metadata": {
    "ExecuteTime": {
     "end_time": "2021-10-27T12:33:00.017431Z",
     "start_time": "2021-10-27T12:32:59.895331Z"
    },
    "_uuid": "87f44ad7a1ace2439cbb9a09b3508c19786d9301"
   },
   "outputs": [
    {
     "name": "stderr",
     "output_type": "stream",
     "text": [
      "'ls' n’est pas reconnu en tant que commande interne\n",
      "ou externe, un programme exécutable ou un fichier de commandes.\n"
     ]
    }
   ],
   "source": [
    "!ls {PATH}"
   ]
  },
  {
   "cell_type": "markdown",
   "metadata": {
    "_uuid": "8f25632bb3588ee09d5d939b352bf1e3ec7791c2"
   },
   "source": [
    "<em><strong>Fun fact</strong>: You can use python variables in shell commands by nesting them inside curly braces.</em>"
   ]
  },
  {
   "cell_type": "code",
   "execution_count": 64,
   "metadata": {
    "ExecuteTime": {
     "end_time": "2021-10-27T12:56:39.350266Z",
     "start_time": "2021-10-27T12:56:39.246461Z"
    }
   },
   "outputs": [],
   "source": [
    "import joblib\n",
    "sentences = joblib.load('sentences')"
   ]
  },
  {
   "cell_type": "code",
   "execution_count": 65,
   "metadata": {
    "ExecuteTime": {
     "end_time": "2021-10-27T12:56:41.632247Z",
     "start_time": "2021-10-27T12:56:41.539593Z"
    }
   },
   "outputs": [],
   "source": [
    "df = pd.DataFrame({'text':sentences})"
   ]
  },
  {
   "cell_type": "markdown",
   "metadata": {
    "_uuid": "6a863f05736959a538e5c374ad1e66d7aa874c69"
   },
   "source": [
    "### Game Plan"
   ]
  },
  {
   "cell_type": "markdown",
   "metadata": {
    "_uuid": "dd74fd8804028e80c669a36e4e6813b4e93b144b"
   },
   "source": [
    "Now that we're all ready to get started, let's come up with a general list of tasks to to guide our approach. \n",
    "\n",
    "<br>\n",
    "<ol>\n",
    "    <strong><li>Inspect and clean data</li></strong>\n",
    "    <strong><li>Extract named entities</li></strong>\n",
    "    <strong><li>Extract nouns</li></strong>\n",
    "    <strong><li>Combine named entities and nouns</li></strong>\n",
    "    <strong><li>Extract noun phrases</li></strong>\n",
    "    <strong><li>Extract compound noun phrases</li></strong>\n",
    "    <strong><li>Combine entities and compound noun phrases</li></strong>\n",
    "    <strong><li>Reduce entity count with heuristics</li></strong>\n",
    "    <strong><li>Celebrate with excessive fist-pumping</li></strong>\n",
    "</ol>\n",
    "\n",
    "That doesn't look too bad now does it? Let's build ourselves a prototype entity extractor."
   ]
  },
  {
   "cell_type": "markdown",
   "metadata": {
    "_uuid": "de798ce8ce648ad1f2d727c49c3eb036b415fffc"
   },
   "source": [
    "## Step 1: Inspect and clean data"
   ]
  },
  {
   "cell_type": "code",
   "execution_count": 66,
   "metadata": {
    "ExecuteTime": {
     "end_time": "2021-10-27T12:56:44.419146Z",
     "start_time": "2021-10-27T12:56:44.320219Z"
    },
    "_uuid": "43cc446e2cdfd8645459a5ecf925fec61fff88e6"
   },
   "outputs": [
    {
     "data": {
      "text/html": [
       "<div>\n",
       "<style scoped>\n",
       "    .dataframe tbody tr th:only-of-type {\n",
       "        vertical-align: middle;\n",
       "    }\n",
       "\n",
       "    .dataframe tbody tr th {\n",
       "        vertical-align: top;\n",
       "    }\n",
       "\n",
       "    .dataframe thead th {\n",
       "        text-align: right;\n",
       "    }\n",
       "</style>\n",
       "<table border=\"1\" class=\"dataframe\">\n",
       "  <thead>\n",
       "    <tr style=\"text-align: right;\">\n",
       "      <th></th>\n",
       "      <th>text</th>\n",
       "    </tr>\n",
       "  </thead>\n",
       "  <tbody>\n",
       "    <tr>\n",
       "      <th>0</th>\n",
       "      <td>Project Risk Management includes the processes...</td>\n",
       "    </tr>\n",
       "    <tr>\n",
       "      <th>1</th>\n",
       "      <td>The objectives of project risk management are ...</td>\n",
       "    </tr>\n",
       "    <tr>\n",
       "      <th>2</th>\n",
       "      <td>Plan Risk Management is the process of definin...</td>\n",
       "    </tr>\n",
       "    <tr>\n",
       "      <th>3</th>\n",
       "      <td>Identify Risks is the process of determining w...</td>\n",
       "    </tr>\n",
       "    <tr>\n",
       "      <th>4</th>\n",
       "      <td>Perform Qualitative Risk Analysis is the proce...</td>\n",
       "    </tr>\n",
       "  </tbody>\n",
       "</table>\n",
       "</div>"
      ],
      "text/plain": [
       "                                                text\n",
       "0  Project Risk Management includes the processes...\n",
       "1  The objectives of project risk management are ...\n",
       "2  Plan Risk Management is the process of definin...\n",
       "3  Identify Risks is the process of determining w...\n",
       "4  Perform Qualitative Risk Analysis is the proce..."
      ]
     },
     "execution_count": 66,
     "metadata": {},
     "output_type": "execute_result"
    }
   ],
   "source": [
    "df.head()"
   ]
  },
  {
   "cell_type": "code",
   "execution_count": 67,
   "metadata": {
    "ExecuteTime": {
     "end_time": "2021-10-27T12:56:49.949952Z",
     "start_time": "2021-10-27T12:56:49.850220Z"
    },
    "_uuid": "3b1cfd207795c42abaac887ccc09c979c6efb21c"
   },
   "outputs": [],
   "source": [
    "lower = lambda x: x.lower() # make everything lowercase\n",
    "df['text'] = df['text'].apply(lower)"
   ]
  },
  {
   "cell_type": "markdown",
   "metadata": {
    "_uuid": "5f356a05b9a042ddb823ad4fffa0e56cb4508000"
   },
   "source": [
    "### Analysis"
   ]
  },
  {
   "cell_type": "markdown",
   "metadata": {
    "_uuid": "4fead650e9769c9700c63a642fe39a816cf82ff8"
   },
   "source": [
    "Initially, there was quite a bit of metadata associated with each entry, including a unique identifier, the type of paper presented at the conference, as well as the actual paper text. After pulling out just the abstracts, we've now ended up with with a clean, read-to-go dataframe, and are ready to begin extracting entities. "
   ]
  },
  {
   "cell_type": "markdown",
   "metadata": {
    "_uuid": "09787e2f930a33386ad40bef59d201b8fd548348"
   },
   "source": [
    "## Step 2: Extract named entities"
   ]
  },
  {
   "cell_type": "code",
   "execution_count": 68,
   "metadata": {
    "ExecuteTime": {
     "end_time": "2021-10-27T12:56:52.086366Z",
     "start_time": "2021-10-27T12:56:51.994608Z"
    },
    "_uuid": "8d57cf2a968d624cb6ec8b99c5a131eb1de56a38"
   },
   "outputs": [],
   "source": [
    "def extract_named_ents(text):\n",
    "\n",
    "    return [(ent.text, ent.start_char, ent.end_char, ent.label_) for ent in nlp(text).ents]\n",
    "\n",
    "def add_named_ents(df):\n",
    "\n",
    "    df['named_ents'] = df['text'].apply(extract_named_ents)    "
   ]
  },
  {
   "cell_type": "code",
   "execution_count": 69,
   "metadata": {
    "ExecuteTime": {
     "end_time": "2021-10-27T12:56:54.798675Z",
     "start_time": "2021-10-27T12:56:53.770709Z"
    },
    "_uuid": "6118960dcef1553e15040d9a28dce2b8a778c076"
   },
   "outputs": [
    {
     "data": {
      "text/html": [
       "<div>\n",
       "<style scoped>\n",
       "    .dataframe tbody tr th:only-of-type {\n",
       "        vertical-align: middle;\n",
       "    }\n",
       "\n",
       "    .dataframe tbody tr th {\n",
       "        vertical-align: top;\n",
       "    }\n",
       "\n",
       "    .dataframe thead th {\n",
       "        text-align: right;\n",
       "    }\n",
       "</style>\n",
       "<table border=\"1\" class=\"dataframe\">\n",
       "  <thead>\n",
       "    <tr style=\"text-align: right;\">\n",
       "      <th></th>\n",
       "      <th>text</th>\n",
       "      <th>named_ents</th>\n",
       "    </tr>\n",
       "  </thead>\n",
       "  <tbody>\n",
       "    <tr>\n",
       "      <th>0</th>\n",
       "      <td>project risk management includes the processes...</td>\n",
       "      <td>[]</td>\n",
       "    </tr>\n",
       "    <tr>\n",
       "      <th>1</th>\n",
       "      <td>the objectives of project risk management are ...</td>\n",
       "      <td>[]</td>\n",
       "    </tr>\n",
       "    <tr>\n",
       "      <th>2</th>\n",
       "      <td>plan risk management is the process of definin...</td>\n",
       "      <td>[]</td>\n",
       "    </tr>\n",
       "    <tr>\n",
       "      <th>3</th>\n",
       "      <td>identify risks is the process of determining w...</td>\n",
       "      <td>[]</td>\n",
       "    </tr>\n",
       "    <tr>\n",
       "      <th>4</th>\n",
       "      <td>perform qualitative risk analysis is the proce...</td>\n",
       "      <td>[]</td>\n",
       "    </tr>\n",
       "    <tr>\n",
       "      <th>...</th>\n",
       "      <td>...</td>\n",
       "      <td>...</td>\n",
       "    </tr>\n",
       "    <tr>\n",
       "      <th>98</th>\n",
       "      <td>the specific combinations of probability and i...</td>\n",
       "      <td>[]</td>\n",
       "    </tr>\n",
       "    <tr>\n",
       "      <th>99</th>\n",
       "      <td>revised stakeholders’ tolerances stakeholders’...</td>\n",
       "      <td>[]</td>\n",
       "    </tr>\n",
       "    <tr>\n",
       "      <th>100</th>\n",
       "      <td>reporting formats reporting formats define how...</td>\n",
       "      <td>[]</td>\n",
       "    </tr>\n",
       "    <tr>\n",
       "      <th>101</th>\n",
       "      <td>formats describes the content and format of th...</td>\n",
       "      <td>[]</td>\n",
       "    </tr>\n",
       "    <tr>\n",
       "      <th>102</th>\n",
       "      <td>tracking tracking documents how risk activitie...</td>\n",
       "      <td>[]</td>\n",
       "    </tr>\n",
       "  </tbody>\n",
       "</table>\n",
       "<p>103 rows × 2 columns</p>\n",
       "</div>"
      ],
      "text/plain": [
       "                                                  text named_ents\n",
       "0    project risk management includes the processes...         []\n",
       "1    the objectives of project risk management are ...         []\n",
       "2    plan risk management is the process of definin...         []\n",
       "3    identify risks is the process of determining w...         []\n",
       "4    perform qualitative risk analysis is the proce...         []\n",
       "..                                                 ...        ...\n",
       "98   the specific combinations of probability and i...         []\n",
       "99   revised stakeholders’ tolerances stakeholders’...         []\n",
       "100  reporting formats reporting formats define how...         []\n",
       "101  formats describes the content and format of th...         []\n",
       "102  tracking tracking documents how risk activitie...         []\n",
       "\n",
       "[103 rows x 2 columns]"
      ]
     },
     "metadata": {},
     "output_type": "display_data"
    }
   ],
   "source": [
    "add_named_ents(df)\n",
    "display(df)"
   ]
  },
  {
   "cell_type": "code",
   "execution_count": 70,
   "metadata": {
    "ExecuteTime": {
     "end_time": "2021-10-27T12:56:57.726745Z",
     "start_time": "2021-10-27T12:56:57.649913Z"
    }
   },
   "outputs": [],
   "source": [
    "i = 0"
   ]
  },
  {
   "cell_type": "code",
   "execution_count": 71,
   "metadata": {
    "ExecuteTime": {
     "end_time": "2021-10-27T12:56:58.736802Z",
     "start_time": "2021-10-27T12:56:58.639033Z"
    },
    "_uuid": "b564944baad5c1a293f2ffe6a2741e314c7d8a5e"
   },
   "outputs": [
    {
     "data": {
      "text/html": [
       "<div class=\"entities\" style=\"line-height: 2.5; direction: ltr\">project risk management includes the processes of conducting risk management planning, identification, analysis, response planning, and controlling risk on a project.</div>"
      ],
      "text/plain": [
       "<IPython.core.display.HTML object>"
      ]
     },
     "metadata": {},
     "output_type": "display_data"
    }
   ],
   "source": [
    "column = 'named_ents'\n",
    "render_entities(i, df, options=options, column=column) # take a look at one of the abstracts\n",
    "i += 1"
   ]
  },
  {
   "cell_type": "markdown",
   "metadata": {
    "_uuid": "207b6d6bc918dc70d5f2223d065137099c5af307"
   },
   "source": [
    "### Analysis"
   ]
  },
  {
   "cell_type": "markdown",
   "metadata": {
    "_uuid": "f25e682349877a04761eb76fff49ca949054cc74"
   },
   "source": [
    "A quick glance at some of the abstracts shows that while we are able to extract numeric entities, not much else comes through. Not great. But then again, this is exactly why simply extracting named entities is not enough. On the plus side, our intuition about built-in models and scientific text was spot on! The spaCy named entity recognizer just wasn't exposed to this category of corpora and was instead trained on [blogs, news, and comments](https://spacy.io/models/en#en_core_web_lg). Academic papers don't use the most common English words, so it isn't unreasonable to expect a generally trained model to fail when confronted with text in such a restricted domain.   \n",
    "\n",
    "Look at a few more abstracts by changing the index parameter in our \"render_entities\" function to convince yourself of the following notion:\n",
    "\n",
    "We need to widen our search. "
   ]
  },
  {
   "cell_type": "markdown",
   "metadata": {
    "_uuid": "55d3fb3d8ced4eb2374440908a6ac9513ba6e5f1"
   },
   "source": [
    "## Step 3: Extract all nouns"
   ]
  },
  {
   "cell_type": "code",
   "execution_count": 72,
   "metadata": {
    "ExecuteTime": {
     "end_time": "2021-10-27T12:57:01.478532Z",
     "start_time": "2021-10-27T12:57:01.395755Z"
    },
    "_uuid": "0c854c7bd57a862e92d4894c1ba037afc51740bd"
   },
   "outputs": [],
   "source": [
    "def extract_nouns(text):\n",
    "\n",
    "    keep_pos = ['PROPN', 'NOUN']\n",
    "    return [(tok.text, tok.idx, tok.idx+len(tok.text), tok.pos_) for tok in nlp(text) if tok.pos_ in keep_pos]\n",
    "\n",
    "def add_nouns(df):\n",
    "\n",
    "    df['nouns'] = df['text'].apply(extract_nouns)"
   ]
  },
  {
   "cell_type": "code",
   "execution_count": 73,
   "metadata": {
    "ExecuteTime": {
     "end_time": "2021-10-27T12:57:02.824824Z",
     "start_time": "2021-10-27T12:57:01.598474Z"
    },
    "_uuid": "1fece0eea58b75e86644360fac82187f4505959a"
   },
   "outputs": [
    {
     "data": {
      "text/html": [
       "<div>\n",
       "<style scoped>\n",
       "    .dataframe tbody tr th:only-of-type {\n",
       "        vertical-align: middle;\n",
       "    }\n",
       "\n",
       "    .dataframe tbody tr th {\n",
       "        vertical-align: top;\n",
       "    }\n",
       "\n",
       "    .dataframe thead th {\n",
       "        text-align: right;\n",
       "    }\n",
       "</style>\n",
       "<table border=\"1\" class=\"dataframe\">\n",
       "  <thead>\n",
       "    <tr style=\"text-align: right;\">\n",
       "      <th></th>\n",
       "      <th>text</th>\n",
       "      <th>named_ents</th>\n",
       "      <th>nouns</th>\n",
       "    </tr>\n",
       "  </thead>\n",
       "  <tbody>\n",
       "    <tr>\n",
       "      <th>0</th>\n",
       "      <td>project risk management includes the processes...</td>\n",
       "      <td>[]</td>\n",
       "      <td>[(project, 0, 7, NOUN), (risk, 8, 12, NOUN), (...</td>\n",
       "    </tr>\n",
       "    <tr>\n",
       "      <th>1</th>\n",
       "      <td>the objectives of project risk management are ...</td>\n",
       "      <td>[]</td>\n",
       "      <td>[(objectives, 4, 14, NOUN), (project, 18, 25, ...</td>\n",
       "    </tr>\n",
       "    <tr>\n",
       "      <th>2</th>\n",
       "      <td>plan risk management is the process of definin...</td>\n",
       "      <td>[]</td>\n",
       "      <td>[(plan, 0, 4, NOUN), (risk, 5, 9, NOUN), (mana...</td>\n",
       "    </tr>\n",
       "    <tr>\n",
       "      <th>3</th>\n",
       "      <td>identify risks is the process of determining w...</td>\n",
       "      <td>[]</td>\n",
       "      <td>[(risks, 9, 14, PROPN), (process, 22, 29, NOUN...</td>\n",
       "    </tr>\n",
       "    <tr>\n",
       "      <th>4</th>\n",
       "      <td>perform qualitative risk analysis is the proce...</td>\n",
       "      <td>[]</td>\n",
       "      <td>[(risk, 20, 24, NOUN), (analysis, 25, 33, NOUN...</td>\n",
       "    </tr>\n",
       "    <tr>\n",
       "      <th>...</th>\n",
       "      <td>...</td>\n",
       "      <td>...</td>\n",
       "      <td>...</td>\n",
       "    </tr>\n",
       "    <tr>\n",
       "      <th>98</th>\n",
       "      <td>the specific combinations of probability and i...</td>\n",
       "      <td>[]</td>\n",
       "      <td>[(combinations, 13, 25, NOUN), (probability, 2...</td>\n",
       "    </tr>\n",
       "    <tr>\n",
       "      <th>99</th>\n",
       "      <td>revised stakeholders’ tolerances stakeholders’...</td>\n",
       "      <td>[]</td>\n",
       "      <td>[(stakeholders, 8, 20, NOUN), (tolerances, 22,...</td>\n",
       "    </tr>\n",
       "    <tr>\n",
       "      <th>100</th>\n",
       "      <td>reporting formats reporting formats define how...</td>\n",
       "      <td>[]</td>\n",
       "      <td>[(formats, 10, 17, NOUN), (reporting, 18, 27, ...</td>\n",
       "    </tr>\n",
       "    <tr>\n",
       "      <th>101</th>\n",
       "      <td>formats describes the content and format of th...</td>\n",
       "      <td>[]</td>\n",
       "      <td>[(formats, 0, 7, NOUN), (content, 22, 29, NOUN...</td>\n",
       "    </tr>\n",
       "    <tr>\n",
       "      <th>102</th>\n",
       "      <td>tracking tracking documents how risk activitie...</td>\n",
       "      <td>[]</td>\n",
       "      <td>[(tracking, 9, 17, NOUN), (documents, 18, 27, ...</td>\n",
       "    </tr>\n",
       "  </tbody>\n",
       "</table>\n",
       "<p>103 rows × 3 columns</p>\n",
       "</div>"
      ],
      "text/plain": [
       "                                                  text named_ents  \\\n",
       "0    project risk management includes the processes...         []   \n",
       "1    the objectives of project risk management are ...         []   \n",
       "2    plan risk management is the process of definin...         []   \n",
       "3    identify risks is the process of determining w...         []   \n",
       "4    perform qualitative risk analysis is the proce...         []   \n",
       "..                                                 ...        ...   \n",
       "98   the specific combinations of probability and i...         []   \n",
       "99   revised stakeholders’ tolerances stakeholders’...         []   \n",
       "100  reporting formats reporting formats define how...         []   \n",
       "101  formats describes the content and format of th...         []   \n",
       "102  tracking tracking documents how risk activitie...         []   \n",
       "\n",
       "                                                 nouns  \n",
       "0    [(project, 0, 7, NOUN), (risk, 8, 12, NOUN), (...  \n",
       "1    [(objectives, 4, 14, NOUN), (project, 18, 25, ...  \n",
       "2    [(plan, 0, 4, NOUN), (risk, 5, 9, NOUN), (mana...  \n",
       "3    [(risks, 9, 14, PROPN), (process, 22, 29, NOUN...  \n",
       "4    [(risk, 20, 24, NOUN), (analysis, 25, 33, NOUN...  \n",
       "..                                                 ...  \n",
       "98   [(combinations, 13, 25, NOUN), (probability, 2...  \n",
       "99   [(stakeholders, 8, 20, NOUN), (tolerances, 22,...  \n",
       "100  [(formats, 10, 17, NOUN), (reporting, 18, 27, ...  \n",
       "101  [(formats, 0, 7, NOUN), (content, 22, 29, NOUN...  \n",
       "102  [(tracking, 9, 17, NOUN), (documents, 18, 27, ...  \n",
       "\n",
       "[103 rows x 3 columns]"
      ]
     },
     "metadata": {},
     "output_type": "display_data"
    }
   ],
   "source": [
    "add_nouns(df)\n",
    "display(df)"
   ]
  },
  {
   "cell_type": "code",
   "execution_count": 74,
   "metadata": {
    "ExecuteTime": {
     "end_time": "2021-10-27T12:57:05.557243Z",
     "start_time": "2021-10-27T12:57:05.480574Z"
    }
   },
   "outputs": [],
   "source": [
    "i = 0"
   ]
  },
  {
   "cell_type": "code",
   "execution_count": 75,
   "metadata": {
    "ExecuteTime": {
     "end_time": "2021-10-27T12:57:06.739497Z",
     "start_time": "2021-10-27T12:57:06.640762Z"
    },
    "_uuid": "1edca00cc9b5319e739006dfc8fdf45b0604f380"
   },
   "outputs": [
    {
     "data": {
      "text/html": [
       "<div class=\"entities\" style=\"line-height: 2.5; direction: ltr\">\n",
       "<mark class=\"entity\" style=\"background: #18CFE6; padding: 0.45em 0.6em; margin: 0 0.25em; line-height: 1; border-radius: 0.35em;\">\n",
       "    project\n",
       "    <span style=\"font-size: 0.8em; font-weight: bold; line-height: 1; border-radius: 0.35em; text-transform: uppercase; vertical-align: middle; margin-left: 0.5rem\">NOUN</span>\n",
       "</mark>\n",
       " \n",
       "<mark class=\"entity\" style=\"background: #18CFE6; padding: 0.45em 0.6em; margin: 0 0.25em; line-height: 1; border-radius: 0.35em;\">\n",
       "    risk\n",
       "    <span style=\"font-size: 0.8em; font-weight: bold; line-height: 1; border-radius: 0.35em; text-transform: uppercase; vertical-align: middle; margin-left: 0.5rem\">NOUN</span>\n",
       "</mark>\n",
       " \n",
       "<mark class=\"entity\" style=\"background: #18CFE6; padding: 0.45em 0.6em; margin: 0 0.25em; line-height: 1; border-radius: 0.35em;\">\n",
       "    management\n",
       "    <span style=\"font-size: 0.8em; font-weight: bold; line-height: 1; border-radius: 0.35em; text-transform: uppercase; vertical-align: middle; margin-left: 0.5rem\">NOUN</span>\n",
       "</mark>\n",
       " includes the \n",
       "<mark class=\"entity\" style=\"background: #18CFE6; padding: 0.45em 0.6em; margin: 0 0.25em; line-height: 1; border-radius: 0.35em;\">\n",
       "    processes\n",
       "    <span style=\"font-size: 0.8em; font-weight: bold; line-height: 1; border-radius: 0.35em; text-transform: uppercase; vertical-align: middle; margin-left: 0.5rem\">NOUN</span>\n",
       "</mark>\n",
       " of conducting \n",
       "<mark class=\"entity\" style=\"background: #18CFE6; padding: 0.45em 0.6em; margin: 0 0.25em; line-height: 1; border-radius: 0.35em;\">\n",
       "    risk\n",
       "    <span style=\"font-size: 0.8em; font-weight: bold; line-height: 1; border-radius: 0.35em; text-transform: uppercase; vertical-align: middle; margin-left: 0.5rem\">NOUN</span>\n",
       "</mark>\n",
       " \n",
       "<mark class=\"entity\" style=\"background: #18CFE6; padding: 0.45em 0.6em; margin: 0 0.25em; line-height: 1; border-radius: 0.35em;\">\n",
       "    management\n",
       "    <span style=\"font-size: 0.8em; font-weight: bold; line-height: 1; border-radius: 0.35em; text-transform: uppercase; vertical-align: middle; margin-left: 0.5rem\">NOUN</span>\n",
       "</mark>\n",
       " \n",
       "<mark class=\"entity\" style=\"background: #18CFE6; padding: 0.45em 0.6em; margin: 0 0.25em; line-height: 1; border-radius: 0.35em;\">\n",
       "    planning\n",
       "    <span style=\"font-size: 0.8em; font-weight: bold; line-height: 1; border-radius: 0.35em; text-transform: uppercase; vertical-align: middle; margin-left: 0.5rem\">NOUN</span>\n",
       "</mark>\n",
       ", \n",
       "<mark class=\"entity\" style=\"background: #18CFE6; padding: 0.45em 0.6em; margin: 0 0.25em; line-height: 1; border-radius: 0.35em;\">\n",
       "    identification\n",
       "    <span style=\"font-size: 0.8em; font-weight: bold; line-height: 1; border-radius: 0.35em; text-transform: uppercase; vertical-align: middle; margin-left: 0.5rem\">NOUN</span>\n",
       "</mark>\n",
       ", \n",
       "<mark class=\"entity\" style=\"background: #18CFE6; padding: 0.45em 0.6em; margin: 0 0.25em; line-height: 1; border-radius: 0.35em;\">\n",
       "    analysis\n",
       "    <span style=\"font-size: 0.8em; font-weight: bold; line-height: 1; border-radius: 0.35em; text-transform: uppercase; vertical-align: middle; margin-left: 0.5rem\">NOUN</span>\n",
       "</mark>\n",
       ", \n",
       "<mark class=\"entity\" style=\"background: #18CFE6; padding: 0.45em 0.6em; margin: 0 0.25em; line-height: 1; border-radius: 0.35em;\">\n",
       "    response\n",
       "    <span style=\"font-size: 0.8em; font-weight: bold; line-height: 1; border-radius: 0.35em; text-transform: uppercase; vertical-align: middle; margin-left: 0.5rem\">NOUN</span>\n",
       "</mark>\n",
       " \n",
       "<mark class=\"entity\" style=\"background: #18CFE6; padding: 0.45em 0.6em; margin: 0 0.25em; line-height: 1; border-radius: 0.35em;\">\n",
       "    planning\n",
       "    <span style=\"font-size: 0.8em; font-weight: bold; line-height: 1; border-radius: 0.35em; text-transform: uppercase; vertical-align: middle; margin-left: 0.5rem\">NOUN</span>\n",
       "</mark>\n",
       ", and controlling \n",
       "<mark class=\"entity\" style=\"background: #18CFE6; padding: 0.45em 0.6em; margin: 0 0.25em; line-height: 1; border-radius: 0.35em;\">\n",
       "    risk\n",
       "    <span style=\"font-size: 0.8em; font-weight: bold; line-height: 1; border-radius: 0.35em; text-transform: uppercase; vertical-align: middle; margin-left: 0.5rem\">NOUN</span>\n",
       "</mark>\n",
       " on a \n",
       "<mark class=\"entity\" style=\"background: #18CFE6; padding: 0.45em 0.6em; margin: 0 0.25em; line-height: 1; border-radius: 0.35em;\">\n",
       "    project\n",
       "    <span style=\"font-size: 0.8em; font-weight: bold; line-height: 1; border-radius: 0.35em; text-transform: uppercase; vertical-align: middle; margin-left: 0.5rem\">NOUN</span>\n",
       "</mark>\n",
       ".</div>"
      ],
      "text/plain": [
       "<IPython.core.display.HTML object>"
      ]
     },
     "metadata": {},
     "output_type": "display_data"
    }
   ],
   "source": [
    "column = 'nouns'\n",
    "render_entities(i, df, options=options, column=column)\n",
    "i += 1"
   ]
  },
  {
   "cell_type": "markdown",
   "metadata": {
    "_uuid": "6deb256580ce31066356a3dbd3b1926fe37b6fae"
   },
   "source": [
    "### Analysis"
   ]
  },
  {
   "cell_type": "markdown",
   "metadata": {
    "_uuid": "b24082b5499532fa7ed8b53a26df7bf910b1421b"
   },
   "source": [
    "This is more colorful. But is it useful? It appears as if we are able to pull out a lot of concepts, but things like \"rest\", \"popularity\", and \"data\", aren't all that interesting (atleast in the first abstract). Our search is too wide at this point. "
   ]
  },
  {
   "cell_type": "markdown",
   "metadata": {
    "_uuid": "239c79413ad507cad9ee8200c04cfe152f022fc0"
   },
   "source": [
    "Good to know. Let's power through for now, and merge our lists of entities.  "
   ]
  },
  {
   "cell_type": "markdown",
   "metadata": {
    "_uuid": "67e348339c2f9e03579f7c3063daaeda9cf2a5c8"
   },
   "source": [
    "## Step 4: Combine named entities and nouns"
   ]
  },
  {
   "cell_type": "code",
   "execution_count": 76,
   "metadata": {
    "ExecuteTime": {
     "end_time": "2021-10-27T12:57:11.389328Z",
     "start_time": "2021-10-27T12:57:11.292588Z"
    },
    "_uuid": "1a52263848803b5c40d1400688bdb56d9b5f4378"
   },
   "outputs": [],
   "source": [
    "def extract_named_nouns(row_series):\n",
    "\n",
    "    ents = set()\n",
    "    idxs = set()\n",
    "    # remove duplicates and merge two lists together\n",
    "    for noun_tuple in row_series['nouns']:\n",
    "        for named_ents_tuple in row_series['named_ents']:\n",
    "            if noun_tuple[1] == named_ents_tuple[1]: \n",
    "                idxs.add(noun_tuple[1])\n",
    "                ents.add(named_ents_tuple)\n",
    "        if noun_tuple[1] not in idxs:\n",
    "            ents.add(noun_tuple)\n",
    "    \n",
    "    return sorted(list(ents), key=lambda x: x[1])\n",
    "\n",
    "def add_named_nouns(df):\n",
    "\n",
    "    df['named_nouns'] = df.apply(extract_named_nouns, axis=1)"
   ]
  },
  {
   "cell_type": "code",
   "execution_count": 77,
   "metadata": {
    "ExecuteTime": {
     "end_time": "2021-10-27T12:57:13.949321Z",
     "start_time": "2021-10-27T12:57:13.850551Z"
    },
    "_uuid": "547b174b69243b8c7acda3f8a2af4f2ab6bcbb7e"
   },
   "outputs": [],
   "source": [
    "add_named_nouns(df)\n",
    "# display(df)"
   ]
  },
  {
   "cell_type": "code",
   "execution_count": 78,
   "metadata": {
    "ExecuteTime": {
     "end_time": "2021-10-27T12:57:14.938417Z",
     "start_time": "2021-10-27T12:57:14.852648Z"
    }
   },
   "outputs": [],
   "source": [
    "i = 0"
   ]
  },
  {
   "cell_type": "code",
   "execution_count": 79,
   "metadata": {
    "ExecuteTime": {
     "end_time": "2021-10-27T12:57:15.664710Z",
     "start_time": "2021-10-27T12:57:15.554004Z"
    },
    "_uuid": "e733b8e597ff3adc494f699880045a8d097034cd"
   },
   "outputs": [
    {
     "data": {
      "text/html": [
       "<div class=\"entities\" style=\"line-height: 2.5; direction: ltr\">\n",
       "<mark class=\"entity\" style=\"background: #18CFE6; padding: 0.45em 0.6em; margin: 0 0.25em; line-height: 1; border-radius: 0.35em;\">\n",
       "    project\n",
       "    <span style=\"font-size: 0.8em; font-weight: bold; line-height: 1; border-radius: 0.35em; text-transform: uppercase; vertical-align: middle; margin-left: 0.5rem\">NOUN</span>\n",
       "</mark>\n",
       " \n",
       "<mark class=\"entity\" style=\"background: #18CFE6; padding: 0.45em 0.6em; margin: 0 0.25em; line-height: 1; border-radius: 0.35em;\">\n",
       "    risk\n",
       "    <span style=\"font-size: 0.8em; font-weight: bold; line-height: 1; border-radius: 0.35em; text-transform: uppercase; vertical-align: middle; margin-left: 0.5rem\">NOUN</span>\n",
       "</mark>\n",
       " \n",
       "<mark class=\"entity\" style=\"background: #18CFE6; padding: 0.45em 0.6em; margin: 0 0.25em; line-height: 1; border-radius: 0.35em;\">\n",
       "    management\n",
       "    <span style=\"font-size: 0.8em; font-weight: bold; line-height: 1; border-radius: 0.35em; text-transform: uppercase; vertical-align: middle; margin-left: 0.5rem\">NOUN</span>\n",
       "</mark>\n",
       " includes the \n",
       "<mark class=\"entity\" style=\"background: #18CFE6; padding: 0.45em 0.6em; margin: 0 0.25em; line-height: 1; border-radius: 0.35em;\">\n",
       "    processes\n",
       "    <span style=\"font-size: 0.8em; font-weight: bold; line-height: 1; border-radius: 0.35em; text-transform: uppercase; vertical-align: middle; margin-left: 0.5rem\">NOUN</span>\n",
       "</mark>\n",
       " of conducting \n",
       "<mark class=\"entity\" style=\"background: #18CFE6; padding: 0.45em 0.6em; margin: 0 0.25em; line-height: 1; border-radius: 0.35em;\">\n",
       "    risk\n",
       "    <span style=\"font-size: 0.8em; font-weight: bold; line-height: 1; border-radius: 0.35em; text-transform: uppercase; vertical-align: middle; margin-left: 0.5rem\">NOUN</span>\n",
       "</mark>\n",
       " \n",
       "<mark class=\"entity\" style=\"background: #18CFE6; padding: 0.45em 0.6em; margin: 0 0.25em; line-height: 1; border-radius: 0.35em;\">\n",
       "    management\n",
       "    <span style=\"font-size: 0.8em; font-weight: bold; line-height: 1; border-radius: 0.35em; text-transform: uppercase; vertical-align: middle; margin-left: 0.5rem\">NOUN</span>\n",
       "</mark>\n",
       " \n",
       "<mark class=\"entity\" style=\"background: #18CFE6; padding: 0.45em 0.6em; margin: 0 0.25em; line-height: 1; border-radius: 0.35em;\">\n",
       "    planning\n",
       "    <span style=\"font-size: 0.8em; font-weight: bold; line-height: 1; border-radius: 0.35em; text-transform: uppercase; vertical-align: middle; margin-left: 0.5rem\">NOUN</span>\n",
       "</mark>\n",
       ", \n",
       "<mark class=\"entity\" style=\"background: #18CFE6; padding: 0.45em 0.6em; margin: 0 0.25em; line-height: 1; border-radius: 0.35em;\">\n",
       "    identification\n",
       "    <span style=\"font-size: 0.8em; font-weight: bold; line-height: 1; border-radius: 0.35em; text-transform: uppercase; vertical-align: middle; margin-left: 0.5rem\">NOUN</span>\n",
       "</mark>\n",
       ", \n",
       "<mark class=\"entity\" style=\"background: #18CFE6; padding: 0.45em 0.6em; margin: 0 0.25em; line-height: 1; border-radius: 0.35em;\">\n",
       "    analysis\n",
       "    <span style=\"font-size: 0.8em; font-weight: bold; line-height: 1; border-radius: 0.35em; text-transform: uppercase; vertical-align: middle; margin-left: 0.5rem\">NOUN</span>\n",
       "</mark>\n",
       ", \n",
       "<mark class=\"entity\" style=\"background: #18CFE6; padding: 0.45em 0.6em; margin: 0 0.25em; line-height: 1; border-radius: 0.35em;\">\n",
       "    response\n",
       "    <span style=\"font-size: 0.8em; font-weight: bold; line-height: 1; border-radius: 0.35em; text-transform: uppercase; vertical-align: middle; margin-left: 0.5rem\">NOUN</span>\n",
       "</mark>\n",
       " \n",
       "<mark class=\"entity\" style=\"background: #18CFE6; padding: 0.45em 0.6em; margin: 0 0.25em; line-height: 1; border-radius: 0.35em;\">\n",
       "    planning\n",
       "    <span style=\"font-size: 0.8em; font-weight: bold; line-height: 1; border-radius: 0.35em; text-transform: uppercase; vertical-align: middle; margin-left: 0.5rem\">NOUN</span>\n",
       "</mark>\n",
       ", and controlling \n",
       "<mark class=\"entity\" style=\"background: #18CFE6; padding: 0.45em 0.6em; margin: 0 0.25em; line-height: 1; border-radius: 0.35em;\">\n",
       "    risk\n",
       "    <span style=\"font-size: 0.8em; font-weight: bold; line-height: 1; border-radius: 0.35em; text-transform: uppercase; vertical-align: middle; margin-left: 0.5rem\">NOUN</span>\n",
       "</mark>\n",
       " on a \n",
       "<mark class=\"entity\" style=\"background: #18CFE6; padding: 0.45em 0.6em; margin: 0 0.25em; line-height: 1; border-radius: 0.35em;\">\n",
       "    project\n",
       "    <span style=\"font-size: 0.8em; font-weight: bold; line-height: 1; border-radius: 0.35em; text-transform: uppercase; vertical-align: middle; margin-left: 0.5rem\">NOUN</span>\n",
       "</mark>\n",
       ".</div>"
      ],
      "text/plain": [
       "<IPython.core.display.HTML object>"
      ]
     },
     "metadata": {},
     "output_type": "display_data"
    }
   ],
   "source": [
    "column = 'named_nouns'\n",
    "render_entities(i, df, options=options, column=column)\n",
    "i += 1"
   ]
  },
  {
   "cell_type": "markdown",
   "metadata": {
    "_uuid": "fde902af64d5eef1209ecf9ed8155c7a745653da"
   },
   "source": [
    "### Analysis"
   ]
  },
  {
   "cell_type": "markdown",
   "metadata": {
    "_uuid": "12550332d3735ba527b5e17b3e9f7d028eda8884"
   },
   "source": [
    "In this step, we're just combining the named entities extracted using spaCy's built-in model with nouns identified by the part-of-speech or POS tagger. We're dropping any numeric entities for now because they are harder to deal with and don't really represent new concepts. You'll notice (if you look closely enough), that we are also ignoring any hyphenated entities. In spaCy's tokenizer, it is possible to prevent hyphenated words form being split apart, but we'll reserve this, along with other types of advanced fine-tuning or low-level editing to if and when we move beyond the prototype phase. \n",
    "\n",
    "So far, in the past few steps, we've deal with one-word entities. However, it's also entirely permissible for combinations of two or more words to represent a single concept. This means that in order for our prototype to successfully capture the most relevant concepts, we'll need to pull n-length phrases from our academic abstracts in addition to single word entities. "
   ]
  },
  {
   "cell_type": "markdown",
   "metadata": {
    "_uuid": "a7ebc606df295f134ecab4ec918ee1ab718aa14d"
   },
   "source": [
    "## Step 5: Extract noun phrases"
   ]
  },
  {
   "cell_type": "markdown",
   "metadata": {
    "_uuid": "8605f28b4a320ce310e2771d30bbb56db5ea2928"
   },
   "source": [
    "### A Chunky Pipeline"
   ]
  },
  {
   "cell_type": "markdown",
   "metadata": {
    "_uuid": "045b8f28e2c0b082fd3b9cb3641546114223267c"
   },
   "source": [
    "Even mild exposure to computer science, or any of the various isoforms of engineering, will have introduced you to the idea of an abstraction, wherein low-level concepts are bundled into higher-order relationships. The <strong>noun phrase</strong> or <strong>chunk</strong> is an abstraction which consists of two or more words, and is the by-product of dependency parsing, POS tagging, and tokenization. spaCy's POS tagger is essentially a statistical model which learns to predict the tag (noun, verb, adjective, etc.) for a given word using examples of tagged-sentences. \n",
    "\n",
    "This supervised machine learning approach relies on tokens generated from splitting text into somewhat atomic units using a rule-based tokenizer (although there are some interesting [unsupervised models](https://github.com/google/sentencepiece) out there as well). Dependency parsing then uncovers relationships between these tagged tokens, allowing us to finally extract noun chunks or phrases of relevance. \n",
    "\n",
    "The full pipeline goes something like this: \n",
    "\n",
    "<strong>raw text</strong> &rarr; <strong>tokenization &rarr; </strong> <strong>POS tagging</strong> &rarr; <strong>dependency parsing</strong> &rarr; <strong>noun chunk extraction</strong>\n",
    "\n",
    "Theoretically, one could swap out noun chunk extraction for named entity recognition, but that's the part of the pipeline we are attempting to modify for our own purposes, because we want n-length entities. Barring our custom intrusion, however, this is exactly how spaCy's built-in model works! If you don't believe me (which you shouldn't, since you're a scientist), scroll up to the very top of this notebook to convince yourself. "
   ]
  },
  {
   "cell_type": "markdown",
   "metadata": {
    "_uuid": "4eb0fd4010e62623e9597b476be47c33296aa202"
   },
   "source": [
    "Neat huh? Need a visualization of tokenization, POS tagging, and dependency parsing to convince you of just how cool this is? \n",
    "\n",
    "Take a look:"
   ]
  },
  {
   "cell_type": "code",
   "execution_count": 47,
   "metadata": {
    "ExecuteTime": {
     "end_time": "2021-10-27T12:51:53.205803Z",
     "start_time": "2021-10-27T12:51:53.111846Z"
    },
    "_uuid": "2e27dd7c65cbc864ee8c994b7ead468da86776ae"
   },
   "outputs": [
    {
     "data": {
      "text/html": [
       "<span class=\"tex2jax_ignore\"><svg xmlns=\"http://www.w3.org/2000/svg\" xmlns:xlink=\"http://www.w3.org/1999/xlink\" xml:lang=\"en\" id=\"3a3986a56d5b4dff85e91e5695a4ff57-0\" class=\"displacy\" width=\"3200\" height=\"574.5\" direction=\"ltr\" style=\"max-width: none; height: 574.5px; color: #000000; background: #ffffff; font-family: Arial; direction: ltr\">\n",
       "<text class=\"displacy-token\" fill=\"currentColor\" text-anchor=\"middle\" y=\"484.5\">\n",
       "    <tspan class=\"displacy-word\" fill=\"currentColor\" x=\"50\">Dr.</tspan>\n",
       "    <tspan class=\"displacy-tag\" dy=\"2em\" fill=\"currentColor\" x=\"50\">PROPN</tspan>\n",
       "</text>\n",
       "\n",
       "<text class=\"displacy-token\" fill=\"currentColor\" text-anchor=\"middle\" y=\"484.5\">\n",
       "    <tspan class=\"displacy-word\" fill=\"currentColor\" x=\"225\">Abraham</tspan>\n",
       "    <tspan class=\"displacy-tag\" dy=\"2em\" fill=\"currentColor\" x=\"225\">PROPN</tspan>\n",
       "</text>\n",
       "\n",
       "<text class=\"displacy-token\" fill=\"currentColor\" text-anchor=\"middle\" y=\"484.5\">\n",
       "    <tspan class=\"displacy-word\" fill=\"currentColor\" x=\"400\">is</tspan>\n",
       "    <tspan class=\"displacy-tag\" dy=\"2em\" fill=\"currentColor\" x=\"400\">AUX</tspan>\n",
       "</text>\n",
       "\n",
       "<text class=\"displacy-token\" fill=\"currentColor\" text-anchor=\"middle\" y=\"484.5\">\n",
       "    <tspan class=\"displacy-word\" fill=\"currentColor\" x=\"575\">the</tspan>\n",
       "    <tspan class=\"displacy-tag\" dy=\"2em\" fill=\"currentColor\" x=\"575\">DET</tspan>\n",
       "</text>\n",
       "\n",
       "<text class=\"displacy-token\" fill=\"currentColor\" text-anchor=\"middle\" y=\"484.5\">\n",
       "    <tspan class=\"displacy-word\" fill=\"currentColor\" x=\"750\">primary</tspan>\n",
       "    <tspan class=\"displacy-tag\" dy=\"2em\" fill=\"currentColor\" x=\"750\">ADJ</tspan>\n",
       "</text>\n",
       "\n",
       "<text class=\"displacy-token\" fill=\"currentColor\" text-anchor=\"middle\" y=\"484.5\">\n",
       "    <tspan class=\"displacy-word\" fill=\"currentColor\" x=\"925\">author</tspan>\n",
       "    <tspan class=\"displacy-tag\" dy=\"2em\" fill=\"currentColor\" x=\"925\">NOUN</tspan>\n",
       "</text>\n",
       "\n",
       "<text class=\"displacy-token\" fill=\"currentColor\" text-anchor=\"middle\" y=\"484.5\">\n",
       "    <tspan class=\"displacy-word\" fill=\"currentColor\" x=\"1100\">of</tspan>\n",
       "    <tspan class=\"displacy-tag\" dy=\"2em\" fill=\"currentColor\" x=\"1100\">ADP</tspan>\n",
       "</text>\n",
       "\n",
       "<text class=\"displacy-token\" fill=\"currentColor\" text-anchor=\"middle\" y=\"484.5\">\n",
       "    <tspan class=\"displacy-word\" fill=\"currentColor\" x=\"1275\">this</tspan>\n",
       "    <tspan class=\"displacy-tag\" dy=\"2em\" fill=\"currentColor\" x=\"1275\">DET</tspan>\n",
       "</text>\n",
       "\n",
       "<text class=\"displacy-token\" fill=\"currentColor\" text-anchor=\"middle\" y=\"484.5\">\n",
       "    <tspan class=\"displacy-word\" fill=\"currentColor\" x=\"1450\">paper,</tspan>\n",
       "    <tspan class=\"displacy-tag\" dy=\"2em\" fill=\"currentColor\" x=\"1450\">NOUN</tspan>\n",
       "</text>\n",
       "\n",
       "<text class=\"displacy-token\" fill=\"currentColor\" text-anchor=\"middle\" y=\"484.5\">\n",
       "    <tspan class=\"displacy-word\" fill=\"currentColor\" x=\"1625\">and</tspan>\n",
       "    <tspan class=\"displacy-tag\" dy=\"2em\" fill=\"currentColor\" x=\"1625\">CCONJ</tspan>\n",
       "</text>\n",
       "\n",
       "<text class=\"displacy-token\" fill=\"currentColor\" text-anchor=\"middle\" y=\"484.5\">\n",
       "    <tspan class=\"displacy-word\" fill=\"currentColor\" x=\"1800\">a</tspan>\n",
       "    <tspan class=\"displacy-tag\" dy=\"2em\" fill=\"currentColor\" x=\"1800\">DET</tspan>\n",
       "</text>\n",
       "\n",
       "<text class=\"displacy-token\" fill=\"currentColor\" text-anchor=\"middle\" y=\"484.5\">\n",
       "    <tspan class=\"displacy-word\" fill=\"currentColor\" x=\"1975\">physician</tspan>\n",
       "    <tspan class=\"displacy-tag\" dy=\"2em\" fill=\"currentColor\" x=\"1975\">NOUN</tspan>\n",
       "</text>\n",
       "\n",
       "<text class=\"displacy-token\" fill=\"currentColor\" text-anchor=\"middle\" y=\"484.5\">\n",
       "    <tspan class=\"displacy-word\" fill=\"currentColor\" x=\"2150\">in</tspan>\n",
       "    <tspan class=\"displacy-tag\" dy=\"2em\" fill=\"currentColor\" x=\"2150\">ADP</tspan>\n",
       "</text>\n",
       "\n",
       "<text class=\"displacy-token\" fill=\"currentColor\" text-anchor=\"middle\" y=\"484.5\">\n",
       "    <tspan class=\"displacy-word\" fill=\"currentColor\" x=\"2325\">the</tspan>\n",
       "    <tspan class=\"displacy-tag\" dy=\"2em\" fill=\"currentColor\" x=\"2325\">DET</tspan>\n",
       "</text>\n",
       "\n",
       "<text class=\"displacy-token\" fill=\"currentColor\" text-anchor=\"middle\" y=\"484.5\">\n",
       "    <tspan class=\"displacy-word\" fill=\"currentColor\" x=\"2500\">specialty</tspan>\n",
       "    <tspan class=\"displacy-tag\" dy=\"2em\" fill=\"currentColor\" x=\"2500\">NOUN</tspan>\n",
       "</text>\n",
       "\n",
       "<text class=\"displacy-token\" fill=\"currentColor\" text-anchor=\"middle\" y=\"484.5\">\n",
       "    <tspan class=\"displacy-word\" fill=\"currentColor\" x=\"2675\">of</tspan>\n",
       "    <tspan class=\"displacy-tag\" dy=\"2em\" fill=\"currentColor\" x=\"2675\">ADP</tspan>\n",
       "</text>\n",
       "\n",
       "<text class=\"displacy-token\" fill=\"currentColor\" text-anchor=\"middle\" y=\"484.5\">\n",
       "    <tspan class=\"displacy-word\" fill=\"currentColor\" x=\"2850\">internal</tspan>\n",
       "    <tspan class=\"displacy-tag\" dy=\"2em\" fill=\"currentColor\" x=\"2850\">ADJ</tspan>\n",
       "</text>\n",
       "\n",
       "<text class=\"displacy-token\" fill=\"currentColor\" text-anchor=\"middle\" y=\"484.5\">\n",
       "    <tspan class=\"displacy-word\" fill=\"currentColor\" x=\"3025\">medicine.</tspan>\n",
       "    <tspan class=\"displacy-tag\" dy=\"2em\" fill=\"currentColor\" x=\"3025\">NOUN</tspan>\n",
       "</text>\n",
       "\n",
       "<g class=\"displacy-arrow\">\n",
       "    <path class=\"displacy-arc\" id=\"arrow-3a3986a56d5b4dff85e91e5695a4ff57-0-0\" stroke-width=\"2px\" d=\"M70,439.5 C70,352.0 205.0,352.0 205.0,439.5\" fill=\"none\" stroke=\"currentColor\"/>\n",
       "    <text dy=\"1.25em\" style=\"font-size: 0.8em; letter-spacing: 1px\">\n",
       "        <textPath xlink:href=\"#arrow-3a3986a56d5b4dff85e91e5695a4ff57-0-0\" class=\"displacy-label\" startOffset=\"50%\" side=\"left\" fill=\"currentColor\" text-anchor=\"middle\">compound</textPath>\n",
       "    </text>\n",
       "    <path class=\"displacy-arrowhead\" d=\"M70,441.5 L62,429.5 78,429.5\" fill=\"currentColor\"/>\n",
       "</g>\n",
       "\n",
       "<g class=\"displacy-arrow\">\n",
       "    <path class=\"displacy-arc\" id=\"arrow-3a3986a56d5b4dff85e91e5695a4ff57-0-1\" stroke-width=\"2px\" d=\"M245,439.5 C245,352.0 380.0,352.0 380.0,439.5\" fill=\"none\" stroke=\"currentColor\"/>\n",
       "    <text dy=\"1.25em\" style=\"font-size: 0.8em; letter-spacing: 1px\">\n",
       "        <textPath xlink:href=\"#arrow-3a3986a56d5b4dff85e91e5695a4ff57-0-1\" class=\"displacy-label\" startOffset=\"50%\" side=\"left\" fill=\"currentColor\" text-anchor=\"middle\">nsubj</textPath>\n",
       "    </text>\n",
       "    <path class=\"displacy-arrowhead\" d=\"M245,441.5 L237,429.5 253,429.5\" fill=\"currentColor\"/>\n",
       "</g>\n",
       "\n",
       "<g class=\"displacy-arrow\">\n",
       "    <path class=\"displacy-arc\" id=\"arrow-3a3986a56d5b4dff85e91e5695a4ff57-0-2\" stroke-width=\"2px\" d=\"M595,439.5 C595,264.5 910.0,264.5 910.0,439.5\" fill=\"none\" stroke=\"currentColor\"/>\n",
       "    <text dy=\"1.25em\" style=\"font-size: 0.8em; letter-spacing: 1px\">\n",
       "        <textPath xlink:href=\"#arrow-3a3986a56d5b4dff85e91e5695a4ff57-0-2\" class=\"displacy-label\" startOffset=\"50%\" side=\"left\" fill=\"currentColor\" text-anchor=\"middle\">det</textPath>\n",
       "    </text>\n",
       "    <path class=\"displacy-arrowhead\" d=\"M595,441.5 L587,429.5 603,429.5\" fill=\"currentColor\"/>\n",
       "</g>\n",
       "\n",
       "<g class=\"displacy-arrow\">\n",
       "    <path class=\"displacy-arc\" id=\"arrow-3a3986a56d5b4dff85e91e5695a4ff57-0-3\" stroke-width=\"2px\" d=\"M770,439.5 C770,352.0 905.0,352.0 905.0,439.5\" fill=\"none\" stroke=\"currentColor\"/>\n",
       "    <text dy=\"1.25em\" style=\"font-size: 0.8em; letter-spacing: 1px\">\n",
       "        <textPath xlink:href=\"#arrow-3a3986a56d5b4dff85e91e5695a4ff57-0-3\" class=\"displacy-label\" startOffset=\"50%\" side=\"left\" fill=\"currentColor\" text-anchor=\"middle\">amod</textPath>\n",
       "    </text>\n",
       "    <path class=\"displacy-arrowhead\" d=\"M770,441.5 L762,429.5 778,429.5\" fill=\"currentColor\"/>\n",
       "</g>\n",
       "\n",
       "<g class=\"displacy-arrow\">\n",
       "    <path class=\"displacy-arc\" id=\"arrow-3a3986a56d5b4dff85e91e5695a4ff57-0-4\" stroke-width=\"2px\" d=\"M420,439.5 C420,177.0 915.0,177.0 915.0,439.5\" fill=\"none\" stroke=\"currentColor\"/>\n",
       "    <text dy=\"1.25em\" style=\"font-size: 0.8em; letter-spacing: 1px\">\n",
       "        <textPath xlink:href=\"#arrow-3a3986a56d5b4dff85e91e5695a4ff57-0-4\" class=\"displacy-label\" startOffset=\"50%\" side=\"left\" fill=\"currentColor\" text-anchor=\"middle\">attr</textPath>\n",
       "    </text>\n",
       "    <path class=\"displacy-arrowhead\" d=\"M915.0,441.5 L923.0,429.5 907.0,429.5\" fill=\"currentColor\"/>\n",
       "</g>\n",
       "\n",
       "<g class=\"displacy-arrow\">\n",
       "    <path class=\"displacy-arc\" id=\"arrow-3a3986a56d5b4dff85e91e5695a4ff57-0-5\" stroke-width=\"2px\" d=\"M945,439.5 C945,352.0 1080.0,352.0 1080.0,439.5\" fill=\"none\" stroke=\"currentColor\"/>\n",
       "    <text dy=\"1.25em\" style=\"font-size: 0.8em; letter-spacing: 1px\">\n",
       "        <textPath xlink:href=\"#arrow-3a3986a56d5b4dff85e91e5695a4ff57-0-5\" class=\"displacy-label\" startOffset=\"50%\" side=\"left\" fill=\"currentColor\" text-anchor=\"middle\">prep</textPath>\n",
       "    </text>\n",
       "    <path class=\"displacy-arrowhead\" d=\"M1080.0,441.5 L1088.0,429.5 1072.0,429.5\" fill=\"currentColor\"/>\n",
       "</g>\n",
       "\n",
       "<g class=\"displacy-arrow\">\n",
       "    <path class=\"displacy-arc\" id=\"arrow-3a3986a56d5b4dff85e91e5695a4ff57-0-6\" stroke-width=\"2px\" d=\"M1295,439.5 C1295,352.0 1430.0,352.0 1430.0,439.5\" fill=\"none\" stroke=\"currentColor\"/>\n",
       "    <text dy=\"1.25em\" style=\"font-size: 0.8em; letter-spacing: 1px\">\n",
       "        <textPath xlink:href=\"#arrow-3a3986a56d5b4dff85e91e5695a4ff57-0-6\" class=\"displacy-label\" startOffset=\"50%\" side=\"left\" fill=\"currentColor\" text-anchor=\"middle\">det</textPath>\n",
       "    </text>\n",
       "    <path class=\"displacy-arrowhead\" d=\"M1295,441.5 L1287,429.5 1303,429.5\" fill=\"currentColor\"/>\n",
       "</g>\n",
       "\n",
       "<g class=\"displacy-arrow\">\n",
       "    <path class=\"displacy-arc\" id=\"arrow-3a3986a56d5b4dff85e91e5695a4ff57-0-7\" stroke-width=\"2px\" d=\"M1120,439.5 C1120,264.5 1435.0,264.5 1435.0,439.5\" fill=\"none\" stroke=\"currentColor\"/>\n",
       "    <text dy=\"1.25em\" style=\"font-size: 0.8em; letter-spacing: 1px\">\n",
       "        <textPath xlink:href=\"#arrow-3a3986a56d5b4dff85e91e5695a4ff57-0-7\" class=\"displacy-label\" startOffset=\"50%\" side=\"left\" fill=\"currentColor\" text-anchor=\"middle\">pobj</textPath>\n",
       "    </text>\n",
       "    <path class=\"displacy-arrowhead\" d=\"M1435.0,441.5 L1443.0,429.5 1427.0,429.5\" fill=\"currentColor\"/>\n",
       "</g>\n",
       "\n",
       "<g class=\"displacy-arrow\">\n",
       "    <path class=\"displacy-arc\" id=\"arrow-3a3986a56d5b4dff85e91e5695a4ff57-0-8\" stroke-width=\"2px\" d=\"M420,439.5 C420,89.5 1620.0,89.5 1620.0,439.5\" fill=\"none\" stroke=\"currentColor\"/>\n",
       "    <text dy=\"1.25em\" style=\"font-size: 0.8em; letter-spacing: 1px\">\n",
       "        <textPath xlink:href=\"#arrow-3a3986a56d5b4dff85e91e5695a4ff57-0-8\" class=\"displacy-label\" startOffset=\"50%\" side=\"left\" fill=\"currentColor\" text-anchor=\"middle\">cc</textPath>\n",
       "    </text>\n",
       "    <path class=\"displacy-arrowhead\" d=\"M1620.0,441.5 L1628.0,429.5 1612.0,429.5\" fill=\"currentColor\"/>\n",
       "</g>\n",
       "\n",
       "<g class=\"displacy-arrow\">\n",
       "    <path class=\"displacy-arc\" id=\"arrow-3a3986a56d5b4dff85e91e5695a4ff57-0-9\" stroke-width=\"2px\" d=\"M1820,439.5 C1820,352.0 1955.0,352.0 1955.0,439.5\" fill=\"none\" stroke=\"currentColor\"/>\n",
       "    <text dy=\"1.25em\" style=\"font-size: 0.8em; letter-spacing: 1px\">\n",
       "        <textPath xlink:href=\"#arrow-3a3986a56d5b4dff85e91e5695a4ff57-0-9\" class=\"displacy-label\" startOffset=\"50%\" side=\"left\" fill=\"currentColor\" text-anchor=\"middle\">det</textPath>\n",
       "    </text>\n",
       "    <path class=\"displacy-arrowhead\" d=\"M1820,441.5 L1812,429.5 1828,429.5\" fill=\"currentColor\"/>\n",
       "</g>\n",
       "\n",
       "<g class=\"displacy-arrow\">\n",
       "    <path class=\"displacy-arc\" id=\"arrow-3a3986a56d5b4dff85e91e5695a4ff57-0-10\" stroke-width=\"2px\" d=\"M420,439.5 C420,2.0 1975.0,2.0 1975.0,439.5\" fill=\"none\" stroke=\"currentColor\"/>\n",
       "    <text dy=\"1.25em\" style=\"font-size: 0.8em; letter-spacing: 1px\">\n",
       "        <textPath xlink:href=\"#arrow-3a3986a56d5b4dff85e91e5695a4ff57-0-10\" class=\"displacy-label\" startOffset=\"50%\" side=\"left\" fill=\"currentColor\" text-anchor=\"middle\">conj</textPath>\n",
       "    </text>\n",
       "    <path class=\"displacy-arrowhead\" d=\"M1975.0,441.5 L1983.0,429.5 1967.0,429.5\" fill=\"currentColor\"/>\n",
       "</g>\n",
       "\n",
       "<g class=\"displacy-arrow\">\n",
       "    <path class=\"displacy-arc\" id=\"arrow-3a3986a56d5b4dff85e91e5695a4ff57-0-11\" stroke-width=\"2px\" d=\"M1995,439.5 C1995,352.0 2130.0,352.0 2130.0,439.5\" fill=\"none\" stroke=\"currentColor\"/>\n",
       "    <text dy=\"1.25em\" style=\"font-size: 0.8em; letter-spacing: 1px\">\n",
       "        <textPath xlink:href=\"#arrow-3a3986a56d5b4dff85e91e5695a4ff57-0-11\" class=\"displacy-label\" startOffset=\"50%\" side=\"left\" fill=\"currentColor\" text-anchor=\"middle\">prep</textPath>\n",
       "    </text>\n",
       "    <path class=\"displacy-arrowhead\" d=\"M2130.0,441.5 L2138.0,429.5 2122.0,429.5\" fill=\"currentColor\"/>\n",
       "</g>\n",
       "\n",
       "<g class=\"displacy-arrow\">\n",
       "    <path class=\"displacy-arc\" id=\"arrow-3a3986a56d5b4dff85e91e5695a4ff57-0-12\" stroke-width=\"2px\" d=\"M2345,439.5 C2345,352.0 2480.0,352.0 2480.0,439.5\" fill=\"none\" stroke=\"currentColor\"/>\n",
       "    <text dy=\"1.25em\" style=\"font-size: 0.8em; letter-spacing: 1px\">\n",
       "        <textPath xlink:href=\"#arrow-3a3986a56d5b4dff85e91e5695a4ff57-0-12\" class=\"displacy-label\" startOffset=\"50%\" side=\"left\" fill=\"currentColor\" text-anchor=\"middle\">det</textPath>\n",
       "    </text>\n",
       "    <path class=\"displacy-arrowhead\" d=\"M2345,441.5 L2337,429.5 2353,429.5\" fill=\"currentColor\"/>\n",
       "</g>\n",
       "\n",
       "<g class=\"displacy-arrow\">\n",
       "    <path class=\"displacy-arc\" id=\"arrow-3a3986a56d5b4dff85e91e5695a4ff57-0-13\" stroke-width=\"2px\" d=\"M2170,439.5 C2170,264.5 2485.0,264.5 2485.0,439.5\" fill=\"none\" stroke=\"currentColor\"/>\n",
       "    <text dy=\"1.25em\" style=\"font-size: 0.8em; letter-spacing: 1px\">\n",
       "        <textPath xlink:href=\"#arrow-3a3986a56d5b4dff85e91e5695a4ff57-0-13\" class=\"displacy-label\" startOffset=\"50%\" side=\"left\" fill=\"currentColor\" text-anchor=\"middle\">pobj</textPath>\n",
       "    </text>\n",
       "    <path class=\"displacy-arrowhead\" d=\"M2485.0,441.5 L2493.0,429.5 2477.0,429.5\" fill=\"currentColor\"/>\n",
       "</g>\n",
       "\n",
       "<g class=\"displacy-arrow\">\n",
       "    <path class=\"displacy-arc\" id=\"arrow-3a3986a56d5b4dff85e91e5695a4ff57-0-14\" stroke-width=\"2px\" d=\"M2520,439.5 C2520,352.0 2655.0,352.0 2655.0,439.5\" fill=\"none\" stroke=\"currentColor\"/>\n",
       "    <text dy=\"1.25em\" style=\"font-size: 0.8em; letter-spacing: 1px\">\n",
       "        <textPath xlink:href=\"#arrow-3a3986a56d5b4dff85e91e5695a4ff57-0-14\" class=\"displacy-label\" startOffset=\"50%\" side=\"left\" fill=\"currentColor\" text-anchor=\"middle\">prep</textPath>\n",
       "    </text>\n",
       "    <path class=\"displacy-arrowhead\" d=\"M2655.0,441.5 L2663.0,429.5 2647.0,429.5\" fill=\"currentColor\"/>\n",
       "</g>\n",
       "\n",
       "<g class=\"displacy-arrow\">\n",
       "    <path class=\"displacy-arc\" id=\"arrow-3a3986a56d5b4dff85e91e5695a4ff57-0-15\" stroke-width=\"2px\" d=\"M2870,439.5 C2870,352.0 3005.0,352.0 3005.0,439.5\" fill=\"none\" stroke=\"currentColor\"/>\n",
       "    <text dy=\"1.25em\" style=\"font-size: 0.8em; letter-spacing: 1px\">\n",
       "        <textPath xlink:href=\"#arrow-3a3986a56d5b4dff85e91e5695a4ff57-0-15\" class=\"displacy-label\" startOffset=\"50%\" side=\"left\" fill=\"currentColor\" text-anchor=\"middle\">amod</textPath>\n",
       "    </text>\n",
       "    <path class=\"displacy-arrowhead\" d=\"M2870,441.5 L2862,429.5 2878,429.5\" fill=\"currentColor\"/>\n",
       "</g>\n",
       "\n",
       "<g class=\"displacy-arrow\">\n",
       "    <path class=\"displacy-arc\" id=\"arrow-3a3986a56d5b4dff85e91e5695a4ff57-0-16\" stroke-width=\"2px\" d=\"M2695,439.5 C2695,264.5 3010.0,264.5 3010.0,439.5\" fill=\"none\" stroke=\"currentColor\"/>\n",
       "    <text dy=\"1.25em\" style=\"font-size: 0.8em; letter-spacing: 1px\">\n",
       "        <textPath xlink:href=\"#arrow-3a3986a56d5b4dff85e91e5695a4ff57-0-16\" class=\"displacy-label\" startOffset=\"50%\" side=\"left\" fill=\"currentColor\" text-anchor=\"middle\">pobj</textPath>\n",
       "    </text>\n",
       "    <path class=\"displacy-arrowhead\" d=\"M3010.0,441.5 L3018.0,429.5 3002.0,429.5\" fill=\"currentColor\"/>\n",
       "</g>\n",
       "</svg></span>"
      ],
      "text/plain": [
       "<IPython.core.display.HTML object>"
      ]
     },
     "metadata": {},
     "output_type": "display_data"
    }
   ],
   "source": [
    "text = \"Dr. Abraham is the primary author of this paper, and a physician in the specialty of internal medicine.\"\n",
    "\n",
    "spacy.displacy.render(nlp(text), jupyter=True) # generating raw-markup using spacy's built-in renderer"
   ]
  },
  {
   "cell_type": "markdown",
   "metadata": {
    "_uuid": "410e719f0abda142dde0befe1294dd0039deb559"
   },
   "source": [
    "Just gorgeous. Following our pipeline, let's use this dependency tree to tease out the noun phrases in our dummy sentence. We'll have to create a few functions to do the heavy lifting first (we can reuse these guys for our full dataset later), and then use a simple procedure to visualize our example."
   ]
  },
  {
   "cell_type": "code",
   "execution_count": 48,
   "metadata": {
    "ExecuteTime": {
     "end_time": "2021-10-27T12:51:56.159849Z",
     "start_time": "2021-10-27T12:51:56.080034Z"
    },
    "_uuid": "c36099204ed88655efc4f3034ee7b04e8f5dbbd6"
   },
   "outputs": [],
   "source": [
    "def extract_noun_phrases(text):\n",
    "\n",
    "    return [(chunk.text, chunk.start_char, chunk.end_char, chunk.label_) for chunk in nlp(text).noun_chunks]\n",
    "\n",
    "def add_noun_phrases(df):\n",
    "\n",
    "    df['noun_phrases'] = df['text'].apply(extract_noun_phrases)"
   ]
  },
  {
   "cell_type": "code",
   "execution_count": 49,
   "metadata": {
    "ExecuteTime": {
     "end_time": "2021-10-27T12:51:56.810251Z",
     "start_time": "2021-10-27T12:51:56.719496Z"
    },
    "_uuid": "431e0cf1fddc2c4d0a229670003f647f6faf2994"
   },
   "outputs": [],
   "source": [
    "def visualize_noun_phrases(text):\n",
    "\n",
    "    df = pd.DataFrame([text]) \n",
    "    df.columns = ['text']\n",
    "    add_noun_phrases(df)\n",
    "    column = 'noun_phrases'\n",
    "    render_entities(0, df, options=options, column=column)"
   ]
  },
  {
   "cell_type": "code",
   "execution_count": 50,
   "metadata": {
    "ExecuteTime": {
     "end_time": "2021-10-27T12:51:57.446622Z",
     "start_time": "2021-10-27T12:51:57.341902Z"
    },
    "_uuid": "6fd63bba0c20e9751d23fa321effab25cf7436dd"
   },
   "outputs": [
    {
     "data": {
      "text/html": [
       "<div class=\"entities\" style=\"line-height: 2.5; direction: ltr\">\n",
       "<mark class=\"entity\" style=\"background: #1EECA6; padding: 0.45em 0.6em; margin: 0 0.25em; line-height: 1; border-radius: 0.35em;\">\n",
       "    Dr. Abraham\n",
       "    <span style=\"font-size: 0.8em; font-weight: bold; line-height: 1; border-radius: 0.35em; text-transform: uppercase; vertical-align: middle; margin-left: 0.5rem\">NP</span>\n",
       "</mark>\n",
       " is \n",
       "<mark class=\"entity\" style=\"background: #1EECA6; padding: 0.45em 0.6em; margin: 0 0.25em; line-height: 1; border-radius: 0.35em;\">\n",
       "    the primary author\n",
       "    <span style=\"font-size: 0.8em; font-weight: bold; line-height: 1; border-radius: 0.35em; text-transform: uppercase; vertical-align: middle; margin-left: 0.5rem\">NP</span>\n",
       "</mark>\n",
       " of \n",
       "<mark class=\"entity\" style=\"background: #1EECA6; padding: 0.45em 0.6em; margin: 0 0.25em; line-height: 1; border-radius: 0.35em;\">\n",
       "    this paper\n",
       "    <span style=\"font-size: 0.8em; font-weight: bold; line-height: 1; border-radius: 0.35em; text-transform: uppercase; vertical-align: middle; margin-left: 0.5rem\">NP</span>\n",
       "</mark>\n",
       ", and \n",
       "<mark class=\"entity\" style=\"background: #1EECA6; padding: 0.45em 0.6em; margin: 0 0.25em; line-height: 1; border-radius: 0.35em;\">\n",
       "    a physician\n",
       "    <span style=\"font-size: 0.8em; font-weight: bold; line-height: 1; border-radius: 0.35em; text-transform: uppercase; vertical-align: middle; margin-left: 0.5rem\">NP</span>\n",
       "</mark>\n",
       " in \n",
       "<mark class=\"entity\" style=\"background: #1EECA6; padding: 0.45em 0.6em; margin: 0 0.25em; line-height: 1; border-radius: 0.35em;\">\n",
       "    the specialty\n",
       "    <span style=\"font-size: 0.8em; font-weight: bold; line-height: 1; border-radius: 0.35em; text-transform: uppercase; vertical-align: middle; margin-left: 0.5rem\">NP</span>\n",
       "</mark>\n",
       " of \n",
       "<mark class=\"entity\" style=\"background: #1EECA6; padding: 0.45em 0.6em; margin: 0 0.25em; line-height: 1; border-radius: 0.35em;\">\n",
       "    internal medicine\n",
       "    <span style=\"font-size: 0.8em; font-weight: bold; line-height: 1; border-radius: 0.35em; text-transform: uppercase; vertical-align: middle; margin-left: 0.5rem\">NP</span>\n",
       "</mark>\n",
       ".</div>"
      ],
      "text/plain": [
       "<IPython.core.display.HTML object>"
      ]
     },
     "metadata": {},
     "output_type": "display_data"
    }
   ],
   "source": [
    "visualize_noun_phrases(text)"
   ]
  },
  {
   "cell_type": "markdown",
   "metadata": {
    "_uuid": "c6b3f64d40a666235114eeb7e58a74ce9ec5a015"
   },
   "source": [
    "Compare this to what we'd originally set out to accomplish:\n",
    "\n",
    "> **[Dr. Abraham]** is the **[primary author]** of this **[paper]**, and a **[physician]** in the **[specialty]** of **[internal medicine]**."
   ]
  },
  {
   "cell_type": "markdown",
   "metadata": {
    "_uuid": "939dfb30914a65096b95a6f64daea3b7088931e3"
   },
   "source": [
    "I don't know about you, but everytime I see this work, I'm blown away by both the intricate complexity and beautiful simplicity of this process. Ignoring the prepositions, with one single move, we've done a damn-near perfect job of extracting the main ideas from this sentence. How amazing is that?! \n",
    "\n",
    "Hats off to spaCy, and the hordes of data scientists, machine learning engineers, and linguists that made this possible."
   ]
  },
  {
   "cell_type": "markdown",
   "metadata": {
    "_uuid": "d03c77f7a9fd1cf95c3c948faffce59ade91968c"
   },
   "source": [
    "### Back to School"
   ]
  },
  {
   "cell_type": "markdown",
   "metadata": {
    "_uuid": "7f2e844ee8dedfd1896c182176ea8a0592c6794e"
   },
   "source": [
    "Now, if we just use this approach and add together the single-word entities we extracted from our academic abstracts earlier, we should be getting close to a pretty awesome set of concepts! Let's capture some noun phrases and see what we get. "
   ]
  },
  {
   "cell_type": "code",
   "execution_count": 80,
   "metadata": {
    "ExecuteTime": {
     "end_time": "2021-10-27T12:57:26.139027Z",
     "start_time": "2021-10-27T12:57:24.922266Z"
    },
    "_uuid": "0e2b927a6da422103b8867c976a9270010b7a78b"
   },
   "outputs": [
    {
     "data": {
      "text/html": [
       "<div>\n",
       "<style scoped>\n",
       "    .dataframe tbody tr th:only-of-type {\n",
       "        vertical-align: middle;\n",
       "    }\n",
       "\n",
       "    .dataframe tbody tr th {\n",
       "        vertical-align: top;\n",
       "    }\n",
       "\n",
       "    .dataframe thead th {\n",
       "        text-align: right;\n",
       "    }\n",
       "</style>\n",
       "<table border=\"1\" class=\"dataframe\">\n",
       "  <thead>\n",
       "    <tr style=\"text-align: right;\">\n",
       "      <th></th>\n",
       "      <th>text</th>\n",
       "      <th>named_ents</th>\n",
       "      <th>nouns</th>\n",
       "      <th>named_nouns</th>\n",
       "      <th>noun_phrases</th>\n",
       "    </tr>\n",
       "  </thead>\n",
       "  <tbody>\n",
       "    <tr>\n",
       "      <th>0</th>\n",
       "      <td>project risk management includes the processes...</td>\n",
       "      <td>[]</td>\n",
       "      <td>[(project, 0, 7, NOUN), (risk, 8, 12, NOUN), (...</td>\n",
       "      <td>[(project, 0, 7, NOUN), (risk, 8, 12, NOUN), (...</td>\n",
       "      <td>[(project risk management, 0, 23, NP), (the pr...</td>\n",
       "    </tr>\n",
       "    <tr>\n",
       "      <th>1</th>\n",
       "      <td>the objectives of project risk management are ...</td>\n",
       "      <td>[]</td>\n",
       "      <td>[(objectives, 4, 14, NOUN), (project, 18, 25, ...</td>\n",
       "      <td>[(objectives, 4, 14, NOUN), (project, 18, 25, ...</td>\n",
       "      <td>[(the objectives, 0, 14, NP), (project risk ma...</td>\n",
       "    </tr>\n",
       "    <tr>\n",
       "      <th>2</th>\n",
       "      <td>plan risk management is the process of definin...</td>\n",
       "      <td>[]</td>\n",
       "      <td>[(plan, 0, 4, NOUN), (risk, 5, 9, NOUN), (mana...</td>\n",
       "      <td>[(plan, 0, 4, NOUN), (risk, 5, 9, NOUN), (mana...</td>\n",
       "      <td>[(plan risk management, 0, 20, NP), (the proce...</td>\n",
       "    </tr>\n",
       "    <tr>\n",
       "      <th>3</th>\n",
       "      <td>identify risks is the process of determining w...</td>\n",
       "      <td>[]</td>\n",
       "      <td>[(risks, 9, 14, PROPN), (process, 22, 29, NOUN...</td>\n",
       "      <td>[(risks, 9, 14, PROPN), (process, 22, 29, NOUN...</td>\n",
       "      <td>[(risks, 9, 14, NP), (the process, 18, 29, NP)...</td>\n",
       "    </tr>\n",
       "    <tr>\n",
       "      <th>4</th>\n",
       "      <td>perform qualitative risk analysis is the proce...</td>\n",
       "      <td>[]</td>\n",
       "      <td>[(risk, 20, 24, NOUN), (analysis, 25, 33, NOUN...</td>\n",
       "      <td>[(risk, 20, 24, NOUN), (analysis, 25, 33, NOUN...</td>\n",
       "      <td>[(qualitative risk analysis, 8, 33, NP), (the ...</td>\n",
       "    </tr>\n",
       "    <tr>\n",
       "      <th>...</th>\n",
       "      <td>...</td>\n",
       "      <td>...</td>\n",
       "      <td>...</td>\n",
       "      <td>...</td>\n",
       "      <td>...</td>\n",
       "    </tr>\n",
       "    <tr>\n",
       "      <th>98</th>\n",
       "      <td>the specific combinations of probability and i...</td>\n",
       "      <td>[]</td>\n",
       "      <td>[(combinations, 13, 25, NOUN), (probability, 2...</td>\n",
       "      <td>[(combinations, 13, 25, NOUN), (probability, 2...</td>\n",
       "      <td>[(the specific combinations, 0, 25, NP), (prob...</td>\n",
       "    </tr>\n",
       "    <tr>\n",
       "      <th>99</th>\n",
       "      <td>revised stakeholders’ tolerances stakeholders’...</td>\n",
       "      <td>[]</td>\n",
       "      <td>[(stakeholders, 8, 20, NOUN), (tolerances, 22,...</td>\n",
       "      <td>[(stakeholders, 8, 20, NOUN), (tolerances, 22,...</td>\n",
       "      <td>[(revised stakeholders’ tolerances stakeholder...</td>\n",
       "    </tr>\n",
       "    <tr>\n",
       "      <th>100</th>\n",
       "      <td>reporting formats reporting formats define how...</td>\n",
       "      <td>[]</td>\n",
       "      <td>[(formats, 10, 17, NOUN), (reporting, 18, 27, ...</td>\n",
       "      <td>[(formats, 10, 17, NOUN), (reporting, 18, 27, ...</td>\n",
       "      <td>[(formats reporting formats, 10, 35, NP), (the...</td>\n",
       "    </tr>\n",
       "    <tr>\n",
       "      <th>101</th>\n",
       "      <td>formats describes the content and format of th...</td>\n",
       "      <td>[]</td>\n",
       "      <td>[(formats, 0, 7, NOUN), (content, 22, 29, NOUN...</td>\n",
       "      <td>[(formats, 0, 7, NOUN), (content, 22, 29, NOUN...</td>\n",
       "      <td>[(formats, 0, 7, NP), (the content, 18, 29, NP...</td>\n",
       "    </tr>\n",
       "    <tr>\n",
       "      <th>102</th>\n",
       "      <td>tracking tracking documents how risk activitie...</td>\n",
       "      <td>[]</td>\n",
       "      <td>[(tracking, 9, 17, NOUN), (documents, 18, 27, ...</td>\n",
       "      <td>[(tracking, 9, 17, NOUN), (documents, 18, 27, ...</td>\n",
       "      <td>[(tracking documents, 9, 27, NP), (risk activi...</td>\n",
       "    </tr>\n",
       "  </tbody>\n",
       "</table>\n",
       "<p>103 rows × 5 columns</p>\n",
       "</div>"
      ],
      "text/plain": [
       "                                                  text named_ents  \\\n",
       "0    project risk management includes the processes...         []   \n",
       "1    the objectives of project risk management are ...         []   \n",
       "2    plan risk management is the process of definin...         []   \n",
       "3    identify risks is the process of determining w...         []   \n",
       "4    perform qualitative risk analysis is the proce...         []   \n",
       "..                                                 ...        ...   \n",
       "98   the specific combinations of probability and i...         []   \n",
       "99   revised stakeholders’ tolerances stakeholders’...         []   \n",
       "100  reporting formats reporting formats define how...         []   \n",
       "101  formats describes the content and format of th...         []   \n",
       "102  tracking tracking documents how risk activitie...         []   \n",
       "\n",
       "                                                 nouns  \\\n",
       "0    [(project, 0, 7, NOUN), (risk, 8, 12, NOUN), (...   \n",
       "1    [(objectives, 4, 14, NOUN), (project, 18, 25, ...   \n",
       "2    [(plan, 0, 4, NOUN), (risk, 5, 9, NOUN), (mana...   \n",
       "3    [(risks, 9, 14, PROPN), (process, 22, 29, NOUN...   \n",
       "4    [(risk, 20, 24, NOUN), (analysis, 25, 33, NOUN...   \n",
       "..                                                 ...   \n",
       "98   [(combinations, 13, 25, NOUN), (probability, 2...   \n",
       "99   [(stakeholders, 8, 20, NOUN), (tolerances, 22,...   \n",
       "100  [(formats, 10, 17, NOUN), (reporting, 18, 27, ...   \n",
       "101  [(formats, 0, 7, NOUN), (content, 22, 29, NOUN...   \n",
       "102  [(tracking, 9, 17, NOUN), (documents, 18, 27, ...   \n",
       "\n",
       "                                           named_nouns  \\\n",
       "0    [(project, 0, 7, NOUN), (risk, 8, 12, NOUN), (...   \n",
       "1    [(objectives, 4, 14, NOUN), (project, 18, 25, ...   \n",
       "2    [(plan, 0, 4, NOUN), (risk, 5, 9, NOUN), (mana...   \n",
       "3    [(risks, 9, 14, PROPN), (process, 22, 29, NOUN...   \n",
       "4    [(risk, 20, 24, NOUN), (analysis, 25, 33, NOUN...   \n",
       "..                                                 ...   \n",
       "98   [(combinations, 13, 25, NOUN), (probability, 2...   \n",
       "99   [(stakeholders, 8, 20, NOUN), (tolerances, 22,...   \n",
       "100  [(formats, 10, 17, NOUN), (reporting, 18, 27, ...   \n",
       "101  [(formats, 0, 7, NOUN), (content, 22, 29, NOUN...   \n",
       "102  [(tracking, 9, 17, NOUN), (documents, 18, 27, ...   \n",
       "\n",
       "                                          noun_phrases  \n",
       "0    [(project risk management, 0, 23, NP), (the pr...  \n",
       "1    [(the objectives, 0, 14, NP), (project risk ma...  \n",
       "2    [(plan risk management, 0, 20, NP), (the proce...  \n",
       "3    [(risks, 9, 14, NP), (the process, 18, 29, NP)...  \n",
       "4    [(qualitative risk analysis, 8, 33, NP), (the ...  \n",
       "..                                                 ...  \n",
       "98   [(the specific combinations, 0, 25, NP), (prob...  \n",
       "99   [(revised stakeholders’ tolerances stakeholder...  \n",
       "100  [(formats reporting formats, 10, 35, NP), (the...  \n",
       "101  [(formats, 0, 7, NP), (the content, 18, 29, NP...  \n",
       "102  [(tracking documents, 9, 27, NP), (risk activi...  \n",
       "\n",
       "[103 rows x 5 columns]"
      ]
     },
     "metadata": {},
     "output_type": "display_data"
    }
   ],
   "source": [
    "add_noun_phrases(df)\n",
    "display(df)"
   ]
  },
  {
   "cell_type": "code",
   "execution_count": 81,
   "metadata": {
    "ExecuteTime": {
     "end_time": "2021-10-27T12:57:28.853050Z",
     "start_time": "2021-10-27T12:57:28.756344Z"
    }
   },
   "outputs": [],
   "source": [
    "i = 0"
   ]
  },
  {
   "cell_type": "code",
   "execution_count": 82,
   "metadata": {
    "ExecuteTime": {
     "end_time": "2021-10-27T12:57:29.398654Z",
     "start_time": "2021-10-27T12:57:29.283961Z"
    },
    "_uuid": "1be2e5a187762311d5d043663bdaa07ec4879ecd"
   },
   "outputs": [
    {
     "data": {
      "text/html": [
       "<div class=\"entities\" style=\"line-height: 2.5; direction: ltr\">\n",
       "<mark class=\"entity\" style=\"background: #1EECA6; padding: 0.45em 0.6em; margin: 0 0.25em; line-height: 1; border-radius: 0.35em;\">\n",
       "    project risk management\n",
       "    <span style=\"font-size: 0.8em; font-weight: bold; line-height: 1; border-radius: 0.35em; text-transform: uppercase; vertical-align: middle; margin-left: 0.5rem\">NP</span>\n",
       "</mark>\n",
       " includes \n",
       "<mark class=\"entity\" style=\"background: #1EECA6; padding: 0.45em 0.6em; margin: 0 0.25em; line-height: 1; border-radius: 0.35em;\">\n",
       "    the processes\n",
       "    <span style=\"font-size: 0.8em; font-weight: bold; line-height: 1; border-radius: 0.35em; text-transform: uppercase; vertical-align: middle; margin-left: 0.5rem\">NP</span>\n",
       "</mark>\n",
       " of conducting \n",
       "<mark class=\"entity\" style=\"background: #1EECA6; padding: 0.45em 0.6em; margin: 0 0.25em; line-height: 1; border-radius: 0.35em;\">\n",
       "    risk management planning\n",
       "    <span style=\"font-size: 0.8em; font-weight: bold; line-height: 1; border-radius: 0.35em; text-transform: uppercase; vertical-align: middle; margin-left: 0.5rem\">NP</span>\n",
       "</mark>\n",
       ", \n",
       "<mark class=\"entity\" style=\"background: #1EECA6; padding: 0.45em 0.6em; margin: 0 0.25em; line-height: 1; border-radius: 0.35em;\">\n",
       "    identification\n",
       "    <span style=\"font-size: 0.8em; font-weight: bold; line-height: 1; border-radius: 0.35em; text-transform: uppercase; vertical-align: middle; margin-left: 0.5rem\">NP</span>\n",
       "</mark>\n",
       ", \n",
       "<mark class=\"entity\" style=\"background: #1EECA6; padding: 0.45em 0.6em; margin: 0 0.25em; line-height: 1; border-radius: 0.35em;\">\n",
       "    analysis\n",
       "    <span style=\"font-size: 0.8em; font-weight: bold; line-height: 1; border-radius: 0.35em; text-transform: uppercase; vertical-align: middle; margin-left: 0.5rem\">NP</span>\n",
       "</mark>\n",
       ", \n",
       "<mark class=\"entity\" style=\"background: #1EECA6; padding: 0.45em 0.6em; margin: 0 0.25em; line-height: 1; border-radius: 0.35em;\">\n",
       "    response planning\n",
       "    <span style=\"font-size: 0.8em; font-weight: bold; line-height: 1; border-radius: 0.35em; text-transform: uppercase; vertical-align: middle; margin-left: 0.5rem\">NP</span>\n",
       "</mark>\n",
       ", and controlling \n",
       "<mark class=\"entity\" style=\"background: #1EECA6; padding: 0.45em 0.6em; margin: 0 0.25em; line-height: 1; border-radius: 0.35em;\">\n",
       "    risk\n",
       "    <span style=\"font-size: 0.8em; font-weight: bold; line-height: 1; border-radius: 0.35em; text-transform: uppercase; vertical-align: middle; margin-left: 0.5rem\">NP</span>\n",
       "</mark>\n",
       " on \n",
       "<mark class=\"entity\" style=\"background: #1EECA6; padding: 0.45em 0.6em; margin: 0 0.25em; line-height: 1; border-radius: 0.35em;\">\n",
       "    a project\n",
       "    <span style=\"font-size: 0.8em; font-weight: bold; line-height: 1; border-radius: 0.35em; text-transform: uppercase; vertical-align: middle; margin-left: 0.5rem\">NP</span>\n",
       "</mark>\n",
       ".</div>"
      ],
      "text/plain": [
       "<IPython.core.display.HTML object>"
      ]
     },
     "metadata": {},
     "output_type": "display_data"
    }
   ],
   "source": [
    "column = 'noun_phrases'\n",
    "render_entities(i, df, options=options, column=column)\n",
    "i += 1"
   ]
  },
  {
   "cell_type": "markdown",
   "metadata": {
    "_uuid": "f3e0a83d9377da92057389c92cfd3ec4bbf907d1"
   },
   "source": [
    "### Analysis"
   ]
  },
  {
   "cell_type": "markdown",
   "metadata": {
    "_uuid": "315ef5cc13e45e896bf33a499fdb2fc3ad5374e4"
   },
   "source": [
    "Hmm... should've seen this coming. While we've now done a great job of extracting noun phrases from our abstracts, we're running into the same problem as before. Our funnel is too wide, and we're pulling uninteresting bigrams like \"the simplicity\", \"the rest\", and \"this mechanism\". These chunks are indeed noun phrases, but not domain-specific concepts. Not to mention, we still have to deal with those pesky prepositions (try saying that five times fast). \n",
    "\n",
    "Let's see if we can narrow our search and just get the most important phrases. "
   ]
  },
  {
   "cell_type": "code",
   "execution_count": 99,
   "metadata": {
    "ExecuteTime": {
     "end_time": "2021-10-27T13:14:27.974121Z",
     "start_time": "2021-10-27T13:14:27.886188Z"
    }
   },
   "outputs": [],
   "source": [
    "text = 'project risk management includes the processes of conducting risk management planning, identification, analysis, response planning, and controlling risk on a project.'"
   ]
  },
  {
   "cell_type": "code",
   "execution_count": 112,
   "metadata": {
    "ExecuteTime": {
     "end_time": "2021-10-27T13:18:30.471590Z",
     "start_time": "2021-10-27T13:18:30.382826Z"
    }
   },
   "outputs": [
    {
     "name": "stdout",
     "output_type": "stream",
     "text": [
      "project risk management includes the processes of conducting risk management planning, identification, analysis, response planning, and controlling risk on a project.\n",
      "\n"
     ]
    },
    {
     "data": {
      "text/plain": [
       "['project', 'risk', 'risk', 'management', 'response']"
      ]
     },
     "execution_count": 112,
     "metadata": {},
     "output_type": "execute_result"
    }
   ],
   "source": [
    "compound = []\n",
    "print(text+'\\n')\n",
    "for idx, tok in enumerate(nlp(text)):\n",
    "        if tok.dep_ == 'compound':\n",
    "            # capture hyphenated compounds\n",
    "            children = ''.join([c.text for c in tok.children])\n",
    "            compound.append(tok.text)\n",
    "compound"
   ]
  },
  {
   "cell_type": "markdown",
   "metadata": {
    "_uuid": "1eeda438ec342fabcbbcbbcea674f905d14fb0b1"
   },
   "source": [
    "## Step 6: Extract compound noun phrases"
   ]
  },
  {
   "cell_type": "code",
   "execution_count": 83,
   "metadata": {
    "ExecuteTime": {
     "end_time": "2021-10-27T12:57:37.828565Z",
     "start_time": "2021-10-27T12:57:37.719856Z"
    },
    "_uuid": "e06d341d1f448bf9dce6270c8c632a9b4949fe30"
   },
   "outputs": [],
   "source": [
    "def extract_compounds(text):\n",
    "\n",
    "    comp_idx = 0\n",
    "    compound = []\n",
    "    compound_nps = []\n",
    "    tok_idx = 0\n",
    "    for idx, tok in enumerate(nlp(text)):\n",
    "        if tok.dep_ == 'compound':\n",
    "\n",
    "            # capture hyphenated compounds\n",
    "            children = ''.join([c.text for c in tok.children])\n",
    "            if '-' in children:\n",
    "                compound.append(''.join([children, tok.text]))\n",
    "            else:\n",
    "                compound.append(tok.text)\n",
    "\n",
    "            # remember starting index of first child in compound or word\n",
    "            try:\n",
    "                tok_idx = [c for c in tok.children][0].idx\n",
    "            except IndexError:\n",
    "                if len(compound) == 1:\n",
    "                    tok_idx = tok.idx\n",
    "            comp_idx = tok.i\n",
    "\n",
    "        # append the last word in a compound phrase\n",
    "        if tok.i - comp_idx == 1:\n",
    "            compound.append(tok.text)\n",
    "            if len(compound) > 1: \n",
    "                compound = ' '.join(compound)\n",
    "                compound_nps.append((compound, tok_idx, tok_idx+len(compound), 'COMPOUND'))\n",
    "\n",
    "            # reset parameters\n",
    "            tok_idx = 0 \n",
    "            compound = []\n",
    "\n",
    "    return compound_nps\n",
    "\n",
    "def add_compounds(df):\n",
    "\n",
    "    df['compounds'] = df['text'].apply(extract_compounds)"
   ]
  },
  {
   "cell_type": "code",
   "execution_count": 98,
   "metadata": {
    "ExecuteTime": {
     "end_time": "2021-10-27T13:14:10.450174Z",
     "start_time": "2021-10-27T13:14:10.370426Z"
    }
   },
   "outputs": [
    {
     "data": {
      "text/plain": [
       "'project risk management includes the processes of conducting risk management planning, identification, analysis, response planning, and controlling risk on a project.'"
      ]
     },
     "execution_count": 98,
     "metadata": {},
     "output_type": "execute_result"
    }
   ],
   "source": [
    "df['text'][0]"
   ]
  },
  {
   "cell_type": "code",
   "execution_count": 84,
   "metadata": {
    "ExecuteTime": {
     "end_time": "2021-10-27T12:57:39.874206Z",
     "start_time": "2021-10-27T12:57:38.719776Z"
    },
    "_uuid": "5c50f099fc1cecb6214549f661cb264b7fa60c3e"
   },
   "outputs": [
    {
     "data": {
      "text/html": [
       "<div>\n",
       "<style scoped>\n",
       "    .dataframe tbody tr th:only-of-type {\n",
       "        vertical-align: middle;\n",
       "    }\n",
       "\n",
       "    .dataframe tbody tr th {\n",
       "        vertical-align: top;\n",
       "    }\n",
       "\n",
       "    .dataframe thead th {\n",
       "        text-align: right;\n",
       "    }\n",
       "</style>\n",
       "<table border=\"1\" class=\"dataframe\">\n",
       "  <thead>\n",
       "    <tr style=\"text-align: right;\">\n",
       "      <th></th>\n",
       "      <th>text</th>\n",
       "      <th>named_ents</th>\n",
       "      <th>nouns</th>\n",
       "      <th>named_nouns</th>\n",
       "      <th>noun_phrases</th>\n",
       "      <th>compounds</th>\n",
       "    </tr>\n",
       "  </thead>\n",
       "  <tbody>\n",
       "    <tr>\n",
       "      <th>0</th>\n",
       "      <td>project risk management includes the processes...</td>\n",
       "      <td>[]</td>\n",
       "      <td>[(project, 0, 7, NOUN), (risk, 8, 12, NOUN), (...</td>\n",
       "      <td>[(project, 0, 7, NOUN), (risk, 8, 12, NOUN), (...</td>\n",
       "      <td>[(project risk management, 0, 23, NP), (the pr...</td>\n",
       "      <td>[(project risk management, 0, 23, COMPOUND), (...</td>\n",
       "    </tr>\n",
       "    <tr>\n",
       "      <th>1</th>\n",
       "      <td>the objectives of project risk management are ...</td>\n",
       "      <td>[]</td>\n",
       "      <td>[(objectives, 4, 14, NOUN), (project, 18, 25, ...</td>\n",
       "      <td>[(objectives, 4, 14, NOUN), (project, 18, 25, ...</td>\n",
       "      <td>[(the objectives, 0, 14, NP), (project risk ma...</td>\n",
       "      <td>[(project risk management, 18, 41, COMPOUND)]</td>\n",
       "    </tr>\n",
       "    <tr>\n",
       "      <th>2</th>\n",
       "      <td>plan risk management is the process of definin...</td>\n",
       "      <td>[]</td>\n",
       "      <td>[(plan, 0, 4, NOUN), (risk, 5, 9, NOUN), (mana...</td>\n",
       "      <td>[(plan, 0, 4, NOUN), (risk, 5, 9, NOUN), (mana...</td>\n",
       "      <td>[(plan risk management, 0, 20, NP), (the proce...</td>\n",
       "      <td>[(plan risk management, 0, 20, COMPOUND), (ris...</td>\n",
       "    </tr>\n",
       "    <tr>\n",
       "      <th>3</th>\n",
       "      <td>identify risks is the process of determining w...</td>\n",
       "      <td>[]</td>\n",
       "      <td>[(risks, 9, 14, PROPN), (process, 22, 29, NOUN...</td>\n",
       "      <td>[(risks, 9, 14, PROPN), (process, 22, 29, NOUN...</td>\n",
       "      <td>[(risks, 9, 14, NP), (the process, 18, 29, NP)...</td>\n",
       "      <td>[]</td>\n",
       "    </tr>\n",
       "    <tr>\n",
       "      <th>4</th>\n",
       "      <td>perform qualitative risk analysis is the proce...</td>\n",
       "      <td>[]</td>\n",
       "      <td>[(risk, 20, 24, NOUN), (analysis, 25, 33, NOUN...</td>\n",
       "      <td>[(risk, 20, 24, NOUN), (analysis, 25, 33, NOUN...</td>\n",
       "      <td>[(qualitative risk analysis, 8, 33, NP), (the ...</td>\n",
       "      <td>[(risk analysis, 20, 33, COMPOUND)]</td>\n",
       "    </tr>\n",
       "    <tr>\n",
       "      <th>...</th>\n",
       "      <td>...</td>\n",
       "      <td>...</td>\n",
       "      <td>...</td>\n",
       "      <td>...</td>\n",
       "      <td>...</td>\n",
       "      <td>...</td>\n",
       "    </tr>\n",
       "    <tr>\n",
       "      <th>98</th>\n",
       "      <td>the specific combinations of probability and i...</td>\n",
       "      <td>[]</td>\n",
       "      <td>[(combinations, 13, 25, NOUN), (probability, 2...</td>\n",
       "      <td>[(combinations, 13, 25, NOUN), (probability, 2...</td>\n",
       "      <td>[(the specific combinations, 0, 25, NP), (prob...</td>\n",
       "      <td>[]</td>\n",
       "    </tr>\n",
       "    <tr>\n",
       "      <th>99</th>\n",
       "      <td>revised stakeholders’ tolerances stakeholders’...</td>\n",
       "      <td>[]</td>\n",
       "      <td>[(stakeholders, 8, 20, NOUN), (tolerances, 22,...</td>\n",
       "      <td>[(stakeholders, 8, 20, NOUN), (tolerances, 22,...</td>\n",
       "      <td>[(revised stakeholders’ tolerances stakeholder...</td>\n",
       "      <td>[(tolerances stakeholders, 22, 45, COMPOUND), ...</td>\n",
       "    </tr>\n",
       "    <tr>\n",
       "      <th>100</th>\n",
       "      <td>reporting formats reporting formats define how...</td>\n",
       "      <td>[]</td>\n",
       "      <td>[(formats, 10, 17, NOUN), (reporting, 18, 27, ...</td>\n",
       "      <td>[(formats, 10, 17, NOUN), (reporting, 18, 27, ...</td>\n",
       "      <td>[(formats reporting formats, 10, 35, NP), (the...</td>\n",
       "      <td>[(formats reporting formats, 10, 35, COMPOUND)...</td>\n",
       "    </tr>\n",
       "    <tr>\n",
       "      <th>101</th>\n",
       "      <td>formats describes the content and format of th...</td>\n",
       "      <td>[]</td>\n",
       "      <td>[(formats, 0, 7, NOUN), (content, 22, 29, NOUN...</td>\n",
       "      <td>[(formats, 0, 7, NOUN), (content, 22, 29, NOUN...</td>\n",
       "      <td>[(formats, 0, 7, NP), (the content, 18, 29, NP...</td>\n",
       "      <td>[(risk reports, 83, 95, COMPOUND)]</td>\n",
       "    </tr>\n",
       "    <tr>\n",
       "      <th>102</th>\n",
       "      <td>tracking tracking documents how risk activitie...</td>\n",
       "      <td>[]</td>\n",
       "      <td>[(tracking, 9, 17, NOUN), (documents, 18, 27, ...</td>\n",
       "      <td>[(tracking, 9, 17, NOUN), (documents, 18, 27, ...</td>\n",
       "      <td>[(tracking documents, 9, 27, NP), (risk activi...</td>\n",
       "      <td>[(tracking documents, 9, 27, COMPOUND), (risk ...</td>\n",
       "    </tr>\n",
       "  </tbody>\n",
       "</table>\n",
       "<p>103 rows × 6 columns</p>\n",
       "</div>"
      ],
      "text/plain": [
       "                                                  text named_ents  \\\n",
       "0    project risk management includes the processes...         []   \n",
       "1    the objectives of project risk management are ...         []   \n",
       "2    plan risk management is the process of definin...         []   \n",
       "3    identify risks is the process of determining w...         []   \n",
       "4    perform qualitative risk analysis is the proce...         []   \n",
       "..                                                 ...        ...   \n",
       "98   the specific combinations of probability and i...         []   \n",
       "99   revised stakeholders’ tolerances stakeholders’...         []   \n",
       "100  reporting formats reporting formats define how...         []   \n",
       "101  formats describes the content and format of th...         []   \n",
       "102  tracking tracking documents how risk activitie...         []   \n",
       "\n",
       "                                                 nouns  \\\n",
       "0    [(project, 0, 7, NOUN), (risk, 8, 12, NOUN), (...   \n",
       "1    [(objectives, 4, 14, NOUN), (project, 18, 25, ...   \n",
       "2    [(plan, 0, 4, NOUN), (risk, 5, 9, NOUN), (mana...   \n",
       "3    [(risks, 9, 14, PROPN), (process, 22, 29, NOUN...   \n",
       "4    [(risk, 20, 24, NOUN), (analysis, 25, 33, NOUN...   \n",
       "..                                                 ...   \n",
       "98   [(combinations, 13, 25, NOUN), (probability, 2...   \n",
       "99   [(stakeholders, 8, 20, NOUN), (tolerances, 22,...   \n",
       "100  [(formats, 10, 17, NOUN), (reporting, 18, 27, ...   \n",
       "101  [(formats, 0, 7, NOUN), (content, 22, 29, NOUN...   \n",
       "102  [(tracking, 9, 17, NOUN), (documents, 18, 27, ...   \n",
       "\n",
       "                                           named_nouns  \\\n",
       "0    [(project, 0, 7, NOUN), (risk, 8, 12, NOUN), (...   \n",
       "1    [(objectives, 4, 14, NOUN), (project, 18, 25, ...   \n",
       "2    [(plan, 0, 4, NOUN), (risk, 5, 9, NOUN), (mana...   \n",
       "3    [(risks, 9, 14, PROPN), (process, 22, 29, NOUN...   \n",
       "4    [(risk, 20, 24, NOUN), (analysis, 25, 33, NOUN...   \n",
       "..                                                 ...   \n",
       "98   [(combinations, 13, 25, NOUN), (probability, 2...   \n",
       "99   [(stakeholders, 8, 20, NOUN), (tolerances, 22,...   \n",
       "100  [(formats, 10, 17, NOUN), (reporting, 18, 27, ...   \n",
       "101  [(formats, 0, 7, NOUN), (content, 22, 29, NOUN...   \n",
       "102  [(tracking, 9, 17, NOUN), (documents, 18, 27, ...   \n",
       "\n",
       "                                          noun_phrases  \\\n",
       "0    [(project risk management, 0, 23, NP), (the pr...   \n",
       "1    [(the objectives, 0, 14, NP), (project risk ma...   \n",
       "2    [(plan risk management, 0, 20, NP), (the proce...   \n",
       "3    [(risks, 9, 14, NP), (the process, 18, 29, NP)...   \n",
       "4    [(qualitative risk analysis, 8, 33, NP), (the ...   \n",
       "..                                                 ...   \n",
       "98   [(the specific combinations, 0, 25, NP), (prob...   \n",
       "99   [(revised stakeholders’ tolerances stakeholder...   \n",
       "100  [(formats reporting formats, 10, 35, NP), (the...   \n",
       "101  [(formats, 0, 7, NP), (the content, 18, 29, NP...   \n",
       "102  [(tracking documents, 9, 27, NP), (risk activi...   \n",
       "\n",
       "                                             compounds  \n",
       "0    [(project risk management, 0, 23, COMPOUND), (...  \n",
       "1        [(project risk management, 18, 41, COMPOUND)]  \n",
       "2    [(plan risk management, 0, 20, COMPOUND), (ris...  \n",
       "3                                                   []  \n",
       "4                  [(risk analysis, 20, 33, COMPOUND)]  \n",
       "..                                                 ...  \n",
       "98                                                  []  \n",
       "99   [(tolerances stakeholders, 22, 45, COMPOUND), ...  \n",
       "100  [(formats reporting formats, 10, 35, COMPOUND)...  \n",
       "101                 [(risk reports, 83, 95, COMPOUND)]  \n",
       "102  [(tracking documents, 9, 27, COMPOUND), (risk ...  \n",
       "\n",
       "[103 rows x 6 columns]"
      ]
     },
     "metadata": {},
     "output_type": "display_data"
    }
   ],
   "source": [
    "add_compounds(df)\n",
    "display(df)"
   ]
  },
  {
   "cell_type": "code",
   "execution_count": 89,
   "metadata": {
    "ExecuteTime": {
     "end_time": "2021-10-27T13:02:25.867074Z",
     "start_time": "2021-10-27T13:02:25.789282Z"
    }
   },
   "outputs": [],
   "source": [
    "i = 0"
   ]
  },
  {
   "cell_type": "code",
   "execution_count": 90,
   "metadata": {
    "ExecuteTime": {
     "end_time": "2021-10-27T13:02:26.517619Z",
     "start_time": "2021-10-27T13:02:26.432815Z"
    },
    "_uuid": "784d53d8ca143a8ac3a7f26cac3d92b2d545b0ea"
   },
   "outputs": [
    {
     "data": {
      "text/html": [
       "<div class=\"entities\" style=\"line-height: 2.5; direction: ltr\">\n",
       "<mark class=\"entity\" style=\"background: #FE6BFE; padding: 0.45em 0.6em; margin: 0 0.25em; line-height: 1; border-radius: 0.35em;\">\n",
       "    project risk management\n",
       "    <span style=\"font-size: 0.8em; font-weight: bold; line-height: 1; border-radius: 0.35em; text-transform: uppercase; vertical-align: middle; margin-left: 0.5rem\">COMPOUND</span>\n",
       "</mark>\n",
       " includes the processes of conducting \n",
       "<mark class=\"entity\" style=\"background: #FE6BFE; padding: 0.45em 0.6em; margin: 0 0.25em; line-height: 1; border-radius: 0.35em;\">\n",
       "    risk management planning\n",
       "    <span style=\"font-size: 0.8em; font-weight: bold; line-height: 1; border-radius: 0.35em; text-transform: uppercase; vertical-align: middle; margin-left: 0.5rem\">COMPOUND</span>\n",
       "</mark>\n",
       ", identification, analysis, \n",
       "<mark class=\"entity\" style=\"background: #FE6BFE; padding: 0.45em 0.6em; margin: 0 0.25em; line-height: 1; border-radius: 0.35em;\">\n",
       "    response planning\n",
       "    <span style=\"font-size: 0.8em; font-weight: bold; line-height: 1; border-radius: 0.35em; text-transform: uppercase; vertical-align: middle; margin-left: 0.5rem\">COMPOUND</span>\n",
       "</mark>\n",
       ", and controlling risk on a project.</div>"
      ],
      "text/plain": [
       "<IPython.core.display.HTML object>"
      ]
     },
     "metadata": {},
     "output_type": "display_data"
    }
   ],
   "source": [
    "column = 'compounds'\n",
    "render_entities(i, df, options=options, column=column)\n",
    "i += 1"
   ]
  },
  {
   "cell_type": "markdown",
   "metadata": {
    "_uuid": "809af3f5e15f1addc0b5ae95d1f12d2fa6d73203"
   },
   "source": [
    "### Analysis"
   ]
  },
  {
   "cell_type": "markdown",
   "metadata": {
    "_uuid": "4c042dc2739f033fd90b65c3fc25627a780b729a"
   },
   "source": [
    "That's starting to look pretty good! By targetting words in the dependency tree that were tagged as belonging to a compound, we were able to drive the number of noun phrases down rather nicely. Next, we'll add these phrases to the list of entities we extracted from each abstract, to create a set which will include unigrams, bigrams, and more. Oh my!"
   ]
  },
  {
   "cell_type": "markdown",
   "metadata": {
    "_uuid": "64c40f17645945d4a614e207a89f339569235465"
   },
   "source": [
    "## Step 7: Combine entities and compound noun phrases"
   ]
  },
  {
   "cell_type": "code",
   "execution_count": 134,
   "metadata": {
    "ExecuteTime": {
     "end_time": "2021-10-27T12:15:41.506937Z",
     "start_time": "2021-10-27T12:15:41.425156Z"
    },
    "_uuid": "b68c3708d25971b86830568161f6acb5a558344b"
   },
   "outputs": [],
   "source": [
    "def extract_comp_nouns(row_series, cols=[]):\n",
    "\n",
    "    return {noun_tuple[0] for col in cols for noun_tuple in row_series[col]}\n",
    "\n",
    "def add_comp_nouns(df, cols=[]):\n",
    "\n",
    "    df['comp_nouns'] = df.apply(extract_comp_nouns, axis=1, cols=cols)"
   ]
  },
  {
   "cell_type": "code",
   "execution_count": 135,
   "metadata": {
    "ExecuteTime": {
     "end_time": "2021-10-27T12:15:42.952398Z",
     "start_time": "2021-10-27T12:15:42.709051Z"
    },
    "_uuid": "4c25f305d5b4a6e6c9877c1fe0ed0b3465f4fa72"
   },
   "outputs": [
    {
     "data": {
      "text/html": [
       "<div>\n",
       "<style scoped>\n",
       "    .dataframe tbody tr th:only-of-type {\n",
       "        vertical-align: middle;\n",
       "    }\n",
       "\n",
       "    .dataframe tbody tr th {\n",
       "        vertical-align: top;\n",
       "    }\n",
       "\n",
       "    .dataframe thead th {\n",
       "        text-align: right;\n",
       "    }\n",
       "</style>\n",
       "<table border=\"1\" class=\"dataframe\">\n",
       "  <thead>\n",
       "    <tr style=\"text-align: right;\">\n",
       "      <th></th>\n",
       "      <th>text</th>\n",
       "      <th>named_ents</th>\n",
       "      <th>nouns</th>\n",
       "      <th>named_nouns</th>\n",
       "      <th>noun_phrases</th>\n",
       "      <th>compounds</th>\n",
       "      <th>comp_nouns</th>\n",
       "    </tr>\n",
       "  </thead>\n",
       "  <tbody>\n",
       "    <tr>\n",
       "      <th>0</th>\n",
       "      <td>PROJECT RISK MANAGEMENT Project Risk Managemen...</td>\n",
       "      <td>[]</td>\n",
       "      <td>[(PROJECT, 0, 7, NOUN), (RISK, 8, 12, NOUN), (...</td>\n",
       "      <td>[(PROJECT, 0, 7, NOUN), (RISK, 8, 12, NOUN), (...</td>\n",
       "      <td>[(PROJECT RISK MANAGEMENT Project Risk Managem...</td>\n",
       "      <td>[(PROJECT RISK MANAGEMENT Project Risk Managem...</td>\n",
       "      <td>{response, Project, Risk, Management, analysis...</td>\n",
       "    </tr>\n",
       "    <tr>\n",
       "      <th>1</th>\n",
       "      <td>The objectives of project risk management are ...</td>\n",
       "      <td>[]</td>\n",
       "      <td>[(objectives, 4, 14, NOUN), (project, 18, 25, ...</td>\n",
       "      <td>[(objectives, 4, 14, NOUN), (project, 18, 25, ...</td>\n",
       "      <td>[(The objectives, 0, 14, NP), (project risk ma...</td>\n",
       "      <td>[(project risk management, 18, 41, COMPOUND)]</td>\n",
       "      <td>{project risk management, management, impact, ...</td>\n",
       "    </tr>\n",
       "    <tr>\n",
       "      <th>2</th>\n",
       "      <td>Plan Risk Management is the process of definin...</td>\n",
       "      <td>[(Plan Risk Management, 0, 20, ORG)]</td>\n",
       "      <td>[(Plan, 0, 4, PROPN), (Risk, 5, 9, PROPN), (Ma...</td>\n",
       "      <td>[(Plan Risk Management, 0, 20, ORG), (Risk, 5,...</td>\n",
       "      <td>[(Plan Risk Management, 0, 20, NP), (the proce...</td>\n",
       "      <td>[(Plan Risk Management, 0, 20, COMPOUND), (ris...</td>\n",
       "      <td>{risk management activities, Risk, Management,...</td>\n",
       "    </tr>\n",
       "    <tr>\n",
       "      <th>3</th>\n",
       "      <td>Identify Risks is the process of determining w...</td>\n",
       "      <td>[]</td>\n",
       "      <td>[(Identify, 0, 8, PROPN), (Risks, 9, 14, PROPN...</td>\n",
       "      <td>[(Identify, 0, 8, PROPN), (Risks, 9, 14, PROPN...</td>\n",
       "      <td>[(Risks, 9, 14, NP), (the process, 18, 29, NP)...</td>\n",
       "      <td>[]</td>\n",
       "      <td>{characteristics, Identify, risks, process, Ri...</td>\n",
       "    </tr>\n",
       "    <tr>\n",
       "      <th>4</th>\n",
       "      <td>Perform Qualitative Risk Analysis is the proce...</td>\n",
       "      <td>[(Perform Qualitative Risk Analysis, 0, 33, ORG)]</td>\n",
       "      <td>[(Risk, 20, 24, PROPN), (Analysis, 25, 33, PRO...</td>\n",
       "      <td>[(Risk, 20, 24, PROPN), (Analysis, 25, 33, PRO...</td>\n",
       "      <td>[(Qualitative Risk Analysis, 8, 33, NP), (the ...</td>\n",
       "      <td>[(Qualitative Risk Analysis, 8, 33, COMPOUND)]</td>\n",
       "      <td>{Qualitative Risk Analysis, probability, Risk,...</td>\n",
       "    </tr>\n",
       "    <tr>\n",
       "      <th>...</th>\n",
       "      <td>...</td>\n",
       "      <td>...</td>\n",
       "      <td>...</td>\n",
       "      <td>...</td>\n",
       "      <td>...</td>\n",
       "      <td>...</td>\n",
       "      <td>...</td>\n",
       "    </tr>\n",
       "    <tr>\n",
       "      <th>98</th>\n",
       "      <td>The specific combinations of probability and i...</td>\n",
       "      <td>[]</td>\n",
       "      <td>[(combinations, 13, 25, NOUN), (probability, 2...</td>\n",
       "      <td>[(combinations, 13, 25, NOUN), (probability, 2...</td>\n",
       "      <td>[(The specific combinations, 0, 25, NP), (prob...</td>\n",
       "      <td>[]</td>\n",
       "      <td>{probability, impact, risk, combinations, impo...</td>\n",
       "    </tr>\n",
       "    <tr>\n",
       "      <th>99</th>\n",
       "      <td>Revised stakeholders’ tolerances Stakeholders’...</td>\n",
       "      <td>[(Stakeholders, 33, 45, PRODUCT), (the Plan Ri...</td>\n",
       "      <td>[(stakeholders, 8, 20, NOUN), (Stakeholders, 3...</td>\n",
       "      <td>[(stakeholders, 8, 20, NOUN), (Stakeholders, 3...</td>\n",
       "      <td>[(Revised stakeholders’ tolerances Stakeholder...</td>\n",
       "      <td>[(tolerances Stakeholders, 22, 45, COMPOUND), ...</td>\n",
       "      <td>{stakeholders, Risk, Management, Plan Risk Man...</td>\n",
       "    </tr>\n",
       "    <tr>\n",
       "      <th>100</th>\n",
       "      <td>Reporting formats Reporting formats define how...</td>\n",
       "      <td>[]</td>\n",
       "      <td>[(formats, 10, 17, NOUN), (Reporting, 18, 27, ...</td>\n",
       "      <td>[(formats, 10, 17, NOUN), (Reporting, 18, 27, ...</td>\n",
       "      <td>[(formats, 10, 17, NP), (Reporting formats, 18...</td>\n",
       "      <td>[(Reporting formats, 18, 35, COMPOUND), (risk ...</td>\n",
       "      <td>{Reporting formats, management, formats, risk,...</td>\n",
       "    </tr>\n",
       "    <tr>\n",
       "      <th>101</th>\n",
       "      <td>formats describes the content and format of th...</td>\n",
       "      <td>[]</td>\n",
       "      <td>[(formats, 0, 7, NOUN), (content, 22, 29, NOUN...</td>\n",
       "      <td>[(formats, 0, 7, NOUN), (content, 22, 29, NOUN...</td>\n",
       "      <td>[(formats, 0, 7, NP), (the content, 18, 29, NP...</td>\n",
       "      <td>[(risk reports, 83, 95, COMPOUND)]</td>\n",
       "      <td>{risk reports, formats, risk, format, reports,...</td>\n",
       "    </tr>\n",
       "    <tr>\n",
       "      <th>102</th>\n",
       "      <td>Tracking Tracking documents how risk activitie...</td>\n",
       "      <td>[]</td>\n",
       "      <td>[(Tracking, 0, 8, PROPN), (Tracking, 9, 17, PR...</td>\n",
       "      <td>[(Tracking, 0, 8, PROPN), (Tracking, 9, 17, PR...</td>\n",
       "      <td>[(Tracking Tracking documents, 0, 27, NP), (ri...</td>\n",
       "      <td>[(Tracking Tracking documents, 0, 27, COMPOUND...</td>\n",
       "      <td>{management, documents, risk activities, risk,...</td>\n",
       "    </tr>\n",
       "  </tbody>\n",
       "</table>\n",
       "<p>103 rows × 7 columns</p>\n",
       "</div>"
      ],
      "text/plain": [
       "                                                  text  \\\n",
       "0    PROJECT RISK MANAGEMENT Project Risk Managemen...   \n",
       "1    The objectives of project risk management are ...   \n",
       "2    Plan Risk Management is the process of definin...   \n",
       "3    Identify Risks is the process of determining w...   \n",
       "4    Perform Qualitative Risk Analysis is the proce...   \n",
       "..                                                 ...   \n",
       "98   The specific combinations of probability and i...   \n",
       "99   Revised stakeholders’ tolerances Stakeholders’...   \n",
       "100  Reporting formats Reporting formats define how...   \n",
       "101  formats describes the content and format of th...   \n",
       "102  Tracking Tracking documents how risk activitie...   \n",
       "\n",
       "                                            named_ents  \\\n",
       "0                                                   []   \n",
       "1                                                   []   \n",
       "2                 [(Plan Risk Management, 0, 20, ORG)]   \n",
       "3                                                   []   \n",
       "4    [(Perform Qualitative Risk Analysis, 0, 33, ORG)]   \n",
       "..                                                 ...   \n",
       "98                                                  []   \n",
       "99   [(Stakeholders, 33, 45, PRODUCT), (the Plan Ri...   \n",
       "100                                                 []   \n",
       "101                                                 []   \n",
       "102                                                 []   \n",
       "\n",
       "                                                 nouns  \\\n",
       "0    [(PROJECT, 0, 7, NOUN), (RISK, 8, 12, NOUN), (...   \n",
       "1    [(objectives, 4, 14, NOUN), (project, 18, 25, ...   \n",
       "2    [(Plan, 0, 4, PROPN), (Risk, 5, 9, PROPN), (Ma...   \n",
       "3    [(Identify, 0, 8, PROPN), (Risks, 9, 14, PROPN...   \n",
       "4    [(Risk, 20, 24, PROPN), (Analysis, 25, 33, PRO...   \n",
       "..                                                 ...   \n",
       "98   [(combinations, 13, 25, NOUN), (probability, 2...   \n",
       "99   [(stakeholders, 8, 20, NOUN), (Stakeholders, 3...   \n",
       "100  [(formats, 10, 17, NOUN), (Reporting, 18, 27, ...   \n",
       "101  [(formats, 0, 7, NOUN), (content, 22, 29, NOUN...   \n",
       "102  [(Tracking, 0, 8, PROPN), (Tracking, 9, 17, PR...   \n",
       "\n",
       "                                           named_nouns  \\\n",
       "0    [(PROJECT, 0, 7, NOUN), (RISK, 8, 12, NOUN), (...   \n",
       "1    [(objectives, 4, 14, NOUN), (project, 18, 25, ...   \n",
       "2    [(Plan Risk Management, 0, 20, ORG), (Risk, 5,...   \n",
       "3    [(Identify, 0, 8, PROPN), (Risks, 9, 14, PROPN...   \n",
       "4    [(Risk, 20, 24, PROPN), (Analysis, 25, 33, PRO...   \n",
       "..                                                 ...   \n",
       "98   [(combinations, 13, 25, NOUN), (probability, 2...   \n",
       "99   [(stakeholders, 8, 20, NOUN), (Stakeholders, 3...   \n",
       "100  [(formats, 10, 17, NOUN), (Reporting, 18, 27, ...   \n",
       "101  [(formats, 0, 7, NOUN), (content, 22, 29, NOUN...   \n",
       "102  [(Tracking, 0, 8, PROPN), (Tracking, 9, 17, PR...   \n",
       "\n",
       "                                          noun_phrases  \\\n",
       "0    [(PROJECT RISK MANAGEMENT Project Risk Managem...   \n",
       "1    [(The objectives, 0, 14, NP), (project risk ma...   \n",
       "2    [(Plan Risk Management, 0, 20, NP), (the proce...   \n",
       "3    [(Risks, 9, 14, NP), (the process, 18, 29, NP)...   \n",
       "4    [(Qualitative Risk Analysis, 8, 33, NP), (the ...   \n",
       "..                                                 ...   \n",
       "98   [(The specific combinations, 0, 25, NP), (prob...   \n",
       "99   [(Revised stakeholders’ tolerances Stakeholder...   \n",
       "100  [(formats, 10, 17, NP), (Reporting formats, 18...   \n",
       "101  [(formats, 0, 7, NP), (the content, 18, 29, NP...   \n",
       "102  [(Tracking Tracking documents, 0, 27, NP), (ri...   \n",
       "\n",
       "                                             compounds  \\\n",
       "0    [(PROJECT RISK MANAGEMENT Project Risk Managem...   \n",
       "1        [(project risk management, 18, 41, COMPOUND)]   \n",
       "2    [(Plan Risk Management, 0, 20, COMPOUND), (ris...   \n",
       "3                                                   []   \n",
       "4       [(Qualitative Risk Analysis, 8, 33, COMPOUND)]   \n",
       "..                                                 ...   \n",
       "98                                                  []   \n",
       "99   [(tolerances Stakeholders, 22, 45, COMPOUND), ...   \n",
       "100  [(Reporting formats, 18, 35, COMPOUND), (risk ...   \n",
       "101                 [(risk reports, 83, 95, COMPOUND)]   \n",
       "102  [(Tracking Tracking documents, 0, 27, COMPOUND...   \n",
       "\n",
       "                                            comp_nouns  \n",
       "0    {response, Project, Risk, Management, analysis...  \n",
       "1    {project risk management, management, impact, ...  \n",
       "2    {risk management activities, Risk, Management,...  \n",
       "3    {characteristics, Identify, risks, process, Ri...  \n",
       "4    {Qualitative Risk Analysis, probability, Risk,...  \n",
       "..                                                 ...  \n",
       "98   {probability, impact, risk, combinations, impo...  \n",
       "99   {stakeholders, Risk, Management, Plan Risk Man...  \n",
       "100  {Reporting formats, management, formats, risk,...  \n",
       "101  {risk reports, formats, risk, format, reports,...  \n",
       "102  {management, documents, risk activities, risk,...  \n",
       "\n",
       "[103 rows x 7 columns]"
      ]
     },
     "metadata": {},
     "output_type": "display_data"
    }
   ],
   "source": [
    "cols = ['nouns', 'compounds']\n",
    "add_comp_nouns(df, cols=cols)\n",
    "display(df)"
   ]
  },
  {
   "cell_type": "code",
   "execution_count": 136,
   "metadata": {
    "ExecuteTime": {
     "end_time": "2021-10-27T12:15:47.155740Z",
     "start_time": "2021-10-27T12:15:47.060993Z"
    },
    "_uuid": "ff1feaf122d7b8438440eb66121e46e9fd5efa6c"
   },
   "outputs": [
    {
     "data": {
      "text/html": [
       "<div class=\"entities\" style=\"line-height: 2.5; direction: ltr\">\n",
       "<mark class=\"entity\" style=\"background: #18CFE6; padding: 0.45em 0.6em; margin: 0 0.25em; line-height: 1; border-radius: 0.35em;\">\n",
       "    PROJECT\n",
       "    <span style=\"font-size: 0.8em; font-weight: bold; line-height: 1; border-radius: 0.35em; text-transform: uppercase; vertical-align: middle; margin-left: 0.5rem\">NOUN</span>\n",
       "</mark>\n",
       " \n",
       "<mark class=\"entity\" style=\"background: #18CFE6; padding: 0.45em 0.6em; margin: 0 0.25em; line-height: 1; border-radius: 0.35em;\">\n",
       "    RISK\n",
       "    <span style=\"font-size: 0.8em; font-weight: bold; line-height: 1; border-radius: 0.35em; text-transform: uppercase; vertical-align: middle; margin-left: 0.5rem\">NOUN</span>\n",
       "</mark>\n",
       " \n",
       "<mark class=\"entity\" style=\"background: #FFB6C1; padding: 0.45em 0.6em; margin: 0 0.25em; line-height: 1; border-radius: 0.35em;\">\n",
       "    MANAGEMENT\n",
       "    <span style=\"font-size: 0.8em; font-weight: bold; line-height: 1; border-radius: 0.35em; text-transform: uppercase; vertical-align: middle; margin-left: 0.5rem\">PROPN</span>\n",
       "</mark>\n",
       " \n",
       "<mark class=\"entity\" style=\"background: #FFB6C1; padding: 0.45em 0.6em; margin: 0 0.25em; line-height: 1; border-radius: 0.35em;\">\n",
       "    Project\n",
       "    <span style=\"font-size: 0.8em; font-weight: bold; line-height: 1; border-radius: 0.35em; text-transform: uppercase; vertical-align: middle; margin-left: 0.5rem\">PROPN</span>\n",
       "</mark>\n",
       " \n",
       "<mark class=\"entity\" style=\"background: #FFB6C1; padding: 0.45em 0.6em; margin: 0 0.25em; line-height: 1; border-radius: 0.35em;\">\n",
       "    Risk\n",
       "    <span style=\"font-size: 0.8em; font-weight: bold; line-height: 1; border-radius: 0.35em; text-transform: uppercase; vertical-align: middle; margin-left: 0.5rem\">PROPN</span>\n",
       "</mark>\n",
       " \n",
       "<mark class=\"entity\" style=\"background: #FFB6C1; padding: 0.45em 0.6em; margin: 0 0.25em; line-height: 1; border-radius: 0.35em;\">\n",
       "    Management\n",
       "    <span style=\"font-size: 0.8em; font-weight: bold; line-height: 1; border-radius: 0.35em; text-transform: uppercase; vertical-align: middle; margin-left: 0.5rem\">PROPN</span>\n",
       "</mark>\n",
       " includes the \n",
       "<mark class=\"entity\" style=\"background: #18CFE6; padding: 0.45em 0.6em; margin: 0 0.25em; line-height: 1; border-radius: 0.35em;\">\n",
       "    processes\n",
       "    <span style=\"font-size: 0.8em; font-weight: bold; line-height: 1; border-radius: 0.35em; text-transform: uppercase; vertical-align: middle; margin-left: 0.5rem\">NOUN</span>\n",
       "</mark>\n",
       " of conducting \n",
       "<mark class=\"entity\" style=\"background: #18CFE6; padding: 0.45em 0.6em; margin: 0 0.25em; line-height: 1; border-radius: 0.35em;\">\n",
       "    risk\n",
       "    <span style=\"font-size: 0.8em; font-weight: bold; line-height: 1; border-radius: 0.35em; text-transform: uppercase; vertical-align: middle; margin-left: 0.5rem\">NOUN</span>\n",
       "</mark>\n",
       " \n",
       "<mark class=\"entity\" style=\"background: #18CFE6; padding: 0.45em 0.6em; margin: 0 0.25em; line-height: 1; border-radius: 0.35em;\">\n",
       "    management\n",
       "    <span style=\"font-size: 0.8em; font-weight: bold; line-height: 1; border-radius: 0.35em; text-transform: uppercase; vertical-align: middle; margin-left: 0.5rem\">NOUN</span>\n",
       "</mark>\n",
       " \n",
       "<mark class=\"entity\" style=\"background: #18CFE6; padding: 0.45em 0.6em; margin: 0 0.25em; line-height: 1; border-radius: 0.35em;\">\n",
       "    planning\n",
       "    <span style=\"font-size: 0.8em; font-weight: bold; line-height: 1; border-radius: 0.35em; text-transform: uppercase; vertical-align: middle; margin-left: 0.5rem\">NOUN</span>\n",
       "</mark>\n",
       ", \n",
       "<mark class=\"entity\" style=\"background: #18CFE6; padding: 0.45em 0.6em; margin: 0 0.25em; line-height: 1; border-radius: 0.35em;\">\n",
       "    identification\n",
       "    <span style=\"font-size: 0.8em; font-weight: bold; line-height: 1; border-radius: 0.35em; text-transform: uppercase; vertical-align: middle; margin-left: 0.5rem\">NOUN</span>\n",
       "</mark>\n",
       ", \n",
       "<mark class=\"entity\" style=\"background: #18CFE6; padding: 0.45em 0.6em; margin: 0 0.25em; line-height: 1; border-radius: 0.35em;\">\n",
       "    analysis\n",
       "    <span style=\"font-size: 0.8em; font-weight: bold; line-height: 1; border-radius: 0.35em; text-transform: uppercase; vertical-align: middle; margin-left: 0.5rem\">NOUN</span>\n",
       "</mark>\n",
       ", \n",
       "<mark class=\"entity\" style=\"background: #18CFE6; padding: 0.45em 0.6em; margin: 0 0.25em; line-height: 1; border-radius: 0.35em;\">\n",
       "    response\n",
       "    <span style=\"font-size: 0.8em; font-weight: bold; line-height: 1; border-radius: 0.35em; text-transform: uppercase; vertical-align: middle; margin-left: 0.5rem\">NOUN</span>\n",
       "</mark>\n",
       " \n",
       "<mark class=\"entity\" style=\"background: #18CFE6; padding: 0.45em 0.6em; margin: 0 0.25em; line-height: 1; border-radius: 0.35em;\">\n",
       "    planning\n",
       "    <span style=\"font-size: 0.8em; font-weight: bold; line-height: 1; border-radius: 0.35em; text-transform: uppercase; vertical-align: middle; margin-left: 0.5rem\">NOUN</span>\n",
       "</mark>\n",
       ", and controlling \n",
       "<mark class=\"entity\" style=\"background: #18CFE6; padding: 0.45em 0.6em; margin: 0 0.25em; line-height: 1; border-radius: 0.35em;\">\n",
       "    risk\n",
       "    <span style=\"font-size: 0.8em; font-weight: bold; line-height: 1; border-radius: 0.35em; text-transform: uppercase; vertical-align: middle; margin-left: 0.5rem\">NOUN</span>\n",
       "</mark>\n",
       " on a \n",
       "<mark class=\"entity\" style=\"background: #18CFE6; padding: 0.45em 0.6em; margin: 0 0.25em; line-height: 1; border-radius: 0.35em;\">\n",
       "    project\n",
       "    <span style=\"font-size: 0.8em; font-weight: bold; line-height: 1; border-radius: 0.35em; text-transform: uppercase; vertical-align: middle; margin-left: 0.5rem\">NOUN</span>\n",
       "</mark>\n",
       ".</div>"
      ],
      "text/plain": [
       "<IPython.core.display.HTML object>"
      ]
     },
     "metadata": {},
     "output_type": "display_data"
    }
   ],
   "source": [
    "# take a look at all the nouns again\n",
    "column = 'named_nouns'\n",
    "render_entities(0, df, options=options, column=column)"
   ]
  },
  {
   "cell_type": "code",
   "execution_count": 145,
   "metadata": {
    "ExecuteTime": {
     "end_time": "2021-10-27T12:22:25.371672Z",
     "start_time": "2021-10-27T12:22:25.256956Z"
    },
    "_uuid": "c411b1235c067384866af3bbbbb0098a54029408"
   },
   "outputs": [
    {
     "data": {
      "text/html": [
       "<div class=\"entities\" style=\"line-height: 2.5; direction: ltr\">Perform \n",
       "<mark class=\"entity\" style=\"background: #FE6BFE; padding: 0.45em 0.6em; margin: 0 0.25em; line-height: 1; border-radius: 0.35em;\">\n",
       "    Qualitative Risk Analysis\n",
       "    <span style=\"font-size: 0.8em; font-weight: bold; line-height: 1; border-radius: 0.35em; text-transform: uppercase; vertical-align: middle; margin-left: 0.5rem\">COMPOUND</span>\n",
       "</mark>\n",
       " is the process of prioritizing risks for further analysis or action by assessing and combining their probability of occurrence and impact.</div>"
      ],
      "text/plain": [
       "<IPython.core.display.HTML object>"
      ]
     },
     "metadata": {},
     "output_type": "display_data"
    }
   ],
   "source": [
    "# take a look at all the compound noun phrases again\n",
    "column = 'compounds'\n",
    "render_entities(4, df, options=options, column=column)"
   ]
  },
  {
   "cell_type": "code",
   "execution_count": 147,
   "metadata": {
    "ExecuteTime": {
     "end_time": "2021-10-27T12:22:36.714564Z",
     "start_time": "2021-10-27T12:22:36.631786Z"
    },
    "_uuid": "cef8cf11b337f4e896f608c14d29b5dc71b0e97c"
   },
   "outputs": [
    {
     "data": {
      "text/plain": [
       "{'events',\n",
       " 'impact',\n",
       " 'likelihood',\n",
       " 'management',\n",
       " 'objectives',\n",
       " 'project',\n",
       " 'project risk management',\n",
       " 'risk'}"
      ]
     },
     "execution_count": 147,
     "metadata": {},
     "output_type": "execute_result"
    }
   ],
   "source": [
    "# take a look at combined entities\n",
    "df['comp_nouns'][1] "
   ]
  },
  {
   "cell_type": "markdown",
   "metadata": {
    "_uuid": "ef72245564a5fa2b56809a903d5245c716e305c1"
   },
   "source": [
    "### Analysis"
   ]
  },
  {
   "cell_type": "markdown",
   "metadata": {
    "_uuid": "3299a299d0fdf16d72ab602f7396768a9d5ded03"
   },
   "source": [
    "Now that we have all the entities grouped together, we can see how good we are doing. We've successfully captured single-word as well as n-grams, but there appear to be a lot of duplicates. Words that should've been included in a phrase were somehow split apart, most likely as a result of not properly dealing with hyphenation when we first tokenized our abstracts. \n",
    "\n",
    "Not to worry, this should be relatively easy to take care. We'll also apply a few other heuristics to clean up our list and remove the most common English words to further pare down the list of entities.  "
   ]
  },
  {
   "cell_type": "markdown",
   "metadata": {
    "_uuid": "e3a2e2dfd42cee5676e3aa8a2abd5fff5600400e"
   },
   "source": [
    "## Step 8: Reduce entity count with heuristics"
   ]
  },
  {
   "cell_type": "code",
   "execution_count": 139,
   "metadata": {
    "ExecuteTime": {
     "end_time": "2021-10-27T12:16:30.824081Z",
     "start_time": "2021-10-27T12:16:30.710380Z"
    },
    "_uuid": "4912341232db7b6ee0c8a73f8033728b824746d0"
   },
   "outputs": [],
   "source": [
    "def drop_duplicate_np_splits(ents):\n",
    "\n",
    "    drop_ents = set()\n",
    "    for ent in ents:\n",
    "        if len(ent.split(' ')) > 1:\n",
    "            for e in ent.split(' '):\n",
    "                if e in ents:\n",
    "                    drop_ents.add(e)\n",
    "    return ents - drop_ents\n",
    "\n",
    "def drop_single_char_nps(ents):\n",
    "\n",
    "    return {' '.join([e for e in ent.split(' ') if not len(e) == 1]) for ent in ents}\n",
    "\n",
    "def drop_double_char(ents):\n",
    "\n",
    "    drop_ents = {ent for ent in ents if len(ent) < 3}\n",
    "    return ents - drop_ents\n",
    "\n",
    "def keep_alpha(ents):\n",
    "\n",
    "    keep_char = set('-abcdefghijklmnopqrstuvwxyzABCDEFGHIJKLMNOPQRSTUVWXYZ ')\n",
    "    drop_ents = {ent for ent in ents if not set(ent).issubset(keep_char)}\n",
    "    return ents - drop_ents"
   ]
  },
  {
   "cell_type": "markdown",
   "metadata": {
    "_uuid": "5c25643110e56b416d549c4895fd7dd481f3cc83"
   },
   "source": [
    "These last four functions will slice and dice the list of entities gathered from each abstract in various ways. In addition to this granular processing, we'll also want to remove words that are frequent in the English language, as a heuristic to naturally drop stop words and uncover the domain of each academic source. \n",
    "\n",
    "Why is this?\n",
    "\n",
    "Well, in NLP, as in search engine optimization (SEO), the most common words in a given corpus are known as [stop words](https://nlp.stanford.edu/IR-book/html/htmledition/dropping-common-terms-stop-words-1.html). These unfortunate candidates are hunted down with extreme prejudice and removed from the population to improve search results, enhance semantic analysis, and in our case, help restrict the domain. This is because removing stop words automatically limits the vocabulary of a corpus to the words that are less frequent and therefore, more likely to exist in that abstract than anywhere else. \n",
    "\n",
    "You can, of course, argue that the most common words in a scientific paper might in fact be the most important concepts, but stop words are usually overwhelmingingly overrepresented in any corpus. This intuition however, is exactly why we aren't going to simply take the most common words in one specific abstract and remove them. Instead, we'll be targetting the most frequent words based on a large, general domain sample of the English language. \n",
    "\n",
    "The \"freq_words.csv\" file you might have noticed earlier in our data environment, is actually a list generated from a corpus with 10 billion words gathered by the good people at [Word Frequencey Data](https://www.wordfrequency.info/).\n",
    "\n",
    "Let's take a look at the list and then remove these words from our set of entities. "
   ]
  },
  {
   "cell_type": "code",
   "execution_count": null,
   "metadata": {
    "_uuid": "56cea1e717b01f04386bbbd07a7808fe83f8d7b3"
   },
   "outputs": [],
   "source": [
    "!ls {PATH}"
   ]
  },
  {
   "cell_type": "code",
   "execution_count": 150,
   "metadata": {
    "ExecuteTime": {
     "end_time": "2021-10-27T12:24:49.857556Z",
     "start_time": "2021-10-27T12:24:49.767017Z"
    },
    "_uuid": "ddb11751270138f9233dbe5ef91b64a787d40a65"
   },
   "outputs": [],
   "source": [
    "filename = 'freq_words.csv'\n",
    "freq_words_df = pd.read_csv(f'{filename}')\n"
   ]
  },
  {
   "cell_type": "code",
   "execution_count": 152,
   "metadata": {
    "ExecuteTime": {
     "end_time": "2021-10-27T12:24:55.501890Z",
     "start_time": "2021-10-27T12:24:55.428090Z"
    },
    "_uuid": "73232ce1ca0d71b026ee8de0e50d1a1440de82f7"
   },
   "outputs": [],
   "source": [
    "freq_words = freq_words_df['Word'].iloc[1:]\n"
   ]
  },
  {
   "cell_type": "code",
   "execution_count": 153,
   "metadata": {
    "ExecuteTime": {
     "end_time": "2021-10-27T12:25:13.055524Z",
     "start_time": "2021-10-27T12:25:12.971152Z"
    },
    "_uuid": "17d46fb1b520ca5dfe9a4fd19c6c6db93bf9488b"
   },
   "outputs": [],
   "source": [
    "def remove_freq_words(ents):\n",
    "\n",
    "    freq_words = pd.read_csv('freq_words.csv')['Word'].iloc[1:]\n",
    "    for word in freq_words:\n",
    "        try:\n",
    "            ents.remove(word)\n",
    "        except KeyError:\n",
    "            continue # ignore the stop word if it's not in the list of abstract entities\n",
    "    return ents\n",
    "\n",
    "def add_clean_ents(df, funcs=[]):\n",
    "    \"\"\"Create new column in data frame with cleaned entities.\n",
    "    \n",
    "    Keyword arguments:\n",
    "    df -- a dataframe object\n",
    "    funcs -- a list of heuristic functions to be applied to entities\n",
    "    \n",
    "    \"\"\"\n",
    "    col = 'clean_ents'\n",
    "    df[col] = df['comp_nouns']\n",
    "    for f in funcs:\n",
    "        df[col] = df[col].apply(f)"
   ]
  },
  {
   "cell_type": "code",
   "execution_count": 154,
   "metadata": {
    "ExecuteTime": {
     "end_time": "2021-10-27T12:25:16.125834Z",
     "start_time": "2021-10-27T12:25:14.931158Z"
    },
    "_uuid": "509b851f119d0caecf95c18565f7f7a8723a3b18"
   },
   "outputs": [
    {
     "data": {
      "text/html": [
       "<div>\n",
       "<style scoped>\n",
       "    .dataframe tbody tr th:only-of-type {\n",
       "        vertical-align: middle;\n",
       "    }\n",
       "\n",
       "    .dataframe tbody tr th {\n",
       "        vertical-align: top;\n",
       "    }\n",
       "\n",
       "    .dataframe thead th {\n",
       "        text-align: right;\n",
       "    }\n",
       "</style>\n",
       "<table border=\"1\" class=\"dataframe\">\n",
       "  <thead>\n",
       "    <tr style=\"text-align: right;\">\n",
       "      <th></th>\n",
       "      <th>text</th>\n",
       "      <th>named_ents</th>\n",
       "      <th>nouns</th>\n",
       "      <th>named_nouns</th>\n",
       "      <th>noun_phrases</th>\n",
       "      <th>compounds</th>\n",
       "      <th>comp_nouns</th>\n",
       "      <th>clean_ents</th>\n",
       "    </tr>\n",
       "  </thead>\n",
       "  <tbody>\n",
       "    <tr>\n",
       "      <th>0</th>\n",
       "      <td>PROJECT RISK MANAGEMENT Project Risk Managemen...</td>\n",
       "      <td>[]</td>\n",
       "      <td>[(PROJECT, 0, 7, NOUN), (RISK, 8, 12, NOUN), (...</td>\n",
       "      <td>[(PROJECT, 0, 7, NOUN), (RISK, 8, 12, NOUN), (...</td>\n",
       "      <td>[(PROJECT RISK MANAGEMENT Project Risk Managem...</td>\n",
       "      <td>[(PROJECT RISK MANAGEMENT Project Risk Managem...</td>\n",
       "      <td>{response, Project, Risk, Management, analysis...</td>\n",
       "      <td>{response planning, PROJECT RISK MANAGEMENT Pr...</td>\n",
       "    </tr>\n",
       "    <tr>\n",
       "      <th>1</th>\n",
       "      <td>The objectives of project risk management are ...</td>\n",
       "      <td>[]</td>\n",
       "      <td>[(objectives, 4, 14, NOUN), (project, 18, 25, ...</td>\n",
       "      <td>[(objectives, 4, 14, NOUN), (project, 18, 25, ...</td>\n",
       "      <td>[(The objectives, 0, 14, NP), (project risk ma...</td>\n",
       "      <td>[(project risk management, 18, 41, COMPOUND)]</td>\n",
       "      <td>{project risk management, management, impact, ...</td>\n",
       "      <td>{project risk management, events, objectives}</td>\n",
       "    </tr>\n",
       "    <tr>\n",
       "      <th>2</th>\n",
       "      <td>Plan Risk Management is the process of definin...</td>\n",
       "      <td>[(Plan Risk Management, 0, 20, ORG)]</td>\n",
       "      <td>[(Plan, 0, 4, PROPN), (Risk, 5, 9, PROPN), (Ma...</td>\n",
       "      <td>[(Plan Risk Management, 0, 20, ORG), (Risk, 5,...</td>\n",
       "      <td>[(Plan Risk Management, 0, 20, NP), (the proce...</td>\n",
       "      <td>[(Plan Risk Management, 0, 20, COMPOUND), (ris...</td>\n",
       "      <td>{risk management activities, Risk, Management,...</td>\n",
       "      <td>{risk management activities, Plan Risk Managem...</td>\n",
       "    </tr>\n",
       "    <tr>\n",
       "      <th>3</th>\n",
       "      <td>Identify Risks is the process of determining w...</td>\n",
       "      <td>[]</td>\n",
       "      <td>[(Identify, 0, 8, PROPN), (Risks, 9, 14, PROPN...</td>\n",
       "      <td>[(Identify, 0, 8, PROPN), (Risks, 9, 14, PROPN...</td>\n",
       "      <td>[(Risks, 9, 14, NP), (the process, 18, 29, NP)...</td>\n",
       "      <td>[]</td>\n",
       "      <td>{characteristics, Identify, risks, process, Ri...</td>\n",
       "      <td>{Identify, risks, characteristics, Risks}</td>\n",
       "    </tr>\n",
       "    <tr>\n",
       "      <th>4</th>\n",
       "      <td>Perform Qualitative Risk Analysis is the proce...</td>\n",
       "      <td>[(Perform Qualitative Risk Analysis, 0, 33, ORG)]</td>\n",
       "      <td>[(Risk, 20, 24, PROPN), (Analysis, 25, 33, PRO...</td>\n",
       "      <td>[(Risk, 20, 24, PROPN), (Analysis, 25, 33, PRO...</td>\n",
       "      <td>[(Qualitative Risk Analysis, 8, 33, NP), (the ...</td>\n",
       "      <td>[(Qualitative Risk Analysis, 8, 33, COMPOUND)]</td>\n",
       "      <td>{Qualitative Risk Analysis, probability, Risk,...</td>\n",
       "      <td>{Qualitative Risk Analysis, probability, risks...</td>\n",
       "    </tr>\n",
       "    <tr>\n",
       "      <th>...</th>\n",
       "      <td>...</td>\n",
       "      <td>...</td>\n",
       "      <td>...</td>\n",
       "      <td>...</td>\n",
       "      <td>...</td>\n",
       "      <td>...</td>\n",
       "      <td>...</td>\n",
       "      <td>...</td>\n",
       "    </tr>\n",
       "    <tr>\n",
       "      <th>98</th>\n",
       "      <td>The specific combinations of probability and i...</td>\n",
       "      <td>[]</td>\n",
       "      <td>[(combinations, 13, 25, NOUN), (probability, 2...</td>\n",
       "      <td>[(combinations, 13, 25, NOUN), (probability, 2...</td>\n",
       "      <td>[(The specific combinations, 0, 25, NP), (prob...</td>\n",
       "      <td>[]</td>\n",
       "      <td>{probability, impact, risk, combinations, impo...</td>\n",
       "      <td>{probability, combinations}</td>\n",
       "    </tr>\n",
       "    <tr>\n",
       "      <th>99</th>\n",
       "      <td>Revised stakeholders’ tolerances Stakeholders’...</td>\n",
       "      <td>[(Stakeholders, 33, 45, PRODUCT), (the Plan Ri...</td>\n",
       "      <td>[(stakeholders, 8, 20, NOUN), (Stakeholders, 3...</td>\n",
       "      <td>[(stakeholders, 8, 20, NOUN), (Stakeholders, 3...</td>\n",
       "      <td>[(Revised stakeholders’ tolerances Stakeholder...</td>\n",
       "      <td>[(tolerances Stakeholders, 22, 45, COMPOUND), ...</td>\n",
       "      <td>{stakeholders, Risk, Management, Plan Risk Man...</td>\n",
       "      <td>{tolerances Stakeholders, stakeholders, Plan R...</td>\n",
       "    </tr>\n",
       "    <tr>\n",
       "      <th>100</th>\n",
       "      <td>Reporting formats Reporting formats define how...</td>\n",
       "      <td>[]</td>\n",
       "      <td>[(formats, 10, 17, NOUN), (Reporting, 18, 27, ...</td>\n",
       "      <td>[(formats, 10, 17, NOUN), (Reporting, 18, 27, ...</td>\n",
       "      <td>[(formats, 10, 17, NP), (Reporting formats, 18...</td>\n",
       "      <td>[(Reporting formats, 18, 35, COMPOUND), (risk ...</td>\n",
       "      <td>{Reporting formats, management, formats, risk,...</td>\n",
       "      <td>{Reporting formats, outcomes, risk management ...</td>\n",
       "    </tr>\n",
       "    <tr>\n",
       "      <th>101</th>\n",
       "      <td>formats describes the content and format of th...</td>\n",
       "      <td>[]</td>\n",
       "      <td>[(formats, 0, 7, NOUN), (content, 22, 29, NOUN...</td>\n",
       "      <td>[(formats, 0, 7, NOUN), (content, 22, 29, NOUN...</td>\n",
       "      <td>[(formats, 0, 7, NP), (the content, 18, 29, NP...</td>\n",
       "      <td>[(risk reports, 83, 95, COMPOUND)]</td>\n",
       "      <td>{risk reports, formats, risk, format, reports,...</td>\n",
       "      <td>{risk reports, formats}</td>\n",
       "    </tr>\n",
       "    <tr>\n",
       "      <th>102</th>\n",
       "      <td>Tracking Tracking documents how risk activitie...</td>\n",
       "      <td>[]</td>\n",
       "      <td>[(Tracking, 0, 8, PROPN), (Tracking, 9, 17, PR...</td>\n",
       "      <td>[(Tracking, 0, 8, PROPN), (Tracking, 9, 17, PR...</td>\n",
       "      <td>[(Tracking Tracking documents, 0, 27, NP), (ri...</td>\n",
       "      <td>[(Tracking Tracking documents, 0, 27, COMPOUND...</td>\n",
       "      <td>{management, documents, risk activities, risk,...</td>\n",
       "      <td>{risk activities, Tracking Tracking documents,...</td>\n",
       "    </tr>\n",
       "  </tbody>\n",
       "</table>\n",
       "<p>103 rows × 8 columns</p>\n",
       "</div>"
      ],
      "text/plain": [
       "                                                  text  \\\n",
       "0    PROJECT RISK MANAGEMENT Project Risk Managemen...   \n",
       "1    The objectives of project risk management are ...   \n",
       "2    Plan Risk Management is the process of definin...   \n",
       "3    Identify Risks is the process of determining w...   \n",
       "4    Perform Qualitative Risk Analysis is the proce...   \n",
       "..                                                 ...   \n",
       "98   The specific combinations of probability and i...   \n",
       "99   Revised stakeholders’ tolerances Stakeholders’...   \n",
       "100  Reporting formats Reporting formats define how...   \n",
       "101  formats describes the content and format of th...   \n",
       "102  Tracking Tracking documents how risk activitie...   \n",
       "\n",
       "                                            named_ents  \\\n",
       "0                                                   []   \n",
       "1                                                   []   \n",
       "2                 [(Plan Risk Management, 0, 20, ORG)]   \n",
       "3                                                   []   \n",
       "4    [(Perform Qualitative Risk Analysis, 0, 33, ORG)]   \n",
       "..                                                 ...   \n",
       "98                                                  []   \n",
       "99   [(Stakeholders, 33, 45, PRODUCT), (the Plan Ri...   \n",
       "100                                                 []   \n",
       "101                                                 []   \n",
       "102                                                 []   \n",
       "\n",
       "                                                 nouns  \\\n",
       "0    [(PROJECT, 0, 7, NOUN), (RISK, 8, 12, NOUN), (...   \n",
       "1    [(objectives, 4, 14, NOUN), (project, 18, 25, ...   \n",
       "2    [(Plan, 0, 4, PROPN), (Risk, 5, 9, PROPN), (Ma...   \n",
       "3    [(Identify, 0, 8, PROPN), (Risks, 9, 14, PROPN...   \n",
       "4    [(Risk, 20, 24, PROPN), (Analysis, 25, 33, PRO...   \n",
       "..                                                 ...   \n",
       "98   [(combinations, 13, 25, NOUN), (probability, 2...   \n",
       "99   [(stakeholders, 8, 20, NOUN), (Stakeholders, 3...   \n",
       "100  [(formats, 10, 17, NOUN), (Reporting, 18, 27, ...   \n",
       "101  [(formats, 0, 7, NOUN), (content, 22, 29, NOUN...   \n",
       "102  [(Tracking, 0, 8, PROPN), (Tracking, 9, 17, PR...   \n",
       "\n",
       "                                           named_nouns  \\\n",
       "0    [(PROJECT, 0, 7, NOUN), (RISK, 8, 12, NOUN), (...   \n",
       "1    [(objectives, 4, 14, NOUN), (project, 18, 25, ...   \n",
       "2    [(Plan Risk Management, 0, 20, ORG), (Risk, 5,...   \n",
       "3    [(Identify, 0, 8, PROPN), (Risks, 9, 14, PROPN...   \n",
       "4    [(Risk, 20, 24, PROPN), (Analysis, 25, 33, PRO...   \n",
       "..                                                 ...   \n",
       "98   [(combinations, 13, 25, NOUN), (probability, 2...   \n",
       "99   [(stakeholders, 8, 20, NOUN), (Stakeholders, 3...   \n",
       "100  [(formats, 10, 17, NOUN), (Reporting, 18, 27, ...   \n",
       "101  [(formats, 0, 7, NOUN), (content, 22, 29, NOUN...   \n",
       "102  [(Tracking, 0, 8, PROPN), (Tracking, 9, 17, PR...   \n",
       "\n",
       "                                          noun_phrases  \\\n",
       "0    [(PROJECT RISK MANAGEMENT Project Risk Managem...   \n",
       "1    [(The objectives, 0, 14, NP), (project risk ma...   \n",
       "2    [(Plan Risk Management, 0, 20, NP), (the proce...   \n",
       "3    [(Risks, 9, 14, NP), (the process, 18, 29, NP)...   \n",
       "4    [(Qualitative Risk Analysis, 8, 33, NP), (the ...   \n",
       "..                                                 ...   \n",
       "98   [(The specific combinations, 0, 25, NP), (prob...   \n",
       "99   [(Revised stakeholders’ tolerances Stakeholder...   \n",
       "100  [(formats, 10, 17, NP), (Reporting formats, 18...   \n",
       "101  [(formats, 0, 7, NP), (the content, 18, 29, NP...   \n",
       "102  [(Tracking Tracking documents, 0, 27, NP), (ri...   \n",
       "\n",
       "                                             compounds  \\\n",
       "0    [(PROJECT RISK MANAGEMENT Project Risk Managem...   \n",
       "1        [(project risk management, 18, 41, COMPOUND)]   \n",
       "2    [(Plan Risk Management, 0, 20, COMPOUND), (ris...   \n",
       "3                                                   []   \n",
       "4       [(Qualitative Risk Analysis, 8, 33, COMPOUND)]   \n",
       "..                                                 ...   \n",
       "98                                                  []   \n",
       "99   [(tolerances Stakeholders, 22, 45, COMPOUND), ...   \n",
       "100  [(Reporting formats, 18, 35, COMPOUND), (risk ...   \n",
       "101                 [(risk reports, 83, 95, COMPOUND)]   \n",
       "102  [(Tracking Tracking documents, 0, 27, COMPOUND...   \n",
       "\n",
       "                                            comp_nouns  \\\n",
       "0    {response, Project, Risk, Management, analysis...   \n",
       "1    {project risk management, management, impact, ...   \n",
       "2    {risk management activities, Risk, Management,...   \n",
       "3    {characteristics, Identify, risks, process, Ri...   \n",
       "4    {Qualitative Risk Analysis, probability, Risk,...   \n",
       "..                                                 ...   \n",
       "98   {probability, impact, risk, combinations, impo...   \n",
       "99   {stakeholders, Risk, Management, Plan Risk Man...   \n",
       "100  {Reporting formats, management, formats, risk,...   \n",
       "101  {risk reports, formats, risk, format, reports,...   \n",
       "102  {management, documents, risk activities, risk,...   \n",
       "\n",
       "                                            clean_ents  \n",
       "0    {response planning, PROJECT RISK MANAGEMENT Pr...  \n",
       "1        {project risk management, events, objectives}  \n",
       "2    {risk management activities, Plan Risk Managem...  \n",
       "3            {Identify, risks, characteristics, Risks}  \n",
       "4    {Qualitative Risk Analysis, probability, risks...  \n",
       "..                                                 ...  \n",
       "98                         {probability, combinations}  \n",
       "99   {tolerances Stakeholders, stakeholders, Plan R...  \n",
       "100  {Reporting formats, outcomes, risk management ...  \n",
       "101                            {risk reports, formats}  \n",
       "102  {risk activities, Tracking Tracking documents,...  \n",
       "\n",
       "[103 rows x 8 columns]"
      ]
     },
     "metadata": {},
     "output_type": "display_data"
    }
   ],
   "source": [
    "funcs = [drop_duplicate_np_splits, drop_double_char, keep_alpha, drop_single_char_nps, remove_freq_words]\n",
    "add_clean_ents(df, funcs)\n",
    "display(df)"
   ]
  },
  {
   "cell_type": "code",
   "execution_count": 155,
   "metadata": {
    "ExecuteTime": {
     "end_time": "2021-10-27T12:25:23.662437Z",
     "start_time": "2021-10-27T12:25:23.570683Z"
    },
    "_uuid": "1ca30f7633b258ec635edb83905406fc1003c8eb"
   },
   "outputs": [],
   "source": [
    "def visualize_entities(df, idx=0):\n",
    "    \"\"\"Visualize the entities for a given abstract in the dataframe. \n",
    "    \n",
    "    Keyword arguments:\n",
    "    df -- a dataframe object\n",
    "    idx -- the index of interest for the dataframe (default 0)\n",
    "    \n",
    "    \"\"\"\n",
    "    # store entity start and end index for visualization in dummy df\n",
    "    ents = []\n",
    "    abstract = df['text'][idx]\n",
    "    for ent in df['clean_ents'][idx]:\n",
    "        i = abstract.find(ent) # locate the index of the entity in the abstract\n",
    "        ents.append((ent, i, i+len(ent), 'ENTITY')) \n",
    "    ents.sort(key=lambda tup: tup[1])\n",
    "\n",
    "    dummy_df = pd.DataFrame([abstract, ents]).T # transpose dataframe\n",
    "    dummy_df.columns = ['text', 'clean_ents']\n",
    "    column = 'clean_ents'\n",
    "    render_entities(0, dummy_df, options=options, column=column)"
   ]
  },
  {
   "cell_type": "code",
   "execution_count": 156,
   "metadata": {
    "ExecuteTime": {
     "end_time": "2021-10-27T12:25:25.442295Z",
     "start_time": "2021-10-27T12:25:25.344556Z"
    },
    "_uuid": "1139430ec92d7504839fb4ab99b62821ec9d8412"
   },
   "outputs": [
    {
     "data": {
      "text/html": [
       "<div class=\"entities\" style=\"line-height: 2.5; direction: ltr\">\n",
       "<mark class=\"entity\" style=\"background: #FF8800; padding: 0.45em 0.6em; margin: 0 0.25em; line-height: 1; border-radius: 0.35em;\">\n",
       "    PROJECT RISK MANAGEMENT Project Risk Management\n",
       "    <span style=\"font-size: 0.8em; font-weight: bold; line-height: 1; border-radius: 0.35em; text-transform: uppercase; vertical-align: middle; margin-left: 0.5rem\">ENTITY</span>\n",
       "</mark>\n",
       " includes the \n",
       "<mark class=\"entity\" style=\"background: #FF8800; padding: 0.45em 0.6em; margin: 0 0.25em; line-height: 1; border-radius: 0.35em;\">\n",
       "    processes\n",
       "    <span style=\"font-size: 0.8em; font-weight: bold; line-height: 1; border-radius: 0.35em; text-transform: uppercase; vertical-align: middle; margin-left: 0.5rem\">ENTITY</span>\n",
       "</mark>\n",
       " of conducting \n",
       "<mark class=\"entity\" style=\"background: #FF8800; padding: 0.45em 0.6em; margin: 0 0.25em; line-height: 1; border-radius: 0.35em;\">\n",
       "    risk management planning\n",
       "    <span style=\"font-size: 0.8em; font-weight: bold; line-height: 1; border-radius: 0.35em; text-transform: uppercase; vertical-align: middle; margin-left: 0.5rem\">ENTITY</span>\n",
       "</mark>\n",
       ", identification, analysis, \n",
       "<mark class=\"entity\" style=\"background: #FF8800; padding: 0.45em 0.6em; margin: 0 0.25em; line-height: 1; border-radius: 0.35em;\">\n",
       "    response planning\n",
       "    <span style=\"font-size: 0.8em; font-weight: bold; line-height: 1; border-radius: 0.35em; text-transform: uppercase; vertical-align: middle; margin-left: 0.5rem\">ENTITY</span>\n",
       "</mark>\n",
       ", and controlling risk on a project.</div>"
      ],
      "text/plain": [
       "<IPython.core.display.HTML object>"
      ]
     },
     "metadata": {},
     "output_type": "display_data"
    }
   ],
   "source": [
    "visualize_entities(df, 0)"
   ]
  },
  {
   "cell_type": "markdown",
   "metadata": {
    "_uuid": "246ce2dc1e258739c888378f185fa1ee756012a7"
   },
   "source": [
    "### Analysis"
   ]
  },
  {
   "cell_type": "markdown",
   "metadata": {
    "_uuid": "f85ceaf5f6f36e0df9f175e47b7da965238b0518"
   },
   "source": [
    "That's a good looking list of concepts wouldn't you say? By removing stop words and fine-tuning our set, we were able to capture only the most important entities in this first abstract! Let's finish up with a quick recapitulation of our approach and some thoughts on what we can do going forward. "
   ]
  },
  {
   "cell_type": "markdown",
   "metadata": {
    "_uuid": "c0068dc98ded446c72162e6a5594f60c891b3d7c"
   },
   "source": [
    "## Step 9: Celebrate with excessive fist-pumping"
   ]
  },
  {
   "cell_type": "markdown",
   "metadata": {
    "_uuid": "f633090a601c852dd50b8e237f2eff19e1bf3c3a"
   },
   "source": [
    "Well, at the risk of tooting our own horn, I feel rather confident saying that we've accomplished what we set out to do! We took an abstract from a scientific paper, combined named and regular entities, extracted compound noun phrases, and pared down the final list using heuristics and stop word domain restriction to generate a set of important concepts. "
   ]
  },
  {
   "cell_type": "markdown",
   "metadata": {
    "_uuid": "3ce00168a2f7afb69686b8cc0b965f2701149839"
   },
   "source": [
    "<img src='https://media.giphy.com/media/t3Mzdx0SA3Eis/giphy.gif'><center><span style=\"font-size:10px;\">Source: <a href=\"https://giphy.com/gifs/excited-the-office-yes-t3Mzdx0SA3Eis\">GIPHY</a></span></center>"
   ]
  },
  {
   "cell_type": "markdown",
   "metadata": {
    "_uuid": "9bc163e55dc8a59f21d794c346b2ba226542b7eb"
   },
   "source": [
    "Keep in mind that this exercise wasn't to create the world's best entity extractor. It was to get a fast baseline for what we can do with limited knowledge about the domain, and limited use of deep learning superpowers. We've now ended up with a prototype that shows we can get relatively far using out-of-the-box methods, with minor scripting for customization. And the best part? Our approach didn't require any extensive compute or proprietary software! \n",
    "\n",
    "Going forward, we'd want to test our approach on larger data sets (perhaps full scientific papers), and create an easy-to-use API for visualization, as well as individual and batch processing of text sources. Improving the actual entity extraction itself might involve a <strong>language model trained on academic papers</strong> or the addition of <strong>other intelligent heuristics</strong>. At some point, we'd also want to link each entity to an external database with further information, so that our conversational academic paper program would be able to orient these concepts within a larger knowledge graph. \n",
    "\n",
    "At the end of all of this, we've built a fast entity extraction prototype that confidently moves us towards creating an engine to communicate with academic papers, which will (hopefully) set the foundation for an automated scientific discovery tool.\n",
    "\n",
    "Great work! "
   ]
  },
  {
   "cell_type": "code",
   "execution_count": null,
   "metadata": {
    "_uuid": "30b1dcf92be37afd26a009533cf614e693bf394c"
   },
   "outputs": [],
   "source": []
  }
 ],
 "metadata": {
  "kernelspec": {
   "display_name": "Python 3 (ipykernel)",
   "language": "python",
   "name": "python3"
  },
  "language_info": {
   "codemirror_mode": {
    "name": "ipython",
    "version": 3
   },
   "file_extension": ".py",
   "mimetype": "text/x-python",
   "name": "python",
   "nbconvert_exporter": "python",
   "pygments_lexer": "ipython3",
   "version": "3.8.8"
  },
  "toc": {
   "base_numbering": 1,
   "nav_menu": {},
   "number_sections": true,
   "sideBar": true,
   "skip_h1_title": false,
   "title_cell": "Table of Contents",
   "title_sidebar": "Contents",
   "toc_cell": false,
   "toc_position": {},
   "toc_section_display": true,
   "toc_window_display": false
  }
 },
 "nbformat": 4,
 "nbformat_minor": 4
}
