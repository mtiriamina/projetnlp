{
 "cells": [
  {
   "cell_type": "code",
   "execution_count": 1,
   "metadata": {
    "ExecuteTime": {
     "end_time": "2021-10-25T20:35:20.280132Z",
     "start_time": "2021-10-25T20:35:16.594218Z"
    }
   },
   "outputs": [],
   "source": [
    "import spacy\n",
    "import glob\n",
    "import re\n",
    "import nltk\n",
    "import pandas as pd\n",
    "import numpy as np\n",
    "pd.set_option('display.max_colwidth', None)\n",
    "\n",
    "nlp = spacy.load('en_core_web_sm',disable=['ner','textcat'])"
   ]
  },
  {
   "cell_type": "code",
   "execution_count": 146,
   "metadata": {
    "ExecuteTime": {
     "end_time": "2021-10-25T23:10:17.937658Z",
     "start_time": "2021-10-25T23:10:17.933667Z"
    }
   },
   "outputs": [],
   "source": [
    "rap = 755 / 266.3"
   ]
  },
  {
   "cell_type": "code",
   "execution_count": 147,
   "metadata": {
    "ExecuteTime": {
     "end_time": "2021-10-25T23:10:19.560720Z",
     "start_time": "2021-10-25T23:10:19.554734Z"
    }
   },
   "outputs": [],
   "source": [
    "marge = 14.22*rap"
   ]
  },
  {
   "cell_type": "code",
   "execution_count": 148,
   "metadata": {
    "ExecuteTime": {
     "end_time": "2021-10-25T23:10:20.988744Z",
     "start_time": "2021-10-25T23:10:20.970759Z"
    }
   },
   "outputs": [
    {
     "data": {
      "text/plain": [
       "40.315809237701835"
      ]
     },
     "execution_count": 148,
     "metadata": {},
     "output_type": "execute_result"
    }
   ],
   "source": [
    "marge"
   ]
  },
  {
   "cell_type": "code",
   "execution_count": 189,
   "metadata": {
    "ExecuteTime": {
     "end_time": "2021-10-25T23:35:42.953668Z",
     "start_time": "2021-10-25T23:35:42.565686Z"
    }
   },
   "outputs": [
    {
     "ename": "AttributeError",
     "evalue": "'str' object has no attribute 'write'",
     "output_type": "error",
     "traceback": [
      "\u001b[1;31m---------------------------------------------------------------------------\u001b[0m",
      "\u001b[1;31mAttributeError\u001b[0m                            Traceback (most recent call last)",
      "\u001b[1;32m~\\AppData\\Local\\Temp/ipykernel_10180/1022190335.py\u001b[0m in \u001b[0;36m<module>\u001b[1;34m\u001b[0m\n\u001b[0;32m      7\u001b[0m \u001b[0mout\u001b[0m\u001b[1;33m.\u001b[0m\u001b[0maddPage\u001b[0m\u001b[1;33m(\u001b[0m\u001b[0mpage\u001b[0m\u001b[1;33m)\u001b[0m\u001b[1;33m\u001b[0m\u001b[1;33m\u001b[0m\u001b[0m\n\u001b[0;32m      8\u001b[0m \u001b[0mous\u001b[0m \u001b[1;33m=\u001b[0m \u001b[1;34m'docs/new.pdf'\u001b[0m\u001b[1;33m\u001b[0m\u001b[1;33m\u001b[0m\u001b[0m\n\u001b[1;32m----> 9\u001b[1;33m \u001b[0mout\u001b[0m\u001b[1;33m.\u001b[0m\u001b[0mwrite\u001b[0m\u001b[1;33m(\u001b[0m\u001b[0mous\u001b[0m\u001b[1;33m)\u001b[0m\u001b[1;33m\u001b[0m\u001b[1;33m\u001b[0m\u001b[0m\n\u001b[0m\u001b[0;32m     10\u001b[0m \u001b[0mous\u001b[0m\u001b[1;33m.\u001b[0m\u001b[0mclose\u001b[0m\u001b[1;33m(\u001b[0m\u001b[1;33m)\u001b[0m\u001b[1;33m\u001b[0m\u001b[1;33m\u001b[0m\u001b[0m\n",
      "\u001b[1;32m~\\anaconda3\\lib\\site-packages\\PyPDF2\\pdf.py\u001b[0m in \u001b[0;36mwrite\u001b[1;34m(self, stream)\u001b[0m\n\u001b[0;32m    485\u001b[0m         \u001b[1;31m# Begin writing:\u001b[0m\u001b[1;33m\u001b[0m\u001b[1;33m\u001b[0m\u001b[1;33m\u001b[0m\u001b[0m\n\u001b[0;32m    486\u001b[0m         \u001b[0mobject_positions\u001b[0m \u001b[1;33m=\u001b[0m \u001b[1;33m[\u001b[0m\u001b[1;33m]\u001b[0m\u001b[1;33m\u001b[0m\u001b[1;33m\u001b[0m\u001b[0m\n\u001b[1;32m--> 487\u001b[1;33m         \u001b[0mstream\u001b[0m\u001b[1;33m.\u001b[0m\u001b[0mwrite\u001b[0m\u001b[1;33m(\u001b[0m\u001b[0mself\u001b[0m\u001b[1;33m.\u001b[0m\u001b[0m_header\u001b[0m \u001b[1;33m+\u001b[0m \u001b[0mb_\u001b[0m\u001b[1;33m(\u001b[0m\u001b[1;34m\"\\n\"\u001b[0m\u001b[1;33m)\u001b[0m\u001b[1;33m)\u001b[0m\u001b[1;33m\u001b[0m\u001b[1;33m\u001b[0m\u001b[0m\n\u001b[0m\u001b[0;32m    488\u001b[0m         \u001b[1;32mfor\u001b[0m \u001b[0mi\u001b[0m \u001b[1;32min\u001b[0m \u001b[0mrange\u001b[0m\u001b[1;33m(\u001b[0m\u001b[0mlen\u001b[0m\u001b[1;33m(\u001b[0m\u001b[0mself\u001b[0m\u001b[1;33m.\u001b[0m\u001b[0m_objects\u001b[0m\u001b[1;33m)\u001b[0m\u001b[1;33m)\u001b[0m\u001b[1;33m:\u001b[0m\u001b[1;33m\u001b[0m\u001b[1;33m\u001b[0m\u001b[0m\n\u001b[0;32m    489\u001b[0m             \u001b[0midnum\u001b[0m \u001b[1;33m=\u001b[0m \u001b[1;33m(\u001b[0m\u001b[0mi\u001b[0m \u001b[1;33m+\u001b[0m \u001b[1;36m1\u001b[0m\u001b[1;33m)\u001b[0m\u001b[1;33m\u001b[0m\u001b[1;33m\u001b[0m\u001b[0m\n",
      "\u001b[1;31mAttributeError\u001b[0m: 'str' object has no attribute 'write'"
     ]
    }
   ],
   "source": [
    "from PyPDF2 import PdfFileWriter, PdfFileReader\n",
    "pdf = PdfFileReader('docs/PMBOK 5th.pdf', 'rb')\n",
    "out = PdfFileWriter()\n",
    "for page in pdf.pages:\n",
    "    page.mediaBox.upperRight = (page.mediaBox.getUpperRight_x() - 0, page.mediaBox.getUpperRight_y() - 0)\n",
    "    page.mediaBox.lowerLeft  = (page.mediaBox.getLowerLeft_x()  + 21.7,  page.mediaBox.getLowerLeft_y()  + 266.3)\n",
    "out.addPage(page)    \n",
    "ous = 'docs/new.pdf'\n",
    "out.write(ous)\n",
    "ous.close()"
   ]
  },
  {
   "cell_type": "code",
   "execution_count": 180,
   "metadata": {
    "ExecuteTime": {
     "end_time": "2021-10-25T23:27:16.618370Z",
     "start_time": "2021-10-25T23:27:16.606400Z"
    }
   },
   "outputs": [
    {
     "name": "stdout",
     "output_type": "stream",
     "text": [
      "(36, 64)\n",
      "(639, 64)\n",
      "(36, 819)\n",
      "(639, 819)\n"
     ]
    }
   ],
   "source": [
    "print(page.cropBox.getLowerLeft())\n",
    "print(page.cropBox.getLowerRight())\n",
    "print(page.cropBox.getUpperLeft())\n",
    "print(page.cropBox.getUpperRight())"
   ]
  },
  {
   "cell_type": "code",
   "execution_count": 150,
   "metadata": {
    "ExecuteTime": {
     "end_time": "2021-10-25T23:12:14.475471Z",
     "start_time": "2021-10-25T23:12:14.418655Z"
    },
    "scrolled": true
   },
   "outputs": [
    {
     "ename": "ValueError",
     "evalue": "seek of closed file",
     "output_type": "error",
     "traceback": [
      "\u001b[1;31m---------------------------------------------------------------------------\u001b[0m",
      "\u001b[1;31mValueError\u001b[0m                                Traceback (most recent call last)",
      "\u001b[1;32m~\\anaconda3\\lib\\site-packages\\IPython\\core\\formatters.py\u001b[0m in \u001b[0;36m__call__\u001b[1;34m(self, obj)\u001b[0m\n\u001b[0;32m    700\u001b[0m                 \u001b[0mtype_pprinters\u001b[0m\u001b[1;33m=\u001b[0m\u001b[0mself\u001b[0m\u001b[1;33m.\u001b[0m\u001b[0mtype_printers\u001b[0m\u001b[1;33m,\u001b[0m\u001b[1;33m\u001b[0m\u001b[1;33m\u001b[0m\u001b[0m\n\u001b[0;32m    701\u001b[0m                 deferred_pprinters=self.deferred_printers)\n\u001b[1;32m--> 702\u001b[1;33m             \u001b[0mprinter\u001b[0m\u001b[1;33m.\u001b[0m\u001b[0mpretty\u001b[0m\u001b[1;33m(\u001b[0m\u001b[0mobj\u001b[0m\u001b[1;33m)\u001b[0m\u001b[1;33m\u001b[0m\u001b[1;33m\u001b[0m\u001b[0m\n\u001b[0m\u001b[0;32m    703\u001b[0m             \u001b[0mprinter\u001b[0m\u001b[1;33m.\u001b[0m\u001b[0mflush\u001b[0m\u001b[1;33m(\u001b[0m\u001b[1;33m)\u001b[0m\u001b[1;33m\u001b[0m\u001b[1;33m\u001b[0m\u001b[0m\n\u001b[0;32m    704\u001b[0m             \u001b[1;32mreturn\u001b[0m \u001b[0mstream\u001b[0m\u001b[1;33m.\u001b[0m\u001b[0mgetvalue\u001b[0m\u001b[1;33m(\u001b[0m\u001b[1;33m)\u001b[0m\u001b[1;33m\u001b[0m\u001b[1;33m\u001b[0m\u001b[0m\n",
      "\u001b[1;32m~\\anaconda3\\lib\\site-packages\\IPython\\lib\\pretty.py\u001b[0m in \u001b[0;36mpretty\u001b[1;34m(self, obj)\u001b[0m\n\u001b[0;32m    375\u001b[0m                 \u001b[1;32mif\u001b[0m \u001b[0mcls\u001b[0m \u001b[1;32min\u001b[0m \u001b[0mself\u001b[0m\u001b[1;33m.\u001b[0m\u001b[0mtype_pprinters\u001b[0m\u001b[1;33m:\u001b[0m\u001b[1;33m\u001b[0m\u001b[1;33m\u001b[0m\u001b[0m\n\u001b[0;32m    376\u001b[0m                     \u001b[1;31m# printer registered in self.type_pprinters\u001b[0m\u001b[1;33m\u001b[0m\u001b[1;33m\u001b[0m\u001b[1;33m\u001b[0m\u001b[0m\n\u001b[1;32m--> 377\u001b[1;33m                     \u001b[1;32mreturn\u001b[0m \u001b[0mself\u001b[0m\u001b[1;33m.\u001b[0m\u001b[0mtype_pprinters\u001b[0m\u001b[1;33m[\u001b[0m\u001b[0mcls\u001b[0m\u001b[1;33m]\u001b[0m\u001b[1;33m(\u001b[0m\u001b[0mobj\u001b[0m\u001b[1;33m,\u001b[0m \u001b[0mself\u001b[0m\u001b[1;33m,\u001b[0m \u001b[0mcycle\u001b[0m\u001b[1;33m)\u001b[0m\u001b[1;33m\u001b[0m\u001b[1;33m\u001b[0m\u001b[0m\n\u001b[0m\u001b[0;32m    378\u001b[0m                 \u001b[1;32melse\u001b[0m\u001b[1;33m:\u001b[0m\u001b[1;33m\u001b[0m\u001b[1;33m\u001b[0m\u001b[0m\n\u001b[0;32m    379\u001b[0m                     \u001b[1;31m# deferred printer\u001b[0m\u001b[1;33m\u001b[0m\u001b[1;33m\u001b[0m\u001b[1;33m\u001b[0m\u001b[0m\n",
      "\u001b[1;32m~\\anaconda3\\lib\\site-packages\\IPython\\lib\\pretty.py\u001b[0m in \u001b[0;36minner\u001b[1;34m(obj, p, cycle)\u001b[0m\n\u001b[0;32m    605\u001b[0m             \u001b[0mp\u001b[0m\u001b[1;33m.\u001b[0m\u001b[0mpretty\u001b[0m\u001b[1;33m(\u001b[0m\u001b[0mkey\u001b[0m\u001b[1;33m)\u001b[0m\u001b[1;33m\u001b[0m\u001b[1;33m\u001b[0m\u001b[0m\n\u001b[0;32m    606\u001b[0m             \u001b[0mp\u001b[0m\u001b[1;33m.\u001b[0m\u001b[0mtext\u001b[0m\u001b[1;33m(\u001b[0m\u001b[1;34m': '\u001b[0m\u001b[1;33m)\u001b[0m\u001b[1;33m\u001b[0m\u001b[1;33m\u001b[0m\u001b[0m\n\u001b[1;32m--> 607\u001b[1;33m             \u001b[0mp\u001b[0m\u001b[1;33m.\u001b[0m\u001b[0mpretty\u001b[0m\u001b[1;33m(\u001b[0m\u001b[0mobj\u001b[0m\u001b[1;33m[\u001b[0m\u001b[0mkey\u001b[0m\u001b[1;33m]\u001b[0m\u001b[1;33m)\u001b[0m\u001b[1;33m\u001b[0m\u001b[1;33m\u001b[0m\u001b[0m\n\u001b[0m\u001b[0;32m    608\u001b[0m         \u001b[0mp\u001b[0m\u001b[1;33m.\u001b[0m\u001b[0mend_group\u001b[0m\u001b[1;33m(\u001b[0m\u001b[0mstep\u001b[0m\u001b[1;33m,\u001b[0m \u001b[0mend\u001b[0m\u001b[1;33m)\u001b[0m\u001b[1;33m\u001b[0m\u001b[1;33m\u001b[0m\u001b[0m\n\u001b[0;32m    609\u001b[0m     \u001b[1;32mreturn\u001b[0m \u001b[0minner\u001b[0m\u001b[1;33m\u001b[0m\u001b[1;33m\u001b[0m\u001b[0m\n",
      "\u001b[1;32m~\\anaconda3\\lib\\site-packages\\IPython\\lib\\pretty.py\u001b[0m in \u001b[0;36mpretty\u001b[1;34m(self, obj)\u001b[0m\n\u001b[0;32m    375\u001b[0m                 \u001b[1;32mif\u001b[0m \u001b[0mcls\u001b[0m \u001b[1;32min\u001b[0m \u001b[0mself\u001b[0m\u001b[1;33m.\u001b[0m\u001b[0mtype_pprinters\u001b[0m\u001b[1;33m:\u001b[0m\u001b[1;33m\u001b[0m\u001b[1;33m\u001b[0m\u001b[0m\n\u001b[0;32m    376\u001b[0m                     \u001b[1;31m# printer registered in self.type_pprinters\u001b[0m\u001b[1;33m\u001b[0m\u001b[1;33m\u001b[0m\u001b[1;33m\u001b[0m\u001b[0m\n\u001b[1;32m--> 377\u001b[1;33m                     \u001b[1;32mreturn\u001b[0m \u001b[0mself\u001b[0m\u001b[1;33m.\u001b[0m\u001b[0mtype_pprinters\u001b[0m\u001b[1;33m[\u001b[0m\u001b[0mcls\u001b[0m\u001b[1;33m]\u001b[0m\u001b[1;33m(\u001b[0m\u001b[0mobj\u001b[0m\u001b[1;33m,\u001b[0m \u001b[0mself\u001b[0m\u001b[1;33m,\u001b[0m \u001b[0mcycle\u001b[0m\u001b[1;33m)\u001b[0m\u001b[1;33m\u001b[0m\u001b[1;33m\u001b[0m\u001b[0m\n\u001b[0m\u001b[0;32m    378\u001b[0m                 \u001b[1;32melse\u001b[0m\u001b[1;33m:\u001b[0m\u001b[1;33m\u001b[0m\u001b[1;33m\u001b[0m\u001b[0m\n\u001b[0;32m    379\u001b[0m                     \u001b[1;31m# deferred printer\u001b[0m\u001b[1;33m\u001b[0m\u001b[1;33m\u001b[0m\u001b[1;33m\u001b[0m\u001b[0m\n",
      "\u001b[1;32m~\\anaconda3\\lib\\site-packages\\IPython\\lib\\pretty.py\u001b[0m in \u001b[0;36minner\u001b[1;34m(obj, p, cycle)\u001b[0m\n\u001b[0;32m    605\u001b[0m             \u001b[0mp\u001b[0m\u001b[1;33m.\u001b[0m\u001b[0mpretty\u001b[0m\u001b[1;33m(\u001b[0m\u001b[0mkey\u001b[0m\u001b[1;33m)\u001b[0m\u001b[1;33m\u001b[0m\u001b[1;33m\u001b[0m\u001b[0m\n\u001b[0;32m    606\u001b[0m             \u001b[0mp\u001b[0m\u001b[1;33m.\u001b[0m\u001b[0mtext\u001b[0m\u001b[1;33m(\u001b[0m\u001b[1;34m': '\u001b[0m\u001b[1;33m)\u001b[0m\u001b[1;33m\u001b[0m\u001b[1;33m\u001b[0m\u001b[0m\n\u001b[1;32m--> 607\u001b[1;33m             \u001b[0mp\u001b[0m\u001b[1;33m.\u001b[0m\u001b[0mpretty\u001b[0m\u001b[1;33m(\u001b[0m\u001b[0mobj\u001b[0m\u001b[1;33m[\u001b[0m\u001b[0mkey\u001b[0m\u001b[1;33m]\u001b[0m\u001b[1;33m)\u001b[0m\u001b[1;33m\u001b[0m\u001b[1;33m\u001b[0m\u001b[0m\n\u001b[0m\u001b[0;32m    608\u001b[0m         \u001b[0mp\u001b[0m\u001b[1;33m.\u001b[0m\u001b[0mend_group\u001b[0m\u001b[1;33m(\u001b[0m\u001b[0mstep\u001b[0m\u001b[1;33m,\u001b[0m \u001b[0mend\u001b[0m\u001b[1;33m)\u001b[0m\u001b[1;33m\u001b[0m\u001b[1;33m\u001b[0m\u001b[0m\n\u001b[0;32m    609\u001b[0m     \u001b[1;32mreturn\u001b[0m \u001b[0minner\u001b[0m\u001b[1;33m\u001b[0m\u001b[1;33m\u001b[0m\u001b[0m\n",
      "\u001b[1;32m~\\anaconda3\\lib\\site-packages\\IPython\\lib\\pretty.py\u001b[0m in \u001b[0;36mpretty\u001b[1;34m(self, obj)\u001b[0m\n\u001b[0;32m    375\u001b[0m                 \u001b[1;32mif\u001b[0m \u001b[0mcls\u001b[0m \u001b[1;32min\u001b[0m \u001b[0mself\u001b[0m\u001b[1;33m.\u001b[0m\u001b[0mtype_pprinters\u001b[0m\u001b[1;33m:\u001b[0m\u001b[1;33m\u001b[0m\u001b[1;33m\u001b[0m\u001b[0m\n\u001b[0;32m    376\u001b[0m                     \u001b[1;31m# printer registered in self.type_pprinters\u001b[0m\u001b[1;33m\u001b[0m\u001b[1;33m\u001b[0m\u001b[1;33m\u001b[0m\u001b[0m\n\u001b[1;32m--> 377\u001b[1;33m                     \u001b[1;32mreturn\u001b[0m \u001b[0mself\u001b[0m\u001b[1;33m.\u001b[0m\u001b[0mtype_pprinters\u001b[0m\u001b[1;33m[\u001b[0m\u001b[0mcls\u001b[0m\u001b[1;33m]\u001b[0m\u001b[1;33m(\u001b[0m\u001b[0mobj\u001b[0m\u001b[1;33m,\u001b[0m \u001b[0mself\u001b[0m\u001b[1;33m,\u001b[0m \u001b[0mcycle\u001b[0m\u001b[1;33m)\u001b[0m\u001b[1;33m\u001b[0m\u001b[1;33m\u001b[0m\u001b[0m\n\u001b[0m\u001b[0;32m    378\u001b[0m                 \u001b[1;32melse\u001b[0m\u001b[1;33m:\u001b[0m\u001b[1;33m\u001b[0m\u001b[1;33m\u001b[0m\u001b[0m\n\u001b[0;32m    379\u001b[0m                     \u001b[1;31m# deferred printer\u001b[0m\u001b[1;33m\u001b[0m\u001b[1;33m\u001b[0m\u001b[1;33m\u001b[0m\u001b[0m\n",
      "\u001b[1;32m~\\anaconda3\\lib\\site-packages\\IPython\\lib\\pretty.py\u001b[0m in \u001b[0;36minner\u001b[1;34m(obj, p, cycle)\u001b[0m\n\u001b[0;32m    605\u001b[0m             \u001b[0mp\u001b[0m\u001b[1;33m.\u001b[0m\u001b[0mpretty\u001b[0m\u001b[1;33m(\u001b[0m\u001b[0mkey\u001b[0m\u001b[1;33m)\u001b[0m\u001b[1;33m\u001b[0m\u001b[1;33m\u001b[0m\u001b[0m\n\u001b[0;32m    606\u001b[0m             \u001b[0mp\u001b[0m\u001b[1;33m.\u001b[0m\u001b[0mtext\u001b[0m\u001b[1;33m(\u001b[0m\u001b[1;34m': '\u001b[0m\u001b[1;33m)\u001b[0m\u001b[1;33m\u001b[0m\u001b[1;33m\u001b[0m\u001b[0m\n\u001b[1;32m--> 607\u001b[1;33m             \u001b[0mp\u001b[0m\u001b[1;33m.\u001b[0m\u001b[0mpretty\u001b[0m\u001b[1;33m(\u001b[0m\u001b[0mobj\u001b[0m\u001b[1;33m[\u001b[0m\u001b[0mkey\u001b[0m\u001b[1;33m]\u001b[0m\u001b[1;33m)\u001b[0m\u001b[1;33m\u001b[0m\u001b[1;33m\u001b[0m\u001b[0m\n\u001b[0m\u001b[0;32m    608\u001b[0m         \u001b[0mp\u001b[0m\u001b[1;33m.\u001b[0m\u001b[0mend_group\u001b[0m\u001b[1;33m(\u001b[0m\u001b[0mstep\u001b[0m\u001b[1;33m,\u001b[0m \u001b[0mend\u001b[0m\u001b[1;33m)\u001b[0m\u001b[1;33m\u001b[0m\u001b[1;33m\u001b[0m\u001b[0m\n\u001b[0;32m    609\u001b[0m     \u001b[1;32mreturn\u001b[0m \u001b[0minner\u001b[0m\u001b[1;33m\u001b[0m\u001b[1;33m\u001b[0m\u001b[0m\n",
      "\u001b[1;32m~\\anaconda3\\lib\\site-packages\\PyPDF2\\generic.py\u001b[0m in \u001b[0;36m__getitem__\u001b[1;34m(self, key)\u001b[0m\n\u001b[0;32m    514\u001b[0m \u001b[1;33m\u001b[0m\u001b[0m\n\u001b[0;32m    515\u001b[0m     \u001b[1;32mdef\u001b[0m \u001b[0m__getitem__\u001b[0m\u001b[1;33m(\u001b[0m\u001b[0mself\u001b[0m\u001b[1;33m,\u001b[0m \u001b[0mkey\u001b[0m\u001b[1;33m)\u001b[0m\u001b[1;33m:\u001b[0m\u001b[1;33m\u001b[0m\u001b[1;33m\u001b[0m\u001b[0m\n\u001b[1;32m--> 516\u001b[1;33m         \u001b[1;32mreturn\u001b[0m \u001b[0mdict\u001b[0m\u001b[1;33m.\u001b[0m\u001b[0m__getitem__\u001b[0m\u001b[1;33m(\u001b[0m\u001b[0mself\u001b[0m\u001b[1;33m,\u001b[0m \u001b[0mkey\u001b[0m\u001b[1;33m)\u001b[0m\u001b[1;33m.\u001b[0m\u001b[0mgetObject\u001b[0m\u001b[1;33m(\u001b[0m\u001b[1;33m)\u001b[0m\u001b[1;33m\u001b[0m\u001b[1;33m\u001b[0m\u001b[0m\n\u001b[0m\u001b[0;32m    517\u001b[0m \u001b[1;33m\u001b[0m\u001b[0m\n\u001b[0;32m    518\u001b[0m     \u001b[1;31m##\u001b[0m\u001b[1;33m\u001b[0m\u001b[1;33m\u001b[0m\u001b[1;33m\u001b[0m\u001b[0m\n",
      "\u001b[1;32m~\\anaconda3\\lib\\site-packages\\PyPDF2\\generic.py\u001b[0m in \u001b[0;36mgetObject\u001b[1;34m(self)\u001b[0m\n\u001b[0;32m    176\u001b[0m \u001b[1;33m\u001b[0m\u001b[0m\n\u001b[0;32m    177\u001b[0m     \u001b[1;32mdef\u001b[0m \u001b[0mgetObject\u001b[0m\u001b[1;33m(\u001b[0m\u001b[0mself\u001b[0m\u001b[1;33m)\u001b[0m\u001b[1;33m:\u001b[0m\u001b[1;33m\u001b[0m\u001b[1;33m\u001b[0m\u001b[0m\n\u001b[1;32m--> 178\u001b[1;33m         \u001b[1;32mreturn\u001b[0m \u001b[0mself\u001b[0m\u001b[1;33m.\u001b[0m\u001b[0mpdf\u001b[0m\u001b[1;33m.\u001b[0m\u001b[0mgetObject\u001b[0m\u001b[1;33m(\u001b[0m\u001b[0mself\u001b[0m\u001b[1;33m)\u001b[0m\u001b[1;33m.\u001b[0m\u001b[0mgetObject\u001b[0m\u001b[1;33m(\u001b[0m\u001b[1;33m)\u001b[0m\u001b[1;33m\u001b[0m\u001b[1;33m\u001b[0m\u001b[0m\n\u001b[0m\u001b[0;32m    179\u001b[0m \u001b[1;33m\u001b[0m\u001b[0m\n\u001b[0;32m    180\u001b[0m     \u001b[1;32mdef\u001b[0m \u001b[0m__repr__\u001b[0m\u001b[1;33m(\u001b[0m\u001b[0mself\u001b[0m\u001b[1;33m)\u001b[0m\u001b[1;33m:\u001b[0m\u001b[1;33m\u001b[0m\u001b[1;33m\u001b[0m\u001b[0m\n",
      "\u001b[1;32m~\\anaconda3\\lib\\site-packages\\PyPDF2\\pdf.py\u001b[0m in \u001b[0;36mgetObject\u001b[1;34m(self, indirectReference)\u001b[0m\n\u001b[0;32m   1596\u001b[0m             \u001b[0mstart\u001b[0m \u001b[1;33m=\u001b[0m \u001b[0mself\u001b[0m\u001b[1;33m.\u001b[0m\u001b[0mxref\u001b[0m\u001b[1;33m[\u001b[0m\u001b[0mindirectReference\u001b[0m\u001b[1;33m.\u001b[0m\u001b[0mgeneration\u001b[0m\u001b[1;33m]\u001b[0m\u001b[1;33m[\u001b[0m\u001b[0mindirectReference\u001b[0m\u001b[1;33m.\u001b[0m\u001b[0midnum\u001b[0m\u001b[1;33m]\u001b[0m\u001b[1;33m\u001b[0m\u001b[1;33m\u001b[0m\u001b[0m\n\u001b[0;32m   1597\u001b[0m             \u001b[1;32mif\u001b[0m \u001b[0mdebug\u001b[0m\u001b[1;33m:\u001b[0m \u001b[0mprint\u001b[0m\u001b[1;33m(\u001b[0m\u001b[1;33m(\u001b[0m\u001b[1;34m\"  Uncompressed Object\"\u001b[0m\u001b[1;33m,\u001b[0m \u001b[0mindirectReference\u001b[0m\u001b[1;33m.\u001b[0m\u001b[0midnum\u001b[0m\u001b[1;33m,\u001b[0m \u001b[0mindirectReference\u001b[0m\u001b[1;33m.\u001b[0m\u001b[0mgeneration\u001b[0m\u001b[1;33m,\u001b[0m \u001b[1;34m\":\"\u001b[0m\u001b[1;33m,\u001b[0m \u001b[0mstart\u001b[0m\u001b[1;33m)\u001b[0m\u001b[1;33m)\u001b[0m\u001b[1;33m\u001b[0m\u001b[1;33m\u001b[0m\u001b[0m\n\u001b[1;32m-> 1598\u001b[1;33m             \u001b[0mself\u001b[0m\u001b[1;33m.\u001b[0m\u001b[0mstream\u001b[0m\u001b[1;33m.\u001b[0m\u001b[0mseek\u001b[0m\u001b[1;33m(\u001b[0m\u001b[0mstart\u001b[0m\u001b[1;33m,\u001b[0m \u001b[1;36m0\u001b[0m\u001b[1;33m)\u001b[0m\u001b[1;33m\u001b[0m\u001b[1;33m\u001b[0m\u001b[0m\n\u001b[0m\u001b[0;32m   1599\u001b[0m             \u001b[0midnum\u001b[0m\u001b[1;33m,\u001b[0m \u001b[0mgeneration\u001b[0m \u001b[1;33m=\u001b[0m \u001b[0mself\u001b[0m\u001b[1;33m.\u001b[0m\u001b[0mreadObjectHeader\u001b[0m\u001b[1;33m(\u001b[0m\u001b[0mself\u001b[0m\u001b[1;33m.\u001b[0m\u001b[0mstream\u001b[0m\u001b[1;33m)\u001b[0m\u001b[1;33m\u001b[0m\u001b[1;33m\u001b[0m\u001b[0m\n\u001b[0;32m   1600\u001b[0m             \u001b[1;32mif\u001b[0m \u001b[0midnum\u001b[0m \u001b[1;33m!=\u001b[0m \u001b[0mindirectReference\u001b[0m\u001b[1;33m.\u001b[0m\u001b[0midnum\u001b[0m \u001b[1;32mand\u001b[0m \u001b[0mself\u001b[0m\u001b[1;33m.\u001b[0m\u001b[0mxrefIndex\u001b[0m\u001b[1;33m:\u001b[0m\u001b[1;33m\u001b[0m\u001b[1;33m\u001b[0m\u001b[0m\n",
      "\u001b[1;31mValueError\u001b[0m: seek of closed file"
     ]
    }
   ],
   "source": [
    "textBrute"
   ]
  },
  {
   "cell_type": "code",
   "execution_count": 34,
   "metadata": {
    "ExecuteTime": {
     "end_time": "2021-10-25T20:51:06.015106Z",
     "start_time": "2021-10-25T20:51:06.001112Z"
    }
   },
   "outputs": [],
   "source": [
    "from tabula.io import read_pdf\n",
    "bok = \"docs/PMBOK 5th.pdf\"\n",
    "pmi = \"docs/PMIPracticeStandardforProjectRiskManagement.pdf\"\n",
    "\n",
    "with open('docs/PMBOK 5th.pdf', encoding=\"utf8\") as file:\n",
    "    identify_risk = file.read()\n",
    "\n",
    "\n",
    "# t_pmi = read_pdf(pmi, pages=list(range(13, 128)),area=[box_pmi],output_format=\"json\", stream=True)\n",
    "\n",
    "def process(pages):\n",
    "    box = np.dot([1.425, 0, 25.386, 19.947],28.28).tolist()\n",
    "        \n",
    "    t_bok = read_pdf(bok, pages=pages,area=[box],output_format=\"json\", stream=True)\n",
    "    all_data_bok=[]\n",
    "    for i in range(len(t_bok)):\n",
    "        all_data_bok.append(t_bok[i]['data'])\n",
    "\n",
    "\n",
    "#     all_data_pmi=[]\n",
    "#     for i in range(len(t_pmi)):\n",
    "#         all_data_pmi.append(t_pmi[i]['data'])\n",
    "\n",
    "    data_bok = [item for sublist in all_data_bok for item in sublist]\n",
    "\n",
    "#     data_pmi = [item for sublist in all_data_pmi for item in sublist]\n",
    "\n",
    "    text_bok=[]\n",
    "    for i in range(len(data_bok)):\n",
    "        for j in range(len(data_bok[i])):\n",
    "            text_bok.append(data_bok[i][j]['text'])\n",
    "\n",
    "\n",
    "#     text_pmi=[]\n",
    "#       for i in range(len(data_pmi)):\n",
    "#         for j in range(len(data_pmi[i])):\n",
    "#             text_pmi.append(data_pmi[i][j]['text'])\n",
    "\n",
    "    text_bok = [i for i in text_bok if i !='']\n",
    "#     text_pmi = [i for i in text_pmi if i !='']\n",
    "\n",
    "    return  ' '.join([str(elem) for elem in text_bok])\n",
    "#     text_pmi = ' '.join([str(elem) for elem in text_pmi])"
   ]
  },
  {
   "cell_type": "code",
   "execution_count": 48,
   "metadata": {
    "ExecuteTime": {
     "end_time": "2021-10-25T21:07:24.502434Z",
     "start_time": "2021-10-25T21:07:02.099763Z"
    }
   },
   "outputs": [],
   "source": [
    "P1 = process(list(range(335, 345)))\n",
    "\n",
    "P2 = process(list(range(345, 354)))\n",
    "\n",
    "P3 = process(list(range(354, 360))).replace(' 11.4 Perform Quantitative risk Analysis Perform Quantitative Risk Analysis is the process of numerically analyzing the effect of identified risks on overall project objectives. The key benefit of this process is that it produces quantitative risk information to support decision making in order to reduce project uncertainty. The inputs, tools and techniques, and outputs of this process are depicted in Figure 11-11. Figure 11-12 depicts the data flow diagram of the process.','') \n",
    "\n",
    "P4 = process(list(range(359, 368))).replace('11.3.2.5 risk urgency Assessment Risks requiring near-term responses may be considered more urgent to address. Indicators of priority may include probability of detecting the risk, time to affect a risk response, symptoms and warning signs, and the risk rating. In some qualitative analyses, the assessment of risk urgency is combined with the risk ranking that is determined from the probability and impact matrix to give a final risk severity rating. 11.3.2.6 Expert Judgment Expert judgment is required to assess the probability and impact of each risk to determine its location in the matrix shown in Figure 11-10. Experts generally are those having experience with similar, recent projects. Gathering expert judgment is often accomplished with the use of risk facilitation workshops or interviews. The experts’ bias should be taken into account in this process. 11.3.3 Perform Qualitative risk Analysis: outputs 11.3.3.1 Project documents updates Project documents that may be updated include, but are not limited to: • r isk register updates. As new information becomes available through the qualitative risk assessment, the risk register is updated. Updates to the risk register may include assessments of probability and impacts for each risk, risk ranking or scores, risk urgency information or risk categorization, and a watch list for low probability risks or risks requiring further analysis. • A ssumptions log updates. As new information becomes available through the qualitative risk assessment, assumptions could change. The assumptions log needs to be revisited to accommodate this new information. Assumptions may be incorporated into the project scope statement or in a separate assumptions log. ','')\n",
    "\n",
    "P5 = process(list(range(368, 375)))\n",
    "\n",
    "P6 = process(list(range(375, 381)))"
   ]
  },
  {
   "cell_type": "code",
   "execution_count": 68,
   "metadata": {
    "ExecuteTime": {
     "end_time": "2021-10-25T22:02:19.007079Z",
     "start_time": "2021-10-25T22:02:18.995111Z"
    },
    "scrolled": false
   },
   "outputs": [
    {
     "data": {
      "text/plain": [
       "'11 Project risK MAnAGeMent Project Risk Management includes the processes of conducting risk management planning, identification, analysis, response planning, and controlling risk on a project. The objectives of project risk management are to increase the likelihood and impact of positive events, and decrease the likelihood and impact of negative events in the project. Figure 11-1 provides an overview of the Project Risk Management processes, which are as follows: 11.1 Plan risk Management—The process of defining how to conduct risk management activities for a project. 11.2 Identify risks—The process of determining which risks may affect the project and documenting their characteristics. 11.3  Perform Qualitative risk Analysis—The process of prioritizing risks for further analysis or action by assessing and combining their probability of occurrence and impact. 11.4  Perform Quantitative risk Analysis—The process of numerically analyzing the effect of identified risks on overall project objectives. 11.5 Plan risk responses—The process of developing options and actions to enhance opportunities and to reduce threats to project objectives. 11.6 control risks—The process of implementing risk response plans, tracking identified risks, monitoring residual risks, identifying new risks, and evaluating risk process effectiveness throughout the project. These processes interact with each other and with processes in other Knowledge Areas as described in detail in Section 3 and Annex A1. Project risk is an uncertain event or condition that, if it occurs, has a positive or negative effect on one or more project objectives such as scope, schedule, cost, and quality. A risk may have one or more causes and, if it occurs, it may have one or more impacts. A cause may be a given or potential requirement, assumption, constraint, or condition that creates the possibility of negative or positive outcomes. For example, causes could include the requirement of an environmental permit to do work, or having limited personnel assigned to design the project. The risk is that the permitting agency may take longer than planned to issue a permit; or, in the case of an opportunity, additional development personnel may become available who can participate in design, and they can be assigned to the project. If either of these uncertain events occurs, there may be an impact on the project, scope, cost, schedule, quality, or performance. Risk conditions may include aspects of the project’s or organization’s environment that contribute to project risk, such as immature project management practices, lack of integrated management systems, concurrent multiple projects, or dependency on external participants who are outside the project’s direct control. Project risk has its origins in the uncertainty present in all projects. Known risks are those that have been identified and analyzed, making it possible to plan responses for those risks. Known risks that cannot be managed proactively, should be assigned a contingency reserve. Unknown risks cannot be managed proactively and therefore may be assigned a management reserve. A negative project risk that has occurred is considered an issue. Individual project risks are different from overall project risk. Overall project risk represents the effect of uncertainty on the project as a whole. It is more than the sum of the individual risks within a project, since it includes all sources of project uncertainty. It represents the exposure of stakeholders to the implications of variations in project outcome, both positive and negative. Organizations perceive risk as the effect of uncertainty on projects and organizational objectives. Organizations and stakeholders are willing to accept varying degrees of risk depending on their risk attitude. The risk attitudes of both the organization and the stakeholders may be influenced by a number of factors, which are broadly classified into three themes: • Risk appetite, which is the degree of uncertainty an entity is willing to take on in anticipation of a reward. •  Risk tolerance, which is the degree, amount, or volume of risk that an organization or individual will withstand. •  Risk threshold, which refers to measures along the level of uncertainty or the level of impact at which a stakeholder may have a specific interest. Below that risk threshold, the organization will accept the risk. Above that risk threshold, the organization will not tolerate the risk. For example, an organization’s risk attitude may include its appetite for uncertainty, its threshold for risk levels that are unacceptable, or its risk tolerance at which point the organization may select a different risk response. Positive and negative risks are commonly referred to as opportunities and threats. The project may be accepted if the risks are within tolerances and are in balance with the rewards that may be gained by taking the risks. Positive risks that offer opportunities within the limits of risk tolerances may be pursued in order to generate enhanced value. For example, adopting an aggressive resource optimization technique is a risk taken in anticipation of a reward for using fewer resources. Individuals and groups adopt attitudes toward risk that influence the way they respond. These risk attitudes are driven by perception, tolerances, and other biases, which should be made explicit wherever possible. A consistent approach to risk should be developed for each project, and communication about risk and its handling should be open and honest. Risk responses reflect an organization’s perceived balance between risk taking and risk avoidance. To be successful, an organization should be committed to address risk management proactively and consistently throughout the project. A conscious choice should be made at all levels of the organization to actively identify and pursue effective risk management during the life of the project. Project risk could exist at the moment a project is initiated. Moving forward on a project without a proactive focus on risk management is likely to lead to more problems arising from unmanaged threats. Project Risk Management Overview 11.1 Plan Risk Management 11.2 Identify Risks 11.3 Perform QualitativeRisk Analysis .1 Inputs .1 Inputs .1 Inputs .1 Project management plan .1 Risk management plan .1 Risk management plan .2 Project charter .2 Cost management plan .2 Scope baseline .3 Stakeholder register .3 Schedule management plan .3 Risk register .4 Enterprise environmental .4 Quality management plan .4 Enterprise environmental factors .5 Human resource factors .5 Organizational process assets management plan .5 Organizational process assets .6 Scope baseline .2 Tools & Techniques .7 Activity cost estimates  .2  Tools & Techniques .1 Analytical techniques .8 Activity duration estimates .1 Risk probability and impact .2 Expert judgment .9 Stakeholder register assessment .3 Meetings .10 Project documents .2 Probability and impact matrix .11 Procurement documents .3 Risk data quality assessment .3 Outputs .12 Enterprise environmental .4 Risk categorization .1 Risk management plan factors .5 Risk urgency assessment .13 Organizational process assets .6 Expert judgment .2 Tools & Techniques .3 Outputs 11.4 Perform Quantitative .1 Documentation reviews .1 Project documents updates Risk Analysis .2 Information gathering techniques .1 Inputs .3 Checklist analysis .1 Risk management plan .4 Assumptions analysis .2 Cost management plan .5 Diagramming techniques11.6 Control Risks .3 Schedule management plan .6 SWOT analysis .4 Risk register .7 Expert judgment .1 Inputs .5 Enterprise environmental factors . 3  Outputs .1 Project management plan.2 Risk register .6 Organizational process assets .1 Risk register .3 Work performance data .4 Work performance reports .2 Tools & Techniques .1 Data gathering and .2 Tools & Techniques representation techniques 11.5 Plan Risk Responses .1 Risk reassessment .2 Quantitative risk analysis and .2 Risk audits modeling techniques .3 Variance and trend analysis .3 Expert judgment .1 Inputs .4 Technical performance .1 Risk management plan  measurement .3 Outputs .2 Risk register .5 Reserve analysis .1 Project documents updates .6 Meetings .2 Tools & Techniques .1 Strategies for negative risks or .3 Outputs threats .1 Work performance information .2 Strategies for positive risks or .2 Change requests opportunities .3 Project management plan .3 Contingent response updates strategies .4 Project documents updates .4 Expert judgment .5 Organizational process assets updates .3 Outputs .1 Project management plan updates .2 Project documents updates Figure 11-1. Project risk Management overview 11.1 Plan risk Management Plan Risk Management is the process of defining how to conduct risk management activities for a project. The key benefit of this process is it ensures that the degree, type, and visibility of risk management are commensurate with both the risks and the importance of the project to the organization. The risk management plan is vital to communicate with and obtain agreement and support from all stakeholders to ensure the risk management process is supported and performed effectively over the project life cycle. The inputs, tools and techniques, and outputs of this process are depicted in Figure 11-2. Figure 11-3 depicts the data flow diagram of the process. Inputs Tools & Techniques Outputs .1 Project management plan .1 Analytical techniques .1 Risk management plan .2 Project charter .2 Expert judgment .3 Stakeholder register .3 Meetings .4 Enterprise environmental factors .5 Organizational process assets Figure 11-2. Plan risk Management: Inputs, tools & techniques, and outputs Project Risk Management 4.1 • Project charter Develop Project Charter 11.1 Plan Risk Management 4.2 • Enterprise Develop Project environmental Management factors • Risk Plan • Project • Organizational management management process assets plan plan 11.4 11.2 Perform 13.1 Identify Quantitative Identify Risks Risk Analysis Stakeholders • Stakeholder register 11.3 Perform 11.5 Qualitative Plan Risk Enterprise/ Risk Analysis Responses Organization Figure 11-3. Plan risk Management data Flow diagram Careful and explicit planning enhances the probability of success for other risk management processes. Planning is also important to provide sufficient resources and time for risk management activities and to establish an agreed- upon basis for evaluating risks. The Plan Risk Management process should begin when a project is conceived and should be completed early during project planning. 11.1.1 Plan risk Management: Inputs 11.1.1.1 Project Management Plan In planning risk management, all approved subsidiary management plans and baselines should be taken into consideration in order to make the risk management plan consistent with them. The risk management plan is also a component of the project management plan. The project management plan provides baseline or current state of risk-affected areas including scope, schedule, and cost. 11.1.1.2 Project charter Described in Section 4.1.3.1. The project charter can provide various inputs such as high-level risks, high-level project descriptions, and high-level requirements. 11.1.1.3 Stakeholder register Described in Section 13.1.3.1. The stakeholder register, which contains all details related to the project’s stakeholders, provides an overview of their roles. 11.1.1.4 Enterprise Environmental Factors Described in Section 2.1.5. The enterprise environmental factors that can influence the Plan Risk Management process include, but are not limited to, risk attitudes, thresholds, and tolerances that describe the degree of risk that an organization will withstand. 11.1.1.5 organizational Process Assets Described in Section 2.1.4. The organizational process assets that can influence the Plan Risk Management process include, but are not limited to: • Risk categories, • Common definitions of concepts and terms, • Risk statement formats, • Standard templates, • Roles and responsibilities, • Authority levels for decision making, and • Lessons learned. 11.1.2 Plan risk Management: tools and techniques 11.1.2.1 Analytical techniques Analytical techniques are used to understand and define the overall risk management context of the project. Risk management context is a combination of stakeholder risk attitudes and the strategic risk exposure of a given project based on the overall project context. For example, a stakeholder risk profile analysis may be performed to grade and qualify the project stakeholder risk appetite and tolerance. Other techniques, such as the use of strategic risk scoring sheets, are used to provide a high-level assessment of the risk exposure of the project based on the overall project context. Depending on these assessments, the project team can allocate appropriate resources and focus on the risk management activities. 11.1.2.2 Expert Judgment To ensure a comprehensive establishment of the risk management plan, judgment, and expertise should be considered from groups or individuals with specialized training or knowledge on the subject area, such as: • Senior management, • Project stakeholders, • Project managers who have worked on projects in the same area (directly or through lessons learned), • Subject matter experts (SMEs) in business or project area, • Industry groups and consultants, and • Professional and technical associations. 11.1.2.3 Meetings Project teams hold planning meetings to develop the risk management plan. Attendees at these meetings may include the project manager, selected project team members and stakeholders, anyone in the organization with responsibility to manage the risk planning and execution activities, and others, as needed. High-level plans for conducting the risk management activities are defined in these meetings. Risk management cost elements and schedule activities should be developed for inclusion in the project budget and schedule, respectively. Risk contingency reserve application approaches may be established or reviewed. Risk management responsibilities should be assigned. General organizational templates for risk categories and definitions of terms such as levels of risk, probability by type of risk, impact by type of objectives, and the probability and impact matrix will be tailored to the specific project. If templates for other steps in the process do not exist, they may be generated in these meetings. The outputs of these activities are summarized in the risk management plan. 11.1.3 Plan risk Management: outputs 11.1.3.1 risk Management Plan The risk management plan is a component of the project management plan and describes how risk management activities will be structured and performed. The risk management plan includes the following: • Methodology. Defines the approaches, tools, and data sources that will be used to perform risk management on the project. • roles and responsibilities. Defines the lead, support, and risk management team members for each type of activity in the risk management plan, and clarifies their responsibilities. •  Budgeting. Estimates funds needed, based on assigned resources, for inclusion in the cost baseline and establishes protocols for application of contingency and management reserves. •  timing. Defines when and how often the risk management processes will be performed throughout the project life cycle, establishes protocols for application of schedule contingency reserves, and establishes risk management activities for inclusion in the project schedule. • risk categories. Provide a means for grouping potential causes of risk. Several approaches can be used, for example, a structure based on project objectives by category. A risk breakdown structure (RBS) helps the project team to look at many sources from which project risk may arise in a risk identification exercise. Different RBS structures will be appropriate for different types of projects. An organization can use a previously prepared custom categorization framework, which may take the form of a simple list of categories or may be structured into an RBS. The RBS is a hierarchical representation of risks according to their risk categories. An example is shown in Figure 11-4. Beta Distribution Triangular Distribution 0.1 0.1 0.0 0.0 Beta and triangular distributions are frequently used in quantitative risk analysis. The data shown in the figure on the left (Beta Distribution) is one example of a family of such distributions determined by two \"shape parameters\". Other commonly used distributions include the uniform, normal and lognormal. In these charts the horizontal (X) axes represent possible values of time or cost and the vertical (Y) axes represent relative likelihood. Figure 11-4. Example of a risk Breakdown Structure (rBS) • definitions of risk probability and impact. The quality and credibility of the risk analysis requires that different levels of risk probability and impact be defined that are specific to the project context. General definitions of probability levels and impact levels are tailored to the individual project during the Plan Risk Management process for use in subsequent processes. Table 11-1 is an example of definitions of negative impacts that could be used in evaluating risk impacts related to four project objectives. (Similar tables may be established with a positive impact perspective). Table 11-1 illustrates both relative and numerical (in this case, nonlinear) approaches. table 11-1. definition of Impact Scales for Four Project objectives Defined Conditions for Impact Scales of a Risk on Major Project Objectives (Examples are shown for negative impacts only) Relative or numerical scales are shown Project Very low /0.05 Low /0.10 Moderate /0.20 High /0.40 Very high /0.80 Objective Insignificant cost < 10% cost 10 – 20% cost 20 – 40% cost > 40% cost Cost increase increase increase increase increase Insignificant time < 5% time 5 – 10% time 10 – 20% time > 20% time Time increase increase increase increase increase Project end itemScope decrease Minor areas of Major areas ofScope reduction Scope is effectivelybarely noticeable scope affected scope affected unacceptable to sponsor useless Project end item Quality degradationOnly very demanding Quality reduction Quality reduction Quality is effectivelybarely noticeable applications requires sponsor unacceptable to are affected approval sponsor useless This table presents examples of risk impact definitions for four different project objectives. They should be tailored in the Risk Management Planning process to the individual project and to the organization\\'s risk thresholds. Impact definitions can be developed for opportunities in a similar way. • Probability and impact matrix. A probability and impact matrix is a grid for mapping the probability of each risk occurrence and its impact on project objectives if that risk occurs. Risks are prioritized according to their potential implications for having an effect on the project’s objectives. A typical approach to prioritizing risks is to use a look-up table or a probability and impact matrix. The specific combinations of probability and impact that lead to a risk being rated as “high,” “moderate,” or “low” importance are usually set by the organization. • revised stakeholders’ tolerances. Stakeholders’ tolerances, as they apply to the specific project, may be revised in the Plan Risk Management process. • reporting formats. Reporting formats define how the outcomes of the risk management process will be documented, analyzed, and communicated. It describes the content and format of the risk register as well as any other risk reports required. • tracking. Tracking documents how risk activities will be recorded for the benefit of the current project and how risk management processes will be audited.'"
      ]
     },
     "execution_count": 68,
     "metadata": {},
     "output_type": "execute_result"
    }
   ],
   "source": [
    "P1"
   ]
  },
  {
   "cell_type": "code",
   "execution_count": 107,
   "metadata": {
    "ExecuteTime": {
     "end_time": "2021-10-25T22:14:25.521201Z",
     "start_time": "2021-10-25T22:14:25.511196Z"
    }
   },
   "outputs": [],
   "source": [
    "def clean(text):\n",
    "    # Remove numbers\n",
    "    text = re.sub('[\\d]+','',str(text))\n",
    "    # Remove spaces \n",
    "#     text = re.sub('[\\t\\n\\r\\f\\v]','',str(text))\n",
    "    # remove special character '•'\n",
    "    text = re.sub('[•-]','',str(text))\n",
    "    # replace & with and\n",
    "    text = text.replace('&',\"and\")\n",
    "    # replace —The with is the\n",
    "    text = text.replace('—The',\" is the\")\n",
    "    text = text.lower()\n",
    "    return text"
   ]
  },
  {
   "cell_type": "code",
   "execution_count": 113,
   "metadata": {
    "ExecuteTime": {
     "end_time": "2021-10-25T22:14:46.102500Z",
     "start_time": "2021-10-25T22:14:46.092527Z"
    }
   },
   "outputs": [
    {
     "data": {
      "text/plain": [
       "'11 Project risK MAnAGeMent Project Risk Management includes the processes of conducting risk management planning, identification, analysis, response planning, and controlling risk on a project. The objectives of project risk management are to increase the likelihood and impact of positive events, and decrease the likelihood and impact of negative events in the project. Figure 11-1 provides an overview of the Project Risk Management processes, which are as follows: 11.1 Plan risk Management—The process of defining how to conduct risk management activities for a project. 11.2 Identify risks—The process of determining which risks may affect the project and documenting their characteristics. 11.3  Perform Qualitative risk Analysis—The process of prioritizing risks for further analysis or action by assessing and combining their probability of occurrence and impact. 11.4  Perform Quantitative risk Analysis—The process of numerically analyzing the effect of identified risks on overall project objectives. 11.5 Plan risk responses—The process of developing options and actions to enhance opportunities and to reduce threats to project objectives. 11.6 control risks—The process of implementing risk response plans, tracking identified risks, monitoring residual risks, identifying new risks, and evaluating risk process effectiveness throughout the project. These processes interact with each other and with processes in other Knowledge Areas as described in detail in Section 3 and Annex A1. Project risk is an uncertain event or condition that, if it occurs, has a positive or negative effect on one or more project objectives such as scope, schedule, cost, and quality. A risk may have one or more causes and, if it occurs, it may have one or more impacts. A cause may be a given or potential requirement, assumption, constraint, or condition that creates the possibility of negative or positive outcomes. For example, causes could include the requirement of an environmental permit to do work, or having limited personnel assigned to design the project. The risk is that the permitting agency may take longer than planned to issue a permit; or, in the case of an opportunity, additional development personnel may become available who can participate in design, and they can be assigned to the project. If either of these uncertain events occurs, there may be an impact on the project, scope, cost, schedule, quality, or performance. Risk conditions may include aspects of the project’s or organization’s environment that contribute to project risk, such as immature project management practices, lack of integrated management systems, concurrent multiple projects, or dependency on external participants who are outside the project’s direct control. Project risk has its origins in the uncertainty present in all projects. Known risks are those that have been identified and analyzed, making it possible to plan responses for those risks. Known risks that cannot be managed proactively, should be assigned a contingency reserve. Unknown risks cannot be managed proactively and therefore may be assigned a management reserve. A negative project risk that has occurred is considered an issue. Individual project risks are different from overall project risk. Overall project risk represents the effect of uncertainty on the project as a whole. It is more than the sum of the individual risks within a project, since it includes all sources of project uncertainty. It represents the exposure of stakeholders to the implications of variations in project outcome, both positive and negative. Organizations perceive risk as the effect of uncertainty on projects and organizational objectives. Organizations and stakeholders are willing to accept varying degrees of risk depending on their risk attitude. The risk attitudes of both the organization and the stakeholders may be influenced by a number of factors, which are broadly classified into three themes: • Risk appetite, which is the degree of uncertainty an entity is willing to take on in anticipation of a reward. •  Risk tolerance, which is the degree, amount, or volume of risk that an organization or individual will withstand. •  Risk threshold, which refers to measures along the level of uncertainty or the level of impact at which a stakeholder may have a specific interest. Below that risk threshold, the organization will accept the risk. Above that risk threshold, the organization will not tolerate the risk. For example, an organization’s risk attitude may include its appetite for uncertainty, its threshold for risk levels that are unacceptable, or its risk tolerance at which point the organization may select a different risk response. Positive and negative risks are commonly referred to as opportunities and threats. The project may be accepted if the risks are within tolerances and are in balance with the rewards that may be gained by taking the risks. Positive risks that offer opportunities within the limits of risk tolerances may be pursued in order to generate enhanced value. For example, adopting an aggressive resource optimization technique is a risk taken in anticipation of a reward for using fewer resources. Individuals and groups adopt attitudes toward risk that influence the way they respond. These risk attitudes are driven by perception, tolerances, and other biases, which should be made explicit wherever possible. A consistent approach to risk should be developed for each project, and communication about risk and its handling should be open and honest. Risk responses reflect an organization’s perceived balance between risk taking and risk avoidance. To be successful, an organization should be committed to address risk management proactively and consistently throughout the project. A conscious choice should be made at all levels of the organization to actively identify and pursue effective risk management during the life of the project. Project risk could exist at the moment a project is initiated. Moving forward on a project without a proactive focus on risk management is likely to lead to more problems arising from unmanaged threats. Project Risk Management Overview 11.1 Plan Risk Management 11.2 Identify Risks 11.3 Perform QualitativeRisk Analysis .1 Inputs .1 Inputs .1 Inputs .1 Project management plan .1 Risk management plan .1 Risk management plan .2 Project charter .2 Cost management plan .2 Scope baseline .3 Stakeholder register .3 Schedule management plan .3 Risk register .4 Enterprise environmental .4 Quality management plan .4 Enterprise environmental factors .5 Human resource factors .5 Organizational process assets management plan .5 Organizational process assets .6 Scope baseline .2 Tools & Techniques .7 Activity cost estimates  .2  Tools & Techniques .1 Analytical techniques .8 Activity duration estimates .1 Risk probability and impact .2 Expert judgment .9 Stakeholder register assessment .3 Meetings .10 Project documents .2 Probability and impact matrix .11 Procurement documents .3 Risk data quality assessment .3 Outputs .12 Enterprise environmental .4 Risk categorization .1 Risk management plan factors .5 Risk urgency assessment .13 Organizational process assets .6 Expert judgment .2 Tools & Techniques .3 Outputs 11.4 Perform Quantitative .1 Documentation reviews .1 Project documents updates Risk Analysis .2 Information gathering techniques .1 Inputs .3 Checklist analysis .1 Risk management plan .4 Assumptions analysis .2 Cost management plan .5 Diagramming techniques11.6 Control Risks .3 Schedule management plan .6 SWOT analysis .4 Risk register .7 Expert judgment .1 Inputs .5 Enterprise environmental factors . 3  Outputs .1 Project management plan.2 Risk register .6 Organizational process assets .1 Risk register .3 Work performance data .4 Work performance reports .2 Tools & Techniques .1 Data gathering and .2 Tools & Techniques representation techniques 11.5 Plan Risk Responses .1 Risk reassessment .2 Quantitative risk analysis and .2 Risk audits modeling techniques .3 Variance and trend analysis .3 Expert judgment .1 Inputs .4 Technical performance .1 Risk management plan  measurement .3 Outputs .2 Risk register .5 Reserve analysis .1 Project documents updates .6 Meetings .2 Tools & Techniques .1 Strategies for negative risks or .3 Outputs threats .1 Work performance information .2 Strategies for positive risks or .2 Change requests opportunities .3 Project management plan .3 Contingent response updates strategies .4 Project documents updates .4 Expert judgment .5 Organizational process assets updates .3 Outputs .1 Project management plan updates .2 Project documents updates Figure 11-1. Project risk Management overview 11.1 Plan risk Management Plan Risk Management is the process of defining how to conduct risk management activities for a project. The key benefit of this process is it ensures that the degree, type, and visibility of risk management are commensurate with both the risks and the importance of the project to the organization. The risk management plan is vital to communicate with and obtain agreement and support from all stakeholders to ensure the risk management process is supported and performed effectively over the project life cycle. The inputs, tools and techniques, and outputs of this process are depicted in Figure 11-2. Figure 11-3 depicts the data flow diagram of the process. Inputs Tools & Techniques Outputs .1 Project management plan .1 Analytical techniques .1 Risk management plan .2 Project charter .2 Expert judgment .3 Stakeholder register .3 Meetings .4 Enterprise environmental factors .5 Organizational process assets Figure 11-2. Plan risk Management: Inputs, tools & techniques, and outputs Project Risk Management 4.1 • Project charter Develop Project Charter 11.1 Plan Risk Management 4.2 • Enterprise Develop Project environmental Management factors • Risk Plan • Project • Organizational management management process assets plan plan 11.4 11.2 Perform 13.1 Identify Quantitative Identify Risks Risk Analysis Stakeholders • Stakeholder register 11.3 Perform 11.5 Qualitative Plan Risk Enterprise/ Risk Analysis Responses Organization Figure 11-3. Plan risk Management data Flow diagram Careful and explicit planning enhances the probability of success for other risk management processes. Planning is also important to provide sufficient resources and time for risk management activities and to establish an agreed- upon basis for evaluating risks. The Plan Risk Management process should begin when a project is conceived and should be completed early during project planning. 11.1.1 Plan risk Management: Inputs 11.1.1.1 Project Management Plan In planning risk management, all approved subsidiary management plans and baselines should be taken into consideration in order to make the risk management plan consistent with them. The risk management plan is also a component of the project management plan. The project management plan provides baseline or current state of risk-affected areas including scope, schedule, and cost. 11.1.1.2 Project charter Described in Section 4.1.3.1. The project charter can provide various inputs such as high-level risks, high-level project descriptions, and high-level requirements. 11.1.1.3 Stakeholder register Described in Section 13.1.3.1. The stakeholder register, which contains all details related to the project’s stakeholders, provides an overview of their roles. 11.1.1.4 Enterprise Environmental Factors Described in Section 2.1.5. The enterprise environmental factors that can influence the Plan Risk Management process include, but are not limited to, risk attitudes, thresholds, and tolerances that describe the degree of risk that an organization will withstand. 11.1.1.5 organizational Process Assets Described in Section 2.1.4. The organizational process assets that can influence the Plan Risk Management process include, but are not limited to: • Risk categories, • Common definitions of concepts and terms, • Risk statement formats, • Standard templates, • Roles and responsibilities, • Authority levels for decision making, and • Lessons learned. 11.1.2 Plan risk Management: tools and techniques 11.1.2.1 Analytical techniques Analytical techniques are used to understand and define the overall risk management context of the project. Risk management context is a combination of stakeholder risk attitudes and the strategic risk exposure of a given project based on the overall project context. For example, a stakeholder risk profile analysis may be performed to grade and qualify the project stakeholder risk appetite and tolerance. Other techniques, such as the use of strategic risk scoring sheets, are used to provide a high-level assessment of the risk exposure of the project based on the overall project context. Depending on these assessments, the project team can allocate appropriate resources and focus on the risk management activities. 11.1.2.2 Expert Judgment To ensure a comprehensive establishment of the risk management plan, judgment, and expertise should be considered from groups or individuals with specialized training or knowledge on the subject area, such as: • Senior management, • Project stakeholders, • Project managers who have worked on projects in the same area (directly or through lessons learned), • Subject matter experts (SMEs) in business or project area, • Industry groups and consultants, and • Professional and technical associations. 11.1.2.3 Meetings Project teams hold planning meetings to develop the risk management plan. Attendees at these meetings may include the project manager, selected project team members and stakeholders, anyone in the organization with responsibility to manage the risk planning and execution activities, and others, as needed. High-level plans for conducting the risk management activities are defined in these meetings. Risk management cost elements and schedule activities should be developed for inclusion in the project budget and schedule, respectively. Risk contingency reserve application approaches may be established or reviewed. Risk management responsibilities should be assigned. General organizational templates for risk categories and definitions of terms such as levels of risk, probability by type of risk, impact by type of objectives, and the probability and impact matrix will be tailored to the specific project. If templates for other steps in the process do not exist, they may be generated in these meetings. The outputs of these activities are summarized in the risk management plan. 11.1.3 Plan risk Management: outputs 11.1.3.1 risk Management Plan The risk management plan is a component of the project management plan and describes how risk management activities will be structured and performed. The risk management plan includes the following: • Methodology. Defines the approaches, tools, and data sources that will be used to perform risk management on the project. • roles and responsibilities. Defines the lead, support, and risk management team members for each type of activity in the risk management plan, and clarifies their responsibilities. •  Budgeting. Estimates funds needed, based on assigned resources, for inclusion in the cost baseline and establishes protocols for application of contingency and management reserves. •  timing. Defines when and how often the risk management processes will be performed throughout the project life cycle, establishes protocols for application of schedule contingency reserves, and establishes risk management activities for inclusion in the project schedule. • risk categories. Provide a means for grouping potential causes of risk. Several approaches can be used, for example, a structure based on project objectives by category. A risk breakdown structure (RBS) helps the project team to look at many sources from which project risk may arise in a risk identification exercise. Different RBS structures will be appropriate for different types of projects. An organization can use a previously prepared custom categorization framework, which may take the form of a simple list of categories or may be structured into an RBS. The RBS is a hierarchical representation of risks according to their risk categories. An example is shown in Figure 11-4. Beta Distribution Triangular Distribution 0.1 0.1 0.0 0.0 Beta and triangular distributions are frequently used in quantitative risk analysis. The data shown in the figure on the left (Beta Distribution) is one example of a family of such distributions determined by two \"shape parameters\". Other commonly used distributions include the uniform, normal and lognormal. In these charts the horizontal (X) axes represent possible values of time or cost and the vertical (Y) axes represent relative likelihood. Figure 11-4. Example of a risk Breakdown Structure (rBS) • definitions of risk probability and impact. The quality and credibility of the risk analysis requires that different levels of risk probability and impact be defined that are specific to the project context. General definitions of probability levels and impact levels are tailored to the individual project during the Plan Risk Management process for use in subsequent processes. Table 11-1 is an example of definitions of negative impacts that could be used in evaluating risk impacts related to four project objectives. (Similar tables may be established with a positive impact perspective). Table 11-1 illustrates both relative and numerical (in this case, nonlinear) approaches. table 11-1. definition of Impact Scales for Four Project objectives Defined Conditions for Impact Scales of a Risk on Major Project Objectives (Examples are shown for negative impacts only) Relative or numerical scales are shown Project Very low /0.05 Low /0.10 Moderate /0.20 High /0.40 Very high /0.80 Objective Insignificant cost < 10% cost 10 – 20% cost 20 – 40% cost > 40% cost Cost increase increase increase increase increase Insignificant time < 5% time 5 – 10% time 10 – 20% time > 20% time Time increase increase increase increase increase Project end itemScope decrease Minor areas of Major areas ofScope reduction Scope is effectivelybarely noticeable scope affected scope affected unacceptable to sponsor useless Project end item Quality degradationOnly very demanding Quality reduction Quality reduction Quality is effectivelybarely noticeable applications requires sponsor unacceptable to are affected approval sponsor useless This table presents examples of risk impact definitions for four different project objectives. They should be tailored in the Risk Management Planning process to the individual project and to the organization\\'s risk thresholds. Impact definitions can be developed for opportunities in a similar way. • Probability and impact matrix. A probability and impact matrix is a grid for mapping the probability of each risk occurrence and its impact on project objectives if that risk occurs. Risks are prioritized according to their potential implications for having an effect on the project’s objectives. A typical approach to prioritizing risks is to use a look-up table or a probability and impact matrix. The specific combinations of probability and impact that lead to a risk being rated as “high,” “moderate,” or “low” importance are usually set by the organization. • revised stakeholders’ tolerances. Stakeholders’ tolerances, as they apply to the specific project, may be revised in the Plan Risk Management process. • reporting formats. Reporting formats define how the outcomes of the risk management process will be documented, analyzed, and communicated. It describes the content and format of the risk register as well as any other risk reports required. • tracking. Tracking documents how risk activities will be recorded for the benefit of the current project and how risk management processes will be audited.'"
      ]
     },
     "execution_count": 113,
     "metadata": {},
     "output_type": "execute_result"
    }
   ],
   "source": [
    "P1"
   ]
  },
  {
   "cell_type": "code",
   "execution_count": 108,
   "metadata": {
    "ExecuteTime": {
     "end_time": "2021-10-25T22:14:27.035726Z",
     "start_time": "2021-10-25T22:14:27.031735Z"
    }
   },
   "outputs": [],
   "source": [
    "P1_clean = clean(P1)"
   ]
  },
  {
   "cell_type": "code",
   "execution_count": 109,
   "metadata": {
    "ExecuteTime": {
     "end_time": "2021-10-25T22:14:27.793062Z",
     "start_time": "2021-10-25T22:14:27.766132Z"
    }
   },
   "outputs": [],
   "source": [
    "sentences = nltk.sent_tokenize (P1_clean)\n",
    "sentences = [sentence for sentence in sentences if sentence!='.']"
   ]
  },
  {
   "cell_type": "code",
   "execution_count": 110,
   "metadata": {
    "ExecuteTime": {
     "end_time": "2021-10-25T22:14:28.882005Z",
     "start_time": "2021-10-25T22:14:28.865051Z"
    }
   },
   "outputs": [],
   "source": [
    "sentences=pd.DataFrame({\n",
    "    'Sentence':sentences\n",
    "})"
   ]
  },
  {
   "cell_type": "code",
   "execution_count": 105,
   "metadata": {
    "ExecuteTime": {
     "end_time": "2021-10-25T22:12:08.644989Z",
     "start_time": "2021-10-25T22:12:08.634020Z"
    }
   },
   "outputs": [
    {
     "data": {
      "text/plain": [
       "'abc   '"
      ]
     },
     "execution_count": 105,
     "metadata": {},
     "output_type": "execute_result"
    }
   ],
   "source": [
    "text = \"11.2\"\n",
    "re.sub('[.\\d.]','',str(text))"
   ]
  },
  {
   "cell_type": "code",
   "execution_count": 111,
   "metadata": {
    "ExecuteTime": {
     "end_time": "2021-10-25T22:14:32.275603Z",
     "start_time": "2021-10-25T22:14:32.252663Z"
    }
   },
   "outputs": [
    {
     "data": {
      "text/html": [
       "<div>\n",
       "<style scoped>\n",
       "    .dataframe tbody tr th:only-of-type {\n",
       "        vertical-align: middle;\n",
       "    }\n",
       "\n",
       "    .dataframe tbody tr th {\n",
       "        vertical-align: top;\n",
       "    }\n",
       "\n",
       "    .dataframe thead th {\n",
       "        text-align: right;\n",
       "    }\n",
       "</style>\n",
       "<table border=\"1\" class=\"dataframe\">\n",
       "  <thead>\n",
       "    <tr style=\"text-align: right;\">\n",
       "      <th></th>\n",
       "      <th>Sentence</th>\n",
       "    </tr>\n",
       "  </thead>\n",
       "  <tbody>\n",
       "    <tr>\n",
       "      <th>0</th>\n",
       "      <td>project risk management project risk management includes the processes of conducting risk management planning, identification, analysis, response planning, and controlling risk on a project.</td>\n",
       "    </tr>\n",
       "    <tr>\n",
       "      <th>1</th>\n",
       "      <td>the objectives of project risk management are to increase the likelihood and impact of positive events, and decrease the likelihood and impact of negative events in the project.</td>\n",
       "    </tr>\n",
       "    <tr>\n",
       "      <th>2</th>\n",
       "      <td>figure  provides an overview of the project risk management processes, which are as follows: .</td>\n",
       "    </tr>\n",
       "    <tr>\n",
       "      <th>3</th>\n",
       "      <td>plan risk management is the process of defining how to conduct risk management activities for a project.</td>\n",
       "    </tr>\n",
       "    <tr>\n",
       "      <th>4</th>\n",
       "      <td>identify risks is the process of determining which risks may affect the project and documenting their characteristics.</td>\n",
       "    </tr>\n",
       "    <tr>\n",
       "      <th>...</th>\n",
       "      <td>...</td>\n",
       "    </tr>\n",
       "    <tr>\n",
       "      <th>239</th>\n",
       "      <td>reporting formats.</td>\n",
       "    </tr>\n",
       "    <tr>\n",
       "      <th>240</th>\n",
       "      <td>reporting formats define how the outcomes of the risk management process will be documented, analyzed, and communicated.</td>\n",
       "    </tr>\n",
       "    <tr>\n",
       "      <th>241</th>\n",
       "      <td>it describes the content and format of the risk register as well as any other risk reports required.</td>\n",
       "    </tr>\n",
       "    <tr>\n",
       "      <th>242</th>\n",
       "      <td>tracking.</td>\n",
       "    </tr>\n",
       "    <tr>\n",
       "      <th>243</th>\n",
       "      <td>tracking documents how risk activities will be recorded for the benefit of the current project and how risk management processes will be audited.</td>\n",
       "    </tr>\n",
       "  </tbody>\n",
       "</table>\n",
       "<p>244 rows × 1 columns</p>\n",
       "</div>"
      ],
      "text/plain": [
       "                                                                                                                                                                                            Sentence\n",
       "0     project risk management project risk management includes the processes of conducting risk management planning, identification, analysis, response planning, and controlling risk on a project.\n",
       "1                  the objectives of project risk management are to increase the likelihood and impact of positive events, and decrease the likelihood and impact of negative events in the project.\n",
       "2                                                                                                     figure  provides an overview of the project risk management processes, which are as follows: .\n",
       "3                                                                                           plan risk management is the process of defining how to conduct risk management activities for a project.\n",
       "4                                                                             identify risks is the process of determining which risks may affect the project and documenting their characteristics.\n",
       "..                                                                                                                                                                                               ...\n",
       "239                                                                                                                                                                               reporting formats.\n",
       "240                                                                         reporting formats define how the outcomes of the risk management process will be documented, analyzed, and communicated.\n",
       "241                                                                                             it describes the content and format of the risk register as well as any other risk reports required.\n",
       "242                                                                                                                                                                                        tracking.\n",
       "243                                                tracking documents how risk activities will be recorded for the benefit of the current project and how risk management processes will be audited.\n",
       "\n",
       "[244 rows x 1 columns]"
      ]
     },
     "execution_count": 111,
     "metadata": {},
     "output_type": "execute_result"
    }
   ],
   "source": [
    "sentences"
   ]
  },
  {
   "cell_type": "code",
   "execution_count": 112,
   "metadata": {
    "ExecuteTime": {
     "end_time": "2021-10-25T22:14:35.819089Z",
     "start_time": "2021-10-25T22:14:35.800140Z"
    }
   },
   "outputs": [
    {
     "data": {
      "text/html": [
       "<div>\n",
       "<style scoped>\n",
       "    .dataframe tbody tr th:only-of-type {\n",
       "        vertical-align: middle;\n",
       "    }\n",
       "\n",
       "    .dataframe tbody tr th {\n",
       "        vertical-align: top;\n",
       "    }\n",
       "\n",
       "    .dataframe thead th {\n",
       "        text-align: right;\n",
       "    }\n",
       "</style>\n",
       "<table border=\"1\" class=\"dataframe\">\n",
       "  <thead>\n",
       "    <tr style=\"text-align: right;\">\n",
       "      <th></th>\n",
       "      <th>Sentence</th>\n",
       "    </tr>\n",
       "  </thead>\n",
       "  <tbody>\n",
       "    <tr>\n",
       "      <th>5</th>\n",
       "      <td>perform qualitative risk analysis is the process of prioritizing risks for further analysis or action by assessing and combining their probability of occurrence and impact.</td>\n",
       "    </tr>\n",
       "    <tr>\n",
       "      <th>6</th>\n",
       "      <td>perform quantitative risk analysis is the process of numerically analyzing the effect of identified risks on overall project objectives.</td>\n",
       "    </tr>\n",
       "    <tr>\n",
       "      <th>48</th>\n",
       "      <td>perform qualitativerisk analysis .</td>\n",
       "    </tr>\n",
       "    <tr>\n",
       "      <th>90</th>\n",
       "      <td>perform quantitative .</td>\n",
       "    </tr>\n",
       "    <tr>\n",
       "      <th>165</th>\n",
       "      <td>perform .</td>\n",
       "    </tr>\n",
       "    <tr>\n",
       "      <th>167</th>\n",
       "      <td>perform .</td>\n",
       "    </tr>\n",
       "    <tr>\n",
       "      <th>196</th>\n",
       "      <td>defines the approaches, tools, and data sources that will be used to perform risk management on the project.</td>\n",
       "    </tr>\n",
       "  </tbody>\n",
       "</table>\n",
       "</div>"
      ],
      "text/plain": [
       "                                                                                                                                                                         Sentence\n",
       "5    perform qualitative risk analysis is the process of prioritizing risks for further analysis or action by assessing and combining their probability of occurrence and impact.\n",
       "6                                        perform quantitative risk analysis is the process of numerically analyzing the effect of identified risks on overall project objectives.\n",
       "48                                                                                                                                             perform qualitativerisk analysis .\n",
       "90                                                                                                                                                         perform quantitative .\n",
       "165                                                                                                                                                                     perform .\n",
       "167                                                                                                                                                                     perform .\n",
       "196                                                                  defines the approaches, tools, and data sources that will be used to perform risk management on the project."
      ]
     },
     "execution_count": 112,
     "metadata": {},
     "output_type": "execute_result"
    }
   ],
   "source": [
    "sentences[sentences.apply(lambda col: col.str.lower())['Sentence'].str.contains('perform .')]"
   ]
  },
  {
   "cell_type": "code",
   "execution_count": 155,
   "metadata": {
    "ExecuteTime": {
     "end_time": "2021-10-25T18:06:56.616682Z",
     "start_time": "2021-10-25T18:06:56.580777Z"
    }
   },
   "outputs": [
    {
     "ename": "AttributeError",
     "evalue": "'str' object attribute 'lower' is read-only",
     "output_type": "error",
     "traceback": [
      "\u001b[1;31m---------------------------------------------------------------------------\u001b[0m",
      "\u001b[1;31mAttributeError\u001b[0m                            Traceback (most recent call last)",
      "\u001b[1;32m~\\AppData\\Local\\Temp/ipykernel_10948/1385877822.py\u001b[0m in \u001b[0;36m<module>\u001b[1;34m\u001b[0m\n\u001b[1;32m----> 1\u001b[1;33m \u001b[1;33m[\u001b[0m\u001b[0mi\u001b[0m \u001b[1;32mfor\u001b[0m \u001b[0mi\u001b[0m\u001b[1;33m.\u001b[0m\u001b[0mlower\u001b[0m \u001b[1;32min\u001b[0m \u001b[0msentences\u001b[0m \u001b[1;32mif\u001b[0m \u001b[1;34m'figure'\u001b[0m \u001b[1;32min\u001b[0m \u001b[0mi\u001b[0m \u001b[1;33m]\u001b[0m\u001b[1;33m\u001b[0m\u001b[1;33m\u001b[0m\u001b[0m\n\u001b[0m",
      "\u001b[1;32m~\\AppData\\Local\\Temp/ipykernel_10948/1385877822.py\u001b[0m in \u001b[0;36m<listcomp>\u001b[1;34m(.0)\u001b[0m\n\u001b[1;32m----> 1\u001b[1;33m \u001b[1;33m[\u001b[0m\u001b[0mi\u001b[0m \u001b[1;32mfor\u001b[0m \u001b[0mi\u001b[0m\u001b[1;33m.\u001b[0m\u001b[0mlower\u001b[0m \u001b[1;32min\u001b[0m \u001b[0msentences\u001b[0m \u001b[1;32mif\u001b[0m \u001b[1;34m'figure'\u001b[0m \u001b[1;32min\u001b[0m \u001b[0mi\u001b[0m \u001b[1;33m]\u001b[0m\u001b[1;33m\u001b[0m\u001b[1;33m\u001b[0m\u001b[0m\n\u001b[0m",
      "\u001b[1;31mAttributeError\u001b[0m: 'str' object attribute 'lower' is read-only"
     ]
    }
   ],
   "source": [
    "[i for i.lower in sentences if 'figure' in i ]"
   ]
  },
  {
   "cell_type": "code",
   "execution_count": 124,
   "metadata": {
    "ExecuteTime": {
     "end_time": "2021-10-25T16:45:48.740537Z",
     "start_time": "2021-10-25T16:45:48.718595Z"
    },
    "scrolled": true
   },
   "outputs": [
    {
     "data": {
      "text/plain": [
       "0                                                              project risk management project risk management includes the processes of conducting risk management planning identification analysis response planning and controlling risk on a project.\n",
       "1                                                                        the objectives of project risk management are to increase the likelihood and impact of positive events and decrease the likelihood and impact of negative events in the project.\n",
       "2                                                                                                                                                           figure  provides an overview of the project risk management processes which are as follows: .\n",
       "3                                                                                                                                                plan risk management is the process of defining how to conduct risk management activities for a project.\n",
       "4                                                                                                                                  identify risks is the process of determining which risks may affect the project and documenting their characteristics.\n",
       "                                                                                                                              ...                                                                                                                        \n",
       "627                                                                                        the latter are responses that were not initially planned but are required to deal with emerging risks that were previously unidentified or accepted passively.\n",
       "628                                                                                                                                                                                                                       recommended preventive actions.\n",
       "629                                                                                                                             these are activities that ensure that future performance of the project work is aligned with the project management plan.\n",
       "630    ... project management plan updates if the approved change requests have an effect on the risk management processes the corresponding component documents of the project management plan are revised and reissued to reflect the approved changes.\n",
       "631                                                                                                                             the elements of the project management plan that may be updated are the same as those in the plan risk responses process.\n",
       "Name: Sentence, Length: 632, dtype: object"
      ]
     },
     "execution_count": 124,
     "metadata": {},
     "output_type": "execute_result"
    }
   ],
   "source": [
    "sentences.apply(lambda col: col.str.lower())['Sentence']"
   ]
  }
 ],
 "metadata": {
  "kernelspec": {
   "display_name": "Python 3 (ipykernel)",
   "language": "python",
   "name": "python3"
  },
  "language_info": {
   "codemirror_mode": {
    "name": "ipython",
    "version": 3
   },
   "file_extension": ".py",
   "mimetype": "text/x-python",
   "name": "python",
   "nbconvert_exporter": "python",
   "pygments_lexer": "ipython3",
   "version": "3.8.8"
  },
  "toc": {
   "base_numbering": 1,
   "nav_menu": {},
   "number_sections": true,
   "sideBar": true,
   "skip_h1_title": false,
   "title_cell": "Table of Contents",
   "title_sidebar": "Contents",
   "toc_cell": false,
   "toc_position": {},
   "toc_section_display": true,
   "toc_window_display": false
  }
 },
 "nbformat": 4,
 "nbformat_minor": 4
}
