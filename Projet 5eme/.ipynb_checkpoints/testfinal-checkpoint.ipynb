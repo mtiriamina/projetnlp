{
 "cells": [
  {
   "cell_type": "code",
   "execution_count": 1,
   "metadata": {
    "ExecuteTime": {
     "end_time": "2021-11-13T23:37:13.639909Z",
     "start_time": "2021-11-13T23:37:13.575084Z"
    }
   },
   "outputs": [
    {
     "name": "stderr",
     "output_type": "stream",
     "text": [
      "* Owlready2 * Warning: optimized Cython parser module 'owlready2_optimized' is not available, defaulting to slower Python implementation\n"
     ]
    }
   ],
   "source": [
    "from owlready2 import *\n",
    "import warnings\n",
    "warnings.filterwarnings(\"ignore\")"
   ]
  },
  {
   "cell_type": "code",
   "execution_count": 27,
   "metadata": {},
   "outputs": [
    {
     "name": "stderr",
     "output_type": "stream",
     "text": [
      "* Owlready2 * WARNING: DataProperty http://example.org/project#Quantitative_risk_Analysis_and_Modeling_techniques belongs to more than one entity types: [owl.DatatypeProperty, PMBOK1.Perform_Quantitative_Risk_Analysis_TT]; I'm trying to fix it...\n",
      "* Owlready2 * WARNING: DataProperty http://example.org/project#risk_Probability_and_Impact_Assessment belongs to more than one entity types: [owl.DatatypeProperty, PMBOK1.Perform_Qualitative_Risk_Analysis_TT]; I'm trying to fix it...\n",
      "* Owlready2 * WARNING: DataProperty http://example.org/project#change_requests belongs to more than one entity types: [owl.DatatypeProperty, PMBOK1.Control_Risks_Outputs]; I'm trying to fix it...\n",
      "* Owlready2 * WARNING: DataProperty http://example.org/project#risk_urgency_Assessment belongs to more than one entity types: [owl.DatatypeProperty, PMBOK1.Perform_Qualitative_Risk_Analysis_TT]; I'm trying to fix it...\n",
      "* Owlready2 * WARNING: DataProperty http://example.org/project#Stakeholder_register belongs to more than one entity types: [owl.DatatypeProperty, PMBOK1.Plan_Risk_Management_Inputs, PMBOK1.Identify_Risks_Inputs]; I'm trying to fix it...\n",
      "* Owlready2 * WARNING: DataProperty http://example.org/project#Variance_and_trend_Analysis belongs to more than one entity types: [owl.DatatypeProperty, PMBOK1.Control_Risks_TT]; I'm trying to fix it...\n",
      "* Owlready2 * WARNING: DataProperty http://example.org/project#risk_categorization belongs to more than one entity types: [owl.DatatypeProperty, PMBOK1.Perform_Qualitative_Risk_Analysis_TT]; I'm trying to fix it...\n",
      "* Owlready2 * WARNING: DataProperty http://example.org/project#Work_Performance_Information belongs to more than one entity types: [owl.DatatypeProperty, PMBOK1.Control_Risks_Outputs]; I'm trying to fix it...\n",
      "* Owlready2 * WARNING: DataProperty http://example.org/project#Project_Management_Plan belongs to more than one entity types: [owl.DatatypeProperty, PMBOK1.Plan_Risk_Management_Inputs, PMBOK1.Control_Risks_Inputs]; I'm trying to fix it...\n",
      "* Owlready2 * WARNING: DataProperty http://example.org/project#Expert_Judgment belongs to more than one entity types: [owl.DatatypeProperty, PMBOK1.Plan_Risk_Management_TT, PMBOK1.Perform_Qualitative_Risk_Analysis_TT, PMBOK1.Perform_Quantitative_Risk_Analysis_TT, PMBOK1.Plan_Risk_Responses_TT]; I'm trying to fix it...\n",
      "* Owlready2 * WARNING: DataProperty http://example.org/project#diagramming_techniques belongs to more than one entity types: [owl.DatatypeProperty, PMBOK1.Plan_Risk_Management_TT]; I'm trying to fix it...\n",
      "* Owlready2 * WARNING: DataProperty http://example.org/project#reserve_Analysis belongs to more than one entity types: [owl.DatatypeProperty, PMBOK1.Control_Risks_TT]; I'm trying to fix it...\n",
      "* Owlready2 * WARNING: DataProperty http://example.org/project#Strategies_for_Positive_risks_or_opportunities belongs to more than one entity types: [owl.DatatypeProperty, PMBOK1.Plan_Risk_Responses_TT]; I'm trying to fix it...\n",
      "* Owlready2 * WARNING: DataProperty http://example.org/project#Project_documents_updates belongs to more than one entity types: [owl.DatatypeProperty, PMBOK1.Perform_Qualitative_Risk_Analysis_Outputs, PMBOK1.Perform_Quantitative_Risk_Analysis_Outputs, PMBOK1.Plan_Risk_Responses_Outputs, PMBOK1.Control_Risks_Outputs]; I'm trying to fix it...\n",
      "* Owlready2 * WARNING: DataProperty http://example.org/project#risk_Management_Plan belongs to more than one entity types: [owl.DatatypeProperty, PMBOK1.Perform_Qualitative_Risk_Analysis_Inputs, PMBOK1.Perform_Quantitative_Risk_Analysis_Inputs, PMBOK1.Plan_Risk_Responses_Inputs, PMBOK1.Plan_Risk_Management_Outputs]; I'm trying to fix it...\n",
      "* Owlready2 * WARNING: DataProperty http://example.org/project#cost_Management_Plan belongs to more than one entity types: [owl.DatatypeProperty, PMBOK1.Identify_Risks_Inputs, PMBOK1.Perform_Quantitative_Risk_Analysis_Inputs]; I'm trying to fix it...\n",
      "* Owlready2 * WARNING: DataProperty http://example.org/project#Probability_and_Impact_Matrix belongs to more than one entity types: [owl.DatatypeProperty, PMBOK1.Perform_Qualitative_Risk_Analysis_TT]; I'm trying to fix it...\n",
      "* Owlready2 * WARNING: DataProperty http://example.org/project#Enterprise_Environmental_Factors belongs to more than one entity types: [owl.DatatypeProperty, PMBOK1.Plan_Risk_Management_Inputs, PMBOK1.Identify_Risks_Inputs, PMBOK1.Perform_Qualitative_Risk_Analysis_Inputs, PMBOK1.Perform_Quantitative_Risk_Analysis_Inputs]; I'm trying to fix it...\n",
      "* Owlready2 * WARNING: DataProperty http://example.org/project#risk_Management_Plan_ belongs to more than one entity types: [owl.DatatypeProperty, PMBOK1.Identify_Risks_Inputs]; I'm trying to fix it...\n",
      "* Owlready2 * WARNING: DataProperty http://example.org/project#risk_register belongs to more than one entity types: [owl.DatatypeProperty, PMBOK1.Perform_Qualitative_Risk_Analysis_Inputs, PMBOK1.Perform_Quantitative_Risk_Analysis_Inputs, PMBOK1.Plan_Risk_Responses_Inputs, PMBOK1.Control_Risks_Inputs, PMBOK1.Identify_Risks_Inputs]; I'm trying to fix it...\n",
      "* Owlready2 * WARNING: DataProperty http://example.org/project#SWot_Analysis belongs to more than one entity types: [owl.DatatypeProperty, PMBOK1.Plan_Risk_Management_TT]; I'm trying to fix it...\n",
      "* Owlready2 * WARNING: DataProperty http://example.org/project#risk_Audits belongs to more than one entity types: [owl.DatatypeProperty, PMBOK1.Control_Risks_TT]; I'm trying to fix it...\n",
      "* Owlready2 * WARNING: DataProperty http://example.org/project#Project_Management_Plan_updates belongs to more than one entity types: [owl.DatatypeProperty, PMBOK1.Plan_Risk_Responses_Outputs, PMBOK1.Control_Risks_Outputs]; I'm trying to fix it...\n",
      "* Owlready2 * WARNING: DataProperty http://example.org/project#organizational_Process_Assets_updates belongs to more than one entity types: [owl.DatatypeProperty, PMBOK1.Control_Risks_Outputs]; I'm trying to fix it...\n",
      "* Owlready2 * WARNING: DataProperty http://example.org/project#Meetings belongs to more than one entity types: [owl.DatatypeProperty, PMBOK1.Plan_Risk_Management_TT, PMBOK1.Control_Risks_TT]; I'm trying to fix it...\n",
      "* Owlready2 * WARNING: DataProperty http://example.org/project#Activity_duration_Estimates belongs to more than one entity types: [owl.DatatypeProperty, PMBOK1.Identify_Risks_Inputs]; I'm trying to fix it...\n",
      "* Owlready2 * WARNING: DataProperty http://example.org/project#Information_Gathering_techniques belongs to more than one entity types: [owl.DatatypeProperty, PMBOK1.Plan_Risk_Management_TT]; I'm trying to fix it...\n",
      "* Owlready2 * WARNING: DataProperty http://example.org/project#checklist_Analysis belongs to more than one entity types: [owl.DatatypeProperty, PMBOK1.Plan_Risk_Management_TT]; I'm trying to fix it...\n",
      "* Owlready2 * WARNING: DataProperty http://example.org/project#technical_Performance_Measurement belongs to more than one entity types: [owl.DatatypeProperty, PMBOK1.Control_Risks_TT]; I'm trying to fix it...\n",
      "* Owlready2 * WARNING: DataProperty http://example.org/project#Project_charter belongs to more than one entity types: [owl.DatatypeProperty, PMBOK1.Plan_Risk_Management_Inputs]; I'm trying to fix it...\n",
      "* Owlready2 * WARNING: DataProperty http://example.org/project#Project_documents belongs to more than one entity types: [owl.DatatypeProperty, PMBOK1.Identify_Risks_Inputs]; I'm trying to fix it...\n",
      "* Owlready2 * WARNING: DataProperty http://example.org/project#Assumptions_Analysis belongs to more than one entity types: [owl.DatatypeProperty, PMBOK1.Plan_Risk_Management_TT]; I'm trying to fix it...\n",
      "* Owlready2 * WARNING: DataProperty http://example.org/project#risk_reassessment belongs to more than one entity types: [owl.DatatypeProperty, PMBOK1.Control_Risks_TT]; I'm trying to fix it...\n",
      "* Owlready2 * WARNING: DataProperty http://example.org/project#Human_resource_Management_Plan belongs to more than one entity types: [owl.DatatypeProperty, PMBOK1.Identify_Risks_Inputs]; I'm trying to fix it...\n",
      "* Owlready2 * WARNING: DataProperty http://example.org/project#Work_Performance_reports belongs to more than one entity types: [owl.DatatypeProperty, PMBOK1.Control_Risks_Inputs]; I'm trying to fix it...\n",
      "* Owlready2 * WARNING: DataProperty http://example.org/project#documentation_reviews belongs to more than one entity types: [owl.DatatypeProperty, PMBOK1.Plan_Risk_Management_TT]; I'm trying to fix it...\n",
      "* Owlready2 * WARNING: DataProperty http://example.org/project#Schedule_Management_Plan belongs to more than one entity types: [owl.DatatypeProperty, PMBOK1.Identify_Risks_Inputs, PMBOK1.Perform_Quantitative_Risk_Analysis_Inputs]; I'm trying to fix it...\n",
      "* Owlready2 * WARNING: DataProperty http://example.org/project#organizational_Process_Assets belongs to more than one entity types: [owl.DatatypeProperty, PMBOK1.Plan_Risk_Management_Inputs, PMBOK1.Identify_Risks_Inputs, PMBOK1.Perform_Qualitative_Risk_Analysis_Inputs, PMBOK1.Perform_Quantitative_Risk_Analysis_Inputs]; I'm trying to fix it...\n",
      "* Owlready2 * WARNING: DataProperty http://example.org/project#Work_Performance_data belongs to more than one entity types: [owl.DatatypeProperty, PMBOK1.Control_Risks_Inputs]; I'm trying to fix it...\n",
      "* Owlready2 * WARNING: DataProperty http://example.org/project#Scope_Baseline belongs to more than one entity types: [owl.DatatypeProperty, PMBOK1.Identify_Risks_Inputs, PMBOK1.Perform_Qualitative_Risk_Analysis_Inputs]; I'm trying to fix it...\n",
      "* Owlready2 * WARNING: DataProperty http://example.org/project#contingent_response_Strategies belongs to more than one entity types: [owl.DatatypeProperty, PMBOK1.Plan_Risk_Responses_TT]; I'm trying to fix it...\n",
      "* Owlready2 * WARNING: DataProperty http://example.org/project#Procurement_documents belongs to more than one entity types: [owl.DatatypeProperty, PMBOK1.Identify_Risks_Inputs]; I'm trying to fix it...\n",
      "* Owlready2 * WARNING: DataProperty http://example.org/project#Analytical_techniques belongs to more than one entity types: [owl.DatatypeProperty, PMBOK1.Plan_Risk_Management_TT]; I'm trying to fix it...\n",
      "* Owlready2 * WARNING: DataProperty http://example.org/project#Activity_cost_Estimates belongs to more than one entity types: [owl.DatatypeProperty, PMBOK1.Identify_Risks_Inputs]; I'm trying to fix it...\n",
      "* Owlready2 * WARNING: DataProperty http://example.org/project#Strategies_for_negative_risks_or_threats belongs to more than one entity types: [owl.DatatypeProperty, PMBOK1.Plan_Risk_Responses_TT]; I'm trying to fix it...\n",
      "* Owlready2 * WARNING: DataProperty http://example.org/project#Quality_Management_Plan belongs to more than one entity types: [owl.DatatypeProperty, PMBOK1.Identify_Risks_Inputs]; I'm trying to fix it...\n",
      "* Owlready2 * WARNING: DataProperty http://example.org/project#risk_data_Quality_Assessment belongs to more than one entity types: [owl.DatatypeProperty, PMBOK1.Perform_Qualitative_Risk_Analysis_TT]; I'm trying to fix it...\n"
     ]
    }
   ],
   "source": [
    "onto_path.append(\"C:/Users/asus/Downloads/\")\n",
    "onto = get_ontology(\"PMBOK1.owl\").load()\n"
   ]
  },
  {
   "cell_type": "code",
   "execution_count": 136,
   "metadata": {},
   "outputs": [
    {
     "data": {
      "text/plain": [
       "[PMBOK1.Perform_Quantitative_Risk_Analysis_TT,\n",
       " PMBOK1.Perform_Qualitative_Risk_Analysis_TT,\n",
       " PMBOK1.Control_Risks_Outputs,\n",
       " PMBOK1.Plan_Risk_Management_Inputs,\n",
       " PMBOK1.Identify_Risks_Inputs,\n",
       " PMBOK1.Control_Risks_TT,\n",
       " PMBOK1.Control_Risks_Inputs,\n",
       " PMBOK1.Plan_Risk_Management_TT,\n",
       " PMBOK1.Plan_Risk_Responses_TT,\n",
       " PMBOK1.Perform_Qualitative_Risk_Analysis_Outputs,\n",
       " PMBOK1.Perform_Quantitative_Risk_Analysis_Outputs,\n",
       " PMBOK1.Plan_Risk_Responses_Outputs,\n",
       " PMBOK1.Perform_Qualitative_Risk_Analysis_Inputs,\n",
       " PMBOK1.Perform_Quantitative_Risk_Analysis_Inputs,\n",
       " PMBOK1.Plan_Risk_Responses_Inputs,\n",
       " PMBOK1.Plan_Risk_Management_Outputs]"
      ]
     },
     "execution_count": 136,
     "metadata": {},
     "output_type": "execute_result"
    }
   ],
   "source": [
    "list_classe=list(onto.classes())\n",
    "list_classe"
   ]
  },
  {
   "cell_type": "code",
   "execution_count": 137,
   "metadata": {},
   "outputs": [],
   "source": [
    "def rempalcement(m):\n",
    "    m=str(m).replace('PMBOK1.','').replace('_',' ')\n",
    "    return m"
   ]
  },
  {
   "cell_type": "code",
   "execution_count": 138,
   "metadata": {},
   "outputs": [],
   "source": [
    "newlist=[rempalcement(classe) for classe in list_classe]"
   ]
  },
  {
   "cell_type": "code",
   "execution_count": 139,
   "metadata": {},
   "outputs": [
    {
     "data": {
      "text/plain": [
       "['Perform Quantitative Risk Analysis TT',\n",
       " 'Perform Qualitative Risk Analysis TT',\n",
       " 'Control Risks Outputs',\n",
       " 'Plan Risk Management Inputs',\n",
       " 'Identify Risks Inputs',\n",
       " 'Control Risks TT',\n",
       " 'Control Risks Inputs',\n",
       " 'Plan Risk Management TT',\n",
       " 'Plan Risk Responses TT',\n",
       " 'Perform Qualitative Risk Analysis Outputs',\n",
       " 'Perform Quantitative Risk Analysis Outputs',\n",
       " 'Plan Risk Responses Outputs',\n",
       " 'Perform Qualitative Risk Analysis Inputs',\n",
       " 'Perform Quantitative Risk Analysis Inputs',\n",
       " 'Plan Risk Responses Inputs',\n",
       " 'Plan Risk Management Outputs']"
      ]
     },
     "execution_count": 139,
     "metadata": {},
     "output_type": "execute_result"
    }
   ],
   "source": [
    "newlist"
   ]
  },
  {
   "cell_type": "code",
   "execution_count": 140,
   "metadata": {},
   "outputs": [],
   "source": [
    "from sklearn.metrics.pairwise import cosine_similarity\n",
    "from sklearn.feature_extraction.text import TfidfVectorizer\n"
   ]
  },
  {
   "cell_type": "code",
   "execution_count": 141,
   "metadata": {},
   "outputs": [
    {
     "data": {
      "text/plain": [
       "['Perform Quantitative Risk Analysis TT',\n",
       " 'Perform Qualitative Risk Analysis TT',\n",
       " 'Control Risks Outputs',\n",
       " 'Plan Risk Management Inputs',\n",
       " 'Identify Risks Inputs',\n",
       " 'Control Risks TT',\n",
       " 'Control Risks Inputs',\n",
       " 'Plan Risk Management TT',\n",
       " 'Plan Risk Responses TT',\n",
       " 'Perform Qualitative Risk Analysis Outputs',\n",
       " 'Perform Quantitative Risk Analysis Outputs',\n",
       " 'Plan Risk Responses Outputs',\n",
       " 'Perform Qualitative Risk Analysis Inputs',\n",
       " 'Perform Quantitative Risk Analysis Inputs',\n",
       " 'Plan Risk Responses Inputs',\n",
       " 'Plan Risk Management Outputs']"
      ]
     },
     "execution_count": 141,
     "metadata": {},
     "output_type": "execute_result"
    }
   ],
   "source": [
    "docs=[(classe) for classe in newlist]\n",
    "docs"
   ]
  },
  {
   "cell_type": "code",
   "execution_count": 142,
   "metadata": {},
   "outputs": [],
   "source": [
    "tfidf_vectorizer= TfidfVectorizer(stop_words=\"english\")\n",
    "tfidf_matris= tfidf_vectorizer.fit_transform(docs)\n",
    "\n"
   ]
  },
  {
   "cell_type": "code",
   "execution_count": 143,
   "metadata": {},
   "outputs": [
    {
     "data": {
      "text/plain": [
       "(16, 14)"
      ]
     },
     "execution_count": 143,
     "metadata": {},
     "output_type": "execute_result"
    }
   ],
   "source": [
    "tfidf_matris.shape"
   ]
  },
  {
   "cell_type": "code",
   "execution_count": 146,
   "metadata": {},
   "outputs": [],
   "source": [
    "query=\"what are the tools and techniques of process identify risks\"\n",
    "query_vector=tfidf_vectorizer.transform([query])\n",
    "list_similarity=cosine_similarity(query_vector,tfidf_matris)[0].tolist()"
   ]
  },
  {
   "cell_type": "code",
   "execution_count": 147,
   "metadata": {},
   "outputs": [
    {
     "data": {
      "text/plain": [
       "[0.0,\n",
       " 0.0,\n",
       " 0.3307383630489055,\n",
       " 0.0,\n",
       " 0.8978146038693974,\n",
       " 0.33073836304890547,\n",
       " 0.337577240706734,\n",
       " 0.0,\n",
       " 0.0,\n",
       " 0.0,\n",
       " 0.0,\n",
       " 0.0,\n",
       " 0.0,\n",
       " 0.0,\n",
       " 0.0,\n",
       " 0.0]"
      ]
     },
     "execution_count": 147,
     "metadata": {},
     "output_type": "execute_result"
    }
   ],
   "source": [
    "list_similarity"
   ]
  },
  {
   "cell_type": "code",
   "execution_count": 148,
   "metadata": {},
   "outputs": [],
   "source": [
    "list_similarity_tri=sorted(list_similarity,reverse=True)"
   ]
  },
  {
   "cell_type": "code",
   "execution_count": 149,
   "metadata": {},
   "outputs": [
    {
     "data": {
      "text/plain": [
       "[0.8978146038693974,\n",
       " 0.337577240706734,\n",
       " 0.3307383630489055,\n",
       " 0.33073836304890547,\n",
       " 0.0,\n",
       " 0.0,\n",
       " 0.0,\n",
       " 0.0,\n",
       " 0.0,\n",
       " 0.0,\n",
       " 0.0,\n",
       " 0.0,\n",
       " 0.0,\n",
       " 0.0,\n",
       " 0.0,\n",
       " 0.0]"
      ]
     },
     "execution_count": 149,
     "metadata": {},
     "output_type": "execute_result"
    }
   ],
   "source": [
    "list_similarity_tri"
   ]
  },
  {
   "cell_type": "code",
   "execution_count": 152,
   "metadata": {},
   "outputs": [
    {
     "data": {
      "text/plain": [
       "4"
      ]
     },
     "execution_count": 152,
     "metadata": {},
     "output_type": "execute_result"
    }
   ],
   "source": [
    "list_similarity.index(list_similarity_tri[0])"
   ]
  },
  {
   "cell_type": "code",
   "execution_count": 153,
   "metadata": {},
   "outputs": [
    {
     "data": {
      "text/plain": [
       "'Identify Risks Inputs'"
      ]
     },
     "execution_count": 153,
     "metadata": {},
     "output_type": "execute_result"
    }
   ],
   "source": [
    "newlist[4]"
   ]
  },
  {
   "cell_type": "markdown",
   "metadata": {},
   "source": [
    "# sous list"
   ]
  },
  {
   "cell_type": "code",
   "execution_count": 181,
   "metadata": {},
   "outputs": [
    {
     "data": {
      "text/plain": [
       "[PMBOK1.Stakeholder_register,\n",
       " PMBOK1.cost_Management_Plan,\n",
       " PMBOK1.Enterprise_Environmental_Factors,\n",
       " PMBOK1.risk_Management_Plan_,\n",
       " PMBOK1.risk_register,\n",
       " PMBOK1.Activity_duration_Estimates,\n",
       " PMBOK1.Project_documents,\n",
       " PMBOK1.Human_resource_Management_Plan,\n",
       " PMBOK1.Schedule_Management_Plan,\n",
       " PMBOK1.organizational_Process_Assets,\n",
       " PMBOK1.Scope_Baseline,\n",
       " PMBOK1.Procurement_documents,\n",
       " PMBOK1.Activity_cost_Estimates,\n",
       " PMBOK1.Quality_Management_Plan]"
      ]
     },
     "execution_count": 181,
     "metadata": {},
     "output_type": "execute_result"
    }
   ],
   "source": [
    "listn=list(onto.get_instances_of(list(onto.classes())[4]))\n",
    "listn"
   ]
  },
  {
   "cell_type": "code",
   "execution_count": 182,
   "metadata": {},
   "outputs": [],
   "source": [
    "souslist=[rempalcement(classe) for classe in listn]"
   ]
  },
  {
   "cell_type": "code",
   "execution_count": 183,
   "metadata": {},
   "outputs": [
    {
     "data": {
      "text/plain": [
       "['Stakeholder register',\n",
       " 'cost Management Plan',\n",
       " 'Enterprise Environmental Factors',\n",
       " 'risk Management Plan ',\n",
       " 'risk register',\n",
       " 'Activity duration Estimates',\n",
       " 'Project documents',\n",
       " 'Human resource Management Plan',\n",
       " 'Schedule Management Plan',\n",
       " 'organizational Process Assets',\n",
       " 'Scope Baseline',\n",
       " 'Procurement documents',\n",
       " 'Activity cost Estimates',\n",
       " 'Quality Management Plan']"
      ]
     },
     "execution_count": 183,
     "metadata": {},
     "output_type": "execute_result"
    }
   ],
   "source": [
    "souslist"
   ]
  },
  {
   "cell_type": "code",
   "execution_count": 185,
   "metadata": {},
   "outputs": [
    {
     "data": {
      "text/plain": [
       "['Stakeholder register',\n",
       " 'cost Management Plan',\n",
       " 'Enterprise Environmental Factors',\n",
       " 'risk Management Plan ',\n",
       " 'risk register',\n",
       " 'Activity duration Estimates',\n",
       " 'Project documents',\n",
       " 'Human resource Management Plan',\n",
       " 'Schedule Management Plan',\n",
       " 'organizational Process Assets',\n",
       " 'Scope Baseline',\n",
       " 'Procurement documents',\n",
       " 'Activity cost Estimates',\n",
       " 'Quality Management Plan']"
      ]
     },
     "execution_count": 185,
     "metadata": {},
     "output_type": "execute_result"
    }
   ],
   "source": [
    "doc2=[(classe) for classe in souslist]\n",
    "doc2"
   ]
  },
  {
   "cell_type": "code",
   "execution_count": 187,
   "metadata": {},
   "outputs": [
    {
     "data": {
      "text/plain": [
       "(14, 24)"
      ]
     },
     "execution_count": 187,
     "metadata": {},
     "output_type": "execute_result"
    }
   ],
   "source": [
    "tfidf_matris2= tfidf_vectorizer.fit_transform(doc2)\n",
    "tfidf_matris2.shape"
   ]
  },
  {
   "cell_type": "code",
   "execution_count": 192,
   "metadata": {},
   "outputs": [],
   "source": [
    "query_vector2=tfidf_vectorizer.transform([query])\n",
    "list_similarity2=cosine_similarity(query_vector2,tfidf_matris2)[0].tolist()"
   ]
  },
  {
   "cell_type": "code",
   "execution_count": 193,
   "metadata": {},
   "outputs": [
    {
     "data": {
      "text/plain": [
       "[0.0,\n",
       " 0.0,\n",
       " 0.0,\n",
       " 0.0,\n",
       " 0.0,\n",
       " 0.0,\n",
       " 0.0,\n",
       " 0.0,\n",
       " 0.0,\n",
       " 0.5773502691896257,\n",
       " 0.0,\n",
       " 0.0,\n",
       " 0.0,\n",
       " 0.0]"
      ]
     },
     "execution_count": 193,
     "metadata": {},
     "output_type": "execute_result"
    }
   ],
   "source": [
    "list_similarity2"
   ]
  },
  {
   "cell_type": "code",
   "execution_count": 195,
   "metadata": {},
   "outputs": [
    {
     "data": {
      "text/plain": [
       "9"
      ]
     },
     "execution_count": 195,
     "metadata": {},
     "output_type": "execute_result"
    }
   ],
   "source": [
    "list_similarity_tri2=sorted(list_similarity2,reverse=True)\n",
    "list_similarity2.index(list_similarity_tri2[0])"
   ]
  },
  {
   "cell_type": "code",
   "execution_count": 196,
   "metadata": {},
   "outputs": [
    {
     "data": {
      "text/plain": [
       "PMBOK1.organizational_Process_Assets"
      ]
     },
     "execution_count": 196,
     "metadata": {},
     "output_type": "execute_result"
    }
   ],
   "source": [
    "listn[9]"
   ]
  },
  {
   "cell_type": "code",
   "execution_count": null,
   "metadata": {},
   "outputs": [],
   "source": []
  },
  {
   "cell_type": "code",
   "execution_count": null,
   "metadata": {},
   "outputs": [],
   "source": []
  },
  {
   "cell_type": "code",
   "execution_count": null,
   "metadata": {},
   "outputs": [],
   "source": [
    "\n"
   ]
  },
  {
   "cell_type": "code",
   "execution_count": null,
   "metadata": {},
   "outputs": [],
   "source": []
  }
 ],
 "metadata": {
  "kernelspec": {
   "display_name": "Python 3 (ipykernel)",
   "language": "python",
   "name": "python3"
  },
  "language_info": {
   "codemirror_mode": {
    "name": "ipython",
    "version": 3
   },
   "file_extension": ".py",
   "mimetype": "text/x-python",
   "name": "python",
   "nbconvert_exporter": "python",
   "pygments_lexer": "ipython3",
   "version": "3.8.8"
  },
  "toc": {
   "base_numbering": 1,
   "nav_menu": {},
   "number_sections": true,
   "sideBar": true,
   "skip_h1_title": false,
   "title_cell": "Table of Contents",
   "title_sidebar": "Contents",
   "toc_cell": false,
   "toc_position": {},
   "toc_section_display": true,
   "toc_window_display": false
  }
 },
 "nbformat": 4,
 "nbformat_minor": 4
}
