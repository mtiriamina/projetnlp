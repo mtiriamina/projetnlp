{
 "cells": [
  {
   "cell_type": "code",
   "execution_count": 4,
   "id": "25bf0499",
   "metadata": {
    "ExecuteTime": {
     "end_time": "2021-10-26T15:10:21.403690Z",
     "start_time": "2021-10-26T15:10:21.400697Z"
    }
   },
   "outputs": [],
   "source": [
    "import re"
   ]
  },
  {
   "cell_type": "code",
   "execution_count": 2,
   "id": "482d8ccb",
   "metadata": {
    "ExecuteTime": {
     "end_time": "2021-10-26T15:09:43.990052Z",
     "start_time": "2021-10-26T15:09:43.967111Z"
    }
   },
   "outputs": [],
   "source": [
    "with open('docs/P1.txt', encoding=\"utf8\") as file:\n",
    "    P1 = file.read()\n",
    "file.close()\n",
    "\n",
    "with open('docs/P2.txt', encoding=\"utf8\") as file:\n",
    "    P2 = file.read()\n",
    "file.close()   \n",
    "\n",
    "with open('docs/P3.txt', encoding=\"utf8\") as file:\n",
    "    P3 = file.read()\n",
    "file.close()    \n",
    "\n",
    "with open('docs/P4.txt', encoding=\"utf8\") as file:\n",
    "    P4 = file.read()\n",
    "file.close()    \n",
    "\n",
    "with open('docs/P5.txt', encoding=\"utf8\") as file:\n",
    "    P5 = file.read()\n",
    "file.close()\n",
    "\n",
    "with open('docs/P6.txt', encoding=\"utf8\") as file:\n",
    "    P6 = file.read()\n",
    "file.close()"
   ]
  },
  {
   "cell_type": "code",
   "execution_count": 18,
   "id": "5925bf2e",
   "metadata": {
    "ExecuteTime": {
     "end_time": "2021-10-26T15:13:02.923476Z",
     "start_time": "2021-10-26T15:13:02.916527Z"
    }
   },
   "outputs": [],
   "source": [
    "def clean(text):\n",
    "    # Remove numbers\n",
    "    text = re.sub('[\\d]+','',text)\n",
    "    text = re.sub('[\\t\\n\\r\\f\\v]',' ',text)\n",
    "    text = re.sub('[•-]','',text)\n",
    "    text = re.sub(\"\\s\\s+\" , \" \", text)\n",
    "    text = text.replace('&',\"and\").replace('©',\"\").replace('—The',\" is the\").lower()\n",
    "    text = text.replace('  project management institute. a guide to the project management body of knowledge (pmbok® guide) – fifth edition','')\n",
    "    return text"
   ]
  },
  {
   "cell_type": "code",
   "execution_count": 19,
   "id": "dd4fdcec",
   "metadata": {
    "ExecuteTime": {
     "end_time": "2021-10-26T15:13:04.366239Z",
     "start_time": "2021-10-26T15:13:04.342301Z"
    }
   },
   "outputs": [],
   "source": [
    "P1_clean = clean(P1)\n",
    "\n",
    "P2_clean = clean(P2)\n",
    "\n",
    "P3_clean = clean(P3)\n",
    "\n",
    "P4_clean = clean(P4)\n",
    "\n",
    "P5_clean = clean(P5)\n",
    "\n",
    "P6_clean = clean(P6)"
   ]
  },
  {
   "cell_type": "code",
   "execution_count": 23,
   "id": "f5ad6059",
   "metadata": {
    "ExecuteTime": {
     "end_time": "2021-10-26T15:13:57.772976Z",
     "start_time": "2021-10-26T15:13:57.764000Z"
    }
   },
   "outputs": [
    {
     "data": {
      "text/plain": [
       "'perform quantitative risk analysis is the process of numerically analyzing the effect of identified risks on overall project objectives. the key benefit of this process is that it produces quantitative risk information to support decision making in order to reduce project uncertainty. the inputs, tools and techniques, and outputs of this process are depicted in figure . figure depicts the data flow diagram of the process. project risk management inputs tools and techniques outputs . risk management plan . cost management plan . schedule management plan . risk register . enterprise environmental factors . organizational process assets . data gathering and representation techniques . quantitative risk analysis and modeling techniques . expert judgment . project documents updates figure . perform quantitative risk analysis: inputs, tools and techniques, and outputs project risk management . perform quantitative risk analysis . plan risk management . identify risks project documents updates risk management risk register plan organizational process assets enterprise e nvironmental factors cost management plan . plan cost management schedule management plan . plan schedule management enterprise/ organization project documents figure . perform quantitative risk analysis data flow diagram perform quantitative risk analysis is performed on risks that have been prioritized by the perform qualitative risk analysis process as potentially and substantially impacting the project’s competing demands. the perform quantitative risk analysis process analyzes the effect of those risks on project objectives. it is used mostly to evaluate the aggregate effect of all risks affecting the project. when the risks drive the quantitative analysis, the process may be used to assign a numerical priority rating to those risks individually. project risk management perform quantitative risk analysis generally follows the perform qualitative risk analysis process. in some cases, it may not be possible to execute the perform quantitative risk analysis process due to lack of sufficient data to develop appropriate models. the project manager should exercise expert judgment to determine the need for and the viability of quantitative risk analysis. the availability of time and budget, and the need for qualitative or quantitative statements about risk and impacts, will determine which method(s) to use on any particular project. perform quantitative risk analysis should be repeated, as needed, as part of the control risks process to determine if the overall project risk has been satisfactorily decreased. trends may indicate the need for more or less focus on appropriate risk management activities. .. perform quantitative risk analysis: inputs ... risk management plan described in section .... the risk management plan provides guidelines, methods, and tools to be used in quantitative risk analysis. ... cost management plan described in section .... the cost management plan provides guidelines on establishing and managing risk reserves. ... schedule management plan described in section .... the schedule management plan provides guidelines on establishing and managing risk reserves. ... risk register described in section .... the risk register is used as a reference point for performing quantitative risk analysis. ... enterprise environmental factors described in section ... enterprise environmental factors may provide insight and context to the risk analysis, such as: industry studies of similar projects by risk specialists, and risk databases that may be available from industry or proprietary sources. project risk management ... organizational process assets described in section ... the organizational process assets that can influence the perform quantitative risk analysis process include information from prior, similar completed projects. .. perform quantitative risk analysis: tools and techniques ... data gathering and representation techniques interviewing. interviewing techniques draw on experience and historical data to quantify the probability and impact of risks on project objectives. the information needed depends upon the type of probability distributions that will be used. for instance, information would be gathered on the optimistic (low), pessimistic (high), and most likely scenarios for some commonly used distributions. examples of threepoint estimates for cost are shown in figure . additional information on threepoint estimates appears in estimate activity durations (section .) and estimate costs (section .). documenting the rationale of the risk ranges and the assumptions behind them are important components of the risk interview because they can provide insight on the reliability and credibility of the analysis. range of project cost estimates wbs element design build test total project $m $m $m $m $m $m $m $m $m $m $m $m interviewing relevant stakeholders helps determine the threepoint estimates for each wbs element for triangular, beta or other distributions. in this example, the likelihood of completing the project at or below the most likely estimate of $ million is relatively small as shown in the simulation results in figure (cost risk simulation results). low most likely high figure . range of project cost estimates collected during the risk interview project risk management probability distributions. continuous probability distributions, which are used extensively in modeling and simulation, represent the uncertainty in values such as durations of schedule activities and costs of project components. discrete distributions can be used to represent uncertain events, such as the outcome of a test or a possible scenario in a decision tree. two examples of widely used continuous distributions are shown in figure . these distributions depict shapes that are compatible with the data typically developed during the quantitative risk analysis. uniform distributions can be used if there is no obvious value that is more likely than any other between specified high and low bounds, such as in the early concept stage of design. beta and triangular distributions are frequently used in quantitative risk analysis. the data shown in the figure on the left (beta distribution) is one example of a family of such distributions determined by two \"shape parameters\". other commonly used distributions include the uniform, normal and lognormal. in these charts the horizontal (x) axes represent possible values of time or cost and the vertical (y) axes represent relative likelihood. beta distribution triangular distribution . . . . figure . examples of commonly used probability distributions project risk management ... quantitative risk analysis and modeling techniques commonly used techniques use both eventoriented and projectoriented analysis approaches, including: sensitivity analysis. sensitivity analysis helps to determine which risks have the most potential impact on the project. it helps to understand how the variations in project’s objectives correlate with variations in different uncertainties. conversely, it examines the extent to which the uncertainty of each project element affects the objective being studied when all other uncertain elements are held at their baseline values. one typical display of sensitivity analysis is the tornado diagram (figure ), which is useful for comparing relative importance and impact of variables that have a high degree of uncertainty to those that are more stable. the tornado diagram is also helpful in analyzing risktaking scenarios enabled on specific risks whose quantitative analysis highlights possible benefits greater than corresponding identified negative impacts. a tornado diagram is a special type of bar chart used in sensitivity analysis for comparing the relative importance of the variables. in a tornado diagram, the yaxis contains each type of uncertainty at base values, and the xaxis contains the spread or correlation of the uncertainty to the studied output. in this figure, each uncertainty contains a horizontal bar and is ordered vertically to show uncertainties with a decreasing spread from the base values. risk risk risk risk risk risk negative impact positive impact key , , , , , , , figure . example of tornado diagram project risk management expected monetary value analysis. expected monetary value (emv) analysis is a statistical concept that calculates the average outcome when the future includes scenarios that may or may not happen (i.e., analysis under uncertainty). the emv of opportunities are generally expressed as positive values, while those of threats are expressed as negative values. emv requires a riskneutral assumption— neither risk averse nor risk seeking. emv for a project is calculated by multiplying the value of each possible outcome by its probability of occurrence and adding the products together. a common use of this type of analysis is a decision tree analysis (figure ). computed: payoffs minus costs along path decision definition decision node chance node net path value decision to be made input: cost of each decision output: decision made input: scenario probability, reward if it occurs output: expected monetary value (emv) build or upgrade? $m % % % % $m = . ($m) + $m . (–$m) emv (before costs) of build new plant considering demand $m = . ($m) + . ($m) emv (before costs) of upgrade plant considering demand decision emv = $m (the larger of $m and $m) $m = $m – $m –$m = $m – $m $m = $m – $m $m = $m – $m $m $m note : the decision tree shows how to make a decision between alternative capital strategies (represented as “decision nodes”) when the environment contains uncertain elements (represented as “chance nodes”). note : here, a decision is being made whether to invest $m us to build a new plant or to instead invest only $m us to upgrade the existing plant. for each decision, the demand (which is uncertain, and therefore represents a “chance node”) must be accounted for. for example, strong demand leads to $m revenue with the new plant but only $m us for the upgraded plant, perhaps due to capacity limitations of the upgraded plant. the end of each branch shows the net effect of the payoffs minus costs. for each decision branch, all effects are added (see shaded areas) to determine the overall expected monetary value (emv) of the decision. remember to account for the investment costs. from the calculations in the shaded areas, the upgraded plant has a higher emv of $m – also the emv of the overall decision. (this choice also represents the lowest risk, avoiding the worst case possible outcome of a loss of $m). decision node chance node end of branch strong demand ($m) weak demand ($m) strong demand ($m) weak demand ($m) build new plant (invest $m) upgrade plant (invest $m) figure . decision tree diagram project risk management modeling and simulation. a project simulation uses a model that translates the specified detailed uncertainties of the project into their potential impact on project objectives. simulations are typically performed using the monte carlo technique. in a simulation, the project model is computed many times (iterated), with the input values (e.g., cost estimates or activity durations) chosen at random for each iteration from the probability distributions of these variables. a histogram (e.g., total cost or completion date) is calculated from the iterations. for a cost risk analysis, a simulation uses cost estimates. for a schedule risk analysis, the schedule network diagram and duration estimates are used. the output from a cost risk simulation using the threeelement model and risk ranges is shown in figure . it illustrates the respective probability of achieving specific cost targets. similar curves can be developed for other project objectives. this cumulative distribution, assuming the data ranges in figure and triangular distributions, shows that the project is only percent likely to meet the $ million most likely cost estimate. if a conservative organization wants a % likelihood of success, a budget of $ million (a contingency of nearly % ($m $m)/$m)) is required. total project cost cumulative chart cost % % % % % probability $.m $.m $.m $.m $.m % mean = $.m $m $m figure . cost risk simulation results project risk management ... expert judgment expert judgment (ideally using experts with relevant, recent experience) is required to identify potential cost and schedule impacts, to evaluate probability, and to define inputs such as probability distributions into the tools. expert judgment also comes into play in the interpretation of the data. experts should be able to identify the weaknesses of the tools as well as their strengths. experts may determine when a specific tool may or may not be more appropriate given the organization’s capabilities and culture. .. perform quantitative risk analysis: outputs ... project documents updates project documents are updated with information resulting from quantitative risk analysis. for example, risk register updates could include: probabilistic analysis of the project. estimates are made of potential project schedule and cost outcomes listing the possible completion dates and costs with their associated confidence levels. this output, often expressed as a cumulative frequency distribution, is used with stakeholder risk tolerances to permit quantification of the cost and time contingency reserves. such contingency reserves are needed to bring the risk of overrunning stated project objectives to a level acceptable to the organization. probability of achieving cost and time objectives. with the risks facing the project, the probability of achieving project objectives under the current plan can be estimated using quantitative risk analysis results. for instance, in figure , the likelihood of achieving the cost estimate of us$ million is about %. prioritized list of quantified risks. this list includes those risks that pose the greatest threat or present the greatest opportunity to the project. these include the risks that may have the greatest effect on cost contingency and those that are most likely to influence the critical path. these risks may be evaluated, in some cases, through a tornado diagram generated as a result of the simulation analysis. trends in quantitative risk analysis results. as the analysis is repeated, a trend may become apparent that leads to conclusions affecting risk responses. organizational historical information on project schedule, cost, quality, and performance should reflect new insights gained through the perform quantitative risk analysis process. such history may take the form of a quantitative risk analysis report. this report may be separate from, or linked to, the risk register.'"
      ]
     },
     "execution_count": 23,
     "metadata": {},
     "output_type": "execute_result"
    }
   ],
   "source": [
    "P4_clean"
   ]
  }
 ],
 "metadata": {
  "kernelspec": {
   "display_name": "Python 3 (ipykernel)",
   "language": "python",
   "name": "python3"
  },
  "language_info": {
   "codemirror_mode": {
    "name": "ipython",
    "version": 3
   },
   "file_extension": ".py",
   "mimetype": "text/x-python",
   "name": "python",
   "nbconvert_exporter": "python",
   "pygments_lexer": "ipython3",
   "version": "3.8.8"
  },
  "toc": {
   "base_numbering": 1,
   "nav_menu": {},
   "number_sections": true,
   "sideBar": true,
   "skip_h1_title": false,
   "title_cell": "Table of Contents",
   "title_sidebar": "Contents",
   "toc_cell": false,
   "toc_position": {},
   "toc_section_display": true,
   "toc_window_display": false
  }
 },
 "nbformat": 4,
 "nbformat_minor": 5
}
