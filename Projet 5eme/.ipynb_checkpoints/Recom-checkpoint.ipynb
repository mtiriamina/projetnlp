{
 "cells": [
  {
   "cell_type": "code",
   "execution_count": 138,
   "metadata": {
    "ExecuteTime": {
     "end_time": "2021-11-14T00:36:57.074173Z",
     "start_time": "2021-11-14T00:36:57.063198Z"
    }
   },
   "outputs": [],
   "source": [
    "from owlready2 import *\n",
    "from sklearn.metrics.pairwise import cosine_similarity\n",
    "from sklearn.feature_extraction.text import TfidfVectorizer"
   ]
  },
  {
   "cell_type": "code",
   "execution_count": 173,
   "metadata": {
    "ExecuteTime": {
     "end_time": "2021-11-14T00:42:31.756602Z",
     "start_time": "2021-11-14T00:42:31.752612Z"
    }
   },
   "outputs": [],
   "source": [
    "onto = get_ontology(\"PMBOK1.owl\").load()"
   ]
  },
  {
   "cell_type": "code",
   "execution_count": 174,
   "metadata": {
    "ExecuteTime": {
     "end_time": "2021-11-14T00:42:35.636899Z",
     "start_time": "2021-11-14T00:42:35.619946Z"
    }
   },
   "outputs": [],
   "source": [
    "list_classe=list(onto.classes())"
   ]
  },
  {
   "cell_type": "code",
   "execution_count": 141,
   "metadata": {
    "ExecuteTime": {
     "end_time": "2021-11-14T00:36:57.497296Z",
     "start_time": "2021-11-14T00:36:57.493305Z"
    }
   },
   "outputs": [],
   "source": [
    "def rempalcement(m):\n",
    "    m=str(m).replace('PMBOK1.','').replace('_',' ')\n",
    "    return m"
   ]
  },
  {
   "cell_type": "code",
   "execution_count": 142,
   "metadata": {
    "ExecuteTime": {
     "end_time": "2021-11-14T00:36:57.819642Z",
     "start_time": "2021-11-14T00:36:57.803653Z"
    }
   },
   "outputs": [],
   "source": [
    "newlist=[rempalcement(classe) for classe in list_classe]"
   ]
  },
  {
   "cell_type": "code",
   "execution_count": 175,
   "metadata": {
    "ExecuteTime": {
     "end_time": "2021-11-14T00:42:49.694844Z",
     "start_time": "2021-11-14T00:42:49.679884Z"
    }
   },
   "outputs": [],
   "source": [
    "docs=[(classe) for classe in newlist]"
   ]
  },
  {
   "cell_type": "code",
   "execution_count": 176,
   "metadata": {
    "ExecuteTime": {
     "end_time": "2021-11-14T00:42:52.368207Z",
     "start_time": "2021-11-14T00:42:52.348230Z"
    }
   },
   "outputs": [],
   "source": [
    "tfidf_vectorizer= TfidfVectorizer(stop_words=\"english\")\n",
    "tfidf_matris= tfidf_vectorizer.fit_transform(docs)"
   ]
  },
  {
   "cell_type": "code",
   "execution_count": 148,
   "metadata": {
    "ExecuteTime": {
     "end_time": "2021-11-14T00:36:58.751437Z",
     "start_time": "2021-11-14T00:36:58.746450Z"
    }
   },
   "outputs": [],
   "source": [
    "query=\"project management plan\""
   ]
  },
  {
   "cell_type": "code",
   "execution_count": 149,
   "metadata": {
    "ExecuteTime": {
     "end_time": "2021-11-14T00:36:59.459645Z",
     "start_time": "2021-11-14T00:36:59.443686Z"
    }
   },
   "outputs": [],
   "source": [
    "query_vector=tfidf_vectorizer.transform([query])\n",
    "list_similarity=cosine_similarity(query_vector,tfidf_matris)[0].tolist()"
   ]
  },
  {
   "cell_type": "code",
   "execution_count": 152,
   "metadata": {
    "ExecuteTime": {
     "end_time": "2021-11-14T00:37:04.690964Z",
     "start_time": "2021-11-14T00:37:04.685979Z"
    }
   },
   "outputs": [],
   "source": [
    "list_similarity_tri=sorted(list_similarity,reverse=True)"
   ]
  },
  {
   "cell_type": "code",
   "execution_count": 154,
   "metadata": {
    "ExecuteTime": {
     "end_time": "2021-11-14T00:37:08.039671Z",
     "start_time": "2021-11-14T00:37:08.025677Z"
    }
   },
   "outputs": [
    {
     "data": {
      "text/plain": [
       "3"
      ]
     },
     "execution_count": 154,
     "metadata": {},
     "output_type": "execute_result"
    }
   ],
   "source": [
    "list_similarity.index(list_similarity_tri[0])"
   ]
  },
  {
   "cell_type": "code",
   "execution_count": 155,
   "metadata": {
    "ExecuteTime": {
     "end_time": "2021-11-14T00:37:11.734378Z",
     "start_time": "2021-11-14T00:37:11.721412Z"
    }
   },
   "outputs": [],
   "source": [
    "classe = newlist[3]"
   ]
  },
  {
   "cell_type": "code",
   "execution_count": 156,
   "metadata": {
    "ExecuteTime": {
     "end_time": "2021-11-14T00:37:14.086724Z",
     "start_time": "2021-11-14T00:37:14.079743Z"
    },
    "scrolled": true
   },
   "outputs": [
    {
     "data": {
      "text/plain": [
       "'Plan Risk Management Inputs'"
      ]
     },
     "execution_count": 156,
     "metadata": {},
     "output_type": "execute_result"
    }
   ],
   "source": [
    "classe"
   ]
  },
  {
   "cell_type": "markdown",
   "metadata": {},
   "source": [
    "# sous list"
   ]
  },
  {
   "cell_type": "code",
   "execution_count": 177,
   "metadata": {
    "ExecuteTime": {
     "end_time": "2021-11-14T00:43:33.748724Z",
     "start_time": "2021-11-14T00:43:33.731850Z"
    }
   },
   "outputs": [],
   "source": [
    "listn=list(onto.get_instances_of(list(onto.classes())[3]))"
   ]
  },
  {
   "cell_type": "code",
   "execution_count": 159,
   "metadata": {
    "ExecuteTime": {
     "end_time": "2021-11-14T00:37:51.483534Z",
     "start_time": "2021-11-14T00:37:51.476549Z"
    }
   },
   "outputs": [],
   "source": [
    "souslist=[rempalcement(classe) for classe in listn]"
   ]
  },
  {
   "cell_type": "code",
   "execution_count": 178,
   "metadata": {
    "ExecuteTime": {
     "end_time": "2021-11-14T00:43:43.301277Z",
     "start_time": "2021-11-14T00:43:43.295295Z"
    }
   },
   "outputs": [],
   "source": [
    "doc2=[(classe) for classe in souslist]"
   ]
  },
  {
   "cell_type": "code",
   "execution_count": 179,
   "metadata": {
    "ExecuteTime": {
     "end_time": "2021-11-14T00:43:46.848646Z",
     "start_time": "2021-11-14T00:43:46.832688Z"
    }
   },
   "outputs": [],
   "source": [
    "tfidf_matris2= tfidf_vectorizer.fit_transform(doc2)"
   ]
  },
  {
   "cell_type": "code",
   "execution_count": 163,
   "metadata": {
    "ExecuteTime": {
     "end_time": "2021-11-14T00:37:55.231828Z",
     "start_time": "2021-11-14T00:37:55.213096Z"
    }
   },
   "outputs": [],
   "source": [
    "query_vector2=tfidf_vectorizer.transform([query])\n",
    "list_similarity2=cosine_similarity(query_vector2,tfidf_matris2)[0].tolist()"
   ]
  },
  {
   "cell_type": "code",
   "execution_count": 165,
   "metadata": {
    "ExecuteTime": {
     "end_time": "2021-11-14T00:38:01.528450Z",
     "start_time": "2021-11-14T00:38:01.512492Z"
    }
   },
   "outputs": [
    {
     "data": {
      "text/plain": [
       "1"
      ]
     },
     "execution_count": 165,
     "metadata": {},
     "output_type": "execute_result"
    }
   ],
   "source": [
    "list_similarity_tri2=sorted(list_similarity2,reverse=True)\n",
    "list_similarity2.index(list_similarity_tri2[0])"
   ]
  },
  {
   "cell_type": "code",
   "execution_count": 166,
   "metadata": {
    "ExecuteTime": {
     "end_time": "2021-11-14T00:38:03.943476Z",
     "start_time": "2021-11-14T00:38:03.927487Z"
    }
   },
   "outputs": [],
   "source": [
    "a = listn[1]"
   ]
  },
  {
   "cell_type": "code",
   "execution_count": 167,
   "metadata": {
    "ExecuteTime": {
     "end_time": "2021-11-14T00:38:06.602602Z",
     "start_time": "2021-11-14T00:38:06.585646Z"
    }
   },
   "outputs": [],
   "source": [
    "a = souslist[1]"
   ]
  },
  {
   "cell_type": "code",
   "execution_count": 168,
   "metadata": {
    "ExecuteTime": {
     "end_time": "2021-11-14T00:38:10.682678Z",
     "start_time": "2021-11-14T00:38:10.672701Z"
    }
   },
   "outputs": [],
   "source": [
    "import joblib"
   ]
  },
  {
   "cell_type": "code",
   "execution_count": 169,
   "metadata": {
    "ExecuteTime": {
     "end_time": "2021-11-14T00:38:10.852384Z",
     "start_time": "2021-11-14T00:38:10.843407Z"
    }
   },
   "outputs": [],
   "source": [
    "df_concept = joblib.load('df_concept')"
   ]
  },
  {
   "cell_type": "code",
   "execution_count": 171,
   "metadata": {
    "ExecuteTime": {
     "end_time": "2021-11-14T00:38:14.208393Z",
     "start_time": "2021-11-14T00:38:14.191437Z"
    }
   },
   "outputs": [
    {
     "data": {
      "text/plain": [
       "' Project Management Plan. In planning risk management, all approved subsidiary management plans and baselines should be taken into . consideration in order to make the risk management plan consistent with them. The risk management plan is also . a component of the project management plan. The project management plan provides baseline or current state of . risk-affected areas including scope, schedule, and cost.. '"
      ]
     },
     "execution_count": 171,
     "metadata": {},
     "output_type": "execute_result"
    }
   ],
   "source": [
    "list(df_concept[( (df_concept['individuals']==a) & (df_concept['concept']==classe) )]['annotation'])[0]"
   ]
  },
  {
   "cell_type": "code",
   "execution_count": 172,
   "metadata": {
    "ExecuteTime": {
     "end_time": "2021-11-14T00:38:21.714312Z",
     "start_time": "2021-11-14T00:38:21.701347Z"
    }
   },
   "outputs": [
    {
     "data": {
      "text/plain": [
       "'Project Management Plan'"
      ]
     },
     "execution_count": 172,
     "metadata": {},
     "output_type": "execute_result"
    }
   ],
   "source": [
    "a"
   ]
  },
  {
   "cell_type": "code",
   "execution_count": null,
   "metadata": {},
   "outputs": [],
   "source": []
  }
 ],
 "metadata": {
  "kernelspec": {
   "display_name": "Python 3 (ipykernel)",
   "language": "python",
   "name": "python3"
  },
  "language_info": {
   "codemirror_mode": {
    "name": "ipython",
    "version": 3
   },
   "file_extension": ".py",
   "mimetype": "text/x-python",
   "name": "python",
   "nbconvert_exporter": "python",
   "pygments_lexer": "ipython3",
   "version": "3.8.8"
  },
  "toc": {
   "base_numbering": 1,
   "nav_menu": {},
   "number_sections": true,
   "sideBar": true,
   "skip_h1_title": false,
   "title_cell": "Table of Contents",
   "title_sidebar": "Contents",
   "toc_cell": false,
   "toc_position": {},
   "toc_section_display": true,
   "toc_window_display": false
  }
 },
 "nbformat": 4,
 "nbformat_minor": 4
}
