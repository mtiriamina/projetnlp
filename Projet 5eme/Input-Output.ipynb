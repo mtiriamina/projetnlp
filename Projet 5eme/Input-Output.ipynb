{
 "cells": [
  {
   "cell_type": "markdown",
   "id": "4e7d3d1e",
   "metadata": {},
   "source": [
    "# Import libraries"
   ]
  },
  {
   "cell_type": "code",
   "execution_count": 1,
   "id": "30646ab0",
   "metadata": {
    "ExecuteTime": {
     "end_time": "2021-11-17T18:35:38.078366Z",
     "start_time": "2021-11-17T18:35:34.593576Z"
    }
   },
   "outputs": [],
   "source": [
    "import re\n",
    "import pandas as pd\n",
    "import pdfplumber\n",
    "import spacy\n",
    "from spacy.matcher import Matcher \n",
    "from spacy.tokens import Span\n",
    "nlp=spacy.load('en_core_web_sm')\n",
    "import joblib"
   ]
  },
  {
   "cell_type": "markdown",
   "id": "727900d4",
   "metadata": {},
   "source": [
    "# Data Segmentation by process"
   ]
  },
  {
   "cell_type": "code",
   "execution_count": 2,
   "id": "c733bb72",
   "metadata": {
    "ExecuteTime": {
     "end_time": "2021-11-17T18:35:38.094270Z",
     "start_time": "2021-11-17T18:35:38.080306Z"
    }
   },
   "outputs": [],
   "source": [
    "def process_segmentation() :\n",
    "    ch=''\n",
    "    names =''\n",
    "    start = 0\n",
    "    process_df = pd.DataFrame(columns=['Process Name','start', 'Corpus'])\n",
    "    with pdfplumber.open(\"docs/PMBOK 5th.pdf\") as pdf:\n",
    "        for i in range(338,380) :\n",
    "            page = (pdf.pages[i]).extract_text()\n",
    "            for line in page.split('\\n') :\n",
    "                if re.match('\\d{2}.\\d\\s[A-Za-z]+\\s[A-Za-z]',line) :\n",
    "                    if start != 0 :\n",
    "                        process_df = process_df.append({'Process Name': name,'start':start, 'Corpus':ch[1:]}, ignore_index=True)\n",
    "\n",
    "                    ch = ''\n",
    "                    start = i\n",
    "                    name = line[5:]\n",
    "                ch=ch+'. '+line\n",
    "\n",
    "    process_df = process_df.append({'Process Name': name,'start':start, 'Corpus':ch[1:]}, ignore_index=True)\n",
    "\n",
    "    return (process_df)"
   ]
  },
  {
   "cell_type": "markdown",
   "id": "62779731",
   "metadata": {},
   "source": [
    "## Creating our df DataFrame that contains The Process name, starting page and the corpus"
   ]
  },
  {
   "cell_type": "code",
   "execution_count": 3,
   "id": "9e0dbed1",
   "metadata": {
    "ExecuteTime": {
     "end_time": "2021-11-17T18:35:57.635002Z",
     "start_time": "2021-11-17T18:35:38.096263Z"
    }
   },
   "outputs": [],
   "source": [
    "df = process_segmentation()"
   ]
  },
  {
   "cell_type": "code",
   "execution_count": 4,
   "id": "00e1d17c",
   "metadata": {
    "ExecuteTime": {
     "end_time": "2021-11-17T18:35:57.650961Z",
     "start_time": "2021-11-17T18:35:57.640987Z"
    }
   },
   "outputs": [],
   "source": [
    "process1 = df['Corpus'][0]\n",
    "process2 = df['Corpus'][1]\n",
    "process3 = df['Corpus'][2]\n",
    "process4 = df['Corpus'][3]\n",
    "process5 = df['Corpus'][4]\n",
    "process6 = df['Corpus'][5]"
   ]
  },
  {
   "cell_type": "code",
   "execution_count": 5,
   "id": "8a586865",
   "metadata": {
    "ExecuteTime": {
     "end_time": "2021-11-17T18:35:57.713792Z",
     "start_time": "2021-11-17T18:35:57.655948Z"
    }
   },
   "outputs": [
    {
     "data": {
      "text/html": [
       "<div>\n",
       "<style scoped>\n",
       "    .dataframe tbody tr th:only-of-type {\n",
       "        vertical-align: middle;\n",
       "    }\n",
       "\n",
       "    .dataframe tbody tr th {\n",
       "        vertical-align: top;\n",
       "    }\n",
       "\n",
       "    .dataframe thead th {\n",
       "        text-align: right;\n",
       "    }\n",
       "</style>\n",
       "<table border=\"1\" class=\"dataframe\">\n",
       "  <thead>\n",
       "    <tr style=\"text-align: right;\">\n",
       "      <th></th>\n",
       "      <th>Process Name</th>\n",
       "      <th>start</th>\n",
       "      <th>Corpus</th>\n",
       "    </tr>\n",
       "  </thead>\n",
       "  <tbody>\n",
       "    <tr>\n",
       "      <th>0</th>\n",
       "      <td>Plan risk Management</td>\n",
       "      <td>338</td>\n",
       "      <td>11.1 Plan risk Management. Plan Risk Manageme...</td>\n",
       "    </tr>\n",
       "    <tr>\n",
       "      <th>1</th>\n",
       "      <td>Identify risks</td>\n",
       "      <td>344</td>\n",
       "      <td>11.2 Identify risks. Identify Risks is the pr...</td>\n",
       "    </tr>\n",
       "    <tr>\n",
       "      <th>2</th>\n",
       "      <td>Perform Qualitative risk Analysis</td>\n",
       "      <td>353</td>\n",
       "      <td>11.3 Perform Qualitative risk Analysis. Perfo...</td>\n",
       "    </tr>\n",
       "    <tr>\n",
       "      <th>3</th>\n",
       "      <td>Perform Quantitative risk Analysis</td>\n",
       "      <td>358</td>\n",
       "      <td>11.4 Perform Quantitative risk Analysis. Perf...</td>\n",
       "    </tr>\n",
       "    <tr>\n",
       "      <th>4</th>\n",
       "      <td>Plan risk responses</td>\n",
       "      <td>367</td>\n",
       "      <td>11.5 Plan risk responses. Plan Risk Responses...</td>\n",
       "    </tr>\n",
       "    <tr>\n",
       "      <th>5</th>\n",
       "      <td>control risks</td>\n",
       "      <td>374</td>\n",
       "      <td>11.6 control risks. Control Risks is the proc...</td>\n",
       "    </tr>\n",
       "  </tbody>\n",
       "</table>\n",
       "</div>"
      ],
      "text/plain": [
       "                         Process Name start  \\\n",
       "0                Plan risk Management   338   \n",
       "1                      Identify risks   344   \n",
       "2   Perform Qualitative risk Analysis   353   \n",
       "3  Perform Quantitative risk Analysis   358   \n",
       "4                 Plan risk responses   367   \n",
       "5                       control risks   374   \n",
       "\n",
       "                                              Corpus  \n",
       "0   11.1 Plan risk Management. Plan Risk Manageme...  \n",
       "1   11.2 Identify risks. Identify Risks is the pr...  \n",
       "2   11.3 Perform Qualitative risk Analysis. Perfo...  \n",
       "3   11.4 Perform Quantitative risk Analysis. Perf...  \n",
       "4   11.5 Plan risk responses. Plan Risk Responses...  \n",
       "5   11.6 control risks. Control Risks is the proc...  "
      ]
     },
     "execution_count": 5,
     "metadata": {},
     "output_type": "execute_result"
    }
   ],
   "source": [
    "df"
   ]
  },
  {
   "cell_type": "markdown",
   "id": "5031dd9f",
   "metadata": {},
   "source": [
    "## Here we will merge the hole corpus "
   ]
  },
  {
   "cell_type": "code",
   "execution_count": 6,
   "id": "1517acbb",
   "metadata": {
    "ExecuteTime": {
     "end_time": "2021-11-17T18:35:57.729750Z",
     "start_time": "2021-11-17T18:35:57.720774Z"
    }
   },
   "outputs": [],
   "source": [
    "corpus = process1 + process2 + process3 + process4 + process5 + process6"
   ]
  },
  {
   "cell_type": "markdown",
   "id": "c210747c",
   "metadata": {},
   "source": [
    "## We will be using regex to locate the : <br>\n",
    "  <li>Input titles</li>\n",
    "  <li>tools_and_techniques</li>\n",
    "  <li>outputs_titles</li>\n",
    "  <li>get_subtiltles</li>\n",
    "  <li>title</li>\n",
    "  \n",
    "\n",
    "    "
   ]
  },
  {
   "cell_type": "code",
   "execution_count": 7,
   "id": "5a238958",
   "metadata": {
    "ExecuteTime": {
     "end_time": "2021-11-17T18:35:57.745707Z",
     "start_time": "2021-11-17T18:35:57.732742Z"
    }
   },
   "outputs": [],
   "source": [
    "inputs_titles = re.compile(r'\\d+\\..+: Inputs\\n')\n",
    "tools_and_techniques = re.compile(r'\\d+\\..+: tools and techniques\\n')\n",
    "outputs_titles = re.compile(r'\\d+\\..+: outputs\\n')\n",
    "get_subtiltles = re.compile(r'[^|\\n](\\d+\\.){2,4}\\d+ [a-z|\\s|A-Z]+(\\d+)?\\n')\n",
    "title = re.compile(r'\\d+ (.+): Inputs\\n')"
   ]
  },
  {
   "cell_type": "markdown",
   "id": "eb865eeb",
   "metadata": {},
   "source": [
    "## Now let's get the text and clean it"
   ]
  },
  {
   "cell_type": "code",
   "execution_count": 8,
   "id": "7a3c97b4",
   "metadata": {
    "ExecuteTime": {
     "end_time": "2021-11-17T18:36:21.909077Z",
     "start_time": "2021-11-17T18:35:57.748699Z"
    }
   },
   "outputs": [],
   "source": [
    "ch=''\n",
    "with pdfplumber.open(\"docs/PMBOK 5th.pdf\") as temp:\n",
    "    for i in range(339,380) :\n",
    "        first_page = temp.pages[i]\n",
    "        ch=ch+first_page.extract_text()"
   ]
  },
  {
   "cell_type": "code",
   "execution_count": 9,
   "id": "e1f3b00d",
   "metadata": {
    "ExecuteTime": {
     "end_time": "2021-11-17T18:36:21.945978Z",
     "start_time": "2021-11-17T18:36:21.918053Z"
    }
   },
   "outputs": [],
   "source": [
    "def clean(text):\n",
    "    # Remove numbers\n",
    "    text = re.sub('[•-]','',text)\n",
    "    text = re.sub(\"\\s\\s+\" , \" \", text)\n",
    "    return text "
   ]
  },
  {
   "cell_type": "code",
   "execution_count": 10,
   "id": "1c1d8cd1",
   "metadata": {
    "ExecuteTime": {
     "end_time": "2021-11-17T18:36:22.014795Z",
     "start_time": "2021-11-17T18:36:21.972906Z"
    }
   },
   "outputs": [],
   "source": [
    "ch = ch.replace('11 - PROJECT RISK MANAGEMENT\\n','')\n",
    "ch = clean(ch)"
   ]
  },
  {
   "cell_type": "markdown",
   "id": "a14c6d8d",
   "metadata": {},
   "source": [
    "## Our text is now clean and can be segmented"
   ]
  },
  {
   "cell_type": "code",
   "execution_count": 11,
   "id": "e08ccf20",
   "metadata": {
    "ExecuteTime": {
     "end_time": "2021-11-17T18:36:22.303025Z",
     "start_time": "2021-11-17T18:36:22.025765Z"
    }
   },
   "outputs": [
    {
     "name": "stdout",
     "output_type": "stream",
     "text": [
      "11.1.1 Plan risk Management: Inputs\n",
      "\n",
      "\t11.1.1.1 Project Management Plan\n",
      "\t11.1.1.2 Project charter\n",
      "\t11.1.1.3 Stakeholder register\n",
      "\t11.1.1.4 Enterprise Environmental Factors\n",
      "\t11.1.1.5 organizational Process Assets\n",
      "11.1.2 Plan risk Management: tools and techniques\n",
      "\n",
      "\t11.1.2.1 Analytical techniques\n",
      "\t11.1.2.2 Expert Judgment\n",
      "\t.11.1.2.3 Meetings\n",
      "11.1.3 Plan risk Management: outputs\n",
      "\n",
      "\t11.1.3.1 risk Management Plan\n",
      "----------------------------------------------------------------------\n",
      "11.2.1 Identify risks: Inputs\n",
      "\n",
      "\t11.2.1.1 risk Management Plan 11\n",
      "\t11.2.1.2 cost Management Plan\n",
      "\t11.2.1.3 Schedule Management Plan\n",
      "\t11.2.1.4 Quality Management Plan\n",
      "\t.11.2.1.5 Human resource Management Plan\n",
      "\t11.2.1.6 Scope Baseline\n",
      "\t11.2.1.7 Activity cost Estimates\n",
      "\t11.2.1.8 Activity duration Estimates\n",
      "\t11.2.1.9 Stakeholder register\n",
      "\t.11.2.1.10 Project documents\n",
      "\t11.2.1.11 Procurement documents\n",
      "\t11.2.1.12 Enterprise Environmental Factors\n",
      "\t.11.2.1.13 organizational Process Assets\n",
      "11.2.2 Identify risks: tools and techniques\n",
      "\n",
      "\t11.2.2.1 documentation reviews\n",
      "\t11.2.2.2 Information Gathering techniques\n",
      "\t11.2.2.3 checklist Analysis\n",
      "\t11.2.2.4 Assumptions Analysis\n",
      "\t11.2.2.5 diagramming techniques\n",
      "\t11.2.2.6 SWot Analysis\n",
      "\t.11.2.2.7 Expert Judgment\n",
      "11.2.3 Identify risks: outputs\n",
      "\n",
      "\t11.2.3.1 risk register\n",
      "----------------------------------------------------------------------\n",
      "11.3.1 Perform Qualitative risk Analysis: Inputs\n",
      "\n",
      "\t11.3.1.1 risk Management Plan\n",
      "\t11.3.1.2 Scope Baseline\n",
      "\t.11.3.1.3 risk register\n",
      "\t11.3.1.4 Enterprise Environmental Factors\n",
      "\t11.3.1.5 organizational Process Assets\n",
      "11.3.2 Perform Qualitative risk Analysis: tools and techniques\n",
      "\n",
      "\t11.3.2.1 risk Probability and Impact Assessment\n",
      "\t.11.3.2.2 Probability and Impact Matrix\n",
      "\t11.3.2.3 risk data Quality Assessment\n",
      "\t11.3.2.4 risk categorization\n",
      "\t.11.3.2.5 risk urgency Assessment\n",
      "\t11.3.2.6 Expert Judgment\n",
      "11.3.3 Perform Qualitative risk Analysis: outputs\n",
      "\n",
      "\t11.3.3.1 Project documents updates\n",
      "----------------------------------------------------------------------\n",
      "11.4.1 Perform Quantitative risk Analysis: Inputs\n",
      "\n",
      "\t11.4.1.1 risk Management Plan\n",
      "\t11.4.1.2 cost Management Plan\n",
      "\t11.4.1.3 Schedule Management Plan\n",
      "\t11.4.1.4 risk register\n",
      "\t11.4.1.5 Enterprise Environmental Factors\n",
      "\t.11.4.1.6 organizational Process Assets\n",
      "11.4.2 Perform Quantitative risk Analysis: tools and techniques\n",
      "\n",
      "\t.11.4.2.2 Quantitative risk Analysis and Modeling techniques\n",
      "\t.11.4.2.3 Expert Judgment\n",
      "11.4.3 Perform Quantitative risk Analysis: outputs\n",
      "\n",
      "\t11.4.3.1 Project documents updates\n",
      "----------------------------------------------------------------------\n",
      "11.5.1 Plan risk responses: Inputs\n",
      "\n",
      "\t11.5.1.1 risk Management Plan\n",
      "\t11.5.1.2 risk register\n",
      "11.5.2 Plan risk responses: tools and techniques\n",
      "\n",
      "\t.11.5.2.1 Strategies for negative risks or threats\n",
      "\t11.5.2.2 Strategies for Positive risks or opportunities\n",
      "\t11.5.2.3 contingent response Strategies\n",
      "\t11.5.2.4 Expert Judgment\n",
      "11.5.3 Plan risk responses: outputs\n",
      "\n",
      "\t11.5.3.1 Project Management Plan updates\n",
      "\t11.5.3.2 Project documents updates\n",
      "----------------------------------------------------------------------\n",
      "11.6.1 control risks: Inputs\n",
      "\n",
      "processus :  control risks\n",
      "\t11.6.1.1 Project Management Plan\n",
      "\t11.6.1.2 risk register\n",
      "\t.11.6.1.3 Work Performance data\n",
      "\t11.6.1.4 Work Performance reports\n",
      "11.6.2 control risks: tools and techniques\n",
      "\n",
      "\t11.6.2.1 risk reassessment\n",
      "\t11.6.2.2 risk Audits\n",
      "\t.11.6.2.3 Variance and trend Analysis\n",
      "\t11.6.2.4 technical Performance Measurement\n",
      "\t11.6.2.5 reserve Analysis\n",
      "\t11.6.2.6 Meetings\n",
      "11.6.3 control risks: outputs\n",
      "\n",
      "\t11.6.3.1 Work Performance Information\n",
      "\t11.6.3.2 change requests\n",
      "\t11.6.3.3 Project Management Plan updates\n",
      "\t.11.6.3.4 Project documents updates\n",
      "\t 11.6.3.5 organizational Process Assets updates\n"
     ]
    }
   ],
   "source": [
    "sections = inputs_titles.finditer(ch)\n",
    "df = []\n",
    "inputs = []\n",
    "tt = []\n",
    "outputss=[]\n",
    "lst_sec = [elem for elem in sections]\n",
    "for i in range(0,len(lst_sec)):\n",
    "    if i == (len(lst_sec)-1):\n",
    "        print(lst_sec[i].group())\n",
    "        print(\"processus : \", title.search(lst_sec[i].group()).group(1))\n",
    "        df.append(title.search(lst_sec[i].group()).group(1))\n",
    "        #Extraire toute la partie entre 2 processus\n",
    "        str_between = ch[int(lst_sec[i].span()[1]):]\n",
    "        t_and_t = tools_and_techniques.search(str_between)\n",
    "        ch_inputs_techniques = str_between[:int(t_and_t.span()[0])]\n",
    "        lst_sub_inputs = get_subtiltles.finditer(ch_inputs_techniques)\n",
    "        #######Liste des inputs\n",
    "        lst2 = [a.group().split('\\n')[0] for a in lst_sub_inputs]\n",
    "        #print(lst2)\n",
    "        l=list()\n",
    "        nom_input = \"p\"+str(i+1)+\"_inputs\"\n",
    "        l.append(nom_input)\n",
    "        for j in lst2 :\n",
    "            a=j\n",
    "            a=a.replace('\\n','')\n",
    "            a = re.sub(r'[*\\d]', '', a)\n",
    "            a=a.replace('.','')\n",
    "            a = re.sub(r\"^\\s+\",\"\",a)\n",
    "            l.append(a)\n",
    "            print(\"\\t\"+j)\n",
    "        inputs.append(l)\n",
    "#####End liste des inputs\n",
    "#[print(\"\\t\"+x.group().split('\\n')[0]) for x in lst_sub_inputs]\n",
    "        print(t_and_t.group())\n",
    "        outputs = outputs_titles.search(str_between)\n",
    "        ch_techniques_outputs = str_between[int(t_and_t.span()[1]):int(outputs.span()[0])]\n",
    "        lst_sub_tt = get_subtiltles.finditer(ch_techniques_outputs)\n",
    "        ######Liste des tt\n",
    "        lst2 = [a.group().split('\\n')[0] for a in lst_sub_tt]\n",
    "        #print(lst2)\n",
    "        l=list()\n",
    "        nom_tt = \"p\"+str(i+1)+\"_tt\"\n",
    "        l.append(nom_tt)\n",
    "        for j in lst2 :\n",
    "            a=j\n",
    "            a=a.replace('\\n','')\n",
    "            a = re.sub(r'[*\\d]', '', a)\n",
    "            a=a.replace('.','')\n",
    "            a = re.sub(r\"^\\s+\",\"\",a)\n",
    "            l.append(a)\n",
    "            print(\"\\t\"+j)\n",
    "        tt.append(l)\n",
    "######End liste des tt\n",
    "#[print(\"\\t\"+x.group().split('\\n')[0]) for x in lst_sub_tt]\n",
    "        print(outputs.group())\n",
    "        ch_outputs = str_between[int(outputs.span()[1]):]\n",
    "        lst_sub_outputs = get_subtiltles.finditer(ch_outputs)\n",
    "        ######Liste des outputs\n",
    "        lst2 = [a.group().split('\\n')[0] for a in lst_sub_outputs]\n",
    "        #print(lst2)\n",
    "        l=list()\n",
    "        nom_output = \"p\"+str(i+1)+\"_outputs\"\n",
    "        l.append(nom_output)\n",
    "        for j in lst2 :\n",
    "            a=j\n",
    "            a=a.replace('\\n','')\n",
    "            a = re.sub(r'[*\\d]', '', a)\n",
    "            a=a.replace('.','')\n",
    "            a = re.sub(r\"^\\s+\",\"\",a)\n",
    "            l.append(a)\n",
    "            print(\"\\t\"+j)\n",
    "        outputss.append(l)\n",
    "######End liste des outputs\n",
    "#[print(\"\\t\"+x.group().split('\\n')[0]) for x in lst_sub_outputs if '-' not in x.gro\n",
    "\n",
    "    else:\n",
    "        print(lst_sec[i].group())\n",
    "        # print(\"processus : \", title.search(lst_sec[i].group()).group(1))\n",
    "        #Extraire toute la partie entre 2 processus\n",
    "        df.append(title.search(lst_sec[i].group()).group(1))\n",
    "        str_between = ch[int(lst_sec[i].span()[1]):int(lst_sec[i+1].span()[0])]\n",
    "        t_and_t = tools_and_techniques.search(str_between)\n",
    "        ch_inputs_techniques = str_between[:int(t_and_t.span()[0])]\n",
    "        lst_sub_inputs = get_subtiltles.finditer(ch_inputs_techniques)\n",
    "        #######Liste des inputs\n",
    "        lst2 = [a.group().split('\\n')[0] for a in lst_sub_inputs]\n",
    "        #print(lst2)\n",
    "        l=list()\n",
    "        nom_input = \"p\"+str(i+1)+\"_inputs\"\n",
    "        l.append(nom_input)\n",
    "\n",
    "        for j in lst2 :\n",
    "            a=j\n",
    "            a=a.replace('\\n','')\n",
    "            a = re.sub(r'[*\\d]', '', a)\n",
    "            a=a.replace('.','')\n",
    "            a = re.sub(r\"^\\s+\",\"\",a)\n",
    "            l.append(a)\n",
    "            print(\"\\t\"+j)\n",
    "        inputs.append(l)\n",
    "    #####End liste des inputs\n",
    "    #[print(\"\\t\"+x.group().split('\\n')[0]) for x in lst_sub_inputs]\n",
    "        print(t_and_t.group())\n",
    "        outputs = outputs_titles.search(str_between)\n",
    "        ch_techniques_outputs = str_between[int(t_and_t.span()[1]):int(outputs.span()[0])]\n",
    "        lst_sub_tt = get_subtiltles.finditer(ch_techniques_outputs)\n",
    "        ######Liste des tt\n",
    "        lst2 = [a.group().split('\\n')[0] for a in lst_sub_tt]\n",
    "        #print(lst2)\n",
    "        l=list()\n",
    "        nom_tt = \"p\"+str(i+1)+\"_tt\"\n",
    "\n",
    "        l.append(nom_tt)\n",
    "        for j in lst2 :\n",
    "            a=j\n",
    "            a=a.replace('\\n','')\n",
    "            a = re.sub(r'[*\\d]', '', a)\n",
    "            a=a.replace('.','')\n",
    "            a = re.sub(r\"^\\s+\",\"\",a)\n",
    "            l.append(a)\n",
    "            print(\"\\t\"+j)\n",
    "        tt.append(l)\n",
    "    ######End liste des tt\n",
    "    #[print(\"\\t\"+x.group().split('\\n')[0]) for x in lst_sub_tt]\n",
    "        print(outputs.group())\n",
    "        ch_outputs = str_between[int(outputs.span()[1]):]\n",
    "        lst_sub_outputs = get_subtiltles.finditer(ch_outputs)\n",
    "        ######Liste des outputs\n",
    "        lst2 = [a.group().split('\\n')[0] for a in lst_sub_outputs]\n",
    "        #print(lst2)\n",
    "        l=list()\n",
    "        nom_output = \"p\"+str(i+1)+\"_outputs\"\n",
    "        l.append(nom_output)\n",
    "        for j in lst2 :\n",
    "            a=j\n",
    "            a=a.replace('\\n','')\n",
    "            a = re.sub(r'[*\\d]', '', a)\n",
    "            a=a.replace('.','')\n",
    "            a = re.sub(r\"^\\s+\",\"\",a)\n",
    "            l.append(a)\n",
    "            print(\"\\t\"+j)\n",
    "        outputss.append(l)\n",
    "        ######End liste des outputs\n",
    "        #[print(\"\\t\"+x.group().split('\\n')[0]) for x in lst_sub_outputs if '-' not in x.gro\n",
    "        print('-'*70)"
   ]
  },
  {
   "cell_type": "markdown",
   "id": "4ccbae64",
   "metadata": {},
   "source": [
    "## Since we have many objects we will be creating for each one a variable dynamically usin exec "
   ]
  },
  {
   "cell_type": "markdown",
   "id": "8d528202",
   "metadata": {},
   "source": [
    "## Every Process has inputs, tools&technoques and outputs. <br>\n",
    "So every process will have this structure: <br>\n",
    "For example for process1 the variables will be created like this <br>\n",
    "    <li>To access Process <b>1</b>'s <b>inputs</b> the variable name will be : <b>p1_inputs</b> </li>\n",
    "    <li>To access Process <b>1</b>'s <b>tools and techniques</b> the variable name will be : <b>p1_tt</b></li>\n",
    "    <li>To access Process <b>1</b>'s <b>outputs</b> the variable name will be : <b>p1_outputs</b></li>"
   ]
  },
  {
   "cell_type": "code",
   "execution_count": 12,
   "id": "e72f36e1",
   "metadata": {
    "ExecuteTime": {
     "end_time": "2021-11-17T18:36:22.330950Z",
     "start_time": "2021-11-17T18:36:22.307013Z"
    }
   },
   "outputs": [],
   "source": [
    "for i in inputs:\n",
    "    a=i[0]\n",
    "    del(i[0])\n",
    "\n",
    "    exec('%s = %s' %(a, i[:]))"
   ]
  },
  {
   "cell_type": "code",
   "execution_count": 13,
   "id": "53e1da32",
   "metadata": {
    "ExecuteTime": {
     "end_time": "2021-11-17T18:36:22.345910Z",
     "start_time": "2021-11-17T18:36:22.334939Z"
    }
   },
   "outputs": [],
   "source": [
    "for i in outputss:\n",
    "    a=i[0]\n",
    "    del(i[0])\n",
    "\n",
    "    exec('%s = %s' %(a, i[:]))"
   ]
  },
  {
   "cell_type": "code",
   "execution_count": 14,
   "id": "69e7bc34",
   "metadata": {
    "ExecuteTime": {
     "end_time": "2021-11-17T18:36:22.376827Z",
     "start_time": "2021-11-17T18:36:22.350896Z"
    }
   },
   "outputs": [],
   "source": [
    "for i in tt:\n",
    "    a=i[0]\n",
    "    del(i[0])\n",
    "\n",
    "    exec('%s = %s' %(a, i[:]))"
   ]
  },
  {
   "cell_type": "markdown",
   "id": "ab49dfab",
   "metadata": {},
   "source": [
    "## We will repeat the process to locate the annotation of every input tools and techniques and the output of every process"
   ]
  },
  {
   "cell_type": "markdown",
   "id": "ab18eca4",
   "metadata": {},
   "source": [
    "So every process will have this structure: <br>\n",
    "For example for process1 the variables will be created like this <br>\n",
    "    <li>To access <b>The Input annotation</b> of Process <b>1</b> the variable name will be : <b>in_p1</b> </li>\n",
    "    <li>To access <b>The Tools and Techniques annotation</b> of Process <b>1</b> the variable name will be : <b>tt_p1</b></li>\n",
    "    <li>To access <b>The Output annotation</b> of Process <b>1</b> the variable name will be : <b>out_p1</b></li>"
   ]
  },
  {
   "cell_type": "code",
   "execution_count": 15,
   "id": "666f7c97",
   "metadata": {
    "ExecuteTime": {
     "end_time": "2021-11-17T18:36:22.510475Z",
     "start_time": "2021-11-17T18:36:22.380815Z"
    }
   },
   "outputs": [],
   "source": [
    "for i in range(1,7):\n",
    "    exec(f'tt_p{i} = re.search(\\'\\d+\\..+tools and techniques(.*)\\d+\\..+outputs\\', process{i}).group(1)')\n",
    "    exec(f'in_p{i} = re.search(\\'\\d+\\..+Inputs(.*)\\d+\\..+tools and techniques\\', process{i}).group(1)')\n",
    "    exec(f'out_p{i} = re.search(\\'\\d+\\..+outputs(.*)\\', process{i}).group(1)')"
   ]
  },
  {
   "cell_type": "code",
   "execution_count": 16,
   "id": "2b03fb5a",
   "metadata": {
    "ExecuteTime": {
     "end_time": "2021-11-17T18:36:22.556347Z",
     "start_time": "2021-11-17T18:36:22.521439Z"
    }
   },
   "outputs": [],
   "source": [
    "def make_annotation(element, text, process, iot):\n",
    "    ann = []\n",
    "    for i in range(1,len(element)):\n",
    "        ann.append(re.search('11.'+str(process)+'.'+str(iot)+'.'+str(i)+'(.*)11.'+str(process)+'.'+str(iot)+'.'+str(i+1)+'', text).group(1))\n",
    "    ann.append(re.search('11.'+str(process)+'.'+str(iot)+'.'+str(element.index(element[-1])+1)+'(.*)', text).group(1))\n",
    "    return ann"
   ]
  },
  {
   "cell_type": "markdown",
   "id": "e28c5592",
   "metadata": {},
   "source": [
    "### Inputs"
   ]
  },
  {
   "cell_type": "code",
   "execution_count": 17,
   "id": "41c618d8",
   "metadata": {
    "ExecuteTime": {
     "end_time": "2021-11-17T18:36:22.615190Z",
     "start_time": "2021-11-17T18:36:22.575296Z"
    }
   },
   "outputs": [],
   "source": [
    "an_in_p1 = make_annotation(p1_inputs, in_p1, 1, 1)\n",
    "an_in_p2 = make_annotation(p2_inputs, in_p2, 2, 1)\n",
    "an_in_p3 = make_annotation(p3_inputs, in_p3, 3, 1)\n",
    "an_in_p4 = make_annotation(p4_inputs, in_p4, 4, 1)\n",
    "an_in_p5 = make_annotation(p5_inputs, in_p5, 5, 1)\n",
    "an_in_p6 = make_annotation(p6_inputs, in_p6, 6, 1)"
   ]
  },
  {
   "cell_type": "markdown",
   "id": "2ee43d13",
   "metadata": {},
   "source": [
    "### Tools&Techniques"
   ]
  },
  {
   "cell_type": "code",
   "execution_count": 18,
   "id": "f7e72bf4",
   "metadata": {
    "ExecuteTime": {
     "end_time": "2021-11-17T18:36:22.693979Z",
     "start_time": "2021-11-17T18:36:22.625162Z"
    }
   },
   "outputs": [],
   "source": [
    "an_tt_p1 = make_annotation(p1_tt, tt_p1, 1, 2)\n",
    "an_tt_p2 = make_annotation(p2_tt, tt_p2, 2, 2)\n",
    "an_tt_p3 = make_annotation(p3_tt, tt_p3, 3, 2)\n",
    "an_tt_p4 = make_annotation(p4_tt, tt_p4, 4, 2)\n",
    "an_tt_p5 = make_annotation(p5_tt, tt_p5, 5, 2)\n",
    "an_tt_p6 = make_annotation(p6_tt, tt_p6, 6, 2)"
   ]
  },
  {
   "cell_type": "markdown",
   "id": "9d2bebc4",
   "metadata": {},
   "source": [
    "### Outputs"
   ]
  },
  {
   "cell_type": "code",
   "execution_count": 19,
   "id": "c765bab4",
   "metadata": {
    "ExecuteTime": {
     "end_time": "2021-11-17T18:36:22.723897Z",
     "start_time": "2021-11-17T18:36:22.698965Z"
    }
   },
   "outputs": [],
   "source": [
    "an_out_p1 = make_annotation(p1_outputs, out_p1, 1, 3)\n",
    "an_out_p2 = make_annotation(p2_outputs, out_p2, 2, 3)\n",
    "an_out_p3 = make_annotation(p3_outputs, out_p3, 3, 3)\n",
    "an_out_p4 = make_annotation(p4_outputs, out_p4, 4, 3)\n",
    "an_out_p5 = make_annotation(p5_outputs, out_p5, 5, 3)\n",
    "an_out_p6 = make_annotation(p6_outputs, out_p6, 6, 3)"
   ]
  },
  {
   "cell_type": "markdown",
   "id": "cbded770",
   "metadata": {},
   "source": [
    "## We noticed that there are annotations that are described with figures so we cleaned the output"
   ]
  },
  {
   "cell_type": "code",
   "execution_count": 20,
   "id": "16a2c293",
   "metadata": {
    "ExecuteTime": {
     "end_time": "2021-11-17T18:36:22.738857Z",
     "start_time": "2021-11-17T18:36:22.726890Z"
    }
   },
   "outputs": [],
   "source": [
    "def clean_input(text):\n",
    "    a = []\n",
    "    for t in text:\n",
    "        if re.findall('in Section(.*)', t):\n",
    "            t = re.sub('[\\d]+','',t)\n",
    "            t = re.sub('\\s[.]+','',t)\n",
    "            t = re.search('in Section(.*)', t).group(1)\n",
    "        a.append(t)\n",
    "    return a"
   ]
  },
  {
   "cell_type": "code",
   "execution_count": 21,
   "id": "c0e7ebb7",
   "metadata": {
    "ExecuteTime": {
     "end_time": "2021-11-17T18:36:22.784735Z",
     "start_time": "2021-11-17T18:36:22.745848Z"
    }
   },
   "outputs": [],
   "source": [
    "an_in_p1 = clean_input(an_in_p1)\n",
    "an_in_p2 = clean_input(an_in_p2)\n",
    "an_in_p3 = clean_input(an_in_p3)\n",
    "an_in_p4 = clean_input(an_in_p4)\n",
    "an_in_p5 = clean_input(an_in_p5)\n",
    "an_in_p6 = clean_input(an_in_p6)"
   ]
  },
  {
   "cell_type": "markdown",
   "id": "3d969c73",
   "metadata": {},
   "source": [
    "## To prepare our data to the ontology building, we devided our Processes into 3 variables. <br>\n",
    "<li>individuals : The Title of the process elements</li>\n",
    "<li>annotation: The description of the individual</li>\n",
    "<li>process: The process name</li>\n",
    "<li>concept: concept ['Inputs', 'Tools and techniques', 'Outputs']</li>\n",
    "<li>pattern: Object + Subject + Link</li>"
   ]
  },
  {
   "cell_type": "markdown",
   "id": "d2b167e6",
   "metadata": {},
   "source": [
    "### Process 1"
   ]
  },
  {
   "cell_type": "code",
   "execution_count": 22,
   "id": "9501791f",
   "metadata": {
    "ExecuteTime": {
     "end_time": "2021-11-17T18:36:22.831610Z",
     "start_time": "2021-11-17T18:36:22.792714Z"
    }
   },
   "outputs": [],
   "source": [
    "df_p1_in = pd.DataFrame({\n",
    "    'individuals':p1_inputs, 'annotation':an_in_p1\n",
    "})\n",
    "df_p1_in['process'] = 'Plan Risk Management'\n",
    "df_p1_in['concept'] = 'Plan Risk Management Inputs'\n",
    "df_p1_in['pattern'] = '[]'\n",
    "\n",
    "df_p1_out = pd.DataFrame({\n",
    "    'individuals':p1_outputs, 'annotation':an_out_p1\n",
    "})\n",
    "\n",
    "df_p1_out['process'] = 'Plan Risk Management'\n",
    "df_p1_out['concept'] = 'Plan Risk Management Outputs'\n",
    "df_p1_out['pattern'] = '[]'\n",
    "\n",
    "df_p1_tt = pd.DataFrame({\n",
    "    'individuals':p1_tt, 'annotation':an_tt_p1\n",
    "})\n",
    "\n",
    "df_p1_tt['process'] = 'Plan Risk Management'\n",
    "df_p1_tt['concept'] = 'Plan Risk Management TT'\n",
    "df_p1_tt['pattern'] = '[]'\n"
   ]
  },
  {
   "cell_type": "code",
   "execution_count": 23,
   "id": "82a1c982",
   "metadata": {
    "ExecuteTime": {
     "end_time": "2021-11-17T18:36:22.875492Z",
     "start_time": "2021-11-17T18:36:22.845573Z"
    }
   },
   "outputs": [
    {
     "data": {
      "text/html": [
       "<div>\n",
       "<style scoped>\n",
       "    .dataframe tbody tr th:only-of-type {\n",
       "        vertical-align: middle;\n",
       "    }\n",
       "\n",
       "    .dataframe tbody tr th {\n",
       "        vertical-align: top;\n",
       "    }\n",
       "\n",
       "    .dataframe thead th {\n",
       "        text-align: right;\n",
       "    }\n",
       "</style>\n",
       "<table border=\"1\" class=\"dataframe\">\n",
       "  <thead>\n",
       "    <tr style=\"text-align: right;\">\n",
       "      <th></th>\n",
       "      <th>individuals</th>\n",
       "      <th>annotation</th>\n",
       "      <th>process</th>\n",
       "      <th>concept</th>\n",
       "      <th>pattern</th>\n",
       "    </tr>\n",
       "  </thead>\n",
       "  <tbody>\n",
       "    <tr>\n",
       "      <th>0</th>\n",
       "      <td>Project Management Plan</td>\n",
       "      <td>Project Management Plan. In planning risk man...</td>\n",
       "      <td>Plan Risk Management</td>\n",
       "      <td>Plan Risk Management Inputs</td>\n",
       "      <td>[]</td>\n",
       "    </tr>\n",
       "    <tr>\n",
       "      <th>1</th>\n",
       "      <td>Project charter</td>\n",
       "      <td>The project charter can provide various input...</td>\n",
       "      <td>Plan Risk Management</td>\n",
       "      <td>Plan Risk Management Inputs</td>\n",
       "      <td>[]</td>\n",
       "    </tr>\n",
       "    <tr>\n",
       "      <th>2</th>\n",
       "      <td>Stakeholder register</td>\n",
       "      <td>The stakeholder register, which contains all ...</td>\n",
       "      <td>Plan Risk Management</td>\n",
       "      <td>Plan Risk Management Inputs</td>\n",
       "      <td>[]</td>\n",
       "    </tr>\n",
       "    <tr>\n",
       "      <th>3</th>\n",
       "      <td>Enterprise Environmental Factors</td>\n",
       "      <td>The enterprise environmental factors that can...</td>\n",
       "      <td>Plan Risk Management</td>\n",
       "      <td>Plan Risk Management Inputs</td>\n",
       "      <td>[]</td>\n",
       "    </tr>\n",
       "    <tr>\n",
       "      <th>4</th>\n",
       "      <td>organizational Process Assets</td>\n",
       "      <td>The organizational process assets that can in...</td>\n",
       "      <td>Plan Risk Management</td>\n",
       "      <td>Plan Risk Management Inputs</td>\n",
       "      <td>[]</td>\n",
       "    </tr>\n",
       "  </tbody>\n",
       "</table>\n",
       "</div>"
      ],
      "text/plain": [
       "                        individuals  \\\n",
       "0           Project Management Plan   \n",
       "1                   Project charter   \n",
       "2              Stakeholder register   \n",
       "3  Enterprise Environmental Factors   \n",
       "4     organizational Process Assets   \n",
       "\n",
       "                                          annotation               process  \\\n",
       "0   Project Management Plan. In planning risk man...  Plan Risk Management   \n",
       "1   The project charter can provide various input...  Plan Risk Management   \n",
       "2   The stakeholder register, which contains all ...  Plan Risk Management   \n",
       "3   The enterprise environmental factors that can...  Plan Risk Management   \n",
       "4   The organizational process assets that can in...  Plan Risk Management   \n",
       "\n",
       "                       concept pattern  \n",
       "0  Plan Risk Management Inputs      []  \n",
       "1  Plan Risk Management Inputs      []  \n",
       "2  Plan Risk Management Inputs      []  \n",
       "3  Plan Risk Management Inputs      []  \n",
       "4  Plan Risk Management Inputs      []  "
      ]
     },
     "execution_count": 23,
     "metadata": {},
     "output_type": "execute_result"
    }
   ],
   "source": [
    "df_p1_in"
   ]
  },
  {
   "cell_type": "markdown",
   "id": "28fcf4ac",
   "metadata": {},
   "source": [
    "### Process 2"
   ]
  },
  {
   "cell_type": "code",
   "execution_count": 24,
   "id": "9d628edd",
   "metadata": {
    "ExecuteTime": {
     "end_time": "2021-11-17T18:36:22.937327Z",
     "start_time": "2021-11-17T18:36:22.880479Z"
    }
   },
   "outputs": [],
   "source": [
    "df_p2_in = pd.DataFrame({\n",
    "    'individuals':p2_inputs, 'annotation':an_in_p2\n",
    "})\n",
    "df_p2_in['process'] = 'Identify Risks'\n",
    "df_p2_in['concept'] = 'Identify Risks Inputs'\n",
    "df_p2_in['pattern'] = '[]'\n",
    "\n",
    "df_p2_out = pd.DataFrame({\n",
    "    'individuals':p2_outputs, 'annotation':an_out_p2\n",
    "})\n",
    "df_p2_out['process'] = 'Identify Risks'\n",
    "df_p2_out['concept'] = 'Identify Risks Inputs'\n",
    "df_p2_out['pattern'] = '[]'\n",
    "\n",
    "df_p2_tt = pd.DataFrame({\n",
    "    'individuals':p2_tt, 'annotation':an_tt_p2\n",
    "})\n",
    "df_p2_tt['process'] = 'Identify Risks'\n",
    "df_p2_tt['concept'] = 'Plan Risk Management TT'\n",
    "df_p2_tt['pattern'] = '[]'\n"
   ]
  },
  {
   "cell_type": "markdown",
   "id": "bc988621",
   "metadata": {},
   "source": [
    "### Process 3"
   ]
  },
  {
   "cell_type": "code",
   "execution_count": 25,
   "id": "8ff6719a",
   "metadata": {
    "ExecuteTime": {
     "end_time": "2021-11-17T18:36:23.072993Z",
     "start_time": "2021-11-17T18:36:22.943311Z"
    }
   },
   "outputs": [],
   "source": [
    "df_p3_in = pd.DataFrame({\n",
    "    'individuals':p3_inputs, 'annotation':an_in_p3\n",
    "})\n",
    "df_p3_in['process'] = 'Perform Qualitative Risk Analysis'\n",
    "\n",
    "df_p3_in['concept'] = 'Perform Qualitative Risk Analysis Inputs'\n",
    "df_p3_in['pattern'] = '[]'\n",
    "\n",
    "df_p3_out = pd.DataFrame({\n",
    "    'individuals':p3_outputs, 'annotation':an_out_p3\n",
    "})\n",
    "df_p3_out['process'] = 'Perform Qualitative Risk Analysis'\n",
    "\n",
    "df_p3_out['concept'] = 'Perform Qualitative Risk Analysis Outputs'\n",
    "df_p3_out['pattern'] = '[]'\n",
    "\n",
    "df_p3_tt = pd.DataFrame({\n",
    "    'individuals':p3_tt, 'annotation':an_tt_p3\n",
    "})\n",
    "df_p3_tt['process'] = 'Perform Qualitative Risk Analysis'\n",
    "\n",
    "df_p3_tt['concept'] = 'Perform Qualitative Risk Analysis TT'\n",
    "df_p3_tt['pattern'] = '[]'"
   ]
  },
  {
   "cell_type": "markdown",
   "id": "21fead29",
   "metadata": {},
   "source": [
    "### Process 4"
   ]
  },
  {
   "cell_type": "code",
   "execution_count": 26,
   "id": "2d6dc632",
   "metadata": {
    "ExecuteTime": {
     "end_time": "2021-11-17T18:36:23.282974Z",
     "start_time": "2021-11-17T18:36:23.118385Z"
    }
   },
   "outputs": [],
   "source": [
    "df_p4_in = pd.DataFrame({\n",
    "    'individuals':p4_inputs, 'annotation':an_in_p4\n",
    "})\n",
    "df_p4_in['process'] = 'Perform Quantitative Risk Analysis'\n",
    "\n",
    "df_p4_in['concept'] = 'Perform Quantitative Risk Analysis Inputs'\n",
    "df_p4_in['pattern'] = '[]'\n",
    "\n",
    "df_p4_out = pd.DataFrame({\n",
    "    'individuals':p4_outputs, 'annotation':an_out_p4\n",
    "})\n",
    "df_p4_out['process'] = 'Perform Quantitative Risk Analysis'\n",
    "\n",
    "df_p4_out['concept'] = 'Perform Quantitative Risk Analysis Outputs'\n",
    "df_p4_out['pattern'] = '[]'\n",
    "\n",
    "df_p4_tt = pd.DataFrame({\n",
    "    'individuals':p4_tt, 'annotation':an_tt_p4\n",
    "})\n",
    "df_p4_tt['process'] = 'Perform Quantitative Risk Analysis'\n",
    "\n",
    "df_p4_tt['concept'] = 'Perform Quantitative Risk Analysis TT'\n",
    "df_p4_tt['pattern'] = '[]'\n"
   ]
  },
  {
   "cell_type": "markdown",
   "id": "a3e805dd",
   "metadata": {},
   "source": [
    "### Process 5"
   ]
  },
  {
   "cell_type": "code",
   "execution_count": 27,
   "id": "cd05c2a1",
   "metadata": {
    "ExecuteTime": {
     "end_time": "2021-11-17T18:36:23.342814Z",
     "start_time": "2021-11-17T18:36:23.287960Z"
    }
   },
   "outputs": [],
   "source": [
    "df_p5_in = pd.DataFrame({\n",
    "    'individuals':p5_inputs, 'annotation':an_in_p5\n",
    "})\n",
    "df_p5_in['process'] = 'Plan Risk Responses'\n",
    "\n",
    "df_p5_in['concept'] = 'Plan Risk Responses Inputs'\n",
    "df_p5_in['pattern'] = '[]'\n",
    "\n",
    "df_p5_out = pd.DataFrame({\n",
    "    'individuals':p5_outputs, 'annotation':an_out_p5\n",
    "})\n",
    "df_p5_out['process'] = 'Plan Risk Responses'\n",
    "\n",
    "df_p5_out['concept'] = 'Plan Risk Responses Outputs'\n",
    "df_p5_out['pattern'] = '[]'\n",
    "\n",
    "df_p5_tt = pd.DataFrame({\n",
    "    'individuals':p5_tt, 'annotation':an_tt_p5\n",
    "})\n",
    "df_p5_tt['process'] = 'Plan Risk Responses'\n",
    "\n",
    "df_p5_tt['concept'] = 'Plan Risk Responses TT'\n",
    "df_p5_tt['pattern'] = '[]'\n"
   ]
  },
  {
   "cell_type": "markdown",
   "id": "82aedcf0",
   "metadata": {},
   "source": [
    "### Process 6"
   ]
  },
  {
   "cell_type": "code",
   "execution_count": 28,
   "id": "a48a6e47",
   "metadata": {
    "ExecuteTime": {
     "end_time": "2021-11-17T18:36:23.418610Z",
     "start_time": "2021-11-17T18:36:23.355780Z"
    }
   },
   "outputs": [],
   "source": [
    "df_p6_in = pd.DataFrame({\n",
    "    'individuals':p6_inputs, 'annotation':an_in_p6\n",
    "})\n",
    "\n",
    "df_p6_in['concept'] = 'Control Risks Inputs'\n",
    "df_p6_in['pattern'] = '[]'\n",
    "df_p6_in['process'] = 'Control Risks'\n",
    "\n",
    "df_p6_out = pd.DataFrame({\n",
    "    'individuals':p6_outputs, 'annotation':an_out_p6\n",
    "})\n",
    "\n",
    "df_p6_out['concept'] = 'Control Risks Outputs'\n",
    "df_p6_out['pattern'] = '[]'\n",
    "df_p6_out['process'] = 'Control Risks'\n",
    "\n",
    "df_p6_tt = pd.DataFrame({\n",
    "    'individuals':p6_tt, 'annotation':an_tt_p6\n",
    "})\n",
    "df_p6_tt['process'] = 'Control Risks'\n",
    "\n",
    "df_p6_tt['concept'] = 'Control Risks TT'\n",
    "df_p6_tt['pattern'] = '[]'"
   ]
  },
  {
   "cell_type": "markdown",
   "id": "5414b9b8",
   "metadata": {},
   "source": [
    "## Now Moving to the enities and relation extraction"
   ]
  },
  {
   "cell_type": "markdown",
   "id": "a0d29bde",
   "metadata": {},
   "source": [
    "### Extracting Entities"
   ]
  },
  {
   "cell_type": "code",
   "execution_count": 29,
   "id": "4ef72c06",
   "metadata": {
    "ExecuteTime": {
     "end_time": "2021-11-17T18:36:23.449528Z",
     "start_time": "2021-11-17T18:36:23.423602Z"
    }
   },
   "outputs": [],
   "source": [
    "def get_entities(sent):\n",
    "    ## chunk 1\n",
    "    ent1 = \"\"\n",
    "    ent2 = \"\"\n",
    "\n",
    "    prv_tok_dep = \"\"  # dependency tag of previous token in the sentence\n",
    "    prv_tok_text = \"\"  # previous token in the sentence\n",
    "\n",
    "    prefix = \"\"\n",
    "    modifier = \"\"\n",
    "\n",
    "    #############################################################\n",
    "\n",
    "    for tok in nlp(sent):\n",
    "        ## chunk 2\n",
    "        # if token is a punctuation mark then move on to the next token\n",
    "        if tok.dep_ != \"punct\":\n",
    "            # check: token is a compound word or not\n",
    "            if tok.dep_ == \"compound\":\n",
    "                prefix = tok.text\n",
    "                # if the previous word was also a 'compound' then add the current word to it\n",
    "                if prv_tok_dep == \"compound\":\n",
    "                    prefix = prv_tok_text + \" \" + tok.text\n",
    "\n",
    "            # check: token is a modifier or not\n",
    "            if tok.dep_.endswith(\"mod\") == True:\n",
    "                modifier = tok.text\n",
    "                # if the previous word was also a 'compound' then add the current word to it\n",
    "                if prv_tok_dep == \"compound\":\n",
    "                    modifier = prv_tok_text + \" \" + tok.text\n",
    "\n",
    "            ## chunk 3\n",
    "            if tok.dep_.find(\"subj\") == True:\n",
    "                ent1 = modifier + \" \" + prefix + \" \" + tok.text\n",
    "                prefix = \"\"\n",
    "                modifier = \"\"\n",
    "                prv_tok_dep = \"\"\n",
    "                prv_tok_text = \"\"\n",
    "\n",
    "            ## chunk 4\n",
    "            if tok.dep_.find(\"obj\") == True:\n",
    "                ent2 = modifier + \" \" + prefix + \" \" + tok.text\n",
    "\n",
    "            ## chunk 5\n",
    "            # update variables\n",
    "            prv_tok_dep = tok.dep_\n",
    "            prv_tok_text = tok.text\n",
    "    #############################################################\n",
    "\n",
    "    return [ent1.strip(), ent2.strip()]"
   ]
  },
  {
   "cell_type": "code",
   "execution_count": 30,
   "id": "64327eb5",
   "metadata": {
    "ExecuteTime": {
     "end_time": "2021-11-17T18:36:23.478451Z",
     "start_time": "2021-11-17T18:36:23.454515Z"
    }
   },
   "outputs": [],
   "source": [
    "def make_entity(df):\n",
    "    entity_pairs = []\n",
    "    for i in df:\n",
    "        entity_pairs.append(get_entities(i))\n",
    "    return entity_pairs"
   ]
  },
  {
   "cell_type": "markdown",
   "id": "3c51d035",
   "metadata": {
    "ExecuteTime": {
     "end_time": "2021-11-16T17:25:22.280263Z",
     "start_time": "2021-11-16T17:25:22.275277Z"
    }
   },
   "source": [
    "### Now we will create the entities"
   ]
  },
  {
   "cell_type": "code",
   "execution_count": 31,
   "id": "b63aae71",
   "metadata": {
    "ExecuteTime": {
     "end_time": "2021-11-17T18:36:26.123375Z",
     "start_time": "2021-11-17T18:36:23.483438Z"
    }
   },
   "outputs": [],
   "source": [
    "entity_pairs_in_1 = make_entity(df_p1_in['annotation'])\n",
    "entity_pairs_in_2 = make_entity(df_p2_in['annotation'])\n",
    "entity_pairs_in_3 = make_entity(df_p3_in['annotation'])\n",
    "entity_pairs_in_4 = make_entity(df_p4_in['annotation'])\n",
    "entity_pairs_in_5 = make_entity(df_p5_in['annotation'])\n",
    "entity_pairs_in_6 = make_entity(df_p6_in['annotation'])"
   ]
  },
  {
   "cell_type": "code",
   "execution_count": 32,
   "id": "1b019b52",
   "metadata": {
    "ExecuteTime": {
     "end_time": "2021-11-17T18:36:29.310850Z",
     "start_time": "2021-11-17T18:36:26.130356Z"
    }
   },
   "outputs": [],
   "source": [
    "entity_pairs_tt_1 = make_entity(df_p1_tt['annotation'])\n",
    "entity_pairs_tt_2 = make_entity(df_p2_tt['annotation'])\n",
    "entity_pairs_tt_3 = make_entity(df_p3_tt['annotation'])\n",
    "entity_pairs_tt_4 = make_entity(df_p4_tt['annotation'])\n",
    "entity_pairs_tt_5 = make_entity(df_p5_tt['annotation'])\n",
    "entity_pairs_tt_6 = make_entity(df_p6_tt['annotation'])"
   ]
  },
  {
   "cell_type": "code",
   "execution_count": 33,
   "id": "c0e51590",
   "metadata": {
    "ExecuteTime": {
     "end_time": "2021-11-17T18:36:31.163893Z",
     "start_time": "2021-11-17T18:36:29.317833Z"
    }
   },
   "outputs": [],
   "source": [
    "entity_pairs_out_1 = make_entity(df_p1_out['annotation'])\n",
    "entity_pairs_out_2 = make_entity(df_p2_out['annotation'])\n",
    "entity_pairs_out_3 = make_entity(df_p3_out['annotation'])\n",
    "entity_pairs_out_4 = make_entity(df_p4_out['annotation'])\n",
    "entity_pairs_out_5 = make_entity(df_p5_out['annotation'])\n",
    "entity_pairs_out_6 = make_entity(df_p6_out['annotation'])"
   ]
  },
  {
   "cell_type": "markdown",
   "id": "38f1cee9",
   "metadata": {},
   "source": [
    "### During this step we will extract the relations between the words"
   ]
  },
  {
   "cell_type": "code",
   "execution_count": 34,
   "id": "3316736c",
   "metadata": {
    "ExecuteTime": {
     "end_time": "2021-11-17T18:36:31.196806Z",
     "start_time": "2021-11-17T18:36:31.166886Z"
    }
   },
   "outputs": [],
   "source": [
    "def get_relation(sent):\n",
    "\n",
    "    doc = nlp(sent)\n",
    "\n",
    "    # Matcher class object\n",
    "    matcher = Matcher(nlp.vocab)\n",
    "\n",
    "    #define the pattern\n",
    "    pattern = [ {'DEP':'ROOT'}, \n",
    "                {'DEP':'prep','OP':\"?\"},\n",
    "                {'DEP':'agent','OP':\"?\"},  \n",
    "                {'POS':'ADJ','OP':\"?\"} ] \n",
    "\n",
    "    matcher.add(\"matching_1\", None, pattern)\n",
    "\n",
    "    matches = matcher(doc)\n",
    "    k = len(matches) - 1\n",
    "\n",
    "    span = doc[matches[k][1]:matches[k][2]]\n",
    "\n",
    "    return (span.text)"
   ]
  },
  {
   "cell_type": "code",
   "execution_count": 35,
   "id": "724a828a",
   "metadata": {
    "ExecuteTime": {
     "end_time": "2021-11-17T18:36:32.234144Z",
     "start_time": "2021-11-17T18:36:31.212763Z"
    }
   },
   "outputs": [],
   "source": [
    "relations1_in = [get_relation(i) for i in df_p1_in['annotation']]\n",
    "relations2_in = [get_relation(i) for i in df_p2_in['annotation']]\n",
    "relations3_in = [get_relation(i) for i in df_p3_in['annotation']]\n",
    "relations4_in = [get_relation(i) for i in df_p4_in['annotation']]\n",
    "relations5_in = [get_relation(i) for i in df_p5_in['annotation']]\n",
    "relations6_in = [get_relation(i) for i in df_p6_in['annotation']]"
   ]
  },
  {
   "cell_type": "code",
   "execution_count": 36,
   "id": "ac812b70",
   "metadata": {
    "ExecuteTime": {
     "end_time": "2021-11-17T18:36:33.712389Z",
     "start_time": "2021-11-17T18:36:32.244118Z"
    }
   },
   "outputs": [],
   "source": [
    "relations1_tt = [get_relation(i) for i in df_p1_tt['annotation']]\n",
    "relations2_tt = [get_relation(i) for i in df_p2_tt['annotation']]\n",
    "relations3_tt = [get_relation(i) for i in df_p3_tt['annotation']]\n",
    "relations4_tt = [get_relation(i) for i in df_p4_tt['annotation']]\n",
    "relations5_tt = [get_relation(i) for i in df_p5_tt['annotation']]\n",
    "relations6_tt = [get_relation(i) for i in df_p6_tt['annotation']]"
   ]
  },
  {
   "cell_type": "code",
   "execution_count": 37,
   "id": "d540f741",
   "metadata": {
    "ExecuteTime": {
     "end_time": "2021-11-17T18:36:34.393581Z",
     "start_time": "2021-11-17T18:36:33.714392Z"
    }
   },
   "outputs": [],
   "source": [
    "relations1_out = [get_relation(i) for i in df_p1_out['annotation']]\n",
    "relations2_out = [get_relation(i) for i in df_p2_out['annotation']]\n",
    "relations3_out = [get_relation(i) for i in df_p3_out['annotation']]\n",
    "relations4_out = [get_relation(i) for i in df_p4_out['annotation']]\n",
    "relations5_out = [get_relation(i) for i in df_p5_out['annotation']]\n",
    "relations6_out = [get_relation(i) for i in df_p6_out['annotation']]"
   ]
  },
  {
   "cell_type": "markdown",
   "id": "49bdaa4f",
   "metadata": {},
   "source": [
    "### Here we will groupe every thing in DataFrames"
   ]
  },
  {
   "cell_type": "markdown",
   "id": "08510059",
   "metadata": {},
   "source": [
    "#### Inputs relations"
   ]
  },
  {
   "cell_type": "code",
   "execution_count": 38,
   "id": "35622dca",
   "metadata": {
    "ExecuteTime": {
     "end_time": "2021-11-17T18:36:34.425193Z",
     "start_time": "2021-11-17T18:36:34.395244Z"
    }
   },
   "outputs": [],
   "source": [
    "subject1_in = [i[0] for i in entity_pairs_in_1]\n",
    "subject2_in = [i[0] for i in entity_pairs_in_2]\n",
    "subject3_in = [i[0] for i in entity_pairs_in_3]\n",
    "subject4_in = [i[0] for i in entity_pairs_in_4]\n",
    "subject5_in = [i[0] for i in entity_pairs_in_5]\n",
    "subject6_in = [i[0] for i in entity_pairs_in_6]\n",
    "\n",
    "target1_in = [i[1] for i in entity_pairs_in_1]\n",
    "target2_in = [i[1] for i in entity_pairs_in_2]\n",
    "target3_in = [i[1] for i in entity_pairs_in_3]\n",
    "target4_in = [i[1] for i in entity_pairs_in_4]\n",
    "target5_in = [i[1] for i in entity_pairs_in_5]\n",
    "target6_in = [i[1] for i in entity_pairs_in_6]\n",
    "\n",
    "df1_in = pd.DataFrame({'subject':subject1_in, 'property':relations1_in, 'object':target1_in })\n",
    "df2_in = pd.DataFrame({'subject':subject2_in, 'property':relations2_in, 'object':target2_in })\n",
    "df3_in = pd.DataFrame({'subject':subject3_in, 'property':relations3_in, 'object':target3_in })\n",
    "df4_in = pd.DataFrame({'subject':subject4_in, 'property':relations4_in, 'object':target4_in })\n",
    "df5_in = pd.DataFrame({'subject':subject5_in, 'property':relations5_in, 'object':target5_in })\n",
    "df6_in = pd.DataFrame({'subject':subject6_in, 'property':relations6_in, 'object':target6_in })"
   ]
  },
  {
   "cell_type": "markdown",
   "id": "c8b96793",
   "metadata": {},
   "source": [
    "#### Tools and Techniques relations"
   ]
  },
  {
   "cell_type": "code",
   "execution_count": 39,
   "id": "1f0cafd2",
   "metadata": {
    "ExecuteTime": {
     "end_time": "2021-11-17T18:36:34.460100Z",
     "start_time": "2021-11-17T18:36:34.429182Z"
    }
   },
   "outputs": [],
   "source": [
    "subject1_tt = [i[0] for i in entity_pairs_tt_1]\n",
    "subject2_tt = [i[0] for i in entity_pairs_tt_2]\n",
    "subject3_tt = [i[0] for i in entity_pairs_tt_3]\n",
    "subject4_tt = [i[0] for i in entity_pairs_tt_4]\n",
    "subject5_tt = [i[0] for i in entity_pairs_tt_5]\n",
    "subject6_tt = [i[0] for i in entity_pairs_tt_6]\n",
    "\n",
    "target1_tt = [i[1] for i in entity_pairs_tt_1]\n",
    "target2_tt = [i[1] for i in entity_pairs_tt_2]\n",
    "target3_tt = [i[1] for i in entity_pairs_tt_3]\n",
    "target4_tt = [i[1] for i in entity_pairs_tt_4]\n",
    "target5_tt = [i[1] for i in entity_pairs_tt_5]\n",
    "target6_tt = [i[1] for i in entity_pairs_tt_6]\n",
    "\n",
    "df1_tt = pd.DataFrame({'subject':subject1_tt, 'property':relations1_tt, 'object':target1_tt })\n",
    "df2_tt = pd.DataFrame({'subject':subject2_tt, 'property':relations2_tt, 'object':target2_tt })\n",
    "df3_tt = pd.DataFrame({'subject':subject3_tt, 'property':relations3_tt, 'object':target3_tt })\n",
    "df4_tt = pd.DataFrame({'subject':subject4_tt, 'property':relations4_tt, 'object':target4_tt })\n",
    "df5_tt = pd.DataFrame({'subject':subject5_tt, 'property':relations5_tt, 'object':target5_tt })\n",
    "df6_tt = pd.DataFrame({'subject':subject6_tt, 'property':relations6_tt, 'object':target6_tt })"
   ]
  },
  {
   "cell_type": "markdown",
   "id": "23f02d87",
   "metadata": {},
   "source": [
    "#### Output relation"
   ]
  },
  {
   "cell_type": "code",
   "execution_count": 40,
   "id": "eca0cf22",
   "metadata": {
    "ExecuteTime": {
     "end_time": "2021-11-17T18:36:34.486031Z",
     "start_time": "2021-11-17T18:36:34.463092Z"
    }
   },
   "outputs": [],
   "source": [
    "subject1_out = [i[0] for i in entity_pairs_out_1]\n",
    "subject2_out = [i[0] for i in entity_pairs_out_2]\n",
    "subject3_out = [i[0] for i in entity_pairs_out_3]\n",
    "subject4_out = [i[0] for i in entity_pairs_out_4]\n",
    "subject5_out = [i[0] for i in entity_pairs_out_5]\n",
    "subject6_out = [i[0] for i in entity_pairs_out_6]\n",
    "\n",
    "target1_out = [i[1] for i in entity_pairs_out_1]\n",
    "target2_out = [i[1] for i in entity_pairs_out_2]\n",
    "target3_out = [i[1] for i in entity_pairs_out_3]\n",
    "target4_out = [i[1] for i in entity_pairs_out_4]\n",
    "target5_out = [i[1] for i in entity_pairs_out_5]\n",
    "target6_out = [i[1] for i in entity_pairs_out_6]\n",
    "\n",
    "df1_out = pd.DataFrame({'subject':subject1_out, 'property':relations1_out, 'object':target1_out })\n",
    "df2_out = pd.DataFrame({'subject':subject2_out, 'property':relations2_out, 'object':target2_out })\n",
    "df3_out = pd.DataFrame({'subject':subject3_out, 'property':relations3_out, 'object':target3_out })\n",
    "df4_out = pd.DataFrame({'subject':subject4_out, 'property':relations4_out, 'object':target4_out })\n",
    "df5_out = pd.DataFrame({'subject':subject5_out, 'property':relations5_out, 'object':target5_out })\n",
    "df6_out = pd.DataFrame({'subject':subject6_out, 'property':relations6_out, 'object':target6_out })"
   ]
  },
  {
   "cell_type": "markdown",
   "id": "2474b6f6",
   "metadata": {},
   "source": [
    "### Now we will merge all of the DataFrames in a Big One"
   ]
  },
  {
   "cell_type": "code",
   "execution_count": 41,
   "id": "b7e19078",
   "metadata": {
    "ExecuteTime": {
     "end_time": "2021-11-17T18:36:34.504985Z",
     "start_time": "2021-11-17T18:36:34.489022Z"
    }
   },
   "outputs": [],
   "source": [
    "df_p1_in = pd.concat([df_p1_in, df1_in], axis=1)\n",
    "df_p2_in = pd.concat([df_p2_in, df2_in], axis=1)\n",
    "df_p3_in = pd.concat([df_p3_in, df3_in], axis=1)\n",
    "df_p4_in = pd.concat([df_p4_in, df4_in], axis=1)\n",
    "df_p5_in = pd.concat([df_p5_in, df5_in], axis=1)\n",
    "df_p6_in = pd.concat([df_p6_in, df6_in], axis=1)"
   ]
  },
  {
   "cell_type": "code",
   "execution_count": 42,
   "id": "efdab2a2",
   "metadata": {
    "ExecuteTime": {
     "end_time": "2021-11-17T18:36:34.531908Z",
     "start_time": "2021-11-17T18:36:34.507972Z"
    }
   },
   "outputs": [],
   "source": [
    "df_p1_tt = pd.concat([df_p1_tt, df1_tt], axis=1)\n",
    "df_p2_tt = pd.concat([df_p2_tt, df2_tt], axis=1)\n",
    "df_p3_tt = pd.concat([df_p3_tt, df3_tt], axis=1)\n",
    "df_p4_tt = pd.concat([df_p4_tt, df4_tt], axis=1)\n",
    "df_p5_tt = pd.concat([df_p5_tt, df5_tt], axis=1)\n",
    "df_p6_tt = pd.concat([df_p6_tt, df6_tt], axis=1)"
   ]
  },
  {
   "cell_type": "code",
   "execution_count": 43,
   "id": "f13ab75a",
   "metadata": {
    "ExecuteTime": {
     "end_time": "2021-11-17T18:36:34.546867Z",
     "start_time": "2021-11-17T18:36:34.533903Z"
    }
   },
   "outputs": [],
   "source": [
    "df_p1_out = pd.concat([df_p1_out, df1_out], axis=1)\n",
    "df_p2_out = pd.concat([df_p2_out, df2_out], axis=1)\n",
    "df_p3_out = pd.concat([df_p3_out, df3_out], axis=1)\n",
    "df_p4_out = pd.concat([df_p4_out, df4_out], axis=1)\n",
    "df_p5_out = pd.concat([df_p5_out, df5_out], axis=1)\n",
    "df_p6_out = pd.concat([df_p6_out, df6_out], axis=1)"
   ]
  },
  {
   "cell_type": "code",
   "execution_count": 44,
   "id": "9675f0b6",
   "metadata": {
    "ExecuteTime": {
     "end_time": "2021-11-17T18:36:34.578783Z",
     "start_time": "2021-11-17T18:36:34.551855Z"
    }
   },
   "outputs": [],
   "source": [
    "frames = [df_p1_in,df_p2_in,df_p3_in,df_p4_in,df_p5_in,df_p6_in,df_p1_tt,df_p2_tt,df_p3_tt,df_p4_tt,df_p5_tt,df_p6_tt,\n",
    "         df_p1_out,df_p2_out,df_p3_out,df_p4_out,df_p5_out,df_p6_out]\n",
    "\n",
    "df_concept = pd.concat(frames)"
   ]
  },
  {
   "cell_type": "code",
   "execution_count": 45,
   "id": "c644f54f",
   "metadata": {
    "ExecuteTime": {
     "end_time": "2021-11-17T18:36:34.594739Z",
     "start_time": "2021-11-17T18:36:34.582772Z"
    }
   },
   "outputs": [],
   "source": [
    "df_concept = df_concept.reset_index()\n",
    "df_concept = df_concept.drop('index',axis=1)\n",
    "df_concept = df_concept.drop('pattern',axis=1)"
   ]
  },
  {
   "cell_type": "code",
   "execution_count": 46,
   "id": "8108d391",
   "metadata": {
    "ExecuteTime": {
     "end_time": "2021-11-17T18:36:34.610697Z",
     "start_time": "2021-11-17T18:36:34.598730Z"
    }
   },
   "outputs": [],
   "source": [
    "df_concept['pattern'] = df_concept['subject']+' '+df_concept['property']+' '+df_concept['object']"
   ]
  },
  {
   "cell_type": "code",
   "execution_count": 47,
   "id": "14cf05ab",
   "metadata": {
    "ExecuteTime": {
     "end_time": "2021-11-17T18:36:34.642611Z",
     "start_time": "2021-11-17T18:36:34.612692Z"
    }
   },
   "outputs": [
    {
     "data": {
      "text/html": [
       "<div>\n",
       "<style scoped>\n",
       "    .dataframe tbody tr th:only-of-type {\n",
       "        vertical-align: middle;\n",
       "    }\n",
       "\n",
       "    .dataframe tbody tr th {\n",
       "        vertical-align: top;\n",
       "    }\n",
       "\n",
       "    .dataframe thead th {\n",
       "        text-align: right;\n",
       "    }\n",
       "</style>\n",
       "<table border=\"1\" class=\"dataframe\">\n",
       "  <thead>\n",
       "    <tr style=\"text-align: right;\">\n",
       "      <th></th>\n",
       "      <th>individuals</th>\n",
       "      <th>annotation</th>\n",
       "      <th>process</th>\n",
       "      <th>concept</th>\n",
       "      <th>subject</th>\n",
       "      <th>property</th>\n",
       "      <th>object</th>\n",
       "      <th>pattern</th>\n",
       "    </tr>\n",
       "  </thead>\n",
       "  <tbody>\n",
       "    <tr>\n",
       "      <th>0</th>\n",
       "      <td>Project Management Plan</td>\n",
       "      <td>Project Management Plan. In planning risk man...</td>\n",
       "      <td>Plan Risk Management</td>\n",
       "      <td>Plan Risk Management Inputs</td>\n",
       "      <td>also project management plan</td>\n",
       "      <td>areas including</td>\n",
       "      <td>affected  scope</td>\n",
       "      <td>also project management plan areas including a...</td>\n",
       "    </tr>\n",
       "    <tr>\n",
       "      <th>1</th>\n",
       "      <td>Project charter</td>\n",
       "      <td>The project charter can provide various input...</td>\n",
       "      <td>Plan Risk Management</td>\n",
       "      <td>Plan Risk Management Inputs</td>\n",
       "      <td>project charter</td>\n",
       "      <td>provide various</td>\n",
       "      <td>high level risks</td>\n",
       "      <td>project charter provide various high level risks</td>\n",
       "    </tr>\n",
       "    <tr>\n",
       "      <th>2</th>\n",
       "      <td>Stakeholder register</td>\n",
       "      <td>The stakeholder register, which contains all ...</td>\n",
       "      <td>Plan Risk Management</td>\n",
       "      <td>Plan Risk Management Inputs</td>\n",
       "      <td>which</td>\n",
       "      <td>provides</td>\n",
       "      <td>roles</td>\n",
       "      <td>which provides roles</td>\n",
       "    </tr>\n",
       "    <tr>\n",
       "      <th>3</th>\n",
       "      <td>Enterprise Environmental Factors</td>\n",
       "      <td>The enterprise environmental factors that can...</td>\n",
       "      <td>Plan Risk Management</td>\n",
       "      <td>Plan Risk Management Inputs</td>\n",
       "      <td>organization</td>\n",
       "      <td>include</td>\n",
       "      <td>risk</td>\n",
       "      <td>organization include risk</td>\n",
       "    </tr>\n",
       "    <tr>\n",
       "      <th>4</th>\n",
       "      <td>organizational Process Assets</td>\n",
       "      <td>The organizational process assets that can in...</td>\n",
       "      <td>Plan Risk Management</td>\n",
       "      <td>Plan Risk Management Inputs</td>\n",
       "      <td>• decision Lessons</td>\n",
       "      <td>learned</td>\n",
       "      <td>• decision making</td>\n",
       "      <td>• decision Lessons learned • decision making</td>\n",
       "    </tr>\n",
       "    <tr>\n",
       "      <th>...</th>\n",
       "      <td>...</td>\n",
       "      <td>...</td>\n",
       "      <td>...</td>\n",
       "      <td>...</td>\n",
       "      <td>...</td>\n",
       "      <td>...</td>\n",
       "      <td>...</td>\n",
       "      <td>...</td>\n",
       "    </tr>\n",
       "    <tr>\n",
       "      <th>69</th>\n",
       "      <td>Work Performance Information</td>\n",
       "      <td>Work Performance Information. Work performanc...</td>\n",
       "      <td>Control Risks</td>\n",
       "      <td>Control Risks Outputs</td>\n",
       "      <td>Work performance information</td>\n",
       "      <td>making</td>\n",
       "      <td>Control Risks mechanism</td>\n",
       "      <td>Work performance information making Control Ri...</td>\n",
       "    </tr>\n",
       "    <tr>\n",
       "      <th>70</th>\n",
       "      <td>change requests</td>\n",
       "      <td>change requests. Implementing contingency pla...</td>\n",
       "      <td>Control Risks</td>\n",
       "      <td>Control Risks Outputs</td>\n",
       "      <td>future  performance</td>\n",
       "      <td>are</td>\n",
       "      <td>project management plan</td>\n",
       "      <td>future  performance are project management plan</td>\n",
       "    </tr>\n",
       "    <tr>\n",
       "      <th>71</th>\n",
       "      <td>Project Management Plan updates</td>\n",
       "      <td>Project Management Plan updates. If the appro...</td>\n",
       "      <td>Control Risks</td>\n",
       "      <td>Control Risks Outputs</td>\n",
       "      <td>2013 Sanchez PMI copy</td>\n",
       "      <td>MANAGEMENT</td>\n",
       "      <td>PMI Member distribution</td>\n",
       "      <td>2013 Sanchez PMI copy MANAGEMENT PMI Member di...</td>\n",
       "    </tr>\n",
       "    <tr>\n",
       "      <th>72</th>\n",
       "      <td>Project documents updates</td>\n",
       "      <td>Project documents updates. Project documents ...</td>\n",
       "      <td>Control Risks</td>\n",
       "      <td>Control Risks Outputs</td>\n",
       "      <td>managers</td>\n",
       "      <td>plan for</td>\n",
       "      <td>future  projects</td>\n",
       "      <td>managers plan for future  projects</td>\n",
       "    </tr>\n",
       "    <tr>\n",
       "      <th>73</th>\n",
       "      <td>organizational Process Assets updates</td>\n",
       "      <td>organizational Process Assets updates. The ri...</td>\n",
       "      <td>Control Risks</td>\n",
       "      <td>Control Risks Outputs</td>\n",
       "      <td>2013 Sanchez PMI copy</td>\n",
       "      <td>is</td>\n",
       "      <td>PMI Member distribution</td>\n",
       "      <td>2013 Sanchez PMI copy is PMI Member distribution</td>\n",
       "    </tr>\n",
       "  </tbody>\n",
       "</table>\n",
       "<p>74 rows × 8 columns</p>\n",
       "</div>"
      ],
      "text/plain": [
       "                              individuals  \\\n",
       "0                 Project Management Plan   \n",
       "1                         Project charter   \n",
       "2                    Stakeholder register   \n",
       "3        Enterprise Environmental Factors   \n",
       "4           organizational Process Assets   \n",
       "..                                    ...   \n",
       "69           Work Performance Information   \n",
       "70                        change requests   \n",
       "71        Project Management Plan updates   \n",
       "72              Project documents updates   \n",
       "73  organizational Process Assets updates   \n",
       "\n",
       "                                           annotation               process  \\\n",
       "0    Project Management Plan. In planning risk man...  Plan Risk Management   \n",
       "1    The project charter can provide various input...  Plan Risk Management   \n",
       "2    The stakeholder register, which contains all ...  Plan Risk Management   \n",
       "3    The enterprise environmental factors that can...  Plan Risk Management   \n",
       "4    The organizational process assets that can in...  Plan Risk Management   \n",
       "..                                                ...                   ...   \n",
       "69   Work Performance Information. Work performanc...         Control Risks   \n",
       "70   change requests. Implementing contingency pla...         Control Risks   \n",
       "71   Project Management Plan updates. If the appro...         Control Risks   \n",
       "72   Project documents updates. Project documents ...         Control Risks   \n",
       "73   organizational Process Assets updates. The ri...         Control Risks   \n",
       "\n",
       "                        concept                       subject  \\\n",
       "0   Plan Risk Management Inputs  also project management plan   \n",
       "1   Plan Risk Management Inputs               project charter   \n",
       "2   Plan Risk Management Inputs                         which   \n",
       "3   Plan Risk Management Inputs                  organization   \n",
       "4   Plan Risk Management Inputs            • decision Lessons   \n",
       "..                          ...                           ...   \n",
       "69        Control Risks Outputs  Work performance information   \n",
       "70        Control Risks Outputs           future  performance   \n",
       "71        Control Risks Outputs         2013 Sanchez PMI copy   \n",
       "72        Control Risks Outputs                      managers   \n",
       "73        Control Risks Outputs         2013 Sanchez PMI copy   \n",
       "\n",
       "           property                   object  \\\n",
       "0   areas including          affected  scope   \n",
       "1   provide various         high level risks   \n",
       "2          provides                    roles   \n",
       "3           include                     risk   \n",
       "4           learned        • decision making   \n",
       "..              ...                      ...   \n",
       "69           making  Control Risks mechanism   \n",
       "70              are  project management plan   \n",
       "71       MANAGEMENT  PMI Member distribution   \n",
       "72         plan for         future  projects   \n",
       "73               is  PMI Member distribution   \n",
       "\n",
       "                                              pattern  \n",
       "0   also project management plan areas including a...  \n",
       "1    project charter provide various high level risks  \n",
       "2                                which provides roles  \n",
       "3                           organization include risk  \n",
       "4        • decision Lessons learned • decision making  \n",
       "..                                                ...  \n",
       "69  Work performance information making Control Ri...  \n",
       "70    future  performance are project management plan  \n",
       "71  2013 Sanchez PMI copy MANAGEMENT PMI Member di...  \n",
       "72                 managers plan for future  projects  \n",
       "73   2013 Sanchez PMI copy is PMI Member distribution  \n",
       "\n",
       "[74 rows x 8 columns]"
      ]
     },
     "execution_count": 47,
     "metadata": {},
     "output_type": "execute_result"
    }
   ],
   "source": [
    "df_concept"
   ]
  },
  {
   "cell_type": "markdown",
   "id": "e7ae3766",
   "metadata": {},
   "source": [
    "# Building our Ontology"
   ]
  },
  {
   "cell_type": "markdown",
   "id": "66f33d47",
   "metadata": {},
   "source": [
    "## Initializing our Graph"
   ]
  },
  {
   "cell_type": "code",
   "execution_count": 48,
   "id": "4a5f0d20",
   "metadata": {
    "ExecuteTime": {
     "end_time": "2021-11-17T18:36:34.904910Z",
     "start_time": "2021-11-17T18:36:34.646601Z"
    }
   },
   "outputs": [
    {
     "data": {
      "text/plain": [
       "<Graph identifier=N3c8ba6f105ed47e9927def6400ad1656 (<class 'rdflib.graph.Graph'>)>"
      ]
     },
     "execution_count": 48,
     "metadata": {},
     "output_type": "execute_result"
    }
   ],
   "source": [
    "from rdflib.namespace import DC, DCTERMS, DOAP, FOAF, OWL, RDF, RDFS, SKOS, VOID, XMLNS, XSD\n",
    "from rdflib import URIRef, BNode, Literal, Namespace, Graph\n",
    "from rdflib.extras import describer\n",
    "g = Graph()\n",
    "g.bind(\"owl\",OWL)\n",
    "g.bind(\"pr\",\"http://example.org/project#\")\n",
    "ns_url = \"http://example.org/project#\"\n",
    "g.add((URIRef('http://example.org/project#'),RDF.type, OWL.Ontology))"
   ]
  },
  {
   "cell_type": "markdown",
   "id": "2f033c21",
   "metadata": {},
   "source": [
    "## Add classes and sub-classes"
   ]
  },
  {
   "cell_type": "code",
   "execution_count": 49,
   "id": "d966b692",
   "metadata": {
    "ExecuteTime": {
     "end_time": "2021-11-17T18:36:35.026586Z",
     "start_time": "2021-11-17T18:36:34.906905Z"
    }
   },
   "outputs": [
    {
     "name": "stderr",
     "output_type": "stream",
     "text": [
      "http://example.org/project#_data_Gathering_and_representation_techniques._•\t__Interviewing._Interviewing_techniques_draw_on_experience_and_historical_data_to_quantify_the_probability_._and_impact_of_risks_on_project_objectives._The_information_needed_depends_upon_the_type_of_probability_._distributions_that_will_be_used._For_instance,_information_would_be_gathered_on_the_optimistic_(low),_._pessimistic_(high),_and_most_likely_scenarios_for_some_commonly_used_distributions._Examples_of_three-._point_estimates_for_cost_are_shown_in_Figure_11-13._Additional_information_on_three-point_estimates_._appears_in_Estimate_Activity_Durations_(Section_6.5)_and_Estimate_Costs_(Section_7.2)._Documenting_the_._rationale_of_the_risk_ranges_and_the_assumptions_behind_them_are_important_components_of_the_risk_._interview_because_they_can_provide_insight_on_the_reliability_and_credibility_of_the_analysis.._Range_of_Project_Cost_Estimates_._WBS_Element_Low_Most_Likely_High._Design_$4M_$6M_$10M._Build_$16M_$20M_$35M._Test_$11M_$15M_$23M._Total_Project_$31M_$41M_$68M._Interviewing_relevant_stakeholders_helps_determine_the_three-point_estimates_for_each_WBS._element_for_triangular,_beta_or_other_distributions._In_this_example,_the_likelihood_of_completing._the_project_at_or_below_the_most_likely_estimate_of_$41_million_is_relatively_small_as_shown_in_._the_simulation_results_in_Figure_11-17_(Cost_Risk_Simulation_Results).._Figure_11-13._range_of_Project_cost_Estimates_collected_during_the_risk_Interview._336_©2013_Project_Management_Institute._A_Guide_to_the_Project_Management_Body_of_Knowledge_(PMBOK®_Guide)_–_Fifth_Edition_._Licensed_To:_Jorge_Diego_Fuentes_Sanchez_PMI_MemberID:_2399412._This_copy_is_a_PMI_Member_benefit,_not_for_distribution,_sale,_or_reproduction.._11_-_PROJECT_RISK_MANAGEMENT._•\t__Probability_distributions._Continuous_probability_distributions,_which_are_used_extensively_in_modeling_._and_simulation,_represent_the_uncertainty_in_values_such_as_durations_of_schedule_activities_and_costs_._of_project_components._Discrete_distributions_can_be_used_to_represent_uncertain_events,_such_as_the_._outcome_of_a_test_or_a_possible_scenario_in_a_decision_tree._Two_examples_of_widely_used_continuous_._distributions_are_shown_in_Figure_11-14._These_distributions_depict_shapes_that_are_compatible_with_the_._data_typically_developed_during_the_quantitative_risk_analysis._Uniform_distributions_can_be_used_if_there_._is_no_obvious_value_that_is_more_likely_than_any_other_between_specified_high_and_low_bounds,_such_as_in_._the_early_concept_stage_of_design.._Beta_Distribution_Triangular_Distribution._0.1_0.1._11._0.0_0.0._Beta_and_triangular_distributions_are_frequently_used_in_quantitative_risk_analysis._The_data_shown_in_the_figure_._on_the_left_(Beta_Distribution)_is_one_example_of_a_family_of_such_distributions_determined_by_two_\"shape_._parameters\"._Other_commonly_used_distributions_include_the_uniform,_normal_and_lognormal._In_these_charts_._the_horizontal_(X)_axes_represent_possible_values_of_time_or_cost_and_the_vertical_(Y)_axes_represent_relative_._likelihood._._Figure_11-14._Examples_of_commonly_used_Probability_distributions._©2013_Project_Management_Institute._A_Guide_to_the_Project_Management_Body_of_Knowledge_(PMBOK®_Guide)_–_Fifth_Edition__337._Licensed_To:_Jorge_Diego_Fuentes_Sanchez_PMI_MemberID:_2399412._This_copy_is_a_PMI_Member_benefit,_not_for_distribution,_sale,_or_reproduction.._11_-_PROJECT_RISK_MANAGEMENT._ does not look like a valid URI, trying to serialize this will break.\n",
      "http://example.org/project#_risk_Management_Plan._The_risk_management_plan_is_a_component_of_the_project_management_plan_and_describes_how_risk_management_._activities_will_be_structured_and_performed._The_risk_management_plan_includes_the_following:._•\t__Methodology._Defines_the_approaches,_tools,_and_data_sources_that_will_be_used_to_perform_risk_._management_on_the_project.._•\t__roles_and_responsibilities._Defines_the_lead,_support,_and_risk_management_team_members_for_each_._type_of_activity_in_the_risk_management_plan,_and_clarifies_their_responsibilities.._•\t__Budgeting._Estimates_funds_needed,_based_on_assigned_resources,_for_inclusion_in_the_cost_baseline_and_._establishes_protocols_for_application_of_contingency_and_management_reserves.._•\t__timing._Defines_when_and_how_often_the_risk_management_processes_will_be_performed_throughout_the_._project_life_cycle,_establishes_protocols_for_application_of_schedule_contingency_reserves,_and_establishes_._risk_management_activities_for_inclusion_in_the_project_schedule.._316_©2013_Project_Management_Institute._A_Guide_to_the_Project_Management_Body_of_Knowledge_(PMBOK®_Guide)_–_Fifth_Edition_._Licensed_To:_Jorge_Diego_Fuentes_Sanchez_PMI_MemberID:_2399412._This_copy_is_a_PMI_Member_benefit,_not_for_distribution,_sale,_or_reproduction.._11_-_PROJECT_RISK_MANAGEMENT._•\t__risk_categories._Provide_a_means_for_grouping_potential_causes_of_risk._Several_approaches_can_be_._used,_for_example,_a_structure_based_on_project_objectives_by_category._A_risk_breakdown_structure_(RBS)_._helps_the_project_team_to_look_at_many_sources_from_which_project_risk_may_arise_in_a_risk_identification_._exercise._Different_RBS_structures_will_be_appropriate_for_different_types_of_projects._An_organization_can_._use_a_previously_prepared_custom_categorization_framework,_which_may_take_the_form_of_a_simple_list_of_._categories_or_may_be_structured_into_an_RBS._The_RBS_is_a_hierarchical_representation_of_risks_according_._to_their_risk_categories._An_example_is_shown_in_Figure_11-4.._Beta_Distribution_Triangular_Distribution._0.1_0.1._11._0.0_0.0._Beta_and_triangular_distributions_are_frequently_used_in_quantitative_risk_analysis._The_data_shown_in_the_figure_._on_the_left_(Beta_Distribution)_is_one_example_of_a_family_of_such_distributions_determined_by_two_\"shape_._parameters\"._Other_commonly_used_distributions_include_the_uniform,_normal_and_lognormal._In_these_charts_._the_horizontal_(X)_axes_represent_possible_values_of_time_or_cost_and_the_vertical_(Y)_axes_represent_relative_._likelihood._._Figure_11-4._Example_of_a_risk_Breakdown_Structure_(rBS)._•\t__definitions_of_risk_probability_and_impact._The_quality_and_credibility_of_the_risk_analysis_requires_that_._different_levels_of_risk_probability_and_impact_be_defined_that_are_specific_to_the_project_context._General_._definitions_of_probability_levels_and_impact_levels_are_tailored_to_the_individual_project_during_the_Plan_._Risk_Management_process_for_use_in_subsequent_processes._Table_11-1_is_an_example_of_definitions_of_._negative_impacts_that_could_be_used_in_evaluating_risk_impacts_related_to_four_project_objectives._(Similar_._tables_may_be_established_with_a_positive_impact_perspective)._Table_11-1_illustrates_both_relative_and_._numerical_(in_this_case,_nonlinear)_approaches.._©2013_Project_Management_Institute._A_Guide_to_the_Project_Management_Body_of_Knowledge_(PMBOK®_Guide)_–_Fifth_Edition__317._Licensed_To:_Jorge_Diego_Fuentes_Sanchez_PMI_MemberID:_2399412._This_copy_is_a_PMI_Member_benefit,_not_for_distribution,_sale,_or_reproduction.._11_-_PROJECT_RISK_MANAGEMENT._table_11-1._definition_of_Impact_Scales_for_Four_Project_objectives._Defined_Conditions_for_Impact_Scales_of_a_Risk_on_Major_Project_Objectives_._(Examples_are_shown_for_negative_impacts_only)__._Relative_or_numerical_scales_are_shown._Project_._Very_low_/0.05_Low_/0.10_Moderate_/0.20_High_/0.40_Very_high_/0.80._Objective._Insignificant_cost_<_10%_cost__10_–_20%_cost_20_–_40%_cost_>_40%_cost._Cost._increase_increase_increase_increase_increase._Insignificant_time_<_5%_time_5_–_10%_time_10_–_20%_time_>_20%_time._Time._increase_increase_increase_increase_increase._Scope_reduction_Project_end_item._Scope_decrease_Minor_areas_of_Major_areas_of._Scope_unacceptable_to_is_effectively._barely_noticeable_scope_affected_scope_affected._sponsor_useless._Only_very_demanding_Quality_reduction_Quality_reduction_Project_end_item_._Quality_degradation._Quality_applications__requires_sponsor_unacceptable_to_is_effectively._barely_noticeable._are_affected_approval_sponsor_useless._This_table_presents_examples_of_risk_impact_definitions_for_four_different_project_objectives._They_should_be_tailored_in_the_._Risk_Management_Planning_process_to_the_individual_project_and_to_the_organization's_risk_thresholds._Impact_definitions_can_be_._developed_for_opportunities_in_a_similar_way.._•\t___Probability_and_impact_matrix._A_probability_and_impact_matrix_is_a_grid_for_mapping_the_probability_._of_each_risk_occurrence_and_its_impact_on_project_objectives_if_that_risk_occurs._Risks_are_prioritized_._according_to_their_potential_implications_for_having_an_effect_on_the_project’s_objectives._A_typical_._approach_to_prioritizing_risks_is_to_use_a_look-up_table_or_a_probability_and_impact_matrix._The_specific_._combinations_of_probability_and_impact_that_lead_to_a_risk_being_rated_as_“high,”_“moderate,”_or_“low”_._importance_are_usually_set_by_the_organization.._•\t__revised_stakeholders’_tolerances._Stakeholders’_tolerances,_as_they_apply_to_the_specific_project,_may_._be_revised_in_the_Plan_Risk_Management_process.._•\t__reporting_formats._Reporting_formats_define_how_the_outcomes_of_the_risk_management_process_will_._be_documented,_analyzed,_and_communicated._It_describes_the_content_and_format_of_the_risk_register_as_._well_as_any_other_risk_reports_required.._•\t__tracking._Tracking_documents_how_risk_activities_will_be_recorded_for_the_benefit_of_the_current_project_._and_how_risk_management_processes_will_be_audited.._318_©2013_Project_Management_Institute._A_Guide_to_the_Project_Management_Body_of_Knowledge_(PMBOK®_Guide)_–_Fifth_Edition_._Licensed_To:_Jorge_Diego_Fuentes_Sanchez_PMI_MemberID:_2399412._This_copy_is_a_PMI_Member_benefit,_not_for_distribution,_sale,_or_reproduction.._11_-_PROJECT_RISK_MANAGEMENT does not look like a valid URI, trying to serialize this will break.\n"
     ]
    }
   ],
   "source": [
    "for c in df_concept['annotation']:\n",
    "    cl = URIRef(ns_url+c.replace(\" \",\"_\"))\n",
    "    g.add((cl,RDF.type, OWL.Class))\n",
    "    for i in range (len(df_concept)):\n",
    "        if df_concept.loc[i,'annotation'] == c :\n",
    "            clp = URIRef(ns_url +df_concept.loc[i,'concept'].replace(\" \",\"_\"))\n",
    "            g.add((cl, RDFS.subClassOf , clp))"
   ]
  },
  {
   "cell_type": "markdown",
   "id": "ffb53c63",
   "metadata": {},
   "source": [
    "## Add Data-properties"
   ]
  },
  {
   "cell_type": "code",
   "execution_count": 50,
   "id": "16a4aa50",
   "metadata": {
    "ExecuteTime": {
     "end_time": "2021-11-17T18:36:35.057502Z",
     "start_time": "2021-11-17T18:36:35.028579Z"
    }
   },
   "outputs": [],
   "source": [
    "for i in range(len(df_concept)): \n",
    "    c = URIRef(ns_url+df_concept.loc[i,'individuals' ] .replace(\" \", \"_\") )\n",
    "    domaine = URIRef(ns_url+df_concept.loc[i,'process'].replace(\" \",\"_\"))\n",
    "    g.add((c,RDF.type,OWL.DatatypeProperty))\n",
    "    g.add((c,RDFS.domain,domaine))\n",
    "    g.add((c,RDFS.range,XSD.string))"
   ]
  },
  {
   "cell_type": "markdown",
   "id": "3b671388",
   "metadata": {},
   "source": [
    "## Add Object-properties\n"
   ]
  },
  {
   "cell_type": "code",
   "execution_count": 51,
   "id": "35105f7c",
   "metadata": {
    "ExecuteTime": {
     "end_time": "2021-11-17T18:36:35.088420Z",
     "start_time": "2021-11-17T18:36:35.061491Z"
    }
   },
   "outputs": [],
   "source": [
    "for i in range(len(df_concept)):\n",
    "    c = URIRef(ns_url + df_concept.loc[i, 'pattern'].replace(\" \", \"_\"))\n",
    "    domaine = URIRef(ns_url + df_concept.loc[i, 'process'].replace(\" \", \"_\"))\n",
    "    rang = URIRef(ns_url + df_concept.loc[i, 'object'].replace(\" \", \"_\"))\n",
    "    g.add((c, RDF.type, OWL.ObjectProperty))\n"
   ]
  },
  {
   "cell_type": "markdown",
   "id": "5ae472f8",
   "metadata": {},
   "source": [
    "## Add Individuals"
   ]
  },
  {
   "cell_type": "code",
   "execution_count": 52,
   "id": "adb8947c",
   "metadata": {
    "ExecuteTime": {
     "end_time": "2021-11-17T18:36:35.118339Z",
     "start_time": "2021-11-17T18:36:35.090414Z"
    }
   },
   "outputs": [],
   "source": [
    "for i in range(len(df_concept)): \n",
    "    c = URIRef(ns_url+df_concept.loc[i,'concept'].replace(\" \",\"_\")) \n",
    "    ind = URIRef(ns_url+df_concept.loc[i,'individuals'].replace(\" \",\"_\")) \n",
    "    g.add((ind,RDF.type,c)) \n",
    "    "
   ]
  },
  {
   "cell_type": "code",
   "execution_count": 53,
   "id": "26c98499",
   "metadata": {
    "ExecuteTime": {
     "end_time": "2021-11-17T18:36:35.149264Z",
     "start_time": "2021-11-17T18:36:35.121333Z"
    }
   },
   "outputs": [],
   "source": [
    "for i in range(len(df_concept)): \n",
    "    c = URIRef(ns_url+df_concept.loc[i,'concept'].replace(\" \",\"_\")) \n",
    "    ind = URIRef(ns_url+df_concept.loc[i,'individuals'].replace(\" \",\"_\")) \n",
    "    g.add((ind,RDF.type,OWL.NamedIndividual)) \n"
   ]
  },
  {
   "cell_type": "code",
   "execution_count": 54,
   "id": "df6acf97",
   "metadata": {
    "ExecuteTime": {
     "end_time": "2021-11-17T18:36:35.180181Z",
     "start_time": "2021-11-17T18:36:35.155241Z"
    }
   },
   "outputs": [],
   "source": [
    "for i in range(len(df_concept)): \n",
    "    ind = URIRef(ns_url+df_concept.loc[i,'subject'].replace(\" \",\"_\")) \n",
    "    obj = URIRef(ns_url+df_concept.loc[i,'object'].replace(\" \",\"_\")) \n",
    "    objprop = URIRef(ns_url+df_concept.loc[i,'individuals'].replace(\" \",\"_\")) \n",
    "    g.add((ind,objprop,obj)) \n"
   ]
  },
  {
   "cell_type": "markdown",
   "id": "a8be7ea6",
   "metadata": {},
   "source": [
    "## Now we save our file "
   ]
  },
  {
   "cell_type": "code",
   "execution_count": 55,
   "id": "91391607",
   "metadata": {
    "ExecuteTime": {
     "end_time": "2021-11-17T18:36:35.303844Z",
     "start_time": "2021-11-17T18:36:35.183166Z"
    }
   },
   "outputs": [],
   "source": [
    "with open('PMBOK1.owl', 'w', encoding='utf-8') as output:\n",
    "    output.write(g.serialize(format=\"pretty-xml\"))"
   ]
  },
  {
   "cell_type": "code",
   "execution_count": null,
   "id": "c6479806",
   "metadata": {},
   "outputs": [],
   "source": []
  }
 ],
 "metadata": {
  "kernelspec": {
   "display_name": "Python 3 (ipykernel)",
   "language": "python",
   "name": "python3"
  },
  "language_info": {
   "codemirror_mode": {
    "name": "ipython",
    "version": 3
   },
   "file_extension": ".py",
   "mimetype": "text/x-python",
   "name": "python",
   "nbconvert_exporter": "python",
   "pygments_lexer": "ipython3",
   "version": "3.8.8"
  },
  "toc": {
   "base_numbering": 1,
   "nav_menu": {},
   "number_sections": true,
   "sideBar": true,
   "skip_h1_title": false,
   "title_cell": "Table of Contents",
   "title_sidebar": "Contents",
   "toc_cell": false,
   "toc_position": {},
   "toc_section_display": true,
   "toc_window_display": false
  }
 },
 "nbformat": 4,
 "nbformat_minor": 5
}
