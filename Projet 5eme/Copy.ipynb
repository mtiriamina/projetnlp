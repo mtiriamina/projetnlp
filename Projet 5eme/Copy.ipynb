{
 "cells": [
  {
   "cell_type": "code",
   "execution_count": 28,
   "metadata": {
    "ExecuteTime": {
     "end_time": "2021-11-17T18:53:25.408693Z",
     "start_time": "2021-11-17T18:53:25.395727Z"
    }
   },
   "outputs": [],
   "source": [
    "from owlready2 import *\n",
    "from sklearn.metrics.pairwise import cosine_similarity\n",
    "from sklearn.feature_extraction.text import TfidfVectorizer\n",
    "import warnings\n",
    "warnings.filterwarnings('ignore')\n",
    "import numpy as np\n",
    "import joblib"
   ]
  },
  {
   "cell_type": "code",
   "execution_count": 29,
   "metadata": {
    "ExecuteTime": {
     "end_time": "2021-11-17T18:53:27.575501Z",
     "start_time": "2021-11-17T18:53:27.199232Z"
    }
   },
   "outputs": [],
   "source": [
    "df_concept = joblib.load('df_concept')"
   ]
  },
  {
   "cell_type": "code",
   "execution_count": 2,
   "metadata": {
    "ExecuteTime": {
     "end_time": "2021-11-17T18:52:22.070357Z",
     "start_time": "2021-11-17T18:52:21.996551Z"
    }
   },
   "outputs": [
    {
     "name": "stderr",
     "output_type": "stream",
     "text": [
      "* Owlready2 * WARNING: DataProperty http://example.org/project#Quantitative_risk_Analysis_and_Modeling_techniques belongs to more than one entity types: [owl.DatatypeProperty, PMBOK1.Perform_Quantitative_Risk_Analysis_TT]; I'm trying to fix it...\n",
      "* Owlready2 * WARNING: DataProperty http://example.org/project#risk_Probability_and_Impact_Assessment belongs to more than one entity types: [owl.DatatypeProperty, PMBOK1.Perform_Qualitative_Risk_Analysis_TT]; I'm trying to fix it...\n",
      "* Owlready2 * WARNING: DataProperty http://example.org/project#change_requests belongs to more than one entity types: [owl.DatatypeProperty, PMBOK1.Control_Risks_Outputs]; I'm trying to fix it...\n",
      "* Owlready2 * WARNING: DataProperty http://example.org/project#risk_urgency_Assessment belongs to more than one entity types: [owl.DatatypeProperty, PMBOK1.Perform_Qualitative_Risk_Analysis_TT]; I'm trying to fix it...\n",
      "* Owlready2 * WARNING: DataProperty http://example.org/project#Stakeholder_register belongs to more than one entity types: [owl.DatatypeProperty, PMBOK1.Plan_Risk_Management_Inputs, PMBOK1.Identify_Risks_Inputs]; I'm trying to fix it...\n",
      "* Owlready2 * WARNING: DataProperty http://example.org/project#Variance_and_trend_Analysis belongs to more than one entity types: [owl.DatatypeProperty, PMBOK1.Control_Risks_TT]; I'm trying to fix it...\n",
      "* Owlready2 * WARNING: DataProperty http://example.org/project#risk_categorization belongs to more than one entity types: [owl.DatatypeProperty, PMBOK1.Perform_Qualitative_Risk_Analysis_TT]; I'm trying to fix it...\n",
      "* Owlready2 * WARNING: DataProperty http://example.org/project#Work_Performance_Information belongs to more than one entity types: [owl.DatatypeProperty, PMBOK1.Control_Risks_Outputs]; I'm trying to fix it...\n",
      "* Owlready2 * WARNING: DataProperty http://example.org/project#Project_Management_Plan belongs to more than one entity types: [owl.DatatypeProperty, PMBOK1.Plan_Risk_Management_Inputs, PMBOK1.Control_Risks_Inputs]; I'm trying to fix it...\n",
      "* Owlready2 * WARNING: DataProperty http://example.org/project#Expert_Judgment belongs to more than one entity types: [owl.DatatypeProperty, PMBOK1.Plan_Risk_Management_TT, PMBOK1.Perform_Qualitative_Risk_Analysis_TT, PMBOK1.Perform_Quantitative_Risk_Analysis_TT, PMBOK1.Plan_Risk_Responses_TT]; I'm trying to fix it...\n",
      "* Owlready2 * WARNING: DataProperty http://example.org/project#diagramming_techniques belongs to more than one entity types: [owl.DatatypeProperty, PMBOK1.Plan_Risk_Management_TT]; I'm trying to fix it...\n",
      "* Owlready2 * WARNING: DataProperty http://example.org/project#reserve_Analysis belongs to more than one entity types: [owl.DatatypeProperty, PMBOK1.Control_Risks_TT]; I'm trying to fix it...\n",
      "* Owlready2 * WARNING: DataProperty http://example.org/project#Strategies_for_Positive_risks_or_opportunities belongs to more than one entity types: [owl.DatatypeProperty, PMBOK1.Plan_Risk_Responses_TT]; I'm trying to fix it...\n",
      "* Owlready2 * WARNING: DataProperty http://example.org/project#Project_documents_updates belongs to more than one entity types: [owl.DatatypeProperty, PMBOK1.Perform_Qualitative_Risk_Analysis_Outputs, PMBOK1.Perform_Quantitative_Risk_Analysis_Outputs, PMBOK1.Plan_Risk_Responses_Outputs, PMBOK1.Control_Risks_Outputs]; I'm trying to fix it...\n",
      "* Owlready2 * WARNING: DataProperty http://example.org/project#risk_Management_Plan belongs to more than one entity types: [owl.DatatypeProperty, PMBOK1.Perform_Qualitative_Risk_Analysis_Inputs, PMBOK1.Perform_Quantitative_Risk_Analysis_Inputs, PMBOK1.Plan_Risk_Responses_Inputs, PMBOK1.Plan_Risk_Management_Outputs]; I'm trying to fix it...\n",
      "* Owlready2 * WARNING: DataProperty http://example.org/project#cost_Management_Plan belongs to more than one entity types: [owl.DatatypeProperty, PMBOK1.Identify_Risks_Inputs, PMBOK1.Perform_Quantitative_Risk_Analysis_Inputs]; I'm trying to fix it...\n",
      "* Owlready2 * WARNING: DataProperty http://example.org/project#Probability_and_Impact_Matrix belongs to more than one entity types: [owl.DatatypeProperty, PMBOK1.Perform_Qualitative_Risk_Analysis_TT]; I'm trying to fix it...\n",
      "* Owlready2 * WARNING: DataProperty http://example.org/project#Enterprise_Environmental_Factors belongs to more than one entity types: [owl.DatatypeProperty, PMBOK1.Plan_Risk_Management_Inputs, PMBOK1.Identify_Risks_Inputs, PMBOK1.Perform_Qualitative_Risk_Analysis_Inputs, PMBOK1.Perform_Quantitative_Risk_Analysis_Inputs]; I'm trying to fix it...\n",
      "* Owlready2 * WARNING: DataProperty http://example.org/project#risk_Management_Plan_ belongs to more than one entity types: [owl.DatatypeProperty, PMBOK1.Identify_Risks_Inputs]; I'm trying to fix it...\n",
      "* Owlready2 * WARNING: DataProperty http://example.org/project#risk_register belongs to more than one entity types: [owl.DatatypeProperty, PMBOK1.Perform_Qualitative_Risk_Analysis_Inputs, PMBOK1.Perform_Quantitative_Risk_Analysis_Inputs, PMBOK1.Plan_Risk_Responses_Inputs, PMBOK1.Control_Risks_Inputs, PMBOK1.Identify_Risks_Inputs]; I'm trying to fix it...\n",
      "* Owlready2 * WARNING: DataProperty http://example.org/project#SWot_Analysis belongs to more than one entity types: [owl.DatatypeProperty, PMBOK1.Plan_Risk_Management_TT]; I'm trying to fix it...\n",
      "* Owlready2 * WARNING: DataProperty http://example.org/project#risk_Audits belongs to more than one entity types: [owl.DatatypeProperty, PMBOK1.Control_Risks_TT]; I'm trying to fix it...\n",
      "* Owlready2 * WARNING: DataProperty http://example.org/project#Project_Management_Plan_updates belongs to more than one entity types: [owl.DatatypeProperty, PMBOK1.Plan_Risk_Responses_Outputs, PMBOK1.Control_Risks_Outputs]; I'm trying to fix it...\n",
      "* Owlready2 * WARNING: DataProperty http://example.org/project#organizational_Process_Assets_updates belongs to more than one entity types: [owl.DatatypeProperty, PMBOK1.Control_Risks_Outputs]; I'm trying to fix it...\n",
      "* Owlready2 * WARNING: DataProperty http://example.org/project#Meetings belongs to more than one entity types: [owl.DatatypeProperty, PMBOK1.Plan_Risk_Management_TT, PMBOK1.Control_Risks_TT]; I'm trying to fix it...\n",
      "* Owlready2 * WARNING: DataProperty http://example.org/project#Activity_duration_Estimates belongs to more than one entity types: [owl.DatatypeProperty, PMBOK1.Identify_Risks_Inputs]; I'm trying to fix it...\n",
      "* Owlready2 * WARNING: DataProperty http://example.org/project#Information_Gathering_techniques belongs to more than one entity types: [owl.DatatypeProperty, PMBOK1.Plan_Risk_Management_TT]; I'm trying to fix it...\n",
      "* Owlready2 * WARNING: DataProperty http://example.org/project#checklist_Analysis belongs to more than one entity types: [owl.DatatypeProperty, PMBOK1.Plan_Risk_Management_TT]; I'm trying to fix it...\n",
      "* Owlready2 * WARNING: DataProperty http://example.org/project#technical_Performance_Measurement belongs to more than one entity types: [owl.DatatypeProperty, PMBOK1.Control_Risks_TT]; I'm trying to fix it...\n",
      "* Owlready2 * WARNING: DataProperty http://example.org/project#Project_charter belongs to more than one entity types: [owl.DatatypeProperty, PMBOK1.Plan_Risk_Management_Inputs]; I'm trying to fix it...\n",
      "* Owlready2 * WARNING: DataProperty http://example.org/project#Project_documents belongs to more than one entity types: [owl.DatatypeProperty, PMBOK1.Identify_Risks_Inputs]; I'm trying to fix it...\n",
      "* Owlready2 * WARNING: DataProperty http://example.org/project#Assumptions_Analysis belongs to more than one entity types: [owl.DatatypeProperty, PMBOK1.Plan_Risk_Management_TT]; I'm trying to fix it...\n",
      "* Owlready2 * WARNING: DataProperty http://example.org/project#risk_reassessment belongs to more than one entity types: [owl.DatatypeProperty, PMBOK1.Control_Risks_TT]; I'm trying to fix it...\n",
      "* Owlready2 * WARNING: DataProperty http://example.org/project#Human_resource_Management_Plan belongs to more than one entity types: [owl.DatatypeProperty, PMBOK1.Identify_Risks_Inputs]; I'm trying to fix it...\n",
      "* Owlready2 * WARNING: DataProperty http://example.org/project#Work_Performance_reports belongs to more than one entity types: [owl.DatatypeProperty, PMBOK1.Control_Risks_Inputs]; I'm trying to fix it...\n",
      "* Owlready2 * WARNING: DataProperty http://example.org/project#documentation_reviews belongs to more than one entity types: [owl.DatatypeProperty, PMBOK1.Plan_Risk_Management_TT]; I'm trying to fix it...\n",
      "* Owlready2 * WARNING: DataProperty http://example.org/project#Schedule_Management_Plan belongs to more than one entity types: [owl.DatatypeProperty, PMBOK1.Identify_Risks_Inputs, PMBOK1.Perform_Quantitative_Risk_Analysis_Inputs]; I'm trying to fix it...\n",
      "* Owlready2 * WARNING: DataProperty http://example.org/project#organizational_Process_Assets belongs to more than one entity types: [owl.DatatypeProperty, PMBOK1.Plan_Risk_Management_Inputs, PMBOK1.Identify_Risks_Inputs, PMBOK1.Perform_Qualitative_Risk_Analysis_Inputs, PMBOK1.Perform_Quantitative_Risk_Analysis_Inputs]; I'm trying to fix it...\n",
      "* Owlready2 * WARNING: DataProperty http://example.org/project#Work_Performance_data belongs to more than one entity types: [owl.DatatypeProperty, PMBOK1.Control_Risks_Inputs]; I'm trying to fix it...\n",
      "* Owlready2 * WARNING: DataProperty http://example.org/project#Scope_Baseline belongs to more than one entity types: [owl.DatatypeProperty, PMBOK1.Identify_Risks_Inputs, PMBOK1.Perform_Qualitative_Risk_Analysis_Inputs]; I'm trying to fix it...\n",
      "* Owlready2 * WARNING: DataProperty http://example.org/project#contingent_response_Strategies belongs to more than one entity types: [owl.DatatypeProperty, PMBOK1.Plan_Risk_Responses_TT]; I'm trying to fix it...\n",
      "* Owlready2 * WARNING: DataProperty http://example.org/project#Procurement_documents belongs to more than one entity types: [owl.DatatypeProperty, PMBOK1.Identify_Risks_Inputs]; I'm trying to fix it...\n",
      "* Owlready2 * WARNING: DataProperty http://example.org/project#Analytical_techniques belongs to more than one entity types: [owl.DatatypeProperty, PMBOK1.Plan_Risk_Management_TT]; I'm trying to fix it...\n",
      "* Owlready2 * WARNING: DataProperty http://example.org/project#Activity_cost_Estimates belongs to more than one entity types: [owl.DatatypeProperty, PMBOK1.Identify_Risks_Inputs]; I'm trying to fix it...\n",
      "* Owlready2 * WARNING: DataProperty http://example.org/project#Strategies_for_negative_risks_or_threats belongs to more than one entity types: [owl.DatatypeProperty, PMBOK1.Plan_Risk_Responses_TT]; I'm trying to fix it...\n",
      "* Owlready2 * WARNING: DataProperty http://example.org/project#Quality_Management_Plan belongs to more than one entity types: [owl.DatatypeProperty, PMBOK1.Identify_Risks_Inputs]; I'm trying to fix it...\n",
      "* Owlready2 * WARNING: DataProperty http://example.org/project#risk_data_Quality_Assessment belongs to more than one entity types: [owl.DatatypeProperty, PMBOK1.Perform_Qualitative_Risk_Analysis_TT]; I'm trying to fix it...\n"
     ]
    }
   ],
   "source": [
    "onto = get_ontology(\"PMBOK1.owl\").load()"
   ]
  },
  {
   "cell_type": "code",
   "execution_count": 3,
   "metadata": {
    "ExecuteTime": {
     "end_time": "2021-11-17T18:52:22.177447Z",
     "start_time": "2021-11-17T18:52:22.168472Z"
    }
   },
   "outputs": [],
   "source": [
    "list_classe=list(onto.classes())"
   ]
  },
  {
   "cell_type": "code",
   "execution_count": 4,
   "metadata": {
    "ExecuteTime": {
     "end_time": "2021-11-17T18:52:22.719132Z",
     "start_time": "2021-11-17T18:52:22.711154Z"
    }
   },
   "outputs": [],
   "source": [
    "def rempalcement(m):\n",
    "    m=str(m).replace('PMBOK1.','').replace('_',' ')\n",
    "    return m"
   ]
  },
  {
   "cell_type": "code",
   "execution_count": 5,
   "metadata": {
    "ExecuteTime": {
     "end_time": "2021-11-17T18:52:23.044788Z",
     "start_time": "2021-11-17T18:52:23.026836Z"
    }
   },
   "outputs": [],
   "source": [
    "newlist=[rempalcement(classe) for classe in list_classe]"
   ]
  },
  {
   "cell_type": "code",
   "execution_count": 6,
   "metadata": {
    "ExecuteTime": {
     "end_time": "2021-11-17T18:52:23.247166Z",
     "start_time": "2021-11-17T18:52:23.239188Z"
    }
   },
   "outputs": [],
   "source": [
    "docs=[(classe) for classe in newlist]"
   ]
  },
  {
   "cell_type": "code",
   "execution_count": 7,
   "metadata": {
    "ExecuteTime": {
     "end_time": "2021-11-17T18:52:23.555605Z",
     "start_time": "2021-11-17T18:52:23.537658Z"
    }
   },
   "outputs": [],
   "source": [
    "tfidf_vectorizer= TfidfVectorizer(stop_words=\"english\")\n",
    "tfidf_matris= tfidf_vectorizer.fit_transform(docs)"
   ]
  },
  {
   "cell_type": "code",
   "execution_count": 8,
   "metadata": {
    "ExecuteTime": {
     "end_time": "2021-11-17T18:52:24.110971Z",
     "start_time": "2021-11-17T18:52:23.778858Z"
    }
   },
   "outputs": [
    {
     "ename": "NameError",
     "evalue": "name 'joblib' is not defined",
     "output_type": "error",
     "traceback": [
      "\u001b[1;31m---------------------------------------------------------------------------\u001b[0m",
      "\u001b[1;31mNameError\u001b[0m                                 Traceback (most recent call last)",
      "\u001b[1;32m~\\AppData\\Local\\Temp/ipykernel_6132/4213976773.py\u001b[0m in \u001b[0;36m<module>\u001b[1;34m\u001b[0m\n\u001b[1;32m----> 1\u001b[1;33m \u001b[0mjoblib\u001b[0m\u001b[1;33m.\u001b[0m\u001b[0mdump\u001b[0m\u001b[1;33m(\u001b[0m\u001b[0mtfidf_vectorizer\u001b[0m\u001b[1;33m,\u001b[0m\u001b[1;34m'tfidf_vectorizer'\u001b[0m\u001b[1;33m)\u001b[0m\u001b[1;33m\u001b[0m\u001b[1;33m\u001b[0m\u001b[0m\n\u001b[0m",
      "\u001b[1;31mNameError\u001b[0m: name 'joblib' is not defined"
     ]
    }
   ],
   "source": [
    "joblib.dump(tfidf_vectorizer,'tfidf_vectorizer')"
   ]
  },
  {
   "cell_type": "code",
   "execution_count": null,
   "metadata": {
    "ExecuteTime": {
     "end_time": "2021-11-17T18:52:24.112965Z",
     "start_time": "2021-11-17T18:52:24.112965Z"
    }
   },
   "outputs": [],
   "source": [
    "tfidf_matris.shape"
   ]
  },
  {
   "cell_type": "code",
   "execution_count": 9,
   "metadata": {
    "ExecuteTime": {
     "end_time": "2021-11-17T18:52:24.420109Z",
     "start_time": "2021-11-17T18:52:24.413128Z"
    }
   },
   "outputs": [],
   "source": [
    "query=\"project management plan\""
   ]
  },
  {
   "cell_type": "code",
   "execution_count": 10,
   "metadata": {
    "ExecuteTime": {
     "end_time": "2021-11-17T18:52:30.495077Z",
     "start_time": "2021-11-17T18:52:30.477123Z"
    }
   },
   "outputs": [],
   "source": [
    "query_vector=tfidf_vectorizer.transform([query])\n",
    "list_similarity=cosine_similarity(query_vector,tfidf_matris)[0].tolist()"
   ]
  },
  {
   "cell_type": "code",
   "execution_count": 11,
   "metadata": {
    "ExecuteTime": {
     "end_time": "2021-11-17T18:52:30.894600Z",
     "start_time": "2021-11-17T18:52:30.886587Z"
    }
   },
   "outputs": [],
   "source": [
    "list_similarity_tri=sorted(list_similarity,reverse=True)"
   ]
  },
  {
   "cell_type": "code",
   "execution_count": 12,
   "metadata": {
    "ExecuteTime": {
     "end_time": "2021-11-17T18:52:31.421473Z",
     "start_time": "2021-11-17T18:52:31.409506Z"
    }
   },
   "outputs": [],
   "source": [
    "list_similarity_tri = [i for i in list_similarity_tri if i != 0]"
   ]
  },
  {
   "cell_type": "code",
   "execution_count": 13,
   "metadata": {
    "ExecuteTime": {
     "end_time": "2021-11-17T18:52:32.060307Z",
     "start_time": "2021-11-17T18:52:32.043319Z"
    }
   },
   "outputs": [],
   "source": [
    "top = []\n",
    "for i,element in enumerate(list_similarity_tri):\n",
    "    if element >= 0.7:\n",
    "        top.append(list_similarity.index(list_similarity_tri[i]))"
   ]
  },
  {
   "cell_type": "code",
   "execution_count": 14,
   "metadata": {
    "ExecuteTime": {
     "end_time": "2021-11-17T18:52:32.741395Z",
     "start_time": "2021-11-17T18:52:32.735409Z"
    }
   },
   "outputs": [],
   "source": [
    "top = list(dict.fromkeys(top))"
   ]
  },
  {
   "cell_type": "code",
   "execution_count": 15,
   "metadata": {
    "ExecuteTime": {
     "end_time": "2021-11-17T18:52:33.159173Z",
     "start_time": "2021-11-17T18:52:33.141219Z"
    }
   },
   "outputs": [],
   "source": [
    "classe = np.array(newlist)[top]"
   ]
  },
  {
   "cell_type": "code",
   "execution_count": 16,
   "metadata": {
    "ExecuteTime": {
     "end_time": "2021-11-17T18:52:33.572159Z",
     "start_time": "2021-11-17T18:52:33.566175Z"
    }
   },
   "outputs": [],
   "source": [
    "classeO = np.array(list_classe)[top]"
   ]
  },
  {
   "cell_type": "markdown",
   "metadata": {},
   "source": [
    "# sous list"
   ]
  },
  {
   "cell_type": "code",
   "execution_count": 17,
   "metadata": {
    "ExecuteTime": {
     "end_time": "2021-11-17T18:52:34.417077Z",
     "start_time": "2021-11-17T18:52:34.397133Z"
    }
   },
   "outputs": [],
   "source": [
    "sousClasse = []\n",
    "for i,element in enumerate(classeO):\n",
    "    sousClasse.append(list(onto.get_instances_of(element)))"
   ]
  },
  {
   "cell_type": "code",
   "execution_count": 18,
   "metadata": {
    "ExecuteTime": {
     "end_time": "2021-11-17T18:52:34.913609Z",
     "start_time": "2021-11-17T18:52:34.909619Z"
    }
   },
   "outputs": [],
   "source": [
    "souslist = [rempalcement(classe) for classe in sousClasse]"
   ]
  },
  {
   "cell_type": "code",
   "execution_count": 19,
   "metadata": {
    "ExecuteTime": {
     "end_time": "2021-11-17T18:52:35.550938Z",
     "start_time": "2021-11-17T18:52:35.537976Z"
    }
   },
   "outputs": [],
   "source": [
    "doc2 = [(classe) for classe in souslist]"
   ]
  },
  {
   "cell_type": "code",
   "execution_count": 20,
   "metadata": {
    "ExecuteTime": {
     "end_time": "2021-11-17T18:52:36.663440Z",
     "start_time": "2021-11-17T18:52:36.644462Z"
    }
   },
   "outputs": [],
   "source": [
    "tfidf_matris2= tfidf_vectorizer.fit_transform(doc2)"
   ]
  },
  {
   "cell_type": "code",
   "execution_count": 21,
   "metadata": {
    "ExecuteTime": {
     "end_time": "2021-11-17T18:52:37.159880Z",
     "start_time": "2021-11-17T18:52:37.145918Z"
    }
   },
   "outputs": [],
   "source": [
    "query_vector2=tfidf_vectorizer.transform([query])\n",
    "list_similarity2=cosine_similarity(query_vector2,tfidf_matris2)[0].tolist()"
   ]
  },
  {
   "cell_type": "code",
   "execution_count": 22,
   "metadata": {
    "ExecuteTime": {
     "end_time": "2021-11-17T18:52:37.658388Z",
     "start_time": "2021-11-17T18:52:37.647383Z"
    }
   },
   "outputs": [],
   "source": [
    "list_similarity_tri2=sorted(list_similarity2,reverse=True)\n",
    "sous = sousClasse[list_similarity2.index(list_similarity_tri2[0])]"
   ]
  },
  {
   "cell_type": "code",
   "execution_count": 23,
   "metadata": {
    "ExecuteTime": {
     "end_time": "2021-11-17T18:52:38.200085Z",
     "start_time": "2021-11-17T18:52:38.190110Z"
    }
   },
   "outputs": [],
   "source": [
    "sousClient = []\n",
    "for i in sous:\n",
    "    i = str(i).replace('_',' ').replace('PMBOK1.','')\n",
    "    sousClient.append(i)"
   ]
  },
  {
   "cell_type": "code",
   "execution_count": 24,
   "metadata": {
    "ExecuteTime": {
     "end_time": "2021-11-17T18:52:40.246161Z",
     "start_time": "2021-11-17T18:52:40.230204Z"
    }
   },
   "outputs": [],
   "source": [
    "sousClient = []\n",
    "for i in sous:\n",
    "    i = str(i).replace('_',' ').replace('PMBOK1.','')\n",
    "    sousClient.append(i)"
   ]
  },
  {
   "cell_type": "code",
   "execution_count": 30,
   "metadata": {
    "ExecuteTime": {
     "end_time": "2021-11-17T18:53:36.680799Z",
     "start_time": "2021-11-17T18:53:36.652837Z"
    }
   },
   "outputs": [],
   "source": [
    "respTitle = []\n",
    "respAnn = []\n",
    "for i in sousClient:\n",
    "    respTitle.append(i)\n",
    "    respAnn.append(''.join(list(df_concept[( (df_concept['individuals']==i) & (df_concept['concept']==classe[0]) )]['annotation'])))\n"
   ]
  },
  {
   "cell_type": "code",
   "execution_count": 32,
   "metadata": {
    "ExecuteTime": {
     "end_time": "2021-11-17T18:53:40.470588Z",
     "start_time": "2021-11-17T18:53:40.452636Z"
    }
   },
   "outputs": [
    {
     "name": "stdout",
     "output_type": "stream",
     "text": [
      "Title: Stakeholder register \n",
      "  The stakeholder register, which contains all details related to the project’s stakeholders, provides an overview of their roles.. \n",
      "\n",
      "Title: Project Management Plan \n",
      "  Project Management Plan. In planning risk management, all approved subsidiary management plans and baselines should be taken into . consideration in order to make the risk management plan consistent with them. The risk management plan is also . a component of the project management plan. The project management plan provides baseline or current state of . risk-affected areas including scope, schedule, and cost.. \n",
      "\n",
      "Title: Enterprise Environmental Factors \n",
      "  The enterprise environmental factors that can influence the Plan Risk Management process include, but are not limited to, risk attitudes, thresholds, and tolerances that describe the degree of risk that an organization will withstand.. \n",
      "\n",
      "Title: Project charter \n",
      "  The project charter can provide various inputs such as high-level risks, high-level project descriptions, and high-level requirements.. \n",
      "\n",
      "Title: organizational Process Assets \n",
      "  The organizational process assets that can influence the Plan Risk Management process include, but are not limited to:.  © Project Management Institute. A Guide to the Project Management Body of Knowledge (PMBOK® Guide) – Fifth Edition Licensed To: Jorge Diego Fuentes Sanchez PMI MemberID: This copy is a PMI Member benefit, not for distribution, sale, or reproduction..  - PROJECT RISK MANAGEMENT. •\t Risk categories,. •\t Common definitions of concepts and terms,. •\t Risk statement formats,. •\t Standard templates,. •\t Roles and responsibilities,. •\t Authority levels for decision making, and. •\t Lessons learned..\n",
      "\n"
     ]
    }
   ],
   "source": [
    "\n",
    "\n",
    "for i in range(len(respTitle)):\n",
    "    print(f'Title: {respTitle[i]} \\n {respAnn[i]}\\n')"
   ]
  }
 ],
 "metadata": {
  "kernelspec": {
   "display_name": "Python 3 (ipykernel)",
   "language": "python",
   "name": "python3"
  },
  "language_info": {
   "codemirror_mode": {
    "name": "ipython",
    "version": 3
   },
   "file_extension": ".py",
   "mimetype": "text/x-python",
   "name": "python",
   "nbconvert_exporter": "python",
   "pygments_lexer": "ipython3",
   "version": "3.8.8"
  },
  "toc": {
   "base_numbering": 1,
   "nav_menu": {},
   "number_sections": true,
   "sideBar": true,
   "skip_h1_title": false,
   "title_cell": "Table of Contents",
   "title_sidebar": "Contents",
   "toc_cell": false,
   "toc_position": {},
   "toc_section_display": true,
   "toc_window_display": false
  }
 },
 "nbformat": 4,
 "nbformat_minor": 4
}
