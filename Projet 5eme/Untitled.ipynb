{
 "cells": [
  {
   "cell_type": "code",
   "execution_count": 2,
   "id": "8b1fa2ca",
   "metadata": {
    "ExecuteTime": {
     "end_time": "2021-11-13T17:21:42.755556Z",
     "start_time": "2021-11-13T17:21:42.703319Z"
    }
   },
   "outputs": [
    {
     "name": "stderr",
     "output_type": "stream",
     "text": [
      "* Owlready2 * Warning: optimized Cython parser module 'owlready2_optimized' is not available, defaulting to slower Python implementation\n"
     ]
    }
   ],
   "source": [
    "from owlready2 import *"
   ]
  },
  {
   "cell_type": "code",
   "execution_count": 3,
   "id": "07917aab",
   "metadata": {
    "ExecuteTime": {
     "end_time": "2021-11-13T17:21:43.360274Z",
     "start_time": "2021-11-13T17:21:43.308753Z"
    }
   },
   "outputs": [
    {
     "name": "stderr",
     "output_type": "stream",
     "text": [
      "* Owlready2 * WARNING: DataProperty http://example.org/project#Quantitative_risk_Analysis_and_Modeling_techniques belongs to more than one entity types: [owl.DatatypeProperty, Ontology_PMBOKV2.0.Perform_Quantitative_Risk_Analysis_TT]; I'm trying to fix it...\n",
      "* Owlready2 * WARNING: DataProperty http://example.org/project#risk_Probability_and_Impact_Assessment belongs to more than one entity types: [owl.DatatypeProperty, Ontology_PMBOKV2.0.Perform_Qualitative_Risk_Analysis_TT]; I'm trying to fix it...\n",
      "* Owlready2 * WARNING: DataProperty http://example.org/project#change_requests belongs to more than one entity types: [owl.DatatypeProperty, Ontology_PMBOKV2.0.Control_Risks_Outputs]; I'm trying to fix it...\n",
      "* Owlready2 * WARNING: DataProperty http://example.org/project#risk_urgency_Assessment belongs to more than one entity types: [owl.DatatypeProperty, Ontology_PMBOKV2.0.Perform_Qualitative_Risk_Analysis_TT]; I'm trying to fix it...\n",
      "* Owlready2 * WARNING: DataProperty http://example.org/project#Stakeholder_register belongs to more than one entity types: [owl.DatatypeProperty, Ontology_PMBOKV2.0.Plan_Risk_Management_Inputs, Ontology_PMBOKV2.0.Identify_Risks_Inputs]; I'm trying to fix it...\n",
      "* Owlready2 * WARNING: DataProperty http://example.org/project#Variance_and_trend_Analysis belongs to more than one entity types: [owl.DatatypeProperty, Ontology_PMBOKV2.0.Control_Risks_TT]; I'm trying to fix it...\n",
      "* Owlready2 * WARNING: DataProperty http://example.org/project#risk_categorization belongs to more than one entity types: [owl.DatatypeProperty, Ontology_PMBOKV2.0.Perform_Qualitative_Risk_Analysis_TT]; I'm trying to fix it...\n",
      "* Owlready2 * WARNING: DataProperty http://example.org/project#Work_Performance_Information belongs to more than one entity types: [owl.DatatypeProperty, Ontology_PMBOKV2.0.Control_Risks_Outputs]; I'm trying to fix it...\n",
      "* Owlready2 * WARNING: DataProperty http://example.org/project#Project_Management_Plan belongs to more than one entity types: [owl.DatatypeProperty, Ontology_PMBOKV2.0.Plan_Risk_Management_Inputs, Ontology_PMBOKV2.0.Control_Risks_Inputs]; I'm trying to fix it...\n",
      "* Owlready2 * WARNING: DataProperty http://example.org/project#Expert_Judgment belongs to more than one entity types: [owl.DatatypeProperty, Ontology_PMBOKV2.0.Plan_Risk_Management_TT, Ontology_PMBOKV2.0.Perform_Qualitative_Risk_Analysis_TT, Ontology_PMBOKV2.0.Perform_Quantitative_Risk_Analysis_TT, Ontology_PMBOKV2.0.Plan_Risk_Responses_TT]; I'm trying to fix it...\n",
      "* Owlready2 * WARNING: DataProperty http://example.org/project#diagramming_techniques belongs to more than one entity types: [owl.DatatypeProperty, Ontology_PMBOKV2.0.Plan_Risk_Management_TT]; I'm trying to fix it...\n",
      "* Owlready2 * WARNING: DataProperty http://example.org/project#reserve_Analysis belongs to more than one entity types: [owl.DatatypeProperty, Ontology_PMBOKV2.0.Control_Risks_TT]; I'm trying to fix it...\n",
      "* Owlready2 * WARNING: DataProperty http://example.org/project#Strategies_for_Positive_risks_or_opportunities belongs to more than one entity types: [owl.DatatypeProperty, Ontology_PMBOKV2.0.Plan_Risk_Responses_TT]; I'm trying to fix it...\n",
      "* Owlready2 * WARNING: DataProperty http://example.org/project#Project_documents_updates belongs to more than one entity types: [owl.DatatypeProperty, Ontology_PMBOKV2.0.Perform_Qualitative_Risk_Analysis_Outputs, Ontology_PMBOKV2.0.Perform_Quantitative_Risk_Analysis_Outputs, Ontology_PMBOKV2.0.Plan_Risk_Responses_Outputs, Ontology_PMBOKV2.0.Control_Risks_Outputs]; I'm trying to fix it...\n",
      "* Owlready2 * WARNING: DataProperty http://example.org/project#risk_Management_Plan belongs to more than one entity types: [owl.DatatypeProperty, Ontology_PMBOKV2.0.Perform_Qualitative_Risk_Analysis_Inputs, Ontology_PMBOKV2.0.Perform_Quantitative_Risk_Analysis_Inputs, Ontology_PMBOKV2.0.Plan_Risk_Responses_Inputs, Ontology_PMBOKV2.0.Plan_Risk_Management_Outputs]; I'm trying to fix it...\n",
      "* Owlready2 * WARNING: DataProperty http://example.org/project#cost_Management_Plan belongs to more than one entity types: [owl.DatatypeProperty, Ontology_PMBOKV2.0.Identify_Risks_Inputs, Ontology_PMBOKV2.0.Perform_Quantitative_Risk_Analysis_Inputs]; I'm trying to fix it...\n",
      "* Owlready2 * WARNING: DataProperty http://example.org/project#Probability_and_Impact_Matrix belongs to more than one entity types: [owl.DatatypeProperty, Ontology_PMBOKV2.0.Perform_Qualitative_Risk_Analysis_TT]; I'm trying to fix it...\n",
      "* Owlready2 * WARNING: DataProperty http://example.org/project#Enterprise_Environmental_Factors belongs to more than one entity types: [owl.DatatypeProperty, Ontology_PMBOKV2.0.Plan_Risk_Management_Inputs, Ontology_PMBOKV2.0.Identify_Risks_Inputs, Ontology_PMBOKV2.0.Perform_Qualitative_Risk_Analysis_Inputs, Ontology_PMBOKV2.0.Perform_Quantitative_Risk_Analysis_Inputs]; I'm trying to fix it...\n",
      "* Owlready2 * WARNING: DataProperty http://example.org/project#risk_Management_Plan_ belongs to more than one entity types: [owl.DatatypeProperty, Ontology_PMBOKV2.0.Identify_Risks_Inputs]; I'm trying to fix it...\n",
      "* Owlready2 * WARNING: DataProperty http://example.org/project#risk_register belongs to more than one entity types: [owl.DatatypeProperty, Ontology_PMBOKV2.0.Perform_Qualitative_Risk_Analysis_Inputs, Ontology_PMBOKV2.0.Perform_Quantitative_Risk_Analysis_Inputs, Ontology_PMBOKV2.0.Plan_Risk_Responses_Inputs, Ontology_PMBOKV2.0.Control_Risks_Inputs, Ontology_PMBOKV2.0.Identify_Risks_Inputs]; I'm trying to fix it...\n",
      "* Owlready2 * WARNING: DataProperty http://example.org/project#SWot_Analysis belongs to more than one entity types: [owl.DatatypeProperty, Ontology_PMBOKV2.0.Plan_Risk_Management_TT]; I'm trying to fix it...\n",
      "* Owlready2 * WARNING: DataProperty http://example.org/project#risk_Audits belongs to more than one entity types: [owl.DatatypeProperty, Ontology_PMBOKV2.0.Control_Risks_TT]; I'm trying to fix it...\n",
      "* Owlready2 * WARNING: DataProperty http://example.org/project#Project_Management_Plan_updates belongs to more than one entity types: [owl.DatatypeProperty, Ontology_PMBOKV2.0.Plan_Risk_Responses_Outputs, Ontology_PMBOKV2.0.Control_Risks_Outputs]; I'm trying to fix it...\n",
      "* Owlready2 * WARNING: DataProperty http://example.org/project#organizational_Process_Assets_updates belongs to more than one entity types: [owl.DatatypeProperty, Ontology_PMBOKV2.0.Control_Risks_Outputs]; I'm trying to fix it...\n",
      "* Owlready2 * WARNING: DataProperty http://example.org/project#Meetings belongs to more than one entity types: [owl.DatatypeProperty, Ontology_PMBOKV2.0.Plan_Risk_Management_TT, Ontology_PMBOKV2.0.Control_Risks_TT]; I'm trying to fix it...\n",
      "* Owlready2 * WARNING: DataProperty http://example.org/project#Activity_duration_Estimates belongs to more than one entity types: [owl.DatatypeProperty, Ontology_PMBOKV2.0.Identify_Risks_Inputs]; I'm trying to fix it...\n",
      "* Owlready2 * WARNING: DataProperty http://example.org/project#Information_Gathering_techniques belongs to more than one entity types: [owl.DatatypeProperty, Ontology_PMBOKV2.0.Plan_Risk_Management_TT]; I'm trying to fix it...\n",
      "* Owlready2 * WARNING: DataProperty http://example.org/project#checklist_Analysis belongs to more than one entity types: [owl.DatatypeProperty, Ontology_PMBOKV2.0.Plan_Risk_Management_TT]; I'm trying to fix it...\n",
      "* Owlready2 * WARNING: DataProperty http://example.org/project#technical_Performance_Measurement belongs to more than one entity types: [owl.DatatypeProperty, Ontology_PMBOKV2.0.Control_Risks_TT]; I'm trying to fix it...\n",
      "* Owlready2 * WARNING: DataProperty http://example.org/project#Project_charter belongs to more than one entity types: [owl.DatatypeProperty, Ontology_PMBOKV2.0.Plan_Risk_Management_Inputs]; I'm trying to fix it...\n",
      "* Owlready2 * WARNING: DataProperty http://example.org/project#Project_documents belongs to more than one entity types: [owl.DatatypeProperty, Ontology_PMBOKV2.0.Identify_Risks_Inputs]; I'm trying to fix it...\n",
      "* Owlready2 * WARNING: DataProperty http://example.org/project#Assumptions_Analysis belongs to more than one entity types: [owl.DatatypeProperty, Ontology_PMBOKV2.0.Plan_Risk_Management_TT]; I'm trying to fix it...\n",
      "* Owlready2 * WARNING: DataProperty http://example.org/project#risk_reassessment belongs to more than one entity types: [owl.DatatypeProperty, Ontology_PMBOKV2.0.Control_Risks_TT]; I'm trying to fix it...\n",
      "* Owlready2 * WARNING: DataProperty http://example.org/project#Human_resource_Management_Plan belongs to more than one entity types: [owl.DatatypeProperty, Ontology_PMBOKV2.0.Identify_Risks_Inputs]; I'm trying to fix it...\n",
      "* Owlready2 * WARNING: DataProperty http://example.org/project#Work_Performance_reports belongs to more than one entity types: [owl.DatatypeProperty, Ontology_PMBOKV2.0.Control_Risks_Inputs]; I'm trying to fix it...\n",
      "* Owlready2 * WARNING: DataProperty http://example.org/project#documentation_reviews belongs to more than one entity types: [owl.DatatypeProperty, Ontology_PMBOKV2.0.Plan_Risk_Management_TT]; I'm trying to fix it...\n",
      "* Owlready2 * WARNING: DataProperty http://example.org/project#Schedule_Management_Plan belongs to more than one entity types: [owl.DatatypeProperty, Ontology_PMBOKV2.0.Identify_Risks_Inputs, Ontology_PMBOKV2.0.Perform_Quantitative_Risk_Analysis_Inputs]; I'm trying to fix it...\n",
      "* Owlready2 * WARNING: DataProperty http://example.org/project#organizational_Process_Assets belongs to more than one entity types: [owl.DatatypeProperty, Ontology_PMBOKV2.0.Plan_Risk_Management_Inputs, Ontology_PMBOKV2.0.Identify_Risks_Inputs, Ontology_PMBOKV2.0.Perform_Qualitative_Risk_Analysis_Inputs, Ontology_PMBOKV2.0.Perform_Quantitative_Risk_Analysis_Inputs]; I'm trying to fix it...\n",
      "* Owlready2 * WARNING: DataProperty http://example.org/project#Work_Performance_data belongs to more than one entity types: [owl.DatatypeProperty, Ontology_PMBOKV2.0.Control_Risks_Inputs]; I'm trying to fix it...\n",
      "* Owlready2 * WARNING: DataProperty http://example.org/project#Scope_Baseline belongs to more than one entity types: [owl.DatatypeProperty, Ontology_PMBOKV2.0.Identify_Risks_Inputs, Ontology_PMBOKV2.0.Perform_Qualitative_Risk_Analysis_Inputs]; I'm trying to fix it...\n",
      "* Owlready2 * WARNING: DataProperty http://example.org/project#contingent_response_Strategies belongs to more than one entity types: [owl.DatatypeProperty, Ontology_PMBOKV2.0.Plan_Risk_Responses_TT]; I'm trying to fix it...\n",
      "* Owlready2 * WARNING: DataProperty http://example.org/project#Procurement_documents belongs to more than one entity types: [owl.DatatypeProperty, Ontology_PMBOKV2.0.Identify_Risks_Inputs]; I'm trying to fix it...\n",
      "* Owlready2 * WARNING: DataProperty http://example.org/project#Analytical_techniques belongs to more than one entity types: [owl.DatatypeProperty, Ontology_PMBOKV2.0.Plan_Risk_Management_TT]; I'm trying to fix it...\n",
      "* Owlready2 * WARNING: DataProperty http://example.org/project#Activity_cost_Estimates belongs to more than one entity types: [owl.DatatypeProperty, Ontology_PMBOKV2.0.Identify_Risks_Inputs]; I'm trying to fix it...\n",
      "* Owlready2 * WARNING: DataProperty http://example.org/project#Strategies_for_negative_risks_or_threats belongs to more than one entity types: [owl.DatatypeProperty, Ontology_PMBOKV2.0.Plan_Risk_Responses_TT]; I'm trying to fix it...\n",
      "* Owlready2 * WARNING: DataProperty http://example.org/project#Quality_Management_Plan belongs to more than one entity types: [owl.DatatypeProperty, Ontology_PMBOKV2.0.Identify_Risks_Inputs]; I'm trying to fix it...\n",
      "* Owlready2 * WARNING: DataProperty http://example.org/project#risk_data_Quality_Assessment belongs to more than one entity types: [owl.DatatypeProperty, Ontology_PMBOKV2.0.Perform_Qualitative_Risk_Analysis_TT]; I'm trying to fix it...\n"
     ]
    }
   ],
   "source": [
    "onto = get_ontology('Ontology_PMBOKV2.0.owl').load()"
   ]
  },
  {
   "cell_type": "code",
   "execution_count": 15,
   "id": "4afd4852",
   "metadata": {
    "ExecuteTime": {
     "end_time": "2021-11-13T17:26:21.103909Z",
     "start_time": "2021-11-13T17:26:21.095931Z"
    }
   },
   "outputs": [
    {
     "data": {
      "text/plain": [
       "Ontology_PMBOKV2.0.Perform_Quantitative_Risk_Analysis_TT"
      ]
     },
     "execution_count": 15,
     "metadata": {},
     "output_type": "execute_result"
    }
   ],
   "source": [
    "list(onto.classes())[0]"
   ]
  },
  {
   "cell_type": "code",
   "execution_count": null,
   "id": "56fc4fe5",
   "metadata": {},
   "outputs": [],
   "source": []
  },
  {
   "cell_type": "code",
   "execution_count": 24,
   "id": "ffcfd7a0",
   "metadata": {
    "ExecuteTime": {
     "end_time": "2021-11-13T17:32:35.163494Z",
     "start_time": "2021-11-13T17:32:35.139561Z"
    }
   },
   "outputs": [
    {
     "data": {
      "text/plain": [
       "[Ontology_PMBOKV2.0.Quantitative_risk_Analysis_and_Modeling_techniques,\n",
       " Ontology_PMBOKV2.0.risk_Probability_and_Impact_Assessment,\n",
       " Ontology_PMBOKV2.0.change_requests,\n",
       " Ontology_PMBOKV2.0.risk_urgency_Assessment,\n",
       " Ontology_PMBOKV2.0.Stakeholder_register,\n",
       " Ontology_PMBOKV2.0.Variance_and_trend_Analysis,\n",
       " Ontology_PMBOKV2.0.risk_categorization,\n",
       " Ontology_PMBOKV2.0.Work_Performance_Information,\n",
       " Ontology_PMBOKV2.0.Project_Management_Plan,\n",
       " Ontology_PMBOKV2.0.Expert_Judgment,\n",
       " Ontology_PMBOKV2.0.diagramming_techniques,\n",
       " Ontology_PMBOKV2.0.reserve_Analysis,\n",
       " Ontology_PMBOKV2.0.Strategies_for_Positive_risks_or_opportunities,\n",
       " Ontology_PMBOKV2.0.Project_documents_updates,\n",
       " Ontology_PMBOKV2.0.risk_Management_Plan,\n",
       " Ontology_PMBOKV2.0.cost_Management_Plan,\n",
       " Ontology_PMBOKV2.0.Probability_and_Impact_Matrix,\n",
       " Ontology_PMBOKV2.0.Enterprise_Environmental_Factors,\n",
       " Ontology_PMBOKV2.0.risk_Management_Plan_,\n",
       " Ontology_PMBOKV2.0.risk_register,\n",
       " Ontology_PMBOKV2.0.SWot_Analysis,\n",
       " Ontology_PMBOKV2.0.risk_Audits,\n",
       " Ontology_PMBOKV2.0.Project_Management_Plan_updates,\n",
       " Ontology_PMBOKV2.0.organizational_Process_Assets_updates,\n",
       " Ontology_PMBOKV2.0.Meetings,\n",
       " Ontology_PMBOKV2.0.Activity_duration_Estimates,\n",
       " Ontology_PMBOKV2.0.Information_Gathering_techniques,\n",
       " Ontology_PMBOKV2.0.checklist_Analysis,\n",
       " Ontology_PMBOKV2.0.technical_Performance_Measurement,\n",
       " Ontology_PMBOKV2.0.Project_charter,\n",
       " Ontology_PMBOKV2.0.Project_documents,\n",
       " Ontology_PMBOKV2.0.Assumptions_Analysis,\n",
       " Ontology_PMBOKV2.0.risk_reassessment,\n",
       " Ontology_PMBOKV2.0.Human_resource_Management_Plan,\n",
       " Ontology_PMBOKV2.0.Work_Performance_reports,\n",
       " Ontology_PMBOKV2.0.documentation_reviews,\n",
       " Ontology_PMBOKV2.0.Schedule_Management_Plan,\n",
       " Ontology_PMBOKV2.0.organizational_Process_Assets,\n",
       " Ontology_PMBOKV2.0.Work_Performance_data,\n",
       " Ontology_PMBOKV2.0.Scope_Baseline,\n",
       " Ontology_PMBOKV2.0.contingent_response_Strategies,\n",
       " Ontology_PMBOKV2.0.Procurement_documents,\n",
       " Ontology_PMBOKV2.0.Analytical_techniques,\n",
       " Ontology_PMBOKV2.0.Activity_cost_Estimates,\n",
       " Ontology_PMBOKV2.0.Strategies_for_negative_risks_or_threats,\n",
       " Ontology_PMBOKV2.0.Quality_Management_Plan,\n",
       " Ontology_PMBOKV2.0.risk_data_Quality_Assessment]"
      ]
     },
     "execution_count": 24,
     "metadata": {},
     "output_type": "execute_result"
    }
   ],
   "source": [
    "list(onto.data_properties())"
   ]
  }
 ],
 "metadata": {
  "kernelspec": {
   "display_name": "Python 3 (ipykernel)",
   "language": "python",
   "name": "python3"
  },
  "language_info": {
   "codemirror_mode": {
    "name": "ipython",
    "version": 3
   },
   "file_extension": ".py",
   "mimetype": "text/x-python",
   "name": "python",
   "nbconvert_exporter": "python",
   "pygments_lexer": "ipython3",
   "version": "3.8.8"
  },
  "toc": {
   "base_numbering": 1,
   "nav_menu": {},
   "number_sections": true,
   "sideBar": true,
   "skip_h1_title": false,
   "title_cell": "Table of Contents",
   "title_sidebar": "Contents",
   "toc_cell": false,
   "toc_position": {},
   "toc_section_display": true,
   "toc_window_display": false
  }
 },
 "nbformat": 4,
 "nbformat_minor": 5
}
