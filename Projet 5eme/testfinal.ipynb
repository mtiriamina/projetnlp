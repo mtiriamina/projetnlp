{
 "cells": [
  {
   "cell_type": "code",
   "execution_count": 1,
   "metadata": {
    "ExecuteTime": {
     "end_time": "2021-11-14T10:11:38.485724Z",
     "start_time": "2021-11-14T10:11:38.469744Z"
    }
   },
   "outputs": [],
   "source": [
    "import warnings\n",
    "warnings.filterwarnings(\"ignore\")"
   ]
  },
  {
   "cell_type": "code",
   "execution_count": 2,
   "metadata": {
    "ExecuteTime": {
     "end_time": "2021-11-14T10:11:38.673469Z",
     "start_time": "2021-11-14T10:11:38.617621Z"
    }
   },
   "outputs": [
    {
     "name": "stderr",
     "output_type": "stream",
     "text": [
      "* Owlready2 * Warning: optimized Cython parser module 'owlready2_optimized' is not available, defaulting to slower Python implementation\n"
     ]
    }
   ],
   "source": [
    "from owlready2 import *\n"
   ]
  },
  {
   "cell_type": "code",
   "execution_count": 4,
   "metadata": {
    "ExecuteTime": {
     "end_time": "2021-11-14T10:11:47.858721Z",
     "start_time": "2021-11-14T10:11:47.852734Z"
    }
   },
   "outputs": [],
   "source": [
    "onto_path.append(\"C:/Users/asus/Downloads/\")\n",
    "onto = get_ontology(\"PMBOK1.owl\").load()\n"
   ]
  },
  {
   "cell_type": "code",
   "execution_count": 5,
   "metadata": {
    "ExecuteTime": {
     "end_time": "2021-11-14T10:11:48.230207Z",
     "start_time": "2021-11-14T10:11:48.217243Z"
    }
   },
   "outputs": [
    {
     "data": {
      "text/plain": [
       "[PMBOK1.Perform_Quantitative_Risk_Analysis_TT,\n",
       " PMBOK1.Perform_Qualitative_Risk_Analysis_TT,\n",
       " PMBOK1.Control_Risks_Outputs,\n",
       " PMBOK1.Plan_Risk_Management_Inputs,\n",
       " PMBOK1.Identify_Risks_Inputs,\n",
       " PMBOK1.Control_Risks_TT,\n",
       " PMBOK1.Control_Risks_Inputs,\n",
       " PMBOK1.Plan_Risk_Management_TT,\n",
       " PMBOK1.Plan_Risk_Responses_TT,\n",
       " PMBOK1.Perform_Qualitative_Risk_Analysis_Outputs,\n",
       " PMBOK1.Perform_Quantitative_Risk_Analysis_Outputs,\n",
       " PMBOK1.Plan_Risk_Responses_Outputs,\n",
       " PMBOK1.Perform_Qualitative_Risk_Analysis_Inputs,\n",
       " PMBOK1.Perform_Quantitative_Risk_Analysis_Inputs,\n",
       " PMBOK1.Plan_Risk_Responses_Inputs,\n",
       " PMBOK1.Plan_Risk_Management_Outputs]"
      ]
     },
     "execution_count": 5,
     "metadata": {},
     "output_type": "execute_result"
    }
   ],
   "source": [
    "list_classe=list(onto.classes())\n",
    "list_classe"
   ]
  },
  {
   "cell_type": "code",
   "execution_count": 6,
   "metadata": {
    "ExecuteTime": {
     "end_time": "2021-11-14T10:11:49.066575Z",
     "start_time": "2021-11-14T10:11:49.056601Z"
    }
   },
   "outputs": [],
   "source": [
    "def rempalcement(m):\n",
    "    m=str(m).replace('PMBOK1.','').replace('_',' ')\n",
    "    return m"
   ]
  },
  {
   "cell_type": "code",
   "execution_count": 7,
   "metadata": {
    "ExecuteTime": {
     "end_time": "2021-11-14T10:11:49.238919Z",
     "start_time": "2021-11-14T10:11:49.221935Z"
    }
   },
   "outputs": [],
   "source": [
    "newlist=[rempalcement(classe) for classe in list_classe]"
   ]
  },
  {
   "cell_type": "code",
   "execution_count": 8,
   "metadata": {
    "ExecuteTime": {
     "end_time": "2021-11-14T10:11:49.393550Z",
     "start_time": "2021-11-14T10:11:49.376595Z"
    }
   },
   "outputs": [
    {
     "data": {
      "text/plain": [
       "['Perform Quantitative Risk Analysis TT',\n",
       " 'Perform Qualitative Risk Analysis TT',\n",
       " 'Control Risks Outputs',\n",
       " 'Plan Risk Management Inputs',\n",
       " 'Identify Risks Inputs',\n",
       " 'Control Risks TT',\n",
       " 'Control Risks Inputs',\n",
       " 'Plan Risk Management TT',\n",
       " 'Plan Risk Responses TT',\n",
       " 'Perform Qualitative Risk Analysis Outputs',\n",
       " 'Perform Quantitative Risk Analysis Outputs',\n",
       " 'Plan Risk Responses Outputs',\n",
       " 'Perform Qualitative Risk Analysis Inputs',\n",
       " 'Perform Quantitative Risk Analysis Inputs',\n",
       " 'Plan Risk Responses Inputs',\n",
       " 'Plan Risk Management Outputs']"
      ]
     },
     "execution_count": 8,
     "metadata": {},
     "output_type": "execute_result"
    }
   ],
   "source": [
    "newlist"
   ]
  },
  {
   "cell_type": "code",
   "execution_count": 9,
   "metadata": {
    "ExecuteTime": {
     "end_time": "2021-11-14T10:11:50.613771Z",
     "start_time": "2021-11-14T10:11:49.509572Z"
    }
   },
   "outputs": [],
   "source": [
    "from sklearn.metrics.pairwise import cosine_similarity\n",
    "from sklearn.feature_extraction.text import TfidfVectorizer\n"
   ]
  },
  {
   "cell_type": "code",
   "execution_count": 10,
   "metadata": {
    "ExecuteTime": {
     "end_time": "2021-11-14T10:11:50.629729Z",
     "start_time": "2021-11-14T10:11:50.616765Z"
    }
   },
   "outputs": [
    {
     "data": {
      "text/plain": [
       "['Perform Quantitative Risk Analysis TT',\n",
       " 'Perform Qualitative Risk Analysis TT',\n",
       " 'Control Risks Outputs',\n",
       " 'Plan Risk Management Inputs',\n",
       " 'Identify Risks Inputs',\n",
       " 'Control Risks TT',\n",
       " 'Control Risks Inputs',\n",
       " 'Plan Risk Management TT',\n",
       " 'Plan Risk Responses TT',\n",
       " 'Perform Qualitative Risk Analysis Outputs',\n",
       " 'Perform Quantitative Risk Analysis Outputs',\n",
       " 'Plan Risk Responses Outputs',\n",
       " 'Perform Qualitative Risk Analysis Inputs',\n",
       " 'Perform Quantitative Risk Analysis Inputs',\n",
       " 'Plan Risk Responses Inputs',\n",
       " 'Plan Risk Management Outputs']"
      ]
     },
     "execution_count": 10,
     "metadata": {},
     "output_type": "execute_result"
    }
   ],
   "source": [
    "docs=[(classe) for classe in newlist]\n",
    "docs"
   ]
  },
  {
   "cell_type": "code",
   "execution_count": 11,
   "metadata": {
    "ExecuteTime": {
     "end_time": "2021-11-14T10:11:50.644692Z",
     "start_time": "2021-11-14T10:11:50.632722Z"
    }
   },
   "outputs": [],
   "source": [
    "tfidf_vectorizer= TfidfVectorizer(stop_words=\"english\")\n",
    "tfidf_matris= tfidf_vectorizer.fit_transform(docs)\n",
    "\n"
   ]
  },
  {
   "cell_type": "code",
   "execution_count": 12,
   "metadata": {
    "ExecuteTime": {
     "end_time": "2021-11-14T10:11:50.665634Z",
     "start_time": "2021-11-14T10:11:50.647681Z"
    }
   },
   "outputs": [
    {
     "data": {
      "text/plain": [
       "(16, 14)"
      ]
     },
     "execution_count": 12,
     "metadata": {},
     "output_type": "execute_result"
    }
   ],
   "source": [
    "tfidf_matris.shape"
   ]
  },
  {
   "cell_type": "code",
   "execution_count": 13,
   "metadata": {
    "ExecuteTime": {
     "end_time": "2021-11-14T10:11:50.690568Z",
     "start_time": "2021-11-14T10:11:50.673613Z"
    }
   },
   "outputs": [],
   "source": [
    "query=\"what are the tools and techniques of process identify risks\"\n",
    "query_vector=tfidf_vectorizer.transform([query])\n",
    "list_similarity=cosine_similarity(query_vector,tfidf_matris)[0].tolist()"
   ]
  },
  {
   "cell_type": "code",
   "execution_count": 14,
   "metadata": {
    "ExecuteTime": {
     "end_time": "2021-11-14T10:11:50.706525Z",
     "start_time": "2021-11-14T10:11:50.695554Z"
    }
   },
   "outputs": [
    {
     "data": {
      "text/plain": [
       "[0.0,\n",
       " 0.0,\n",
       " 0.3307383630489055,\n",
       " 0.0,\n",
       " 0.8978146038693974,\n",
       " 0.33073836304890547,\n",
       " 0.337577240706734,\n",
       " 0.0,\n",
       " 0.0,\n",
       " 0.0,\n",
       " 0.0,\n",
       " 0.0,\n",
       " 0.0,\n",
       " 0.0,\n",
       " 0.0,\n",
       " 0.0]"
      ]
     },
     "execution_count": 14,
     "metadata": {},
     "output_type": "execute_result"
    }
   ],
   "source": [
    "list_similarity"
   ]
  },
  {
   "cell_type": "code",
   "execution_count": 15,
   "metadata": {
    "ExecuteTime": {
     "end_time": "2021-11-14T10:11:51.125083Z",
     "start_time": "2021-11-14T10:11:51.119070Z"
    }
   },
   "outputs": [],
   "source": [
    "list_similarity_tri=sorted(list_similarity,reverse=True)"
   ]
  },
  {
   "cell_type": "code",
   "execution_count": 16,
   "metadata": {
    "ExecuteTime": {
     "end_time": "2021-11-14T10:11:51.560348Z",
     "start_time": "2021-11-14T10:11:51.550375Z"
    }
   },
   "outputs": [],
   "source": [
    "list_similarity_tri = [i for i in list_similarity_tri if i != 0]"
   ]
  },
  {
   "cell_type": "code",
   "execution_count": 17,
   "metadata": {
    "ExecuteTime": {
     "end_time": "2021-11-14T10:11:51.950061Z",
     "start_time": "2021-11-14T10:11:51.933106Z"
    }
   },
   "outputs": [
    {
     "data": {
      "text/plain": [
       "[0.8978146038693974,\n",
       " 0.337577240706734,\n",
       " 0.3307383630489055,\n",
       " 0.33073836304890547]"
      ]
     },
     "execution_count": 17,
     "metadata": {},
     "output_type": "execute_result"
    }
   ],
   "source": [
    "list_similarity_tri"
   ]
  },
  {
   "cell_type": "code",
   "execution_count": 18,
   "metadata": {
    "ExecuteTime": {
     "end_time": "2021-11-14T10:11:52.246088Z",
     "start_time": "2021-11-14T10:11:52.236080Z"
    }
   },
   "outputs": [],
   "source": [
    "top = []\n",
    "for i in range(len(list_similarity_tri)):\n",
    "    top.append(list_similarity.index(list_similarity_tri[i]))\n"
   ]
  },
  {
   "cell_type": "code",
   "execution_count": 19,
   "metadata": {
    "ExecuteTime": {
     "end_time": "2021-11-14T10:11:52.525205Z",
     "start_time": "2021-11-14T10:11:52.515230Z"
    }
   },
   "outputs": [
    {
     "data": {
      "text/plain": [
       "[4, 6, 2, 5]"
      ]
     },
     "execution_count": 19,
     "metadata": {},
     "output_type": "execute_result"
    }
   ],
   "source": [
    "top"
   ]
  },
  {
   "cell_type": "code",
   "execution_count": 20,
   "metadata": {
    "ExecuteTime": {
     "end_time": "2021-11-14T10:11:53.160721Z",
     "start_time": "2021-11-14T10:11:53.142769Z"
    }
   },
   "outputs": [
    {
     "data": {
      "text/plain": [
       "'Identify Risks Inputs'"
      ]
     },
     "execution_count": 20,
     "metadata": {},
     "output_type": "execute_result"
    }
   ],
   "source": [
    "newlist[4]"
   ]
  },
  {
   "cell_type": "markdown",
   "metadata": {},
   "source": [
    "# sous list"
   ]
  },
  {
   "cell_type": "code",
   "execution_count": 21,
   "metadata": {
    "ExecuteTime": {
     "end_time": "2021-11-14T10:11:53.596062Z",
     "start_time": "2021-11-14T10:11:53.581094Z"
    }
   },
   "outputs": [],
   "source": [
    "sub = []\n",
    "for i in top:\n",
    "    sub.append(list(onto.get_instances_of(list(onto.classes())[i])))\n"
   ]
  },
  {
   "cell_type": "code",
   "execution_count": 22,
   "metadata": {
    "ExecuteTime": {
     "end_time": "2021-11-14T10:11:53.919610Z",
     "start_time": "2021-11-14T10:11:53.910601Z"
    }
   },
   "outputs": [],
   "source": [
    "sub=[rempalcement(classe) for classe in sub]"
   ]
  },
  {
   "cell_type": "code",
   "execution_count": 23,
   "metadata": {
    "ExecuteTime": {
     "end_time": "2021-11-14T10:11:55.156463Z",
     "start_time": "2021-11-14T10:11:55.146489Z"
    }
   },
   "outputs": [
    {
     "data": {
      "text/plain": [
       "['[Stakeholder register, cost Management Plan, Enterprise Environmental Factors, risk Management Plan , risk register, Activity duration Estimates, Project documents, Human resource Management Plan, Schedule Management Plan, organizational Process Assets, Scope Baseline, Procurement documents, Activity cost Estimates, Quality Management Plan]',\n",
       " '[Project Management Plan, risk register, Work Performance reports, Work Performance data]',\n",
       " '[change requests, Work Performance Information, Project documents updates, Project Management Plan updates, organizational Process Assets updates]',\n",
       " '[Variance and trend Analysis, reserve Analysis, risk Audits, Meetings, technical Performance Measurement, risk reassessment]']"
      ]
     },
     "execution_count": 23,
     "metadata": {},
     "output_type": "execute_result"
    }
   ],
   "source": [
    "sub"
   ]
  },
  {
   "cell_type": "code",
   "execution_count": 24,
   "metadata": {
    "ExecuteTime": {
     "end_time": "2021-11-14T10:11:55.449791Z",
     "start_time": "2021-11-14T10:11:55.433802Z"
    }
   },
   "outputs": [
    {
     "data": {
      "text/plain": [
       "['[Stakeholder register, cost Management Plan, Enterprise Environmental Factors, risk Management Plan , risk register, Activity duration Estimates, Project documents, Human resource Management Plan, Schedule Management Plan, organizational Process Assets, Scope Baseline, Procurement documents, Activity cost Estimates, Quality Management Plan]',\n",
       " '[Project Management Plan, risk register, Work Performance reports, Work Performance data]',\n",
       " '[change requests, Work Performance Information, Project documents updates, Project Management Plan updates, organizational Process Assets updates]',\n",
       " '[Variance and trend Analysis, reserve Analysis, risk Audits, Meetings, technical Performance Measurement, risk reassessment]']"
      ]
     },
     "execution_count": 24,
     "metadata": {},
     "output_type": "execute_result"
    }
   ],
   "source": [
    "doc2=[(classe) for classe in sub]\n",
    "doc2"
   ]
  },
  {
   "cell_type": "code",
   "execution_count": 28,
   "metadata": {
    "ExecuteTime": {
     "end_time": "2021-11-14T10:14:55.212699Z",
     "start_time": "2021-11-14T10:14:55.193752Z"
    }
   },
   "outputs": [
    {
     "data": {
      "text/plain": [
       "4"
      ]
     },
     "execution_count": 28,
     "metadata": {},
     "output_type": "execute_result"
    }
   ],
   "source": [
    "len(doc2)"
   ]
  },
  {
   "cell_type": "code",
   "execution_count": 29,
   "metadata": {
    "ExecuteTime": {
     "end_time": "2021-11-14T10:17:10.783622Z",
     "start_time": "2021-11-14T10:17:10.777636Z"
    }
   },
   "outputs": [
    {
     "data": {
      "text/plain": [
       "(4, 41)"
      ]
     },
     "execution_count": 29,
     "metadata": {},
     "output_type": "execute_result"
    }
   ],
   "source": [
    "tfidf_matris2= tfidf_vectorizer.fit_transform(doc2)\n",
    "tfidf_matris2.shape"
   ]
  },
  {
   "cell_type": "code",
   "execution_count": 47,
   "metadata": {
    "ExecuteTime": {
     "end_time": "2021-11-13T23:49:06.048380Z",
     "start_time": "2021-11-13T23:49:06.026440Z"
    }
   },
   "outputs": [],
   "source": [
    "query_vector2=tfidf_vectorizer.transform([query])\n",
    "list_similarity2=cosine_similarity(query_vector2,tfidf_matris2)[0].tolist()"
   ]
  },
  {
   "cell_type": "code",
   "execution_count": 48,
   "metadata": {
    "ExecuteTime": {
     "end_time": "2021-11-13T23:49:08.992481Z",
     "start_time": "2021-11-13T23:49:08.985489Z"
    }
   },
   "outputs": [
    {
     "data": {
      "text/plain": [
       "[0.10804711242218286, 0.0, 0.18603804262184992, 0.0]"
      ]
     },
     "execution_count": 48,
     "metadata": {},
     "output_type": "execute_result"
    }
   ],
   "source": [
    "list_similarity2"
   ]
  },
  {
   "cell_type": "code",
   "execution_count": 195,
   "metadata": {},
   "outputs": [
    {
     "data": {
      "text/plain": [
       "9"
      ]
     },
     "execution_count": 195,
     "metadata": {},
     "output_type": "execute_result"
    }
   ],
   "source": [
    "list_similarity_tri2=sorted(list_similarity2,reverse=True)\n",
    "list_similarity2.index(list_similarity_tri2[0])"
   ]
  },
  {
   "cell_type": "code",
   "execution_count": 196,
   "metadata": {},
   "outputs": [
    {
     "data": {
      "text/plain": [
       "PMBOK1.organizational_Process_Assets"
      ]
     },
     "execution_count": 196,
     "metadata": {},
     "output_type": "execute_result"
    }
   ],
   "source": [
    "listn[9]"
   ]
  },
  {
   "cell_type": "code",
   "execution_count": null,
   "metadata": {},
   "outputs": [],
   "source": []
  },
  {
   "cell_type": "code",
   "execution_count": null,
   "metadata": {},
   "outputs": [],
   "source": []
  },
  {
   "cell_type": "code",
   "execution_count": null,
   "metadata": {},
   "outputs": [],
   "source": [
    "\n"
   ]
  },
  {
   "cell_type": "code",
   "execution_count": null,
   "metadata": {},
   "outputs": [],
   "source": []
  }
 ],
 "metadata": {
  "kernelspec": {
   "display_name": "Python 3 (ipykernel)",
   "language": "python",
   "name": "python3"
  },
  "language_info": {
   "codemirror_mode": {
    "name": "ipython",
    "version": 3
   },
   "file_extension": ".py",
   "mimetype": "text/x-python",
   "name": "python",
   "nbconvert_exporter": "python",
   "pygments_lexer": "ipython3",
   "version": "3.8.8"
  },
  "toc": {
   "base_numbering": 1,
   "nav_menu": {},
   "number_sections": true,
   "sideBar": true,
   "skip_h1_title": false,
   "title_cell": "Table of Contents",
   "title_sidebar": "Contents",
   "toc_cell": false,
   "toc_position": {},
   "toc_section_display": true,
   "toc_window_display": false
  }
 },
 "nbformat": 4,
 "nbformat_minor": 4
}
