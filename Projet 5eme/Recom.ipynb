{
 "cells": [
  {
   "cell_type": "code",
   "execution_count": 2,
   "metadata": {
    "ExecuteTime": {
     "end_time": "2021-11-17T22:03:04.193718Z",
     "start_time": "2021-11-17T22:03:02.862843Z"
    }
   },
   "outputs": [
    {
     "name": "stderr",
     "output_type": "stream",
     "text": [
      "* Owlready2 * Warning: optimized Cython parser module 'owlready2_optimized' is not available, defaulting to slower Python implementation\n"
     ]
    }
   ],
   "source": [
    "from owlready2 import *\n",
    "from sklearn.metrics.pairwise import cosine_similarity\n",
    "from sklearn.feature_extraction.text import TfidfVectorizer"
   ]
  },
  {
   "cell_type": "code",
   "execution_count": 3,
   "metadata": {
    "ExecuteTime": {
     "end_time": "2021-11-17T22:03:04.255552Z",
     "start_time": "2021-11-17T22:03:04.195713Z"
    }
   },
   "outputs": [
    {
     "name": "stderr",
     "output_type": "stream",
     "text": [
      "* Owlready2 * WARNING: DataProperty http://example.org/project#Quantitative_risk_Analysis_and_Modeling_techniques belongs to more than one entity types: [owl.DatatypeProperty, PMBOK1.Perform_Quantitative_Risk_Analysis_TT]; I'm trying to fix it...\n",
      "* Owlready2 * WARNING: DataProperty http://example.org/project#risk_Probability_and_Impact_Assessment belongs to more than one entity types: [owl.DatatypeProperty, PMBOK1.Perform_Qualitative_Risk_Analysis_TT]; I'm trying to fix it...\n",
      "* Owlready2 * WARNING: DataProperty http://example.org/project#change_requests belongs to more than one entity types: [owl.DatatypeProperty, PMBOK1.Control_Risks_Outputs]; I'm trying to fix it...\n",
      "* Owlready2 * WARNING: DataProperty http://example.org/project#risk_urgency_Assessment belongs to more than one entity types: [owl.DatatypeProperty, PMBOK1.Perform_Qualitative_Risk_Analysis_TT]; I'm trying to fix it...\n",
      "* Owlready2 * WARNING: DataProperty http://example.org/project#Stakeholder_register belongs to more than one entity types: [owl.DatatypeProperty, PMBOK1.Plan_Risk_Management_Inputs, PMBOK1.Identify_Risks_Inputs]; I'm trying to fix it...\n",
      "* Owlready2 * WARNING: DataProperty http://example.org/project#Variance_and_trend_Analysis belongs to more than one entity types: [owl.DatatypeProperty, PMBOK1.Control_Risks_TT]; I'm trying to fix it...\n",
      "* Owlready2 * WARNING: DataProperty http://example.org/project#risk_categorization belongs to more than one entity types: [owl.DatatypeProperty, PMBOK1.Perform_Qualitative_Risk_Analysis_TT]; I'm trying to fix it...\n",
      "* Owlready2 * WARNING: DataProperty http://example.org/project#Work_Performance_Information belongs to more than one entity types: [owl.DatatypeProperty, PMBOK1.Control_Risks_Outputs]; I'm trying to fix it...\n",
      "* Owlready2 * WARNING: DataProperty http://example.org/project#Project_Management_Plan belongs to more than one entity types: [owl.DatatypeProperty, PMBOK1.Plan_Risk_Management_Inputs, PMBOK1.Control_Risks_Inputs]; I'm trying to fix it...\n",
      "* Owlready2 * WARNING: DataProperty http://example.org/project#Expert_Judgment belongs to more than one entity types: [owl.DatatypeProperty, PMBOK1.Plan_Risk_Management_TT, PMBOK1.Perform_Qualitative_Risk_Analysis_TT, PMBOK1.Perform_Quantitative_Risk_Analysis_TT, PMBOK1.Plan_Risk_Responses_TT]; I'm trying to fix it...\n",
      "* Owlready2 * WARNING: DataProperty http://example.org/project#diagramming_techniques belongs to more than one entity types: [owl.DatatypeProperty, PMBOK1.Plan_Risk_Management_TT]; I'm trying to fix it...\n",
      "* Owlready2 * WARNING: DataProperty http://example.org/project#reserve_Analysis belongs to more than one entity types: [owl.DatatypeProperty, PMBOK1.Control_Risks_TT]; I'm trying to fix it...\n",
      "* Owlready2 * WARNING: DataProperty http://example.org/project#Strategies_for_Positive_risks_or_opportunities belongs to more than one entity types: [owl.DatatypeProperty, PMBOK1.Plan_Risk_Responses_TT]; I'm trying to fix it...\n",
      "* Owlready2 * WARNING: DataProperty http://example.org/project#Project_documents_updates belongs to more than one entity types: [owl.DatatypeProperty, PMBOK1.Perform_Qualitative_Risk_Analysis_Outputs, PMBOK1.Perform_Quantitative_Risk_Analysis_Outputs, PMBOK1.Plan_Risk_Responses_Outputs, PMBOK1.Control_Risks_Outputs]; I'm trying to fix it...\n",
      "* Owlready2 * WARNING: DataProperty http://example.org/project#risk_Management_Plan belongs to more than one entity types: [owl.DatatypeProperty, PMBOK1.Perform_Qualitative_Risk_Analysis_Inputs, PMBOK1.Perform_Quantitative_Risk_Analysis_Inputs, PMBOK1.Plan_Risk_Responses_Inputs, PMBOK1.Plan_Risk_Management_Outputs]; I'm trying to fix it...\n",
      "* Owlready2 * WARNING: DataProperty http://example.org/project#cost_Management_Plan belongs to more than one entity types: [owl.DatatypeProperty, PMBOK1.Identify_Risks_Inputs, PMBOK1.Perform_Quantitative_Risk_Analysis_Inputs]; I'm trying to fix it...\n",
      "* Owlready2 * WARNING: DataProperty http://example.org/project#Probability_and_Impact_Matrix belongs to more than one entity types: [owl.DatatypeProperty, PMBOK1.Perform_Qualitative_Risk_Analysis_TT]; I'm trying to fix it...\n",
      "* Owlready2 * WARNING: DataProperty http://example.org/project#Enterprise_Environmental_Factors belongs to more than one entity types: [owl.DatatypeProperty, PMBOK1.Plan_Risk_Management_Inputs, PMBOK1.Identify_Risks_Inputs, PMBOK1.Perform_Qualitative_Risk_Analysis_Inputs, PMBOK1.Perform_Quantitative_Risk_Analysis_Inputs]; I'm trying to fix it...\n",
      "* Owlready2 * WARNING: DataProperty http://example.org/project#risk_Management_Plan_ belongs to more than one entity types: [owl.DatatypeProperty, PMBOK1.Identify_Risks_Inputs]; I'm trying to fix it...\n",
      "* Owlready2 * WARNING: DataProperty http://example.org/project#risk_register belongs to more than one entity types: [owl.DatatypeProperty, PMBOK1.Perform_Qualitative_Risk_Analysis_Inputs, PMBOK1.Perform_Quantitative_Risk_Analysis_Inputs, PMBOK1.Plan_Risk_Responses_Inputs, PMBOK1.Control_Risks_Inputs, PMBOK1.Identify_Risks_Inputs]; I'm trying to fix it...\n",
      "* Owlready2 * WARNING: DataProperty http://example.org/project#SWot_Analysis belongs to more than one entity types: [owl.DatatypeProperty, PMBOK1.Plan_Risk_Management_TT]; I'm trying to fix it...\n",
      "* Owlready2 * WARNING: DataProperty http://example.org/project#risk_Audits belongs to more than one entity types: [owl.DatatypeProperty, PMBOK1.Control_Risks_TT]; I'm trying to fix it...\n",
      "* Owlready2 * WARNING: DataProperty http://example.org/project#Project_Management_Plan_updates belongs to more than one entity types: [owl.DatatypeProperty, PMBOK1.Plan_Risk_Responses_Outputs, PMBOK1.Control_Risks_Outputs]; I'm trying to fix it...\n",
      "* Owlready2 * WARNING: DataProperty http://example.org/project#organizational_Process_Assets_updates belongs to more than one entity types: [owl.DatatypeProperty, PMBOK1.Control_Risks_Outputs]; I'm trying to fix it...\n",
      "* Owlready2 * WARNING: DataProperty http://example.org/project#Meetings belongs to more than one entity types: [owl.DatatypeProperty, PMBOK1.Plan_Risk_Management_TT, PMBOK1.Control_Risks_TT]; I'm trying to fix it...\n",
      "* Owlready2 * WARNING: DataProperty http://example.org/project#Activity_duration_Estimates belongs to more than one entity types: [owl.DatatypeProperty, PMBOK1.Identify_Risks_Inputs]; I'm trying to fix it...\n",
      "* Owlready2 * WARNING: DataProperty http://example.org/project#Information_Gathering_techniques belongs to more than one entity types: [owl.DatatypeProperty, PMBOK1.Plan_Risk_Management_TT]; I'm trying to fix it...\n",
      "* Owlready2 * WARNING: DataProperty http://example.org/project#checklist_Analysis belongs to more than one entity types: [owl.DatatypeProperty, PMBOK1.Plan_Risk_Management_TT]; I'm trying to fix it...\n",
      "* Owlready2 * WARNING: DataProperty http://example.org/project#technical_Performance_Measurement belongs to more than one entity types: [owl.DatatypeProperty, PMBOK1.Control_Risks_TT]; I'm trying to fix it...\n",
      "* Owlready2 * WARNING: DataProperty http://example.org/project#Project_charter belongs to more than one entity types: [owl.DatatypeProperty, PMBOK1.Plan_Risk_Management_Inputs]; I'm trying to fix it...\n",
      "* Owlready2 * WARNING: DataProperty http://example.org/project#Project_documents belongs to more than one entity types: [owl.DatatypeProperty, PMBOK1.Identify_Risks_Inputs]; I'm trying to fix it...\n",
      "* Owlready2 * WARNING: DataProperty http://example.org/project#Assumptions_Analysis belongs to more than one entity types: [owl.DatatypeProperty, PMBOK1.Plan_Risk_Management_TT]; I'm trying to fix it...\n",
      "* Owlready2 * WARNING: DataProperty http://example.org/project#risk_reassessment belongs to more than one entity types: [owl.DatatypeProperty, PMBOK1.Control_Risks_TT]; I'm trying to fix it...\n",
      "* Owlready2 * WARNING: DataProperty http://example.org/project#Human_resource_Management_Plan belongs to more than one entity types: [owl.DatatypeProperty, PMBOK1.Identify_Risks_Inputs]; I'm trying to fix it...\n",
      "* Owlready2 * WARNING: DataProperty http://example.org/project#Work_Performance_reports belongs to more than one entity types: [owl.DatatypeProperty, PMBOK1.Control_Risks_Inputs]; I'm trying to fix it...\n",
      "* Owlready2 * WARNING: DataProperty http://example.org/project#documentation_reviews belongs to more than one entity types: [owl.DatatypeProperty, PMBOK1.Plan_Risk_Management_TT]; I'm trying to fix it...\n",
      "* Owlready2 * WARNING: DataProperty http://example.org/project#Schedule_Management_Plan belongs to more than one entity types: [owl.DatatypeProperty, PMBOK1.Identify_Risks_Inputs, PMBOK1.Perform_Quantitative_Risk_Analysis_Inputs]; I'm trying to fix it...\n",
      "* Owlready2 * WARNING: DataProperty http://example.org/project#organizational_Process_Assets belongs to more than one entity types: [owl.DatatypeProperty, PMBOK1.Plan_Risk_Management_Inputs, PMBOK1.Identify_Risks_Inputs, PMBOK1.Perform_Qualitative_Risk_Analysis_Inputs, PMBOK1.Perform_Quantitative_Risk_Analysis_Inputs]; I'm trying to fix it...\n",
      "* Owlready2 * WARNING: DataProperty http://example.org/project#Work_Performance_data belongs to more than one entity types: [owl.DatatypeProperty, PMBOK1.Control_Risks_Inputs]; I'm trying to fix it...\n",
      "* Owlready2 * WARNING: DataProperty http://example.org/project#Scope_Baseline belongs to more than one entity types: [owl.DatatypeProperty, PMBOK1.Identify_Risks_Inputs, PMBOK1.Perform_Qualitative_Risk_Analysis_Inputs]; I'm trying to fix it...\n",
      "* Owlready2 * WARNING: DataProperty http://example.org/project#contingent_response_Strategies belongs to more than one entity types: [owl.DatatypeProperty, PMBOK1.Plan_Risk_Responses_TT]; I'm trying to fix it...\n",
      "* Owlready2 * WARNING: DataProperty http://example.org/project#Procurement_documents belongs to more than one entity types: [owl.DatatypeProperty, PMBOK1.Identify_Risks_Inputs]; I'm trying to fix it...\n",
      "* Owlready2 * WARNING: DataProperty http://example.org/project#Analytical_techniques belongs to more than one entity types: [owl.DatatypeProperty, PMBOK1.Plan_Risk_Management_TT]; I'm trying to fix it...\n",
      "* Owlready2 * WARNING: DataProperty http://example.org/project#Activity_cost_Estimates belongs to more than one entity types: [owl.DatatypeProperty, PMBOK1.Identify_Risks_Inputs]; I'm trying to fix it...\n",
      "* Owlready2 * WARNING: DataProperty http://example.org/project#Strategies_for_negative_risks_or_threats belongs to more than one entity types: [owl.DatatypeProperty, PMBOK1.Plan_Risk_Responses_TT]; I'm trying to fix it...\n",
      "* Owlready2 * WARNING: DataProperty http://example.org/project#Quality_Management_Plan belongs to more than one entity types: [owl.DatatypeProperty, PMBOK1.Identify_Risks_Inputs]; I'm trying to fix it...\n",
      "* Owlready2 * WARNING: DataProperty http://example.org/project#risk_data_Quality_Assessment belongs to more than one entity types: [owl.DatatypeProperty, PMBOK1.Perform_Qualitative_Risk_Analysis_TT]; I'm trying to fix it...\n"
     ]
    }
   ],
   "source": [
    "onto = get_ontology(\"PMBOK1.owl\").load()"
   ]
  },
  {
   "cell_type": "code",
   "execution_count": 4,
   "metadata": {
    "ExecuteTime": {
     "end_time": "2021-11-17T22:03:08.558676Z",
     "start_time": "2021-11-17T22:03:08.546710Z"
    }
   },
   "outputs": [],
   "source": [
    "list_classe=list(onto.classes())"
   ]
  },
  {
   "cell_type": "code",
   "execution_count": 7,
   "metadata": {
    "ExecuteTime": {
     "end_time": "2021-11-17T22:03:40.812016Z",
     "start_time": "2021-11-17T22:03:40.804036Z"
    }
   },
   "outputs": [],
   "source": [
    "def rempalcement(m):\n",
    "    m=str(m).replace('PMBOK1.','').replace('_',' ')\n",
    "    return m"
   ]
  },
  {
   "cell_type": "code",
   "execution_count": 8,
   "metadata": {
    "ExecuteTime": {
     "end_time": "2021-11-17T22:03:41.645386Z",
     "start_time": "2021-11-17T22:03:41.634384Z"
    }
   },
   "outputs": [],
   "source": [
    "newlist=[rempalcement(classe) for classe in list_classe]"
   ]
  },
  {
   "cell_type": "code",
   "execution_count": 9,
   "metadata": {
    "ExecuteTime": {
     "end_time": "2021-11-17T22:03:47.694178Z",
     "start_time": "2021-11-17T22:03:47.677223Z"
    }
   },
   "outputs": [],
   "source": [
    "docs=[(classe) for classe in newlist]"
   ]
  },
  {
   "cell_type": "code",
   "execution_count": 15,
   "metadata": {
    "ExecuteTime": {
     "end_time": "2021-11-17T22:05:46.669589Z",
     "start_time": "2021-11-17T22:05:46.655624Z"
    }
   },
   "outputs": [],
   "source": [
    "tfidf_vectorizer= TfidfVectorizer(stop_words=\"english\")\n",
    "tfidf_matris= tfidf_vectorizer.fit_transform(docs)"
   ]
  },
  {
   "cell_type": "code",
   "execution_count": 16,
   "metadata": {
    "ExecuteTime": {
     "end_time": "2021-11-17T22:05:46.885658Z",
     "start_time": "2021-11-17T22:05:46.879672Z"
    }
   },
   "outputs": [],
   "source": [
    "query=\"project management plan\""
   ]
  },
  {
   "cell_type": "code",
   "execution_count": 17,
   "metadata": {
    "ExecuteTime": {
     "end_time": "2021-11-17T22:05:47.071142Z",
     "start_time": "2021-11-17T22:05:47.065158Z"
    }
   },
   "outputs": [],
   "source": [
    "query_vector=tfidf_vectorizer.transform([query])\n",
    "list_similarity=cosine_similarity(query_vector,tfidf_matris)[0].tolist()"
   ]
  },
  {
   "cell_type": "code",
   "execution_count": 18,
   "metadata": {
    "ExecuteTime": {
     "end_time": "2021-11-17T22:05:47.518097Z",
     "start_time": "2021-11-17T22:05:47.500144Z"
    }
   },
   "outputs": [],
   "source": [
    "list_similarity_tri=sorted(list_similarity,reverse=True)"
   ]
  },
  {
   "cell_type": "code",
   "execution_count": 19,
   "metadata": {
    "ExecuteTime": {
     "end_time": "2021-11-17T22:05:49.279138Z",
     "start_time": "2021-11-17T22:05:49.272154Z"
    }
   },
   "outputs": [
    {
     "data": {
      "text/plain": [
       "3"
      ]
     },
     "execution_count": 19,
     "metadata": {},
     "output_type": "execute_result"
    }
   ],
   "source": [
    "list_similarity.index(list_similarity_tri[0])"
   ]
  },
  {
   "cell_type": "code",
   "execution_count": 56,
   "metadata": {
    "ExecuteTime": {
     "end_time": "2021-11-17T18:51:27.063617Z",
     "start_time": "2021-11-17T18:51:27.050664Z"
    }
   },
   "outputs": [],
   "source": [
    "classe = newlist[3]"
   ]
  },
  {
   "cell_type": "code",
   "execution_count": 57,
   "metadata": {
    "ExecuteTime": {
     "end_time": "2021-11-17T18:51:27.449826Z",
     "start_time": "2021-11-17T18:51:27.433867Z"
    },
    "scrolled": true
   },
   "outputs": [
    {
     "data": {
      "text/plain": [
       "' Enterprise environmental factors that can influence the Identify Risks process include, but are not limited to:. •\\t Published information, including commercial databases,. •\\t Academic studies,. •\\t Published checklists,. •\\t Benchmarking,. •\\t Industry studies, and. •\\t Risk attitudes.. © Project Management Institute. A Guide to the Project Management Body of Knowledge (PMBOK® Guide) – Fifth Edition  Licensed To: Jorge Diego Fuentes Sanchez PMI MemberID: This copy is a PMI Member benefit, not for distribution, sale, or reproduction..  - PROJECT RISK MANAGEMENT. '"
      ]
     },
     "execution_count": 57,
     "metadata": {},
     "output_type": "execute_result"
    }
   ],
   "source": [
    "classe"
   ]
  },
  {
   "cell_type": "markdown",
   "metadata": {},
   "source": [
    "# sous list"
   ]
  },
  {
   "cell_type": "code",
   "execution_count": 22,
   "metadata": {
    "ExecuteTime": {
     "end_time": "2021-11-17T22:06:25.224917Z",
     "start_time": "2021-11-17T22:06:25.213946Z"
    }
   },
   "outputs": [],
   "source": [
    "listn=list(onto.get_instances_of(list(onto.classes())[3]))"
   ]
  },
  {
   "cell_type": "code",
   "execution_count": 23,
   "metadata": {
    "ExecuteTime": {
     "end_time": "2021-11-17T22:06:25.700531Z",
     "start_time": "2021-11-17T22:06:25.695574Z"
    }
   },
   "outputs": [],
   "source": [
    "souslist=[rempalcement(classe) for classe in listn]"
   ]
  },
  {
   "cell_type": "code",
   "execution_count": 24,
   "metadata": {
    "ExecuteTime": {
     "end_time": "2021-11-17T22:06:26.193877Z",
     "start_time": "2021-11-17T22:06:26.183902Z"
    }
   },
   "outputs": [],
   "source": [
    "doc2=[(classe) for classe in souslist]"
   ]
  },
  {
   "cell_type": "code",
   "execution_count": 25,
   "metadata": {
    "ExecuteTime": {
     "end_time": "2021-11-17T22:06:26.701136Z",
     "start_time": "2021-11-17T22:06:26.689610Z"
    }
   },
   "outputs": [],
   "source": [
    "tfidf_matris2= tfidf_vectorizer.fit_transform(doc2)"
   ]
  },
  {
   "cell_type": "code",
   "execution_count": 26,
   "metadata": {
    "ExecuteTime": {
     "end_time": "2021-11-17T22:06:29.208204Z",
     "start_time": "2021-11-17T22:06:29.195239Z"
    }
   },
   "outputs": [],
   "source": [
    "query_vector2=tfidf_vectorizer.transform([query])\n",
    "list_similarity2=cosine_similarity(query_vector2,tfidf_matris2)[0].tolist()"
   ]
  },
  {
   "cell_type": "code",
   "execution_count": 165,
   "metadata": {
    "ExecuteTime": {
     "end_time": "2021-11-14T00:38:01.528450Z",
     "start_time": "2021-11-14T00:38:01.512492Z"
    }
   },
   "outputs": [
    {
     "data": {
      "text/plain": [
       "1"
      ]
     },
     "execution_count": 165,
     "metadata": {},
     "output_type": "execute_result"
    }
   ],
   "source": [
    "list_similarity_tri2=sorted(list_similarity2,reverse=True)\n",
    "list_similarity2.index(list_similarity_tri2[0])"
   ]
  },
  {
   "cell_type": "code",
   "execution_count": 166,
   "metadata": {
    "ExecuteTime": {
     "end_time": "2021-11-14T00:38:03.943476Z",
     "start_time": "2021-11-14T00:38:03.927487Z"
    }
   },
   "outputs": [],
   "source": [
    "a = listn[1]"
   ]
  },
  {
   "cell_type": "code",
   "execution_count": 167,
   "metadata": {
    "ExecuteTime": {
     "end_time": "2021-11-14T00:38:06.602602Z",
     "start_time": "2021-11-14T00:38:06.585646Z"
    }
   },
   "outputs": [],
   "source": [
    "a = souslist[1]"
   ]
  },
  {
   "cell_type": "code",
   "execution_count": 168,
   "metadata": {
    "ExecuteTime": {
     "end_time": "2021-11-14T00:38:10.682678Z",
     "start_time": "2021-11-14T00:38:10.672701Z"
    }
   },
   "outputs": [],
   "source": [
    "import joblib"
   ]
  },
  {
   "cell_type": "code",
   "execution_count": 169,
   "metadata": {
    "ExecuteTime": {
     "end_time": "2021-11-14T00:38:10.852384Z",
     "start_time": "2021-11-14T00:38:10.843407Z"
    }
   },
   "outputs": [],
   "source": [
    "df_concept = joblib.load('df_concept')"
   ]
  },
  {
   "cell_type": "code",
   "execution_count": 171,
   "metadata": {
    "ExecuteTime": {
     "end_time": "2021-11-14T00:38:14.208393Z",
     "start_time": "2021-11-14T00:38:14.191437Z"
    }
   },
   "outputs": [
    {
     "data": {
      "text/plain": [
       "' Project Management Plan. In planning risk management, all approved subsidiary management plans and baselines should be taken into . consideration in order to make the risk management plan consistent with them. The risk management plan is also . a component of the project management plan. The project management plan provides baseline or current state of . risk-affected areas including scope, schedule, and cost.. '"
      ]
     },
     "execution_count": 171,
     "metadata": {},
     "output_type": "execute_result"
    }
   ],
   "source": [
    "list(df_concept[( (df_concept['individuals']==a) & (df_concept['concept']==classe) )]['annotation'])[0]"
   ]
  },
  {
   "cell_type": "code",
   "execution_count": 172,
   "metadata": {
    "ExecuteTime": {
     "end_time": "2021-11-14T00:38:21.714312Z",
     "start_time": "2021-11-14T00:38:21.701347Z"
    }
   },
   "outputs": [
    {
     "data": {
      "text/plain": [
       "'Project Management Plan'"
      ]
     },
     "execution_count": 172,
     "metadata": {},
     "output_type": "execute_result"
    }
   ],
   "source": [
    "a"
   ]
  },
  {
   "cell_type": "code",
   "execution_count": null,
   "metadata": {},
   "outputs": [],
   "source": []
  }
 ],
 "metadata": {
  "kernelspec": {
   "display_name": "Python 3 (ipykernel)",
   "language": "python",
   "name": "python3"
  },
  "language_info": {
   "codemirror_mode": {
    "name": "ipython",
    "version": 3
   },
   "file_extension": ".py",
   "mimetype": "text/x-python",
   "name": "python",
   "nbconvert_exporter": "python",
   "pygments_lexer": "ipython3",
   "version": "3.8.8"
  },
  "toc": {
   "base_numbering": 1,
   "nav_menu": {},
   "number_sections": true,
   "sideBar": true,
   "skip_h1_title": false,
   "title_cell": "Table of Contents",
   "title_sidebar": "Contents",
   "toc_cell": false,
   "toc_position": {},
   "toc_section_display": true,
   "toc_window_display": false
  }
 },
 "nbformat": 4,
 "nbformat_minor": 4
}
